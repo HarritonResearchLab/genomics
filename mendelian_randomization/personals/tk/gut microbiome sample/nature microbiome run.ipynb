{
 "cells": [
  {
   "cell_type": "code",
   "execution_count": 1,
   "id": "412768fc",
   "metadata": {},
   "outputs": [
    {
     "name": "stderr",
     "output_type": "stream",
     "text": [
      "TwoSampleMR version 0.5.6 \n",
      "[>] New: Option to use non-European LD reference panels for clumping etc\n",
      "[>] Some studies temporarily quarantined to verify effect allele\n",
      "[>] See news(package='TwoSampleMR') and https://gwas.mrcieu.ac.uk for further details\n",
      "\n",
      "\n"
     ]
    }
   ],
   "source": [
    "library(TwoSampleMR)"
   ]
  },
  {
   "cell_type": "markdown",
   "id": "ad3b6641",
   "metadata": {},
   "source": [
    "## NOTES\n",
    "\n",
    "**PAPER**: [link](https://www.nature.com/articles/s41467-019-12476-z)\n",
    "\n",
    "* Supplementary Data [link](https://www.nature.com/articles/s41467-019-12476-z#Sec25)\n",
    "\n",
    "* PDF Copy [link](https://www.nature.com/articles/s41467-019-12476-z.pdf) \n",
    "\n",
    "look into [this](https://www.researchgate.net/figure/Scatter-plot-showing-the-concentrations-of-uridine-a-and-b-pseudouridine-b-recorded_fig3_51808706)\n",
    "\n",
    "## Getting Metabolites\n",
    "\n",
    "* I looped through the supplementary data files 3 and 5 to get a set of unique metabolite IDs that are significantly associated with at least one metabolic pathway in the gut microbiome. \n",
    "\n",
    "\n",
    ">File Name: Supplementary Data 3\n",
    ">Description: Results of the association study between microbial metabolic pathways and faecal metabolites.\n",
    ">\n",
    ">File Name: Supplementary Data 5\n",
    ">Description: Results of the association study between microbial metabolic pathways and blood metabolites.\n"
   ]
  },
  {
   "cell_type": "markdown",
   "id": "f40d26d2",
   "metadata": {},
   "source": [
    "## RUN ROUTINE"
   ]
  },
  {
   "cell_type": "code",
   "execution_count": null,
   "id": "40b52f59",
   "metadata": {},
   "outputs": [],
   "source": [
    "blood_results = list()\n",
    "run_blood() <- function() {\n",
    "\n",
    "\n",
    "    for (i in 1:length(blood_exposures)) {\n",
    "      exposure_dat = extract_instruments(blood_exposures[i])\n",
    "      for (j in 1:length(outcomes)) {\n",
    "\n",
    "          run_with_catching <- function(){\n",
    "            tryCatch(\n",
    "                expr = {\n",
    "                    outcome_dat = extract_outcome_data(snps=exposure_dat$SNP, outcomes=outcomes[j])\n",
    "                    dat <- harmonise_data(exposure_dat, outcome_dat)\n",
    "                    res <- mr(dat)\n",
    "                    blood_results = append(blood_results, res)\n",
    "                    \n",
    "                },\n",
    "                error = function(e){\n",
    "                    message('Caught an error')\n",
    "                    print(e)\n",
    "                },\n",
    "                warning = function(w){\n",
    "                    message('Caught an warning')\n",
    "                    print(w)\n",
    "                },\n",
    "                finally = {\n",
    "                    message('Quitting.')\n",
    "                }\n",
    "            )    \n",
    "        }\n",
    "\n",
    "        run_with_catching()\n",
    "      \n",
    "        }\n",
    "    }\n",
    "    \n",
    "    blood_results <- do.call(\"rbind\", blood_results)\n",
    "    base_table_path = './gut microbiome sample/raw_results/'\n",
    "    table_path = paste(base_table_path, \"blood_results_raw.csv\", sep=\"\")\n",
    "    write.table(blood_results, table_path, append = FALSE, sep = \",\", dec = \".\", row.names = TRUE, col.names = TRUE)\n",
    "}\n",
    "\n",
    "exposures = scan(\"blood_exposures.txt\", character(), quote = \"\")\n",
    "\n",
    "outcomes = c(\"ieu-b-18\", \"finn-b-G6_MS\", \"ukb-b-17670\")\n",
    "outcome_labels = c(\"default-ms\", \"finish-ms\", \"uk-ms\")\n",
    "\n",
    "run_blood()"
   ]
  },
  {
   "cell_type": "code",
   "execution_count": null,
   "id": "f389809b",
   "metadata": {},
   "outputs": [],
   "source": [
    "fecal_results = list()\n",
    "run_fecal() <- function() {\n",
    "\n",
    "\n",
    "    for (i in 1:length(blood_exposures)) {\n",
    "      exposure_dat = extract_instruments(blood_exposures[i])\n",
    "      for (j in 1:length(outcomes)) {\n",
    "\n",
    "          run_with_catching <- function(){\n",
    "            tryCatch(\n",
    "                expr = {\n",
    "                    outcome_dat = extract_outcome_data(snps=exposure_dat$SNP, outcomes=outcomes[j])\n",
    "                    dat <- harmonise_data(exposure_dat, outcome_dat)\n",
    "                    res <- mr(dat)\n",
    "                    fecal_results = append(blood_results, res)\n",
    "                    \n",
    "                },\n",
    "                error = function(e){\n",
    "                    message('Caught an error')\n",
    "                    print(e)\n",
    "                },\n",
    "                warning = function(w){\n",
    "                    message('Caught an warning')\n",
    "                    print(w)\n",
    "                },\n",
    "                finally = {\n",
    "                    message('Quitting.')\n",
    "                }\n",
    "            )    \n",
    "        }\n",
    "\n",
    "        run_with_catching()\n",
    "      \n",
    "        }\n",
    "    }\n",
    "    \n",
    "    fecal_results <- do.call(\"rbind\", fecal_results)\n",
    "    \n",
    "    base_table_path = './gut microbiome sample/raw_results/'\n",
    "    table_path = paste(base_table_path, \"fecal_results_raw.csv\", sep=\"\")\n",
    "    write.table(blood_results, table_path, append = FALSE, sep = \",\", dec = \".\", row.names = TRUE, col.names = TRUE)\n",
    "}\n",
    "\n",
    "exposures = scan(\"blood_exposures.txt\", character(), quote = \"\")\n",
    "\n",
    "outcomes = c(\"ieu-b-18\", \"finn-b-G6_MS\", \"ukb-b-17670\")\n",
    "outcome_labels = c(\"default-ms\", \"finish-ms\", \"uk-ms\")\n",
    "\n",
    "run_fecal()"
   ]
  },
  {
   "cell_type": "markdown",
   "id": "d557d6ee",
   "metadata": {},
   "source": [
    "## MISC NOTES BELOW"
   ]
  },
  {
   "cell_type": "code",
   "execution_count": 13,
   "id": "2524f9bb",
   "metadata": {},
   "outputs": [],
   "source": [
    "bap = rbind(res,res)"
   ]
  },
  {
   "cell_type": "code",
   "execution_count": null,
   "id": "53a610e0",
   "metadata": {
    "scrolled": true
   },
   "outputs": [],
   "source": [
    "arr = list(res, res, res)\n",
    "\n",
    "out2 <- do.call(\"rbind\", arr)\n",
    "\n",
    "out2"
   ]
  },
  {
   "cell_type": "code",
   "execution_count": 23,
   "id": "ea5d682a",
   "metadata": {},
   "outputs": [
    {
     "data": {
      "text/html": [
       "<ol>\n",
       "\t<li>'c'</li>\n",
       "</ol>\n"
      ],
      "text/latex": [
       "\\begin{enumerate}\n",
       "\\item 'c'\n",
       "\\end{enumerate}\n"
      ],
      "text/markdown": [
       "1. 'c'\n",
       "\n",
       "\n"
      ],
      "text/plain": [
       "[[1]]\n",
       "[1] \"c\"\n"
      ]
     },
     "metadata": {},
     "output_type": "display_data"
    }
   ],
   "source": [
    "a = list()\n",
    "\n",
    "a = append(a, \"c\")\n",
    "\n",
    "a"
   ]
  },
  {
   "cell_type": "code",
   "execution_count": null,
   "id": "bee77a28",
   "metadata": {},
   "outputs": [],
   "source": []
  }
 ],
 "metadata": {
  "kernelspec": {
   "display_name": "R",
   "language": "R",
   "name": "ir"
  },
  "language_info": {
   "codemirror_mode": "r",
   "file_extension": ".r",
   "mimetype": "text/x-r-source",
   "name": "R",
   "pygments_lexer": "r",
   "version": "4.1.2"
  }
 },
 "nbformat": 4,
 "nbformat_minor": 5
}
