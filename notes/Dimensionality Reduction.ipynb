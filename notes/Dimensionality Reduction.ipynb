{
 "cells": [
  {
   "cell_type": "markdown",
   "metadata": {},
   "source": [
    "# Dimensionality Reduction Notes"
   ]
  },
  {
   "cell_type": "markdown",
   "metadata": {},
   "source": [
    "## Remaining Questions // Things to Look Into\n",
    "* Is there a more space efficient way to store the expressions data than in the pandas dataframe oriented .csv it's currently in, or should we just compress it for the cloud and uncompress it when we're working with it?\n",
    "* yes. these links: https://towardsdatascience.com/the-best-format-to-save-pandas-data-414dca023e0d, https://towardsdatascience.com/stop-persisting-pandas-data-frames-in-csvs-f369a6440af5, and https://analyticsindiamag.com/complete-guide-to-different-persisting-methods-in-pandas/. Seems like we should talk about these alternative formats as a group on Wednesday. "
   ]
  },
  {
   "cell_type": "markdown",
   "metadata": {},
   "source": [
    "* number of input variables (aka features)== dimensionality of dataset\n",
    "* \"Having a large number of dimensions in the feature space can mean that the volume of that space is very large, and in turn, the points that we have in that space (rows of data) often represent a small and non-representative sample. This can dramatically impact the performance of machine learning algorithms fit on data with many input features, generally referred to as the 'curse of dimensionality.'\"\n",
    "* https://scikit-learn.org/stable/auto_examples/neighbors/plot_nca_dim_reduction.html#sphx-glr-auto-examples-neighbors-plot-nca-dim-reduction-py \n",
    "* https://scikit-learn.org/stable/auto_examples/compose/plot_compare_reduction.html#sphx-glr-auto-examples-compose-plot-compare-reduction-py  \n",
    "* https://www.codegrepper.com/code-examples/python/pandas+set+first+row+as+column+names \n"
   ]
  },
  {
   "cell_type": "markdown",
   "metadata": {},
   "source": [
    "### PCA Attempt\n",
    "* have the expressions been standardized or z-score normalized? Should make a couple plots of their values to see. If not, they should be scaled before PCA "
   ]
  },
  {
   "cell_type": "code",
   "execution_count": 43,
   "metadata": {},
   "outputs": [],
   "source": [
    "import numpy as np\n",
    "import pandas as pd\n",
    "import matplotlib.pyplot as plt\n",
    "from sklearn.decomposition import PCA, IncrementalPCA\n",
    "\n",
    "tissues = np.array(pd.read_csv('https://raw.githubusercontent.com/HarritonResearchLab/genomics/main/src/exploring/gene_knn/first_try/data/tissue_df.csv')['tissue_name'])"
   ]
  },
  {
   "cell_type": "markdown",
   "metadata": {},
   "source": [
    "## Convert expressions dataframe \n",
    "* First to columns of gene names, then convert df to feather \n",
    "\n",
    "```python\n",
    "expressions_df = pd.read_csv('https://raw.githubusercontent.com/HarritonResearchLab/genomics/main/src/exploring/gene_knn/first_try/data/expressions_df.csv')\n",
    "sample_names = list(expressions_df)\n",
    "gene_names = list(expressions_df['gene_name'])\n",
    "test_df = expressions_df.drop(columns=['gene_name'])\n",
    "test_df = test_df.transpose()\n",
    "test_df.to_csv('test_df.csv', index=False)\n",
    "with open('test_df.csv', 'r') as f:\n",
    "    lines = f.readlines()\n",
    "\n",
    "lines[0] = ','.join(gene_names)+'\\n'\n",
    "\n",
    "with open('test_df.csv', 'w') as f: \n",
    "    f.writelines(lines)\n",
    "\n",
    "new_df = pd.read_csv('test_df.csv')\n",
    "new_df.to_feather('genes_only.ftr')\n",
    "```"
   ]
  },
  {
   "cell_type": "code",
   "execution_count": 33,
   "metadata": {},
   "outputs": [
    {
     "name": "stdout",
     "output_type": "stream",
     "text": [
      "     1007_s_at   1053_at    117_at     121_at  1255_g_at   1294_at   1316_at  \\\n",
      "0    10.191267  6.040463  7.447409  12.025042   5.269269  8.535176  6.921690   \n",
      "1    10.509167  6.696075  7.775354  12.007817   5.180389  8.587241  6.962430   \n",
      "2    10.272027  6.144663  7.696235  11.633279   5.301714  8.277414  7.054633   \n",
      "3    10.252952  6.575153  8.478135  11.075286   5.372235  8.603650  7.115067   \n",
      "4    10.157605  6.606701  8.116336  10.832528   5.334905  8.303227  7.078587   \n",
      "..         ...       ...       ...        ...        ...       ...       ...   \n",
      "184   9.803686  6.058488  7.486711   9.914632   5.312712  7.421166  6.906639   \n",
      "185  10.509541  6.345526  7.468406   9.909784   5.341193  7.900080  6.982293   \n",
      "186   9.984502  6.715984  7.120793   9.409933   4.896124  8.119396  6.810089   \n",
      "187   9.937738  6.836179  7.125811   9.587782   5.296695  8.005432  6.976594   \n",
      "188  10.306781  7.025547  7.407624   9.792904   5.206251  8.283758  7.123559   \n",
      "\n",
      "      1320_at  1405_i_at   1431_at  ...  90610_at  91580_at  91617_at  \\\n",
      "0    5.718190   8.082076  5.434304  ...  8.108419  5.251074  7.098663   \n",
      "1    5.596042   7.568178  5.281319  ...  8.072807  5.409345  6.905827   \n",
      "2    5.576952   7.136474  5.282916  ...  7.809687  5.297679  6.718544   \n",
      "3    5.860551   8.605091  5.375391  ...  8.036512  6.025769  6.716618   \n",
      "4    5.728177   8.967108  5.484559  ...  8.205598  5.612748  6.581476   \n",
      "..        ...        ...       ...  ...       ...       ...       ...   \n",
      "184  5.778275   6.552426  5.435237  ...  7.095949  5.362407  7.103406   \n",
      "185  5.998825   6.779777  5.370535  ...  7.056859  5.432815  7.047431   \n",
      "186  5.965485   6.584802  5.420766  ...  8.314995  5.651090  7.546900   \n",
      "187  5.443173   6.643660  5.501452  ...  7.860281  5.741697  7.509888   \n",
      "188  6.232968   6.505756  5.412707  ...  8.125480  5.543658  7.593968   \n",
      "\n",
      "     91682_at  91684_g_at  91703_at  91816_f_at  91826_at  91920_at  91952_at  \n",
      "0    8.210405    7.736744  6.434851    5.700448  9.211163  8.339130  7.367797  \n",
      "1    8.322514    8.192083  7.676989    6.566479  9.415980  8.214426  7.917754  \n",
      "2    8.404708    7.961902  6.424996    5.641277  8.192909  8.456095  7.598461  \n",
      "3    8.797825    8.325583  6.354779    5.754815  8.522238  8.558297  7.799779  \n",
      "4    8.577977    8.064061  6.438092    6.053994  7.971105  8.421945  7.540570  \n",
      "..        ...         ...       ...         ...       ...       ...       ...  \n",
      "184  7.972189    6.793989  6.216806    7.327094  8.452172  8.340901  7.658151  \n",
      "185  7.158617    7.924496  6.422848   10.260284  9.297665  8.258056  8.073740  \n",
      "186  7.872795    8.508173  7.154838    6.446923  8.753853  8.355681  7.907719  \n",
      "187  7.643282    8.384567  6.645890    7.644610  8.195537  8.589336  7.627872  \n",
      "188  7.819284    8.871103  7.181134    7.788115  9.422535  8.333980  8.056553  \n",
      "\n",
      "[189 rows x 22215 columns]\n"
     ]
    }
   ],
   "source": [
    "feather_df = pd.read_feather('genes_only.ftr')\n",
    "print(feather_df)"
   ]
  },
  {
   "cell_type": "code",
   "execution_count": 53,
   "metadata": {},
   "outputs": [
    {
     "data": {
      "image/png": "[encoded data removed]",
      "text/plain": [
       "<Figure size 432x288 with 2 Axes>"
      ]
     },
     "metadata": {
      "needs_background": "light"
     },
     "output_type": "display_data"
    }
   ],
   "source": [
    "## Test if data are normalized\n",
    "\n",
    "fig, axs = plt.subplots(1,2)\n",
    "\n",
    "arr = np.array(feather_df['1431_at'])\n",
    "axs[0].hist(arr)\n",
    "axs[0].set(xlabel='Gene Expression', ylabel='Count', title='Not Normalized')\n",
    "\n",
    "norm_arr = (arr-np.mean(arr))/np.std(arr)\n",
    "axs[1].hist(norm_arr)\n",
    "axs[1].set(xlabel='Gene Expression', ylabel='Count', title='Normalized')\n",
    "\n",
    "plt.subplots_adjust(wspace=0.5)\n",
    "plt.show()\n"
   ]
  },
  {
   "cell_type": "code",
   "execution_count": 34,
   "metadata": {},
   "outputs": [],
   "source": [
    "pca = PCA(n_components=2)\n",
    "x_pca = pca.fit_transform(feather_df)\n"
   ]
  },
  {
   "cell_type": "code",
   "execution_count": 47,
   "metadata": {},
   "outputs": [
    {
     "name": "stdout",
     "output_type": "stream",
     "text": [
      "['cerebellum', 'placenta', 'kidney', 'endometrium', 'liver', 'colon', 'hippocampus']\n",
      "[2 2 2 2 2 2 2 2 2 2 2 2 2 2 2 2 6 6 6 6 6 6 6 6 6 6 6 6 6 6 6 6 6 6 6 6 6\n",
      " 6 6 6 6 6 6 6 6 6 0 0 0 0 0 0 0 0 0 0 0 0 0 0 0 0 0 0 0 0 0 0 0 0 0 0 0 2\n",
      " 2 2 2 2 2 2 2 2 2 2 2 2 5 5 5 5 5 5 5 5 5 5 5 5 5 5 5 5 5 5 5 5 5 5 5 5 5\n",
      " 5 5 5 5 5 5 5 5 5 2 2 2 4 4 4 2 2 2 4 4 4 2 2 0 6 4 4 4 4 4 4 0 0 4 4 2 2\n",
      " 3 3 3 3 3 3 3 3 3 3 3 3 3 3 3 4 4 4 4 4 4 4 4 4 4 4 4 0 0 0 0 0 0 0 0 1 1\n",
      " 1 1 1 1]\n"
     ]
    }
   ],
   "source": [
    "print(list(set(tissues)))\n",
    "\n",
    "tissue_classes = {'cerebellum':0, \n",
    "                   'placenta':1,\n",
    "                   'kidney':2, \n",
    "                   'endometrium':3,\n",
    "                   'liver':4,\n",
    "                   'colon':5,\n",
    "                   'hippocampus':6}\n",
    "\n",
    "tissues = np.array([tissue_classes[tissue] for tissue in tissues])\n",
    "\n",
    "print(tissues)"
   ]
  },
  {
   "cell_type": "code",
   "execution_count": 48,
   "metadata": {},
   "outputs": [
    {
     "name": "stdout",
     "output_type": "stream",
     "text": [
      "(2, 189)\n"
     ]
    },
    {
     "data": {
      "image/png": "[encoded data removed]",
      "text/plain": [
       "<Figure size 432x288 with 1 Axes>"
      ]
     },
     "metadata": {
      "needs_background": "light"
     },
     "output_type": "display_data"
    }
   ],
   "source": [
    "print(x_pca.shape)\n",
    "x_pca = np.reshape(x_pca, (2,189))\n",
    "plt.scatter(x_pca[0], x_pca[1], c=tissues)\n",
    "\n",
    "plt.show()"
   ]
  }
 ],
 "metadata": {
  "interpreter": {
   "hash": "d3c0f98bc337faacb3dc92d86fb3c3ff5c297fcab3c4973bdf073a6202ea54c1"
  },
  "kernelspec": {
   "display_name": "Python 3.8.5 64-bit",
   "language": "python",
   "name": "python3"
  },
  "language_info": {
   "codemirror_mode": {
    "name": "ipython",
    "version": 3
   },
   "file_extension": ".py",
   "mimetype": "text/x-python",
   "name": "python",
   "nbconvert_exporter": "python",
   "pygments_lexer": "ipython3",
   "version": "3.8.5"
  },
  "orig_nbformat": 4
 },
 "nbformat": 4,
 "nbformat_minor": 2
}
