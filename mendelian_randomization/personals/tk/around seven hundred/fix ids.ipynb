{
 "cells": [
  {
   "cell_type": "code",
   "execution_count": 1,
   "id": "365049d7",
   "metadata": {},
   "outputs": [],
   "source": [
    "lines = []\n",
    "with open('IDs_v2.txt', 'r') as f: \n",
    "    for line in f: \n",
    "        lines.append(line.replace('\\n',''))\n",
    "        \n",
    "        "
   ]
  },
  {
   "cell_type": "code",
   "execution_count": 3,
   "id": "5db592e8",
   "metadata": {},
   "outputs": [
    {
     "name": "stdout",
     "output_type": "stream",
     "text": [
      "['met-a-656', 'met-d-Gly', 'met-c-940', 'met-c-849', 'met-d-Gln', 'met-c-938', 'met-d-Ala', 'met-c-866', 'met-d-Creatinine', 'met-c-840', 'met-d-Citrate', 'met-d-Lactate', 'met-a-356', 'met-a-753', 'met-d-Tyr', 'met-a-467', 'met-c-850', 'met-a-463', 'met-d-Val', 'met-d-His', 'met-c-860', 'met-a-573', 'met-c-894', 'met-a-652', 'met-a-341', 'met-a-325', 'met-a-379', 'met-a-304', 'met-a-360', 'met-a-469', 'met-a-656', 'met-a-316', 'met-a-469']\n"
     ]
    }
   ],
   "source": [
    "lines = [i.split('||')[1].split(':')[1] for i in lines]\n",
    "print(lines)"
   ]
  },
  {
   "cell_type": "code",
   "execution_count": 4,
   "id": "f0c4874c",
   "metadata": {},
   "outputs": [],
   "source": [
    "with open('ms_outcome_list.txt', 'w') as f: \n",
    "    for line in lines: \n",
    "        f.write(line+'\\n')"
   ]
  },
  {
   "cell_type": "code",
   "execution_count": null,
   "id": "b1b955af",
   "metadata": {},
   "outputs": [],
   "source": []
  }
 ],
 "metadata": {
  "kernelspec": {
   "display_name": "Python 3 (ipykernel)",
   "language": "python",
   "name": "python3"
  },
  "language_info": {
   "codemirror_mode": {
    "name": "ipython",
    "version": 3
   },
   "file_extension": ".py",
   "mimetype": "text/x-python",
   "name": "python",
   "nbconvert_exporter": "python",
   "pygments_lexer": "ipython3",
   "version": "3.9.7"
  }
 },
 "nbformat": 4,
 "nbformat_minor": 5
}
