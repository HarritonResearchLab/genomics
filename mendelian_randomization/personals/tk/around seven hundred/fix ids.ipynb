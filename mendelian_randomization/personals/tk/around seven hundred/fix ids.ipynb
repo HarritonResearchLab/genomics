{
 "cells": [
  {
   "cell_type": "code",
   "execution_count": 6,
   "id": "df39a9f4",
   "metadata": {},
   "outputs": [],
   "source": [
    "import pandas as pd \n",
    "\n",
    "df = pd.read_csv(\"routine_results.csv\")\n",
    "df = df.drop(columns=['bap'])\n",
    "df.to_csv(\"routine_results.csv\", index=False)"
   ]
  },
  {
   "cell_type": "code",
   "execution_count": 7,
   "id": "a2bc8a4a",
   "metadata": {},
   "outputs": [
    {
     "ename": "ModuleNotFoundError",
     "evalue": "No module named 'matplotlib.pyplot'",
     "output_type": "error",
     "traceback": [
      "\u001b[1;31m---------------------------------------------------------------------------\u001b[0m",
      "\u001b[1;31mModuleNotFoundError\u001b[0m                       Traceback (most recent call last)",
      "Input \u001b[1;32mIn [7]\u001b[0m, in \u001b[0;36m<cell line: 1>\u001b[1;34m()\u001b[0m\n\u001b[1;32m----> 1\u001b[0m \u001b[38;5;28;01mimport\u001b[39;00m \u001b[38;5;21;01mmatplotlib\u001b[39;00m\u001b[38;5;21;01m.\u001b[39;00m\u001b[38;5;21;01mpyplot\u001b[39;00m \u001b[38;5;28;01mas\u001b[39;00m \u001b[38;5;21;01mplt\u001b[39;00m \n\u001b[0;32m      3\u001b[0m plt\u001b[38;5;241m.\u001b[39mhist(df[\u001b[38;5;124m'\u001b[39m\u001b[38;5;124mp\u001b[39m\u001b[38;5;124m'\u001b[39m])\n",
      "\u001b[1;31mModuleNotFoundError\u001b[0m: No module named 'matplotlib.pyplot'"
     ]
    }
   ],
   "source": []
  },
  {
   "cell_type": "code",
   "execution_count": null,
   "id": "f5a50e77",
   "metadata": {},
   "outputs": [],
   "source": []
  },
  {
   "cell_type": "markdown",
   "id": "7d99cb62",
   "metadata": {},
   "source": [
    "### old stuff below"
   ]
  },
  {
   "cell_type": "code",
   "execution_count": 1,
   "id": "365049d7",
   "metadata": {},
   "outputs": [],
   "source": [
    "lines = []\n",
    "with open('IDs_v2.txt', 'r') as f: \n",
    "    for line in f: \n",
    "        lines.append(line.replace('\\n',''))\n",
    "        \n",
    "        "
   ]
  },
  {
   "cell_type": "code",
   "execution_count": 3,
   "id": "5db592e8",
   "metadata": {},
   "outputs": [
    {
     "name": "stdout",
     "output_type": "stream",
     "text": [
      "['met-a-656', 'met-d-Gly', 'met-c-940', 'met-c-849', 'met-d-Gln', 'met-c-938', 'met-d-Ala', 'met-c-866', 'met-d-Creatinine', 'met-c-840', 'met-d-Citrate', 'met-d-Lactate', 'met-a-356', 'met-a-753', 'met-d-Tyr', 'met-a-467', 'met-c-850', 'met-a-463', 'met-d-Val', 'met-d-His', 'met-c-860', 'met-a-573', 'met-c-894', 'met-a-652', 'met-a-341', 'met-a-325', 'met-a-379', 'met-a-304', 'met-a-360', 'met-a-469', 'met-a-656', 'met-a-316', 'met-a-469']\n"
     ]
    }
   ],
   "source": [
    "lines = [i.split('||')[1].split(':')[1] for i in lines]\n",
    "print(lines)"
   ]
  },
  {
   "cell_type": "code",
   "execution_count": 4,
   "id": "f0c4874c",
   "metadata": {},
   "outputs": [],
   "source": [
    "with open('ms_outcome_list.txt', 'w') as f: \n",
    "    for line in lines: \n",
    "        f.write(line+'\\n')"
   ]
  },
  {
   "cell_type": "code",
   "execution_count": null,
   "id": "b1b955af",
   "metadata": {},
   "outputs": [],
   "source": []
  }
 ],
 "metadata": {
  "kernelspec": {
   "display_name": "Python 3 (ipykernel)",
   "language": "python",
   "name": "python3"
  },
  "language_info": {
   "codemirror_mode": {
    "name": "ipython",
    "version": 3
   },
   "file_extension": ".py",
   "mimetype": "text/x-python",
   "name": "python",
   "nbconvert_exporter": "python",
   "pygments_lexer": "ipython3",
   "version": "3.9.7"
  }
 },
 "nbformat": 4,
 "nbformat_minor": 5
}
