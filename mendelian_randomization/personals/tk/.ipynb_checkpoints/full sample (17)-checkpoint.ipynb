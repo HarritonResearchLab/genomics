{
 "cells": [
  {
   "cell_type": "code",
   "execution_count": 5,
   "id": "3b4bc3ff",
   "metadata": {},
   "outputs": [
    {
     "name": "stderr",
     "output_type": "stream",
     "text": [
      "TwoSampleMR version 0.5.6 \n",
      "[>] New: Option to use non-European LD reference panels for clumping etc\n",
      "[>] Some studies temporarily quarantined to verify effect allele\n",
      "[>] See news(package='TwoSampleMR') and https://gwas.mrcieu.ac.uk for further details\n",
      "\n",
      "\n"
     ]
    }
   ],
   "source": [
    "library(TwoSampleMR)"
   ]
  },
  {
   "cell_type": "code",
   "execution_count": 6,
   "id": "791e5a5a",
   "metadata": {},
   "outputs": [],
   "source": [
    "library(ggplot2)"
   ]
  },
  {
   "cell_type": "code",
   "execution_count": 7,
   "id": "b02015e0",
   "metadata": {},
   "outputs": [],
   "source": [
    "exposures = scan(\"exposures.txt\", character(), quote = \"\")\n",
    "exposure_labels = scan(\"exposure_labels.txt\", character(), quote = \"\")\n",
    "\n",
    "outcomes = c(\"ieu-b-18\", \"finn-b-G6_MS\", \"ukb-b-17670\")\n",
    "outcome_labels = c(\"default-ms\", \"finish-ms\", \"uk-ms\")"
   ]
  },
  {
   "cell_type": "code",
   "execution_count": 20,
   "id": "72392e26",
   "metadata": {},
   "outputs": [
    {
     "name": "stderr",
     "output_type": "stream",
     "text": [
      "Extracting data for 17 SNP(s) from 1 GWAS(s)\n",
      "\n",
      "Finding proxies for 4 SNPs in outcome ieu-b-18\n",
      "\n",
      "Extracting data for 4 SNP(s) from 1 GWAS(s)\n",
      "\n",
      "Harmonising 3-Hydroxybutyrate || id:met-d-bOHbutyrate (met-d-bOHbutyrate) and multiple sclerosis || id:ieu-b-18 (ieu-b-18)\n",
      "\n",
      "Removing the following SNPs for being palindromic with intermediate allele frequencies:\n",
      "rs10127775, rs12314700, rs2645433, rs964184\n",
      "\n",
      "Analysing 'met-d-bOHbutyrate' on 'ieu-b-18'\n",
      "\n"
     ]
    },
    {
     "name": "stdout",
     "output_type": "stream",
     "text": [
      "[1] \"#####NEW RUN#####\"\n",
      "EXPOSURE:  met-d-bOHbutyrate  LABEL:  3-HydroxybutyrateOUTCOME:  ieu-b-18  LABEL:  default-ms"
     ]
    },
    {
     "name": "stderr",
     "output_type": "stream",
     "text": [
      "Saving 6.67 x 6.67 in image\n",
      "\n"
     ]
    },
    {
     "name": "stdout",
     "output_type": "stream",
     "text": [
      "[1] \"#################\"\n"
     ]
    },
    {
     "name": "stderr",
     "output_type": "stream",
     "text": [
      "Quitting.\n",
      "\n",
      "Extracting data for 17 SNP(s) from 1 GWAS(s)\n",
      "\n",
      "Finding proxies for 1 SNPs in outcome finn-b-G6_MS\n",
      "\n",
      "Extracting data for 1 SNP(s) from 1 GWAS(s)\n",
      "\n",
      "Harmonising 3-Hydroxybutyrate || id:met-d-bOHbutyrate (met-d-bOHbutyrate) and MS-disease / Multiple Sclerosis || id:finn-b-G6_MS (finn-b-G6_MS)\n",
      "\n",
      "Removing the following SNPs for being palindromic with intermediate allele frequencies:\n",
      "rs10127775, rs2645433\n",
      "\n",
      "Analysing 'met-d-bOHbutyrate' on 'finn-b-G6_MS'\n",
      "\n"
     ]
    },
    {
     "name": "stdout",
     "output_type": "stream",
     "text": [
      "[1] \"#####NEW RUN#####\"\n",
      "EXPOSURE:  met-d-bOHbutyrate  LABEL:  3-HydroxybutyrateOUTCOME:  finn-b-G6_MS  LABEL:  default-ms"
     ]
    },
    {
     "name": "stderr",
     "output_type": "stream",
     "text": [
      "Saving 6.67 x 6.67 in image\n",
      "\n"
     ]
    },
    {
     "name": "stdout",
     "output_type": "stream",
     "text": [
      "[1] \"#################\"\n"
     ]
    },
    {
     "name": "stderr",
     "output_type": "stream",
     "text": [
      "Quitting.\n",
      "\n",
      "Extracting data for 17 SNP(s) from 1 GWAS(s)\n",
      "\n",
      "Finding proxies for 11 SNPs in outcome ukb-b-17670\n",
      "\n",
      "Extracting data for 11 SNP(s) from 1 GWAS(s)\n",
      "\n",
      "Harmonising 3-Hydroxybutyrate || id:met-d-bOHbutyrate (met-d-bOHbutyrate) and Non-cancer illness code, self-reported: multiple sclerosis || id:ukb-b-17670 (ukb-b-17670)\n",
      "\n",
      "Analysing 'met-d-bOHbutyrate' on 'ukb-b-17670'\n",
      "\n"
     ]
    },
    {
     "name": "stdout",
     "output_type": "stream",
     "text": [
      "[1] \"#####NEW RUN#####\"\n",
      "EXPOSURE:  met-d-bOHbutyrate  LABEL:  3-HydroxybutyrateOUTCOME:  ukb-b-17670  LABEL:  default-ms"
     ]
    },
    {
     "name": "stderr",
     "output_type": "stream",
     "text": [
      "Saving 6.67 x 6.67 in image\n",
      "\n"
     ]
    },
    {
     "name": "stdout",
     "output_type": "stream",
     "text": [
      "[1] \"#################\"\n"
     ]
    },
    {
     "name": "stderr",
     "output_type": "stream",
     "text": [
      "Quitting.\n",
      "\n",
      "Extracting data for 1 SNP(s) from 1 GWAS(s)\n",
      "\n",
      "Harmonising 3-hydroxybutyrate || id:met-c-846 (met-c-846) and multiple sclerosis || id:ieu-b-18 (ieu-b-18)\n",
      "\n",
      "Analysing 'met-c-846' on 'ieu-b-18'\n",
      "\n"
     ]
    },
    {
     "name": "stdout",
     "output_type": "stream",
     "text": [
      "[1] \"#####NEW RUN#####\"\n",
      "EXPOSURE:  met-c-846  LABEL:  3-HydroxybutyrateOUTCOME:  ieu-b-18  LABEL:  finish-ms"
     ]
    },
    {
     "name": "stderr",
     "output_type": "stream",
     "text": [
      "Saving 6.67 x 6.67 in image\n",
      "\n"
     ]
    },
    {
     "name": "stdout",
     "output_type": "stream",
     "text": [
      "[1] \"#################\"\n"
     ]
    },
    {
     "name": "stderr",
     "output_type": "stream",
     "text": [
      "Quitting.\n",
      "\n",
      "Extracting data for 1 SNP(s) from 1 GWAS(s)\n",
      "\n",
      "Harmonising 3-hydroxybutyrate || id:met-c-846 (met-c-846) and MS-disease / Multiple Sclerosis || id:finn-b-G6_MS (finn-b-G6_MS)\n",
      "\n",
      "Analysing 'met-c-846' on 'finn-b-G6_MS'\n",
      "\n"
     ]
    },
    {
     "name": "stdout",
     "output_type": "stream",
     "text": [
      "[1] \"#####NEW RUN#####\"\n",
      "EXPOSURE:  met-c-846  LABEL:  3-HydroxybutyrateOUTCOME:  finn-b-G6_MS  LABEL:  finish-ms"
     ]
    },
    {
     "name": "stderr",
     "output_type": "stream",
     "text": [
      "Saving 6.67 x 6.67 in image\n",
      "\n"
     ]
    },
    {
     "name": "stdout",
     "output_type": "stream",
     "text": [
      "[1] \"#################\"\n"
     ]
    },
    {
     "name": "stderr",
     "output_type": "stream",
     "text": [
      "Quitting.\n",
      "\n",
      "Extracting data for 1 SNP(s) from 1 GWAS(s)\n",
      "\n",
      "Finding proxies for 1 SNPs in outcome ukb-b-17670\n",
      "\n",
      "Extracting data for 1 SNP(s) from 1 GWAS(s)\n",
      "\n",
      "Caught an error\n",
      "\n"
     ]
    },
    {
     "name": "stdout",
     "output_type": "stream",
     "text": [
      "<simpleError in check_required_columns(outcome_dat, \"outcome\"): The following required columns are missing from outcome: SNP, id.outcome, outcome, beta.outcome, se.outcome, effect_allele.outcome, other_allele.outcome>\n"
     ]
    },
    {
     "name": "stderr",
     "output_type": "stream",
     "text": [
      "Quitting.\n",
      "\n",
      "Extracting data for 0 SNP(s) from 1 GWAS(s)\n",
      "\n",
      "Caught an error\n",
      "\n"
     ]
    },
    {
     "name": "stdout",
     "output_type": "stream",
     "text": [
      "<simpleError in check_required_columns(exposure_dat, \"exposure\"): The following required columns are missing from exposure: SNP, id.exposure, exposure, beta.exposure, se.exposure, effect_allele.exposure, other_allele.exposure>\n"
     ]
    },
    {
     "name": "stderr",
     "output_type": "stream",
     "text": [
      "Quitting.\n",
      "\n",
      "Extracting data for 0 SNP(s) from 1 GWAS(s)\n",
      "\n",
      "Caught an error\n",
      "\n"
     ]
    },
    {
     "name": "stdout",
     "output_type": "stream",
     "text": [
      "<simpleError in check_required_columns(exposure_dat, \"exposure\"): The following required columns are missing from exposure: SNP, id.exposure, exposure, beta.exposure, se.exposure, effect_allele.exposure, other_allele.exposure>\n"
     ]
    },
    {
     "name": "stderr",
     "output_type": "stream",
     "text": [
      "Quitting.\n",
      "\n",
      "Extracting data for 0 SNP(s) from 1 GWAS(s)\n",
      "\n",
      "Caught an error\n",
      "\n"
     ]
    },
    {
     "name": "stdout",
     "output_type": "stream",
     "text": [
      "<simpleError in check_required_columns(exposure_dat, \"exposure\"): The following required columns are missing from exposure: SNP, id.exposure, exposure, beta.exposure, se.exposure, effect_allele.exposure, other_allele.exposure>\n"
     ]
    },
    {
     "name": "stderr",
     "output_type": "stream",
     "text": [
      "Quitting.\n",
      "\n",
      "Extracting data for 0 SNP(s) from 1 GWAS(s)\n",
      "\n",
      "Caught an error\n",
      "\n"
     ]
    },
    {
     "name": "stdout",
     "output_type": "stream",
     "text": [
      "<simpleError in check_required_columns(exposure_dat, \"exposure\"): The following required columns are missing from exposure: SNP, id.exposure, exposure, beta.exposure, se.exposure, effect_allele.exposure, other_allele.exposure>\n"
     ]
    },
    {
     "name": "stderr",
     "output_type": "stream",
     "text": [
      "Quitting.\n",
      "\n",
      "Extracting data for 0 SNP(s) from 1 GWAS(s)\n",
      "\n",
      "Caught an error\n",
      "\n"
     ]
    },
    {
     "name": "stdout",
     "output_type": "stream",
     "text": [
      "<simpleError in check_required_columns(exposure_dat, \"exposure\"): The following required columns are missing from exposure: SNP, id.exposure, exposure, beta.exposure, se.exposure, effect_allele.exposure, other_allele.exposure>\n"
     ]
    },
    {
     "name": "stderr",
     "output_type": "stream",
     "text": [
      "Quitting.\n",
      "\n",
      "Extracting data for 0 SNP(s) from 1 GWAS(s)\n",
      "\n",
      "Caught an error\n",
      "\n"
     ]
    },
    {
     "name": "stdout",
     "output_type": "stream",
     "text": [
      "<simpleError in check_required_columns(exposure_dat, \"exposure\"): The following required columns are missing from exposure: SNP, id.exposure, exposure, beta.exposure, se.exposure, effect_allele.exposure, other_allele.exposure>\n"
     ]
    },
    {
     "name": "stderr",
     "output_type": "stream",
     "text": [
      "Quitting.\n",
      "\n",
      "Extracting data for 2 SNP(s) from 1 GWAS(s)\n",
      "\n",
      "Harmonising 2-aminobutyrate || id:met-a-471 (met-a-471) and multiple sclerosis || id:ieu-b-18 (ieu-b-18)\n",
      "\n",
      "Analysing 'met-a-471' on 'ieu-b-18'\n",
      "\n"
     ]
    },
    {
     "name": "stdout",
     "output_type": "stream",
     "text": [
      "[1] \"#####NEW RUN#####\"\n",
      "EXPOSURE:  met-a-471  LABEL:  2-aminobutyrateOUTCOME:  ieu-b-18  LABEL:  NA"
     ]
    },
    {
     "name": "stderr",
     "output_type": "stream",
     "text": [
      "Saving 6.67 x 6.67 in image\n",
      "\n"
     ]
    },
    {
     "name": "stdout",
     "output_type": "stream",
     "text": [
      "[1] \"#################\"\n"
     ]
    },
    {
     "name": "stderr",
     "output_type": "stream",
     "text": [
      "Quitting.\n",
      "\n",
      "Extracting data for 2 SNP(s) from 1 GWAS(s)\n",
      "\n",
      "Harmonising 2-aminobutyrate || id:met-a-471 (met-a-471) and MS-disease / Multiple Sclerosis || id:finn-b-G6_MS (finn-b-G6_MS)\n",
      "\n",
      "Analysing 'met-a-471' on 'finn-b-G6_MS'\n",
      "\n"
     ]
    },
    {
     "name": "stdout",
     "output_type": "stream",
     "text": [
      "[1] \"#####NEW RUN#####\"\n",
      "EXPOSURE:  met-a-471  LABEL:  2-aminobutyrateOUTCOME:  finn-b-G6_MS  LABEL:  NA"
     ]
    },
    {
     "name": "stderr",
     "output_type": "stream",
     "text": [
      "Saving 6.67 x 6.67 in image\n",
      "\n"
     ]
    },
    {
     "name": "stdout",
     "output_type": "stream",
     "text": [
      "[1] \"#################\"\n"
     ]
    },
    {
     "name": "stderr",
     "output_type": "stream",
     "text": [
      "Quitting.\n",
      "\n",
      "Extracting data for 2 SNP(s) from 1 GWAS(s)\n",
      "\n",
      "Harmonising 2-aminobutyrate || id:met-a-471 (met-a-471) and Non-cancer illness code, self-reported: multiple sclerosis || id:ukb-b-17670 (ukb-b-17670)\n",
      "\n",
      "Analysing 'met-a-471' on 'ukb-b-17670'\n",
      "\n"
     ]
    },
    {
     "name": "stdout",
     "output_type": "stream",
     "text": [
      "[1] \"#####NEW RUN#####\"\n",
      "EXPOSURE:  met-a-471  LABEL:  2-aminobutyrateOUTCOME:  ukb-b-17670  LABEL:  NA"
     ]
    },
    {
     "name": "stderr",
     "output_type": "stream",
     "text": [
      "Saving 6.67 x 6.67 in image\n",
      "\n"
     ]
    },
    {
     "name": "stdout",
     "output_type": "stream",
     "text": [
      "[1] \"#################\"\n"
     ]
    },
    {
     "name": "stderr",
     "output_type": "stream",
     "text": [
      "Quitting.\n",
      "\n",
      "Extracting data for 1 SNP(s) from 1 GWAS(s)\n",
      "\n",
      "Harmonising 3-methyl-2-oxobutyrate || id:met-a-421 (met-a-421) and multiple sclerosis || id:ieu-b-18 (ieu-b-18)\n",
      "\n",
      "Analysing 'met-a-421' on 'ieu-b-18'\n",
      "\n"
     ]
    },
    {
     "name": "stdout",
     "output_type": "stream",
     "text": [
      "[1] \"#####NEW RUN#####\"\n",
      "EXPOSURE:  met-a-421  LABEL:  3-methyl-2-oxobutyrateOUTCOME:  ieu-b-18  LABEL:  NA"
     ]
    },
    {
     "name": "stderr",
     "output_type": "stream",
     "text": [
      "Saving 6.67 x 6.67 in image\n",
      "\n"
     ]
    },
    {
     "name": "stdout",
     "output_type": "stream",
     "text": [
      "[1] \"#################\"\n"
     ]
    },
    {
     "name": "stderr",
     "output_type": "stream",
     "text": [
      "Quitting.\n",
      "\n",
      "Extracting data for 1 SNP(s) from 1 GWAS(s)\n",
      "\n",
      "Harmonising 3-methyl-2-oxobutyrate || id:met-a-421 (met-a-421) and MS-disease / Multiple Sclerosis || id:finn-b-G6_MS (finn-b-G6_MS)\n",
      "\n",
      "Analysing 'met-a-421' on 'finn-b-G6_MS'\n",
      "\n"
     ]
    },
    {
     "name": "stdout",
     "output_type": "stream",
     "text": [
      "[1] \"#####NEW RUN#####\"\n",
      "EXPOSURE:  met-a-421  LABEL:  3-methyl-2-oxobutyrateOUTCOME:  finn-b-G6_MS  LABEL:  NA"
     ]
    },
    {
     "name": "stderr",
     "output_type": "stream",
     "text": [
      "Saving 6.67 x 6.67 in image\n",
      "\n"
     ]
    },
    {
     "name": "stdout",
     "output_type": "stream",
     "text": [
      "[1] \"#################\"\n"
     ]
    },
    {
     "name": "stderr",
     "output_type": "stream",
     "text": [
      "Quitting.\n",
      "\n",
      "Extracting data for 1 SNP(s) from 1 GWAS(s)\n",
      "\n",
      "Harmonising 3-methyl-2-oxobutyrate || id:met-a-421 (met-a-421) and Non-cancer illness code, self-reported: multiple sclerosis || id:ukb-b-17670 (ukb-b-17670)\n",
      "\n",
      "Analysing 'met-a-421' on 'ukb-b-17670'\n",
      "\n"
     ]
    },
    {
     "name": "stdout",
     "output_type": "stream",
     "text": [
      "[1] \"#####NEW RUN#####\"\n",
      "EXPOSURE:  met-a-421  LABEL:  3-methyl-2-oxobutyrateOUTCOME:  ukb-b-17670  LABEL:  NA"
     ]
    },
    {
     "name": "stderr",
     "output_type": "stream",
     "text": [
      "Saving 6.67 x 6.67 in image\n",
      "\n"
     ]
    },
    {
     "name": "stdout",
     "output_type": "stream",
     "text": [
      "[1] \"#################\"\n"
     ]
    },
    {
     "name": "stderr",
     "output_type": "stream",
     "text": [
      "Quitting.\n",
      "\n",
      "Extracting data for 1 SNP(s) from 1 GWAS(s)\n",
      "\n",
      "Harmonising X-04499--3,4-dihydroxybutyrate || id:met-a-393 (met-a-393) and multiple sclerosis || id:ieu-b-18 (ieu-b-18)\n",
      "\n",
      "Analysing 'met-a-393' on 'ieu-b-18'\n",
      "\n"
     ]
    },
    {
     "name": "stdout",
     "output_type": "stream",
     "text": [
      "[1] \"#####NEW RUN#####\"\n",
      "EXPOSURE:  met-a-393  LABEL:  3,4-dihydroxybutyrateOUTCOME:  ieu-b-18  LABEL:  NA"
     ]
    },
    {
     "name": "stderr",
     "output_type": "stream",
     "text": [
      "Saving 6.67 x 6.67 in image\n",
      "\n"
     ]
    },
    {
     "name": "stdout",
     "output_type": "stream",
     "text": [
      "[1] \"#################\"\n"
     ]
    },
    {
     "name": "stderr",
     "output_type": "stream",
     "text": [
      "Quitting.\n",
      "\n",
      "Extracting data for 1 SNP(s) from 1 GWAS(s)\n",
      "\n",
      "Harmonising X-04499--3,4-dihydroxybutyrate || id:met-a-393 (met-a-393) and MS-disease / Multiple Sclerosis || id:finn-b-G6_MS (finn-b-G6_MS)\n",
      "\n",
      "Analysing 'met-a-393' on 'finn-b-G6_MS'\n",
      "\n"
     ]
    },
    {
     "name": "stdout",
     "output_type": "stream",
     "text": [
      "[1] \"#####NEW RUN#####\"\n",
      "EXPOSURE:  met-a-393  LABEL:  3,4-dihydroxybutyrateOUTCOME:  finn-b-G6_MS  LABEL:  NA"
     ]
    },
    {
     "name": "stderr",
     "output_type": "stream",
     "text": [
      "Saving 6.67 x 6.67 in image\n",
      "\n"
     ]
    },
    {
     "name": "stdout",
     "output_type": "stream",
     "text": [
      "[1] \"#################\"\n"
     ]
    },
    {
     "name": "stderr",
     "output_type": "stream",
     "text": [
      "Quitting.\n",
      "\n",
      "Extracting data for 1 SNP(s) from 1 GWAS(s)\n",
      "\n",
      "Finding proxies for 1 SNPs in outcome ukb-b-17670\n",
      "\n",
      "Extracting data for 1 SNP(s) from 1 GWAS(s)\n",
      "\n",
      "Caught an error\n",
      "\n"
     ]
    },
    {
     "name": "stdout",
     "output_type": "stream",
     "text": [
      "<simpleError in check_required_columns(outcome_dat, \"outcome\"): The following required columns are missing from outcome: SNP, id.outcome, outcome, beta.outcome, se.outcome, effect_allele.outcome, other_allele.outcome>\n"
     ]
    },
    {
     "name": "stderr",
     "output_type": "stream",
     "text": [
      "Quitting.\n",
      "\n",
      "Extracting data for 3 SNP(s) from 1 GWAS(s)\n",
      "\n",
      "Harmonising 2-hydroxyisobutyrate || id:met-a-427 (met-a-427) and multiple sclerosis || id:ieu-b-18 (ieu-b-18)\n",
      "\n",
      "Analysing 'met-a-427' on 'ieu-b-18'\n",
      "\n"
     ]
    },
    {
     "name": "stdout",
     "output_type": "stream",
     "text": [
      "[1] \"#####NEW RUN#####\"\n",
      "EXPOSURE:  met-a-427  LABEL:  2-hydroxyisobutyrateOUTCOME:  ieu-b-18  LABEL:  NA"
     ]
    },
    {
     "name": "stderr",
     "output_type": "stream",
     "text": [
      "Saving 6.67 x 6.67 in image\n",
      "\n"
     ]
    },
    {
     "name": "stdout",
     "output_type": "stream",
     "text": [
      "[1] \"#################\"\n"
     ]
    },
    {
     "name": "stderr",
     "output_type": "stream",
     "text": [
      "Quitting.\n",
      "\n",
      "Extracting data for 3 SNP(s) from 1 GWAS(s)\n",
      "\n",
      "Harmonising 2-hydroxyisobutyrate || id:met-a-427 (met-a-427) and MS-disease / Multiple Sclerosis || id:finn-b-G6_MS (finn-b-G6_MS)\n",
      "\n",
      "Analysing 'met-a-427' on 'finn-b-G6_MS'\n",
      "\n"
     ]
    },
    {
     "name": "stdout",
     "output_type": "stream",
     "text": [
      "[1] \"#####NEW RUN#####\"\n",
      "EXPOSURE:  met-a-427  LABEL:  2-hydroxyisobutyrateOUTCOME:  finn-b-G6_MS  LABEL:  NA"
     ]
    },
    {
     "name": "stderr",
     "output_type": "stream",
     "text": [
      "Saving 6.67 x 6.67 in image\n",
      "\n"
     ]
    },
    {
     "name": "stdout",
     "output_type": "stream",
     "text": [
      "[1] \"#################\"\n"
     ]
    },
    {
     "name": "stderr",
     "output_type": "stream",
     "text": [
      "Quitting.\n",
      "\n",
      "Extracting data for 3 SNP(s) from 1 GWAS(s)\n",
      "\n",
      "Finding proxies for 1 SNPs in outcome ukb-b-17670\n",
      "\n",
      "Extracting data for 1 SNP(s) from 1 GWAS(s)\n",
      "\n",
      "Harmonising 2-hydroxyisobutyrate || id:met-a-427 (met-a-427) and Non-cancer illness code, self-reported: multiple sclerosis || id:ukb-b-17670 (ukb-b-17670)\n",
      "\n",
      "Analysing 'met-a-427' on 'ukb-b-17670'\n",
      "\n"
     ]
    },
    {
     "name": "stdout",
     "output_type": "stream",
     "text": [
      "[1] \"#####NEW RUN#####\"\n",
      "EXPOSURE:  met-a-427  LABEL:  2-hydroxyisobutyrateOUTCOME:  ukb-b-17670  LABEL:  NA"
     ]
    },
    {
     "name": "stderr",
     "output_type": "stream",
     "text": [
      "Saving 6.67 x 6.67 in image\n",
      "\n"
     ]
    },
    {
     "name": "stdout",
     "output_type": "stream",
     "text": [
      "[1] \"#################\"\n"
     ]
    },
    {
     "name": "stderr",
     "output_type": "stream",
     "text": [
      "Quitting.\n",
      "\n",
      "Extracting data for 7 SNP(s) from 1 GWAS(s)\n",
      "\n",
      "Finding proxies for 2 SNPs in outcome ieu-b-18\n",
      "\n",
      "Extracting data for 2 SNP(s) from 1 GWAS(s)\n",
      "\n",
      "Harmonising Acetoacetate || id:met-d-Acetoacetate (met-d-Acetoacetate) and multiple sclerosis || id:ieu-b-18 (ieu-b-18)\n",
      "\n",
      "Removing the following SNPs for being palindromic with intermediate allele frequencies:\n",
      "rs11745373, rs910502, rs964184\n",
      "\n",
      "Analysing 'met-d-Acetoacetate' on 'ieu-b-18'\n",
      "\n"
     ]
    },
    {
     "name": "stdout",
     "output_type": "stream",
     "text": [
      "[1] \"#####NEW RUN#####\"\n",
      "EXPOSURE:  met-d-Acetoacetate  LABEL:  AcetoacetateOUTCOME:  ieu-b-18  LABEL:  NA"
     ]
    },
    {
     "name": "stderr",
     "output_type": "stream",
     "text": [
      "Saving 6.67 x 6.67 in image\n",
      "\n"
     ]
    },
    {
     "name": "stdout",
     "output_type": "stream",
     "text": [
      "[1] \"#################\"\n"
     ]
    },
    {
     "name": "stderr",
     "output_type": "stream",
     "text": [
      "Quitting.\n",
      "\n",
      "Extracting data for 7 SNP(s) from 1 GWAS(s)\n",
      "\n",
      "Harmonising Acetoacetate || id:met-d-Acetoacetate (met-d-Acetoacetate) and MS-disease / Multiple Sclerosis || id:finn-b-G6_MS (finn-b-G6_MS)\n",
      "\n",
      "Analysing 'met-d-Acetoacetate' on 'finn-b-G6_MS'\n",
      "\n"
     ]
    },
    {
     "name": "stdout",
     "output_type": "stream",
     "text": [
      "[1] \"#####NEW RUN#####\"\n",
      "EXPOSURE:  met-d-Acetoacetate  LABEL:  AcetoacetateOUTCOME:  finn-b-G6_MS  LABEL:  NA"
     ]
    },
    {
     "name": "stderr",
     "output_type": "stream",
     "text": [
      "Saving 6.67 x 6.67 in image\n",
      "\n"
     ]
    },
    {
     "name": "stdout",
     "output_type": "stream",
     "text": [
      "[1] \"#################\"\n"
     ]
    },
    {
     "name": "stderr",
     "output_type": "stream",
     "text": [
      "Quitting.\n",
      "\n",
      "Extracting data for 7 SNP(s) from 1 GWAS(s)\n",
      "\n",
      "Finding proxies for 5 SNPs in outcome ukb-b-17670\n",
      "\n",
      "Extracting data for 5 SNP(s) from 1 GWAS(s)\n",
      "\n",
      "Harmonising Acetoacetate || id:met-d-Acetoacetate (met-d-Acetoacetate) and Non-cancer illness code, self-reported: multiple sclerosis || id:ukb-b-17670 (ukb-b-17670)\n",
      "\n",
      "Analysing 'met-d-Acetoacetate' on 'ukb-b-17670'\n",
      "\n"
     ]
    },
    {
     "name": "stdout",
     "output_type": "stream",
     "text": [
      "[1] \"#####NEW RUN#####\"\n",
      "EXPOSURE:  met-d-Acetoacetate  LABEL:  AcetoacetateOUTCOME:  ukb-b-17670  LABEL:  NA"
     ]
    },
    {
     "name": "stderr",
     "output_type": "stream",
     "text": [
      "Saving 6.67 x 6.67 in image\n",
      "\n"
     ]
    },
    {
     "name": "stdout",
     "output_type": "stream",
     "text": [
      "[1] \"#################\"\n"
     ]
    },
    {
     "name": "stderr",
     "output_type": "stream",
     "text": [
      "Quitting.\n",
      "\n",
      "Extracting data for 2 SNP(s) from 1 GWAS(s)\n",
      "\n",
      "Harmonising Acetoacetate || id:met-c-838 (met-c-838) and multiple sclerosis || id:ieu-b-18 (ieu-b-18)\n",
      "\n",
      "Removing the following SNPs for being palindromic with intermediate allele frequencies:\n",
      "rs964184\n",
      "\n",
      "Analysing 'met-c-838' on 'ieu-b-18'\n",
      "\n"
     ]
    },
    {
     "name": "stdout",
     "output_type": "stream",
     "text": [
      "[1] \"#####NEW RUN#####\"\n",
      "EXPOSURE:  met-c-838  LABEL:  AcetoacetateOUTCOME:  ieu-b-18  LABEL:  NA"
     ]
    },
    {
     "name": "stderr",
     "output_type": "stream",
     "text": [
      "Saving 6.67 x 6.67 in image\n",
      "\n"
     ]
    },
    {
     "name": "stdout",
     "output_type": "stream",
     "text": [
      "[1] \"#################\"\n"
     ]
    },
    {
     "name": "stderr",
     "output_type": "stream",
     "text": [
      "Quitting.\n",
      "\n",
      "Extracting data for 2 SNP(s) from 1 GWAS(s)\n",
      "\n",
      "Harmonising Acetoacetate || id:met-c-838 (met-c-838) and MS-disease / Multiple Sclerosis || id:finn-b-G6_MS (finn-b-G6_MS)\n",
      "\n",
      "Analysing 'met-c-838' on 'finn-b-G6_MS'\n",
      "\n"
     ]
    },
    {
     "name": "stdout",
     "output_type": "stream",
     "text": [
      "[1] \"#####NEW RUN#####\"\n",
      "EXPOSURE:  met-c-838  LABEL:  AcetoacetateOUTCOME:  finn-b-G6_MS  LABEL:  NA"
     ]
    },
    {
     "name": "stderr",
     "output_type": "stream",
     "text": [
      "Saving 6.67 x 6.67 in image\n",
      "\n"
     ]
    },
    {
     "name": "stdout",
     "output_type": "stream",
     "text": [
      "[1] \"#################\"\n"
     ]
    },
    {
     "name": "stderr",
     "output_type": "stream",
     "text": [
      "Quitting.\n",
      "\n",
      "Extracting data for 2 SNP(s) from 1 GWAS(s)\n",
      "\n",
      "Finding proxies for 2 SNPs in outcome ukb-b-17670\n",
      "\n",
      "Extracting data for 2 SNP(s) from 1 GWAS(s)\n",
      "\n",
      "Caught an error\n",
      "\n"
     ]
    },
    {
     "name": "stdout",
     "output_type": "stream",
     "text": [
      "<simpleError in check_required_columns(outcome_dat, \"outcome\"): The following required columns are missing from outcome: SNP, id.outcome, outcome, beta.outcome, se.outcome, effect_allele.outcome, other_allele.outcome>\n"
     ]
    },
    {
     "name": "stderr",
     "output_type": "stream",
     "text": [
      "Quitting.\n",
      "\n",
      "Extracting data for 9 SNP(s) from 1 GWAS(s)\n",
      "\n",
      "Finding proxies for 2 SNPs in outcome ieu-b-18\n",
      "\n",
      "Extracting data for 2 SNP(s) from 1 GWAS(s)\n",
      "\n",
      "Harmonising Acetate || id:met-d-Acetate (met-d-Acetate) and multiple sclerosis || id:ieu-b-18 (ieu-b-18)\n",
      "\n",
      "Removing the following SNPs for incompatible alleles:\n",
      "rs7272751\n",
      "\n",
      "Removing the following SNPs for being palindromic with intermediate allele frequencies:\n",
      "rs28601761, rs8123210\n",
      "\n",
      "Analysing 'met-d-Acetate' on 'ieu-b-18'\n",
      "\n"
     ]
    },
    {
     "name": "stdout",
     "output_type": "stream",
     "text": [
      "[1] \"#####NEW RUN#####\"\n",
      "EXPOSURE:  met-d-Acetate  LABEL:  AcetateOUTCOME:  ieu-b-18  LABEL:  NA"
     ]
    },
    {
     "name": "stderr",
     "output_type": "stream",
     "text": [
      "Saving 6.67 x 6.67 in image\n",
      "\n"
     ]
    },
    {
     "name": "stdout",
     "output_type": "stream",
     "text": [
      "[1] \"#################\"\n"
     ]
    },
    {
     "name": "stderr",
     "output_type": "stream",
     "text": [
      "Quitting.\n",
      "\n",
      "Extracting data for 9 SNP(s) from 1 GWAS(s)\n",
      "\n",
      "Harmonising Acetate || id:met-d-Acetate (met-d-Acetate) and MS-disease / Multiple Sclerosis || id:finn-b-G6_MS (finn-b-G6_MS)\n",
      "\n",
      "Removing the following SNPs for incompatible alleles:\n",
      "rs7272751\n",
      "\n",
      "Removing the following SNPs for being palindromic with intermediate allele frequencies:\n",
      "rs28601761\n",
      "\n",
      "Analysing 'met-d-Acetate' on 'finn-b-G6_MS'\n",
      "\n"
     ]
    },
    {
     "name": "stdout",
     "output_type": "stream",
     "text": [
      "[1] \"#####NEW RUN#####\"\n",
      "EXPOSURE:  met-d-Acetate  LABEL:  AcetateOUTCOME:  finn-b-G6_MS  LABEL:  NA"
     ]
    },
    {
     "name": "stderr",
     "output_type": "stream",
     "text": [
      "Saving 6.67 x 6.67 in image\n",
      "\n"
     ]
    },
    {
     "name": "stdout",
     "output_type": "stream",
     "text": [
      "[1] \"#################\"\n"
     ]
    },
    {
     "name": "stderr",
     "output_type": "stream",
     "text": [
      "Quitting.\n",
      "\n",
      "Extracting data for 9 SNP(s) from 1 GWAS(s)\n",
      "\n",
      "Finding proxies for 4 SNPs in outcome ukb-b-17670\n",
      "\n",
      "Extracting data for 4 SNP(s) from 1 GWAS(s)\n",
      "\n",
      "Harmonising Acetate || id:met-d-Acetate (met-d-Acetate) and Non-cancer illness code, self-reported: multiple sclerosis || id:ukb-b-17670 (ukb-b-17670)\n",
      "\n",
      "Removing the following SNPs for being palindromic with intermediate allele frequencies:\n",
      "rs28601761\n",
      "\n",
      "Analysing 'met-d-Acetate' on 'ukb-b-17670'\n",
      "\n"
     ]
    },
    {
     "name": "stdout",
     "output_type": "stream",
     "text": [
      "[1] \"#####NEW RUN#####\"\n",
      "EXPOSURE:  met-d-Acetate  LABEL:  AcetateOUTCOME:  ukb-b-17670  LABEL:  NA"
     ]
    },
    {
     "name": "stderr",
     "output_type": "stream",
     "text": [
      "Saving 6.67 x 6.67 in image\n",
      "\n"
     ]
    },
    {
     "name": "stdout",
     "output_type": "stream",
     "text": [
      "[1] \"#################\"\n"
     ]
    },
    {
     "name": "stderr",
     "output_type": "stream",
     "text": [
      "Quitting.\n",
      "\n",
      "Extracting data for 1 SNP(s) from 1 GWAS(s)\n",
      "\n",
      "Harmonising Acetate || id:met-c-839 (met-c-839) and multiple sclerosis || id:ieu-b-18 (ieu-b-18)\n",
      "\n",
      "Analysing 'met-c-839' on 'ieu-b-18'\n",
      "\n"
     ]
    },
    {
     "name": "stdout",
     "output_type": "stream",
     "text": [
      "[1] \"#####NEW RUN#####\"\n",
      "EXPOSURE:  met-c-839  LABEL:  AcetateOUTCOME:  ieu-b-18  LABEL:  NA"
     ]
    },
    {
     "name": "stderr",
     "output_type": "stream",
     "text": [
      "Saving 6.67 x 6.67 in image\n",
      "\n"
     ]
    },
    {
     "name": "stdout",
     "output_type": "stream",
     "text": [
      "[1] \"#################\"\n"
     ]
    },
    {
     "name": "stderr",
     "output_type": "stream",
     "text": [
      "Quitting.\n",
      "\n",
      "Extracting data for 1 SNP(s) from 1 GWAS(s)\n",
      "\n",
      "Finding proxies for 1 SNPs in outcome finn-b-G6_MS\n",
      "\n",
      "Extracting data for 1 SNP(s) from 1 GWAS(s)\n",
      "\n",
      "Caught an error\n",
      "\n"
     ]
    },
    {
     "name": "stdout",
     "output_type": "stream",
     "text": [
      "<simpleError in check_required_columns(outcome_dat, \"outcome\"): The following required columns are missing from outcome: SNP, id.outcome, outcome, beta.outcome, se.outcome, effect_allele.outcome, other_allele.outcome>\n"
     ]
    },
    {
     "name": "stderr",
     "output_type": "stream",
     "text": [
      "Quitting.\n",
      "\n",
      "Extracting data for 1 SNP(s) from 1 GWAS(s)\n",
      "\n",
      "Finding proxies for 1 SNPs in outcome ukb-b-17670\n",
      "\n",
      "Extracting data for 1 SNP(s) from 1 GWAS(s)\n",
      "\n",
      "Caught an error\n",
      "\n"
     ]
    },
    {
     "name": "stdout",
     "output_type": "stream",
     "text": [
      "<simpleError in check_required_columns(outcome_dat, \"outcome\"): The following required columns are missing from outcome: SNP, id.outcome, outcome, beta.outcome, se.outcome, effect_allele.outcome, other_allele.outcome>\n"
     ]
    },
    {
     "name": "stderr",
     "output_type": "stream",
     "text": [
      "Quitting.\n",
      "\n",
      "Extracting data for 2 SNP(s) from 1 GWAS(s)\n",
      "\n",
      "Harmonising Indoleacetate || id:met-a-446 (met-a-446) and multiple sclerosis || id:ieu-b-18 (ieu-b-18)\n",
      "\n",
      "Removing the following SNPs for being palindromic with intermediate allele frequencies:\n",
      "rs7809234\n",
      "\n",
      "Analysing 'met-a-446' on 'ieu-b-18'\n",
      "\n"
     ]
    },
    {
     "name": "stdout",
     "output_type": "stream",
     "text": [
      "[1] \"#####NEW RUN#####\"\n",
      "EXPOSURE:  met-a-446  LABEL:  IndoleacetateOUTCOME:  ieu-b-18  LABEL:  NA"
     ]
    },
    {
     "name": "stderr",
     "output_type": "stream",
     "text": [
      "Saving 6.67 x 6.67 in image\n",
      "\n"
     ]
    },
    {
     "name": "stdout",
     "output_type": "stream",
     "text": [
      "[1] \"#################\"\n"
     ]
    },
    {
     "name": "stderr",
     "output_type": "stream",
     "text": [
      "Quitting.\n",
      "\n",
      "Extracting data for 2 SNP(s) from 1 GWAS(s)\n",
      "\n",
      "Harmonising Indoleacetate || id:met-a-446 (met-a-446) and MS-disease / Multiple Sclerosis || id:finn-b-G6_MS (finn-b-G6_MS)\n",
      "\n",
      "Analysing 'met-a-446' on 'finn-b-G6_MS'\n",
      "\n"
     ]
    },
    {
     "name": "stdout",
     "output_type": "stream",
     "text": [
      "[1] \"#####NEW RUN#####\"\n",
      "EXPOSURE:  met-a-446  LABEL:  IndoleacetateOUTCOME:  finn-b-G6_MS  LABEL:  NA"
     ]
    },
    {
     "name": "stderr",
     "output_type": "stream",
     "text": [
      "Saving 6.67 x 6.67 in image\n",
      "\n"
     ]
    },
    {
     "name": "stdout",
     "output_type": "stream",
     "text": [
      "[1] \"#################\"\n"
     ]
    },
    {
     "name": "stderr",
     "output_type": "stream",
     "text": [
      "Quitting.\n",
      "\n",
      "Extracting data for 2 SNP(s) from 1 GWAS(s)\n",
      "\n",
      "Finding proxies for 2 SNPs in outcome ukb-b-17670\n",
      "\n",
      "Extracting data for 2 SNP(s) from 1 GWAS(s)\n",
      "\n",
      "Caught an error\n",
      "\n"
     ]
    },
    {
     "name": "stdout",
     "output_type": "stream",
     "text": [
      "<simpleError in check_required_columns(outcome_dat, \"outcome\"): The following required columns are missing from outcome: SNP, id.outcome, outcome, beta.outcome, se.outcome, effect_allele.outcome, other_allele.outcome>\n"
     ]
    },
    {
     "name": "stderr",
     "output_type": "stream",
     "text": [
      "Quitting.\n",
      "\n",
      "Extracting data for 0 SNP(s) from 1 GWAS(s)\n",
      "\n",
      "Caught an error\n",
      "\n"
     ]
    },
    {
     "name": "stdout",
     "output_type": "stream",
     "text": [
      "<simpleError in check_required_columns(exposure_dat, \"exposure\"): The following required columns are missing from exposure: SNP, id.exposure, exposure, beta.exposure, se.exposure, effect_allele.exposure, other_allele.exposure>\n"
     ]
    },
    {
     "name": "stderr",
     "output_type": "stream",
     "text": [
      "Quitting.\n",
      "\n",
      "Extracting data for 0 SNP(s) from 1 GWAS(s)\n",
      "\n",
      "Caught an error\n",
      "\n"
     ]
    },
    {
     "name": "stdout",
     "output_type": "stream",
     "text": [
      "<simpleError in check_required_columns(exposure_dat, \"exposure\"): The following required columns are missing from exposure: SNP, id.exposure, exposure, beta.exposure, se.exposure, effect_allele.exposure, other_allele.exposure>\n"
     ]
    },
    {
     "name": "stderr",
     "output_type": "stream",
     "text": [
      "Quitting.\n",
      "\n",
      "Extracting data for 0 SNP(s) from 1 GWAS(s)\n",
      "\n",
      "Caught an error\n",
      "\n"
     ]
    },
    {
     "name": "stdout",
     "output_type": "stream",
     "text": [
      "<simpleError in check_required_columns(exposure_dat, \"exposure\"): The following required columns are missing from exposure: SNP, id.exposure, exposure, beta.exposure, se.exposure, effect_allele.exposure, other_allele.exposure>\n"
     ]
    },
    {
     "name": "stderr",
     "output_type": "stream",
     "text": [
      "Quitting.\n",
      "\n"
     ]
    }
   ],
   "source": [
    "for (i in 1:length(exposures)) {\n",
    "  exposure_dat = extract_instruments(exposures[i])\n",
    "  for (j in 1:length(outcomes)) {\n",
    "    run_with_catching <- function(){\n",
    "        tryCatch(\n",
    "            expr = {\n",
    "                outcome_dat = extract_outcome_data(snps=exposure_dat$SNP, outcomes=outcomes[j])\n",
    "      \n",
    "                dat <- harmonise_data(exposure_dat, outcome_dat)\n",
    "\n",
    "                res <- mr(dat)\n",
    "                print(\"#####NEW RUN#####\")\n",
    "                exp = exposures[i]\n",
    "                out = outcomes[j]\n",
    "                cat(\"EXPOSURE: \", exp, \" LABEL: \", exposure_labels[i])\n",
    "                cat(\"OUTCOME: \", out, \" LABEL: \", outcome_labels[i])\n",
    "\n",
    "                reg_plot = mr_scatter_plot(res, dat)\n",
    "                base_path = \"./seventeen_nutritional_outcomes/\"\n",
    "                plot_path = paste(base_path, exp, \"_on_\", out, \".png\", sep=\"\")\n",
    "                ggsave(plot_path, plot=reg_plot[[1]], scale = 1,dpi = 300)\n",
    "\n",
    "                base_table_path = \"./seventeen_nutritional_outcomes_outputs/\"\n",
    "                \n",
    "                table_path = paste(base_table_path,  exp, \"_on_\", out, \".csv\", sep=\"\")\n",
    "                write.table(res, table_path, append = FALSE, sep = \",\", dec = \".\", row.names = TRUE, col.names = TRUE)\n",
    "                \n",
    "                print(\"#################\")\n",
    "                \n",
    "            },\n",
    "            error = function(e){\n",
    "                message('Caught an error')\n",
    "                print(e)\n",
    "            },\n",
    "            warning = function(w){\n",
    "                message('Caught an warning')\n",
    "                print(w)\n",
    "            },\n",
    "            finally = {\n",
    "                message('Quitting.')\n",
    "            }\n",
    "        )    \n",
    "    }\n",
    "      \n",
    "    run_with_catching()\n",
    "    }\n",
    "}"
   ]
  },
  {
   "cell_type": "code",
   "execution_count": 23,
   "id": "c6bad025",
   "metadata": {
    "scrolled": true
   },
   "outputs": [
    {
     "data": {
      "text/html": [
       "<table class=\"dataframe\">\n",
       "<caption>A data.frame: 6 × 10</caption>\n",
       "<thead>\n",
       "\t<tr><th scope=col>V1</th><th scope=col>V2</th><th scope=col>V3</th><th scope=col>V4</th><th scope=col>V5</th><th scope=col>V6</th><th scope=col>V7</th><th scope=col>V8</th><th scope=col>V9</th><th scope=col>V10</th></tr>\n",
       "\t<tr><th scope=col>&lt;chr&gt;</th><th scope=col>&lt;chr&gt;</th><th scope=col>&lt;chr&gt;</th><th scope=col>&lt;chr&gt;</th><th scope=col>&lt;chr&gt;</th><th scope=col>&lt;chr&gt;</th><th scope=col>&lt;chr&gt;</th><th scope=col>&lt;chr&gt;</th><th scope=col>&lt;chr&gt;</th><th scope=col>&lt;chr&gt;</th></tr>\n",
       "</thead>\n",
       "<tbody>\n",
       "\t<tr><td>index</td><td>id.exposure      </td><td>id.outcome </td><td>outcome                                                                     </td><td>exposure                                 </td><td>method                   </td><td>nsnp</td><td>b                   </td><td>se                 </td><td>pval             </td></tr>\n",
       "\t<tr><td>1    </td><td>met-d-bOHbutyrate</td><td>ukb-b-17670</td><td>Non-cancer illness code, self-reported: multiple sclerosis || id:ukb-b-17670</td><td>3-Hydroxybutyrate || id:met-d-bOHbutyrate</td><td>MR Egger                 </td><td>6   </td><td>0.0028718038948082  </td><td>0.00928675201113991</td><td>0.772579979739446</td></tr>\n",
       "\t<tr><td>2    </td><td>met-d-bOHbutyrate</td><td>ukb-b-17670</td><td>Non-cancer illness code, self-reported: multiple sclerosis || id:ukb-b-17670</td><td>3-Hydroxybutyrate || id:met-d-bOHbutyrate</td><td>Weighted median          </td><td>6   </td><td>0.000517023813537849</td><td>0.00200657872375796</td><td>0.79666595761721 </td></tr>\n",
       "\t<tr><td>3    </td><td>met-d-bOHbutyrate</td><td>ukb-b-17670</td><td>Non-cancer illness code, self-reported: multiple sclerosis || id:ukb-b-17670</td><td>3-Hydroxybutyrate || id:met-d-bOHbutyrate</td><td>Inverse variance weighted</td><td>6   </td><td>0.000302948141331174</td><td>0.00160954432409467</td><td>0.850704336835713</td></tr>\n",
       "\t<tr><td>4    </td><td>met-d-bOHbutyrate</td><td>ukb-b-17670</td><td>Non-cancer illness code, self-reported: multiple sclerosis || id:ukb-b-17670</td><td>3-Hydroxybutyrate || id:met-d-bOHbutyrate</td><td>Simple mode              </td><td>6   </td><td>0.00112638308353316 </td><td>0.00300382563495458</td><td>0.723052808948288</td></tr>\n",
       "\t<tr><td>5    </td><td>met-d-bOHbutyrate</td><td>ukb-b-17670</td><td>Non-cancer illness code, self-reported: multiple sclerosis || id:ukb-b-17670</td><td>3-Hydroxybutyrate || id:met-d-bOHbutyrate</td><td>Weighted mode            </td><td>6   </td><td>0.00139881846010347 </td><td>0.00304101225094221</td><td>0.664837463459179</td></tr>\n",
       "</tbody>\n",
       "</table>\n"
      ],
      "text/latex": [
       "A data.frame: 6 × 10\n",
       "\\begin{tabular}{llllllllll}\n",
       " V1 & V2 & V3 & V4 & V5 & V6 & V7 & V8 & V9 & V10\\\\\n",
       " <chr> & <chr> & <chr> & <chr> & <chr> & <chr> & <chr> & <chr> & <chr> & <chr>\\\\\n",
       "\\hline\n",
       "\t index & id.exposure       & id.outcome  & outcome                                                                      & exposure                                  & method                    & nsnp & b                    & se                  & pval             \\\\\n",
       "\t 1     & met-d-bOHbutyrate & ukb-b-17670 & Non-cancer illness code, self-reported: multiple sclerosis \\textbar{}\\textbar{} id:ukb-b-17670 & 3-Hydroxybutyrate \\textbar{}\\textbar{} id:met-d-bOHbutyrate & MR Egger                  & 6    & 0.0028718038948082   & 0.00928675201113991 & 0.772579979739446\\\\\n",
       "\t 2     & met-d-bOHbutyrate & ukb-b-17670 & Non-cancer illness code, self-reported: multiple sclerosis \\textbar{}\\textbar{} id:ukb-b-17670 & 3-Hydroxybutyrate \\textbar{}\\textbar{} id:met-d-bOHbutyrate & Weighted median           & 6    & 0.000517023813537849 & 0.00200657872375796 & 0.79666595761721 \\\\\n",
       "\t 3     & met-d-bOHbutyrate & ukb-b-17670 & Non-cancer illness code, self-reported: multiple sclerosis \\textbar{}\\textbar{} id:ukb-b-17670 & 3-Hydroxybutyrate \\textbar{}\\textbar{} id:met-d-bOHbutyrate & Inverse variance weighted & 6    & 0.000302948141331174 & 0.00160954432409467 & 0.850704336835713\\\\\n",
       "\t 4     & met-d-bOHbutyrate & ukb-b-17670 & Non-cancer illness code, self-reported: multiple sclerosis \\textbar{}\\textbar{} id:ukb-b-17670 & 3-Hydroxybutyrate \\textbar{}\\textbar{} id:met-d-bOHbutyrate & Simple mode               & 6    & 0.00112638308353316  & 0.00300382563495458 & 0.723052808948288\\\\\n",
       "\t 5     & met-d-bOHbutyrate & ukb-b-17670 & Non-cancer illness code, self-reported: multiple sclerosis \\textbar{}\\textbar{} id:ukb-b-17670 & 3-Hydroxybutyrate \\textbar{}\\textbar{} id:met-d-bOHbutyrate & Weighted mode             & 6    & 0.00139881846010347  & 0.00304101225094221 & 0.664837463459179\\\\\n",
       "\\end{tabular}\n"
      ],
      "text/markdown": [
       "\n",
       "A data.frame: 6 × 10\n",
       "\n",
       "| V1 &lt;chr&gt; | V2 &lt;chr&gt; | V3 &lt;chr&gt; | V4 &lt;chr&gt; | V5 &lt;chr&gt; | V6 &lt;chr&gt; | V7 &lt;chr&gt; | V8 &lt;chr&gt; | V9 &lt;chr&gt; | V10 &lt;chr&gt; |\n",
       "|---|---|---|---|---|---|---|---|---|---|\n",
       "| index | id.exposure       | id.outcome  | outcome                                                                      | exposure                                  | method                    | nsnp | b                    | se                  | pval              |\n",
       "| 1     | met-d-bOHbutyrate | ukb-b-17670 | Non-cancer illness code, self-reported: multiple sclerosis || id:ukb-b-17670 | 3-Hydroxybutyrate || id:met-d-bOHbutyrate | MR Egger                  | 6    | 0.0028718038948082   | 0.00928675201113991 | 0.772579979739446 |\n",
       "| 2     | met-d-bOHbutyrate | ukb-b-17670 | Non-cancer illness code, self-reported: multiple sclerosis || id:ukb-b-17670 | 3-Hydroxybutyrate || id:met-d-bOHbutyrate | Weighted median           | 6    | 0.000517023813537849 | 0.00200657872375796 | 0.79666595761721  |\n",
       "| 3     | met-d-bOHbutyrate | ukb-b-17670 | Non-cancer illness code, self-reported: multiple sclerosis || id:ukb-b-17670 | 3-Hydroxybutyrate || id:met-d-bOHbutyrate | Inverse variance weighted | 6    | 0.000302948141331174 | 0.00160954432409467 | 0.850704336835713 |\n",
       "| 4     | met-d-bOHbutyrate | ukb-b-17670 | Non-cancer illness code, self-reported: multiple sclerosis || id:ukb-b-17670 | 3-Hydroxybutyrate || id:met-d-bOHbutyrate | Simple mode               | 6    | 0.00112638308353316  | 0.00300382563495458 | 0.723052808948288 |\n",
       "| 5     | met-d-bOHbutyrate | ukb-b-17670 | Non-cancer illness code, self-reported: multiple sclerosis || id:ukb-b-17670 | 3-Hydroxybutyrate || id:met-d-bOHbutyrate | Weighted mode             | 6    | 0.00139881846010347  | 0.00304101225094221 | 0.664837463459179 |\n",
       "\n"
      ],
      "text/plain": [
       "  V1    V2                V3         \n",
       "1 index id.exposure       id.outcome \n",
       "2 1     met-d-bOHbutyrate ukb-b-17670\n",
       "3 2     met-d-bOHbutyrate ukb-b-17670\n",
       "4 3     met-d-bOHbutyrate ukb-b-17670\n",
       "5 4     met-d-bOHbutyrate ukb-b-17670\n",
       "6 5     met-d-bOHbutyrate ukb-b-17670\n",
       "  V4                                                                          \n",
       "1 outcome                                                                     \n",
       "2 Non-cancer illness code, self-reported: multiple sclerosis || id:ukb-b-17670\n",
       "3 Non-cancer illness code, self-reported: multiple sclerosis || id:ukb-b-17670\n",
       "4 Non-cancer illness code, self-reported: multiple sclerosis || id:ukb-b-17670\n",
       "5 Non-cancer illness code, self-reported: multiple sclerosis || id:ukb-b-17670\n",
       "6 Non-cancer illness code, self-reported: multiple sclerosis || id:ukb-b-17670\n",
       "  V5                                        V6                        V7  \n",
       "1 exposure                                  method                    nsnp\n",
       "2 3-Hydroxybutyrate || id:met-d-bOHbutyrate MR Egger                  6   \n",
       "3 3-Hydroxybutyrate || id:met-d-bOHbutyrate Weighted median           6   \n",
       "4 3-Hydroxybutyrate || id:met-d-bOHbutyrate Inverse variance weighted 6   \n",
       "5 3-Hydroxybutyrate || id:met-d-bOHbutyrate Simple mode               6   \n",
       "6 3-Hydroxybutyrate || id:met-d-bOHbutyrate Weighted mode             6   \n",
       "  V8                   V9                  V10              \n",
       "1 b                    se                  pval             \n",
       "2 0.0028718038948082   0.00928675201113991 0.772579979739446\n",
       "3 0.000517023813537849 0.00200657872375796 0.79666595761721 \n",
       "4 0.000302948141331174 0.00160954432409467 0.850704336835713\n",
       "5 0.00112638308353316  0.00300382563495458 0.723052808948288\n",
       "6 0.00139881846010347  0.00304101225094221 0.664837463459179"
      ]
     },
     "metadata": {},
     "output_type": "display_data"
    }
   ],
   "source": [
    "read.table(\"./seventeen_nutritional_outcomes_outputs/met-d-bOHbutyrate_on_ukb-b-17670.csv\", sep=\",\")"
   ]
  },
  {
   "cell_type": "markdown",
   "id": "aba0cdd4",
   "metadata": {},
   "source": [
    "## BACK UP INFORMATION / CODE BELOW"
   ]
  },
  {
   "cell_type": "code",
   "execution_count": 16,
   "id": "f1b52c38",
   "metadata": {},
   "outputs": [
    {
     "ename": "ERROR",
     "evalue": "Error in scan(file, what = \"\", sep = sep, quote = quote, nlines = 1, quiet = TRUE, : invalid 'sep' value: must be one byte\n",
     "output_type": "error",
     "traceback": [
      "Error in scan(file, what = \"\", sep = sep, quote = quote, nlines = 1, quiet = TRUE, : invalid 'sep' value: must be one byte\nTraceback:\n",
      "1. read.table(\"example_output.txt\", header = TRUE, sep = \"||\")",
      "2. scan(file, what = \"\", sep = sep, quote = quote, nlines = 1, quiet = TRUE, \n .     skip = 0, strip.white = TRUE, blank.lines.skip = blank.lines.skip, \n .     na.strings = character(0), comment.char = comment.char, allowEscapes = allowEscapes, \n .     encoding = encoding, skipNul = skipNul)"
     ]
    }
   ],
   "source": [
    "data <- read.table(\"example_output.txt\",  \n",
    "                    header = TRUE, sep = \"||\") \n",
    "    \n",
    "# Printing content of Text File \n",
    "print(data) "
   ]
  },
  {
   "cell_type": "code",
   "execution_count": 17,
   "id": "86681dd2",
   "metadata": {},
   "outputs": [
    {
     "name": "stdout",
     "output_type": "stream",
     "text": [
      "  id.exposure   id.outcome                                            outcome\n",
      "1   met-c-846 finn-b-G6_MS MS-disease / Multiple Sclerosis || id:finn-b-G6_MS\n",
      "                           exposure     method nsnp            b        se\n",
      "1 3-hydroxybutyrate || id:met-c-846 Wald ratio    1 -0.008822232 0.6594618\n",
      "       pval\n",
      "1 0.9893263\n"
     ]
    }
   ],
   "source": [
    "print(res)"
   ]
  },
  {
   "cell_type": "code",
   "execution_count": 18,
   "id": "998f00f3",
   "metadata": {},
   "outputs": [],
   "source": [
    "write.table(res, \"test_write.csv\", append = FALSE, sep = \",\", dec = \".\",\n",
    "            row.names = TRUE, col.names = TRUE)"
   ]
  },
  {
   "cell_type": "code",
   "execution_count": null,
   "id": "4037bd9e",
   "metadata": {},
   "outputs": [],
   "source": []
  }
 ],
 "metadata": {
  "kernelspec": {
   "display_name": "R",
   "language": "R",
   "name": "ir"
  },
  "language_info": {
   "codemirror_mode": "r",
   "file_extension": ".r",
   "mimetype": "text/x-r-source",
   "name": "R",
   "pygments_lexer": "r",
   "version": "4.1.2"
  }
 },
 "nbformat": 4,
 "nbformat_minor": 5
}
