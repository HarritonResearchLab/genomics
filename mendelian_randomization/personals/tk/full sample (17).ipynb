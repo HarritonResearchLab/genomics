{
 "cells": [
  {
   "cell_type": "code",
   "execution_count": 5,
   "id": "40a681c1",
   "metadata": {},
   "outputs": [
    {
     "name": "stderr",
     "output_type": "stream",
     "text": [
      "TwoSampleMR version 0.5.6 \n",
      "[>] New: Option to use non-European LD reference panels for clumping etc\n",
      "[>] Some studies temporarily quarantined to verify effect allele\n",
      "[>] See news(package='TwoSampleMR') and https://gwas.mrcieu.ac.uk for further details\n",
      "\n",
      "\n"
     ]
    }
   ],
   "source": [
    "library(TwoSampleMR)"
   ]
  },
  {
   "cell_type": "code",
   "execution_count": 6,
   "id": "4c70f1b5",
   "metadata": {},
   "outputs": [],
   "source": [
    "library(ggplot2)"
   ]
  },
  {
   "cell_type": "code",
   "execution_count": 7,
   "id": "84cf0b88",
   "metadata": {},
   "outputs": [],
   "source": [
    "exposures = scan(\"exposures.txt\", character(), quote = \"\")\n",
    "exposure_labels = scan(\"exposure_labels.txt\", character(), quote = \"\")\n",
    "\n",
    "outcomes = c(\"ieu-b-18\", \"finn-b-G6_MS\", \"ukb-b-17670\")\n",
    "outcome_labels = c(\"default-ms\", \"finish-ms\", \"uk-ms\")"
   ]
  },
  {
   "cell_type": "code",
   "execution_count": 13,
   "id": "a6284e46",
   "metadata": {},
   "outputs": [
    {
     "name": "stderr",
     "output_type": "stream",
     "text": [
      "Extracting data for 17 SNP(s) from 1 GWAS(s)\n",
      "\n",
      "Finding proxies for 4 SNPs in outcome ieu-b-18\n",
      "\n",
      "Extracting data for 4 SNP(s) from 1 GWAS(s)\n",
      "\n",
      "Harmonising 3-Hydroxybutyrate || id:met-d-bOHbutyrate (met-d-bOHbutyrate) and multiple sclerosis || id:ieu-b-18 (ieu-b-18)\n",
      "\n",
      "Removing the following SNPs for being palindromic with intermediate allele frequencies:\n",
      "rs10127775, rs12314700, rs2645433, rs964184\n",
      "\n",
      "Analysing 'met-d-bOHbutyrate' on 'ieu-b-18'\n",
      "\n"
     ]
    },
    {
     "name": "stdout",
     "output_type": "stream",
     "text": [
      "[1] \"#################\"\n",
      "[1] \"#################\"\n",
      "[1] \"#####NEW RUN#####\"\n",
      "EXPOSURE:  met-d-bOHbutyrate  LABEL:  3-HydroxybutyrateOUTCOME:  ieu-b-18  LABEL:  default-ms"
     ]
    },
    {
     "name": "stderr",
     "output_type": "stream",
     "text": [
      "Saving 6.67 x 6.67 in image\n",
      "\n"
     ]
    },
    {
     "name": "stdout",
     "output_type": "stream",
     "text": [
      "        id.exposure id.outcome                           outcome\n",
      "1 met-d-bOHbutyrate   ieu-b-18 multiple sclerosis || id:ieu-b-18\n",
      "2 met-d-bOHbutyrate   ieu-b-18 multiple sclerosis || id:ieu-b-18\n",
      "3 met-d-bOHbutyrate   ieu-b-18 multiple sclerosis || id:ieu-b-18\n",
      "4 met-d-bOHbutyrate   ieu-b-18 multiple sclerosis || id:ieu-b-18\n",
      "5 met-d-bOHbutyrate   ieu-b-18 multiple sclerosis || id:ieu-b-18\n",
      "                                   exposure                    method nsnp\n",
      "1 3-Hydroxybutyrate || id:met-d-bOHbutyrate                  MR Egger   11\n",
      "2 3-Hydroxybutyrate || id:met-d-bOHbutyrate           Weighted median   11\n",
      "3 3-Hydroxybutyrate || id:met-d-bOHbutyrate Inverse variance weighted   11\n",
      "4 3-Hydroxybutyrate || id:met-d-bOHbutyrate               Simple mode   11\n",
      "5 3-Hydroxybutyrate || id:met-d-bOHbutyrate             Weighted mode   11\n",
      "             b        se      pval\n",
      "1 -0.848953812 0.5139254 0.1329480\n",
      "2  0.005474046 0.2091536 0.9791198\n",
      "3 -0.124654100 0.2062740 0.5456355\n",
      "4  0.185586942 0.3605426 0.6179169\n",
      "5  0.176858344 0.3201148 0.5927501\n",
      "[1] \"#################\"\n",
      "[1] \"#################\"\n",
      "[1] \"#################\"\n"
     ]
    },
    {
     "name": "stderr",
     "output_type": "stream",
     "text": [
      "Quitting.\n",
      "\n",
      "Extracting data for 17 SNP(s) from 1 GWAS(s)\n",
      "\n",
      "Finding proxies for 1 SNPs in outcome finn-b-G6_MS\n",
      "\n",
      "Extracting data for 1 SNP(s) from 1 GWAS(s)\n",
      "\n",
      "Harmonising 3-Hydroxybutyrate || id:met-d-bOHbutyrate (met-d-bOHbutyrate) and MS-disease / Multiple Sclerosis || id:finn-b-G6_MS (finn-b-G6_MS)\n",
      "\n",
      "Removing the following SNPs for being palindromic with intermediate allele frequencies:\n",
      "rs10127775, rs2645433\n",
      "\n",
      "Analysing 'met-d-bOHbutyrate' on 'finn-b-G6_MS'\n",
      "\n"
     ]
    },
    {
     "name": "stdout",
     "output_type": "stream",
     "text": [
      "[1] \"#################\"\n",
      "[1] \"#################\"\n",
      "[1] \"#####NEW RUN#####\"\n",
      "EXPOSURE:  met-d-bOHbutyrate  LABEL:  3-HydroxybutyrateOUTCOME:  finn-b-G6_MS  LABEL:  default-ms"
     ]
    },
    {
     "name": "stderr",
     "output_type": "stream",
     "text": [
      "Saving 6.67 x 6.67 in image\n",
      "\n"
     ]
    },
    {
     "name": "stdout",
     "output_type": "stream",
     "text": [
      "        id.exposure   id.outcome\n",
      "1 met-d-bOHbutyrate finn-b-G6_MS\n",
      "2 met-d-bOHbutyrate finn-b-G6_MS\n",
      "3 met-d-bOHbutyrate finn-b-G6_MS\n",
      "4 met-d-bOHbutyrate finn-b-G6_MS\n",
      "5 met-d-bOHbutyrate finn-b-G6_MS\n",
      "                                             outcome\n",
      "1 MS-disease / Multiple Sclerosis || id:finn-b-G6_MS\n",
      "2 MS-disease / Multiple Sclerosis || id:finn-b-G6_MS\n",
      "3 MS-disease / Multiple Sclerosis || id:finn-b-G6_MS\n",
      "4 MS-disease / Multiple Sclerosis || id:finn-b-G6_MS\n",
      "5 MS-disease / Multiple Sclerosis || id:finn-b-G6_MS\n",
      "                                   exposure                    method nsnp\n",
      "1 3-Hydroxybutyrate || id:met-d-bOHbutyrate                  MR Egger   14\n",
      "2 3-Hydroxybutyrate || id:met-d-bOHbutyrate           Weighted median   14\n",
      "3 3-Hydroxybutyrate || id:met-d-bOHbutyrate Inverse variance weighted   14\n",
      "4 3-Hydroxybutyrate || id:met-d-bOHbutyrate               Simple mode   14\n",
      "5 3-Hydroxybutyrate || id:met-d-bOHbutyrate             Weighted mode   14\n",
      "            b        se      pval\n",
      "1 -1.48882996 0.9657129 0.1490963\n",
      "2 -0.28788637 0.4614010 0.5326672\n",
      "3  0.05506124 0.3503961 0.8751345\n",
      "4 -0.48499089 0.6825725 0.4899247\n",
      "5 -0.43972595 0.5663494 0.4513961\n",
      "[1] \"#################\"\n",
      "[1] \"#################\"\n",
      "[1] \"#################\"\n"
     ]
    },
    {
     "name": "stderr",
     "output_type": "stream",
     "text": [
      "Quitting.\n",
      "\n",
      "Extracting data for 17 SNP(s) from 1 GWAS(s)\n",
      "\n",
      "Finding proxies for 11 SNPs in outcome ukb-b-17670\n",
      "\n",
      "Extracting data for 11 SNP(s) from 1 GWAS(s)\n",
      "\n",
      "Harmonising 3-Hydroxybutyrate || id:met-d-bOHbutyrate (met-d-bOHbutyrate) and Non-cancer illness code, self-reported: multiple sclerosis || id:ukb-b-17670 (ukb-b-17670)\n",
      "\n",
      "Analysing 'met-d-bOHbutyrate' on 'ukb-b-17670'\n",
      "\n"
     ]
    },
    {
     "name": "stdout",
     "output_type": "stream",
     "text": [
      "[1] \"#################\"\n",
      "[1] \"#################\"\n",
      "[1] \"#####NEW RUN#####\"\n",
      "EXPOSURE:  met-d-bOHbutyrate  LABEL:  3-HydroxybutyrateOUTCOME:  ukb-b-17670  LABEL:  default-ms"
     ]
    },
    {
     "name": "stderr",
     "output_type": "stream",
     "text": [
      "Saving 6.67 x 6.67 in image\n",
      "\n"
     ]
    },
    {
     "name": "stdout",
     "output_type": "stream",
     "text": [
      "        id.exposure  id.outcome\n",
      "1 met-d-bOHbutyrate ukb-b-17670\n",
      "2 met-d-bOHbutyrate ukb-b-17670\n",
      "3 met-d-bOHbutyrate ukb-b-17670\n",
      "4 met-d-bOHbutyrate ukb-b-17670\n",
      "5 met-d-bOHbutyrate ukb-b-17670\n",
      "                                                                       outcome\n",
      "1 Non-cancer illness code, self-reported: multiple sclerosis || id:ukb-b-17670\n",
      "2 Non-cancer illness code, self-reported: multiple sclerosis || id:ukb-b-17670\n",
      "3 Non-cancer illness code, self-reported: multiple sclerosis || id:ukb-b-17670\n",
      "4 Non-cancer illness code, self-reported: multiple sclerosis || id:ukb-b-17670\n",
      "5 Non-cancer illness code, self-reported: multiple sclerosis || id:ukb-b-17670\n",
      "                                   exposure                    method nsnp\n",
      "1 3-Hydroxybutyrate || id:met-d-bOHbutyrate                  MR Egger    6\n",
      "2 3-Hydroxybutyrate || id:met-d-bOHbutyrate           Weighted median    6\n",
      "3 3-Hydroxybutyrate || id:met-d-bOHbutyrate Inverse variance weighted    6\n",
      "4 3-Hydroxybutyrate || id:met-d-bOHbutyrate               Simple mode    6\n",
      "5 3-Hydroxybutyrate || id:met-d-bOHbutyrate             Weighted mode    6\n",
      "             b          se      pval\n",
      "1 0.0028718039 0.009286752 0.7725800\n",
      "2 0.0005170238 0.002042069 0.8001242\n",
      "3 0.0003029481 0.001609544 0.8507043\n",
      "4 0.0011263831 0.003174423 0.7371922\n",
      "5 0.0013988185 0.002882951 0.6480436\n",
      "[1] \"#################\"\n",
      "[1] \"#################\"\n",
      "[1] \"#################\"\n"
     ]
    },
    {
     "name": "stderr",
     "output_type": "stream",
     "text": [
      "Quitting.\n",
      "\n",
      "Extracting data for 1 SNP(s) from 1 GWAS(s)\n",
      "\n",
      "Harmonising 3-hydroxybutyrate || id:met-c-846 (met-c-846) and multiple sclerosis || id:ieu-b-18 (ieu-b-18)\n",
      "\n",
      "Analysing 'met-c-846' on 'ieu-b-18'\n",
      "\n"
     ]
    },
    {
     "name": "stdout",
     "output_type": "stream",
     "text": [
      "[1] \"#################\"\n",
      "[1] \"#################\"\n",
      "[1] \"#####NEW RUN#####\"\n",
      "EXPOSURE:  met-c-846  LABEL:  3-HydroxybutyrateOUTCOME:  ieu-b-18  LABEL:  finish-ms"
     ]
    },
    {
     "name": "stderr",
     "output_type": "stream",
     "text": [
      "Saving 6.67 x 6.67 in image\n",
      "\n"
     ]
    },
    {
     "name": "stdout",
     "output_type": "stream",
     "text": [
      "  id.exposure id.outcome                           outcome\n",
      "1   met-c-846   ieu-b-18 multiple sclerosis || id:ieu-b-18\n",
      "                           exposure     method nsnp          b        se\n",
      "1 3-hydroxybutyrate || id:met-c-846 Wald ratio    1 -0.1745104 0.2446736\n",
      "       pval\n",
      "1 0.4756988\n",
      "[1] \"#################\"\n",
      "[1] \"#################\"\n",
      "[1] \"#################\"\n"
     ]
    },
    {
     "name": "stderr",
     "output_type": "stream",
     "text": [
      "Quitting.\n",
      "\n",
      "Extracting data for 1 SNP(s) from 1 GWAS(s)\n",
      "\n",
      "Harmonising 3-hydroxybutyrate || id:met-c-846 (met-c-846) and MS-disease / Multiple Sclerosis || id:finn-b-G6_MS (finn-b-G6_MS)\n",
      "\n",
      "Analysing 'met-c-846' on 'finn-b-G6_MS'\n",
      "\n"
     ]
    },
    {
     "name": "stdout",
     "output_type": "stream",
     "text": [
      "[1] \"#################\"\n",
      "[1] \"#################\"\n",
      "[1] \"#####NEW RUN#####\"\n",
      "EXPOSURE:  met-c-846  LABEL:  3-HydroxybutyrateOUTCOME:  finn-b-G6_MS  LABEL:  finish-ms"
     ]
    },
    {
     "name": "stderr",
     "output_type": "stream",
     "text": [
      "Saving 6.67 x 6.67 in image\n",
      "\n"
     ]
    },
    {
     "name": "stdout",
     "output_type": "stream",
     "text": [
      "  id.exposure   id.outcome                                            outcome\n",
      "1   met-c-846 finn-b-G6_MS MS-disease / Multiple Sclerosis || id:finn-b-G6_MS\n",
      "                           exposure     method nsnp            b        se\n",
      "1 3-hydroxybutyrate || id:met-c-846 Wald ratio    1 -0.008822232 0.6594618\n",
      "       pval\n",
      "1 0.9893263\n",
      "[1] \"#################\"\n",
      "[1] \"#################\"\n",
      "[1] \"#################\"\n"
     ]
    },
    {
     "name": "stderr",
     "output_type": "stream",
     "text": [
      "Quitting.\n",
      "\n",
      "Extracting data for 1 SNP(s) from 1 GWAS(s)\n",
      "\n",
      "Finding proxies for 1 SNPs in outcome ukb-b-17670\n",
      "\n",
      "Extracting data for 1 SNP(s) from 1 GWAS(s)\n",
      "\n",
      "Caught an error\n",
      "\n"
     ]
    },
    {
     "name": "stdout",
     "output_type": "stream",
     "text": [
      "<simpleError in check_required_columns(outcome_dat, \"outcome\"): The following required columns are missing from outcome: SNP, id.outcome, outcome, beta.outcome, se.outcome, effect_allele.outcome, other_allele.outcome>\n"
     ]
    },
    {
     "name": "stderr",
     "output_type": "stream",
     "text": [
      "Quitting.\n",
      "\n",
      "Extracting data for 0 SNP(s) from 1 GWAS(s)\n",
      "\n",
      "Caught an error\n",
      "\n"
     ]
    },
    {
     "name": "stdout",
     "output_type": "stream",
     "text": [
      "<simpleError in check_required_columns(exposure_dat, \"exposure\"): The following required columns are missing from exposure: SNP, id.exposure, exposure, beta.exposure, se.exposure, effect_allele.exposure, other_allele.exposure>\n"
     ]
    },
    {
     "name": "stderr",
     "output_type": "stream",
     "text": [
      "Quitting.\n",
      "\n",
      "Extracting data for 0 SNP(s) from 1 GWAS(s)\n",
      "\n",
      "Caught an error\n",
      "\n"
     ]
    },
    {
     "name": "stdout",
     "output_type": "stream",
     "text": [
      "<simpleError in check_required_columns(exposure_dat, \"exposure\"): The following required columns are missing from exposure: SNP, id.exposure, exposure, beta.exposure, se.exposure, effect_allele.exposure, other_allele.exposure>\n"
     ]
    },
    {
     "name": "stderr",
     "output_type": "stream",
     "text": [
      "Quitting.\n",
      "\n",
      "Extracting data for 0 SNP(s) from 1 GWAS(s)\n",
      "\n",
      "Caught an error\n",
      "\n"
     ]
    },
    {
     "name": "stdout",
     "output_type": "stream",
     "text": [
      "<simpleError in check_required_columns(exposure_dat, \"exposure\"): The following required columns are missing from exposure: SNP, id.exposure, exposure, beta.exposure, se.exposure, effect_allele.exposure, other_allele.exposure>\n"
     ]
    },
    {
     "name": "stderr",
     "output_type": "stream",
     "text": [
      "Quitting.\n",
      "\n",
      "Extracting data for 0 SNP(s) from 1 GWAS(s)\n",
      "\n",
      "Caught an error\n",
      "\n"
     ]
    },
    {
     "name": "stdout",
     "output_type": "stream",
     "text": [
      "<simpleError in check_required_columns(exposure_dat, \"exposure\"): The following required columns are missing from exposure: SNP, id.exposure, exposure, beta.exposure, se.exposure, effect_allele.exposure, other_allele.exposure>\n"
     ]
    },
    {
     "name": "stderr",
     "output_type": "stream",
     "text": [
      "Quitting.\n",
      "\n",
      "Extracting data for 0 SNP(s) from 1 GWAS(s)\n",
      "\n",
      "Caught an error\n",
      "\n"
     ]
    },
    {
     "name": "stdout",
     "output_type": "stream",
     "text": [
      "<simpleError in check_required_columns(exposure_dat, \"exposure\"): The following required columns are missing from exposure: SNP, id.exposure, exposure, beta.exposure, se.exposure, effect_allele.exposure, other_allele.exposure>\n"
     ]
    },
    {
     "name": "stderr",
     "output_type": "stream",
     "text": [
      "Quitting.\n",
      "\n",
      "Extracting data for 0 SNP(s) from 1 GWAS(s)\n",
      "\n",
      "Caught an error\n",
      "\n"
     ]
    },
    {
     "name": "stdout",
     "output_type": "stream",
     "text": [
      "<simpleError in check_required_columns(exposure_dat, \"exposure\"): The following required columns are missing from exposure: SNP, id.exposure, exposure, beta.exposure, se.exposure, effect_allele.exposure, other_allele.exposure>\n"
     ]
    },
    {
     "name": "stderr",
     "output_type": "stream",
     "text": [
      "Quitting.\n",
      "\n",
      "Extracting data for 2 SNP(s) from 1 GWAS(s)\n",
      "\n",
      "Harmonising 2-aminobutyrate || id:met-a-471 (met-a-471) and multiple sclerosis || id:ieu-b-18 (ieu-b-18)\n",
      "\n",
      "Analysing 'met-a-471' on 'ieu-b-18'\n",
      "\n"
     ]
    },
    {
     "name": "stdout",
     "output_type": "stream",
     "text": [
      "[1] \"#################\"\n",
      "[1] \"#################\"\n",
      "[1] \"#####NEW RUN#####\"\n",
      "EXPOSURE:  met-a-471  LABEL:  2-aminobutyrateOUTCOME:  ieu-b-18  LABEL:  NA"
     ]
    },
    {
     "name": "stderr",
     "output_type": "stream",
     "text": [
      "Saving 6.67 x 6.67 in image\n",
      "\n"
     ]
    },
    {
     "name": "stdout",
     "output_type": "stream",
     "text": [
      "  id.exposure id.outcome                           outcome\n",
      "1   met-a-471   ieu-b-18 multiple sclerosis || id:ieu-b-18\n",
      "                         exposure                    method nsnp          b\n",
      "1 2-aminobutyrate || id:met-a-471 Inverse variance weighted    2 -0.1661863\n",
      "        se      pval\n",
      "1 1.153513 0.8854454\n",
      "[1] \"#################\"\n",
      "[1] \"#################\"\n",
      "[1] \"#################\"\n"
     ]
    },
    {
     "name": "stderr",
     "output_type": "stream",
     "text": [
      "Quitting.\n",
      "\n",
      "Extracting data for 2 SNP(s) from 1 GWAS(s)\n",
      "\n",
      "Harmonising 2-aminobutyrate || id:met-a-471 (met-a-471) and MS-disease / Multiple Sclerosis || id:finn-b-G6_MS (finn-b-G6_MS)\n",
      "\n",
      "Analysing 'met-a-471' on 'finn-b-G6_MS'\n",
      "\n"
     ]
    },
    {
     "name": "stdout",
     "output_type": "stream",
     "text": [
      "[1] \"#################\"\n",
      "[1] \"#################\"\n",
      "[1] \"#####NEW RUN#####\"\n",
      "EXPOSURE:  met-a-471  LABEL:  2-aminobutyrateOUTCOME:  finn-b-G6_MS  LABEL:  NA"
     ]
    },
    {
     "name": "stderr",
     "output_type": "stream",
     "text": [
      "Saving 6.67 x 6.67 in image\n",
      "\n"
     ]
    },
    {
     "name": "stdout",
     "output_type": "stream",
     "text": [
      "  id.exposure   id.outcome                                            outcome\n",
      "1   met-a-471 finn-b-G6_MS MS-disease / Multiple Sclerosis || id:finn-b-G6_MS\n",
      "                         exposure                    method nsnp         b\n",
      "1 2-aminobutyrate || id:met-a-471 Inverse variance weighted    2 0.4407965\n",
      "        se      pval\n",
      "1 2.056665 0.8302929\n",
      "[1] \"#################\"\n",
      "[1] \"#################\"\n",
      "[1] \"#################\"\n"
     ]
    },
    {
     "name": "stderr",
     "output_type": "stream",
     "text": [
      "Quitting.\n",
      "\n",
      "Extracting data for 2 SNP(s) from 1 GWAS(s)\n",
      "\n",
      "Harmonising 2-aminobutyrate || id:met-a-471 (met-a-471) and Non-cancer illness code, self-reported: multiple sclerosis || id:ukb-b-17670 (ukb-b-17670)\n",
      "\n",
      "Analysing 'met-a-471' on 'ukb-b-17670'\n",
      "\n"
     ]
    },
    {
     "name": "stdout",
     "output_type": "stream",
     "text": [
      "[1] \"#################\"\n",
      "[1] \"#################\"\n",
      "[1] \"#####NEW RUN#####\"\n",
      "EXPOSURE:  met-a-471  LABEL:  2-aminobutyrateOUTCOME:  ukb-b-17670  LABEL:  NA"
     ]
    },
    {
     "name": "stderr",
     "output_type": "stream",
     "text": [
      "Saving 6.67 x 6.67 in image\n",
      "\n"
     ]
    },
    {
     "name": "stdout",
     "output_type": "stream",
     "text": [
      "  id.exposure  id.outcome\n",
      "1   met-a-471 ukb-b-17670\n",
      "                                                                       outcome\n",
      "1 Non-cancer illness code, self-reported: multiple sclerosis || id:ukb-b-17670\n",
      "                         exposure                    method nsnp           b\n",
      "1 2-aminobutyrate || id:met-a-471 Inverse variance weighted    2 0.002566839\n",
      "           se      pval\n",
      "1 0.008179788 0.7536709\n",
      "[1] \"#################\"\n",
      "[1] \"#################\"\n",
      "[1] \"#################\"\n"
     ]
    },
    {
     "name": "stderr",
     "output_type": "stream",
     "text": [
      "Quitting.\n",
      "\n",
      "Extracting data for 1 SNP(s) from 1 GWAS(s)\n",
      "\n",
      "Harmonising 3-methyl-2-oxobutyrate || id:met-a-421 (met-a-421) and multiple sclerosis || id:ieu-b-18 (ieu-b-18)\n",
      "\n",
      "Analysing 'met-a-421' on 'ieu-b-18'\n",
      "\n"
     ]
    },
    {
     "name": "stdout",
     "output_type": "stream",
     "text": [
      "[1] \"#################\"\n",
      "[1] \"#################\"\n",
      "[1] \"#####NEW RUN#####\"\n",
      "EXPOSURE:  met-a-421  LABEL:  3-methyl-2-oxobutyrateOUTCOME:  ieu-b-18  LABEL:  NA"
     ]
    },
    {
     "name": "stderr",
     "output_type": "stream",
     "text": [
      "Saving 6.67 x 6.67 in image\n",
      "\n"
     ]
    },
    {
     "name": "stdout",
     "output_type": "stream",
     "text": [
      "  id.exposure id.outcome                           outcome\n",
      "1   met-a-421   ieu-b-18 multiple sclerosis || id:ieu-b-18\n",
      "                                exposure     method nsnp        b       se\n",
      "1 3-methyl-2-oxobutyrate || id:met-a-421 Wald ratio    1 1.518631 1.348508\n",
      "       pval\n",
      "1 0.2600993\n",
      "[1] \"#################\"\n",
      "[1] \"#################\"\n",
      "[1] \"#################\"\n"
     ]
    },
    {
     "name": "stderr",
     "output_type": "stream",
     "text": [
      "Quitting.\n",
      "\n",
      "Extracting data for 1 SNP(s) from 1 GWAS(s)\n",
      "\n",
      "Harmonising 3-methyl-2-oxobutyrate || id:met-a-421 (met-a-421) and MS-disease / Multiple Sclerosis || id:finn-b-G6_MS (finn-b-G6_MS)\n",
      "\n",
      "Analysing 'met-a-421' on 'finn-b-G6_MS'\n",
      "\n"
     ]
    },
    {
     "name": "stdout",
     "output_type": "stream",
     "text": [
      "[1] \"#################\"\n",
      "[1] \"#################\"\n",
      "[1] \"#####NEW RUN#####\"\n",
      "EXPOSURE:  met-a-421  LABEL:  3-methyl-2-oxobutyrateOUTCOME:  finn-b-G6_MS  LABEL:  NA"
     ]
    },
    {
     "name": "stderr",
     "output_type": "stream",
     "text": [
      "Saving 6.67 x 6.67 in image\n",
      "\n"
     ]
    },
    {
     "name": "stdout",
     "output_type": "stream",
     "text": [
      "  id.exposure   id.outcome                                            outcome\n",
      "1   met-a-421 finn-b-G6_MS MS-disease / Multiple Sclerosis || id:finn-b-G6_MS\n",
      "                                exposure     method nsnp        b       se\n",
      "1 3-methyl-2-oxobutyrate || id:met-a-421 Wald ratio    1 1.688525 3.745902\n",
      "       pval\n",
      "1 0.6521583\n",
      "[1] \"#################\"\n",
      "[1] \"#################\"\n",
      "[1] \"#################\"\n"
     ]
    },
    {
     "name": "stderr",
     "output_type": "stream",
     "text": [
      "Quitting.\n",
      "\n",
      "Extracting data for 1 SNP(s) from 1 GWAS(s)\n",
      "\n",
      "Harmonising 3-methyl-2-oxobutyrate || id:met-a-421 (met-a-421) and Non-cancer illness code, self-reported: multiple sclerosis || id:ukb-b-17670 (ukb-b-17670)\n",
      "\n",
      "Analysing 'met-a-421' on 'ukb-b-17670'\n",
      "\n"
     ]
    },
    {
     "name": "stdout",
     "output_type": "stream",
     "text": [
      "[1] \"#################\"\n",
      "[1] \"#################\"\n",
      "[1] \"#####NEW RUN#####\"\n",
      "EXPOSURE:  met-a-421  LABEL:  3-methyl-2-oxobutyrateOUTCOME:  ukb-b-17670  LABEL:  NA"
     ]
    },
    {
     "name": "stderr",
     "output_type": "stream",
     "text": [
      "Saving 6.67 x 6.67 in image\n",
      "\n"
     ]
    },
    {
     "name": "stdout",
     "output_type": "stream",
     "text": [
      "  id.exposure  id.outcome\n",
      "1   met-a-421 ukb-b-17670\n",
      "                                                                       outcome\n",
      "1 Non-cancer illness code, self-reported: multiple sclerosis || id:ukb-b-17670\n",
      "                                exposure     method nsnp           b         se\n",
      "1 3-methyl-2-oxobutyrate || id:met-a-421 Wald ratio    1 0.005115885 0.01026131\n",
      "      pval\n",
      "1 0.618089\n",
      "[1] \"#################\"\n",
      "[1] \"#################\"\n",
      "[1] \"#################\"\n"
     ]
    },
    {
     "name": "stderr",
     "output_type": "stream",
     "text": [
      "Quitting.\n",
      "\n",
      "Extracting data for 1 SNP(s) from 1 GWAS(s)\n",
      "\n",
      "Harmonising X-04499--3,4-dihydroxybutyrate || id:met-a-393 (met-a-393) and multiple sclerosis || id:ieu-b-18 (ieu-b-18)\n",
      "\n",
      "Analysing 'met-a-393' on 'ieu-b-18'\n",
      "\n"
     ]
    },
    {
     "name": "stdout",
     "output_type": "stream",
     "text": [
      "[1] \"#################\"\n",
      "[1] \"#################\"\n",
      "[1] \"#####NEW RUN#####\"\n",
      "EXPOSURE:  met-a-393  LABEL:  3,4-dihydroxybutyrateOUTCOME:  ieu-b-18  LABEL:  NA"
     ]
    },
    {
     "name": "stderr",
     "output_type": "stream",
     "text": [
      "Saving 6.67 x 6.67 in image\n",
      "\n"
     ]
    },
    {
     "name": "stdout",
     "output_type": "stream",
     "text": [
      "  id.exposure id.outcome                           outcome\n",
      "1   met-a-393   ieu-b-18 multiple sclerosis || id:ieu-b-18\n",
      "                                        exposure     method nsnp         b\n",
      "1 X-04499--3,4-dihydroxybutyrate || id:met-a-393 Wald ratio    1 -1.748579\n",
      "        se       pval\n",
      "1 0.949267 0.06547062\n",
      "[1] \"#################\"\n",
      "[1] \"#################\"\n",
      "[1] \"#################\"\n"
     ]
    },
    {
     "name": "stderr",
     "output_type": "stream",
     "text": [
      "Quitting.\n",
      "\n",
      "Extracting data for 1 SNP(s) from 1 GWAS(s)\n",
      "\n",
      "Harmonising X-04499--3,4-dihydroxybutyrate || id:met-a-393 (met-a-393) and MS-disease / Multiple Sclerosis || id:finn-b-G6_MS (finn-b-G6_MS)\n",
      "\n",
      "Analysing 'met-a-393' on 'finn-b-G6_MS'\n",
      "\n"
     ]
    },
    {
     "name": "stdout",
     "output_type": "stream",
     "text": [
      "[1] \"#################\"\n",
      "[1] \"#################\"\n",
      "[1] \"#####NEW RUN#####\"\n",
      "EXPOSURE:  met-a-393  LABEL:  3,4-dihydroxybutyrateOUTCOME:  finn-b-G6_MS  LABEL:  NA"
     ]
    },
    {
     "name": "stderr",
     "output_type": "stream",
     "text": [
      "Saving 6.67 x 6.67 in image\n",
      "\n"
     ]
    },
    {
     "name": "stdout",
     "output_type": "stream",
     "text": [
      "  id.exposure   id.outcome                                            outcome\n",
      "1   met-a-393 finn-b-G6_MS MS-disease / Multiple Sclerosis || id:finn-b-G6_MS\n",
      "                                        exposure     method nsnp        b\n",
      "1 X-04499--3,4-dihydroxybutyrate || id:met-a-393 Wald ratio    1 1.723982\n",
      "        se      pval\n",
      "1 2.733032 0.5281748\n",
      "[1] \"#################\"\n",
      "[1] \"#################\"\n",
      "[1] \"#################\"\n"
     ]
    },
    {
     "name": "stderr",
     "output_type": "stream",
     "text": [
      "Quitting.\n",
      "\n",
      "Extracting data for 1 SNP(s) from 1 GWAS(s)\n",
      "\n",
      "Finding proxies for 1 SNPs in outcome ukb-b-17670\n",
      "\n",
      "Extracting data for 1 SNP(s) from 1 GWAS(s)\n",
      "\n",
      "Caught an error\n",
      "\n"
     ]
    },
    {
     "name": "stdout",
     "output_type": "stream",
     "text": [
      "<simpleError in check_required_columns(outcome_dat, \"outcome\"): The following required columns are missing from outcome: SNP, id.outcome, outcome, beta.outcome, se.outcome, effect_allele.outcome, other_allele.outcome>\n"
     ]
    },
    {
     "name": "stderr",
     "output_type": "stream",
     "text": [
      "Quitting.\n",
      "\n",
      "Extracting data for 3 SNP(s) from 1 GWAS(s)\n",
      "\n",
      "Harmonising 2-hydroxyisobutyrate || id:met-a-427 (met-a-427) and multiple sclerosis || id:ieu-b-18 (ieu-b-18)\n",
      "\n",
      "Analysing 'met-a-427' on 'ieu-b-18'\n",
      "\n"
     ]
    },
    {
     "name": "stdout",
     "output_type": "stream",
     "text": [
      "[1] \"#################\"\n",
      "[1] \"#################\"\n",
      "[1] \"#####NEW RUN#####\"\n",
      "EXPOSURE:  met-a-427  LABEL:  2-hydroxyisobutyrateOUTCOME:  ieu-b-18  LABEL:  NA"
     ]
    },
    {
     "name": "stderr",
     "output_type": "stream",
     "text": [
      "Saving 6.67 x 6.67 in image\n",
      "\n"
     ]
    },
    {
     "name": "stdout",
     "output_type": "stream",
     "text": [
      "  id.exposure id.outcome                           outcome\n",
      "1   met-a-427   ieu-b-18 multiple sclerosis || id:ieu-b-18\n",
      "2   met-a-427   ieu-b-18 multiple sclerosis || id:ieu-b-18\n",
      "3   met-a-427   ieu-b-18 multiple sclerosis || id:ieu-b-18\n",
      "4   met-a-427   ieu-b-18 multiple sclerosis || id:ieu-b-18\n",
      "5   met-a-427   ieu-b-18 multiple sclerosis || id:ieu-b-18\n",
      "                              exposure                    method nsnp\n",
      "1 2-hydroxyisobutyrate || id:met-a-427                  MR Egger    3\n",
      "2 2-hydroxyisobutyrate || id:met-a-427           Weighted median    3\n",
      "3 2-hydroxyisobutyrate || id:met-a-427 Inverse variance weighted    3\n",
      "4 2-hydroxyisobutyrate || id:met-a-427               Simple mode    3\n",
      "5 2-hydroxyisobutyrate || id:met-a-427             Weighted mode    3\n",
      "            b        se      pval\n",
      "1 -0.29449065 2.8915930 0.9353870\n",
      "2  0.11094100 0.6436969 0.8631626\n",
      "3  0.36779444 0.8518112 0.6659018\n",
      "4 -0.31264218 0.8349852 0.7440578\n",
      "5 -0.01122388 0.6986933 0.9886417\n",
      "[1] \"#################\"\n",
      "[1] \"#################\"\n",
      "[1] \"#################\"\n"
     ]
    },
    {
     "name": "stderr",
     "output_type": "stream",
     "text": [
      "Quitting.\n",
      "\n",
      "Extracting data for 3 SNP(s) from 1 GWAS(s)\n",
      "\n",
      "Harmonising 2-hydroxyisobutyrate || id:met-a-427 (met-a-427) and MS-disease / Multiple Sclerosis || id:finn-b-G6_MS (finn-b-G6_MS)\n",
      "\n",
      "Analysing 'met-a-427' on 'finn-b-G6_MS'\n",
      "\n"
     ]
    },
    {
     "name": "stdout",
     "output_type": "stream",
     "text": [
      "[1] \"#################\"\n",
      "[1] \"#################\"\n",
      "[1] \"#####NEW RUN#####\"\n",
      "EXPOSURE:  met-a-427  LABEL:  2-hydroxyisobutyrateOUTCOME:  finn-b-G6_MS  LABEL:  NA"
     ]
    },
    {
     "name": "stderr",
     "output_type": "stream",
     "text": [
      "Saving 6.67 x 6.67 in image\n",
      "\n"
     ]
    },
    {
     "name": "stdout",
     "output_type": "stream",
     "text": [
      "  id.exposure   id.outcome                                            outcome\n",
      "1   met-a-427 finn-b-G6_MS MS-disease / Multiple Sclerosis || id:finn-b-G6_MS\n",
      "2   met-a-427 finn-b-G6_MS MS-disease / Multiple Sclerosis || id:finn-b-G6_MS\n",
      "3   met-a-427 finn-b-G6_MS MS-disease / Multiple Sclerosis || id:finn-b-G6_MS\n",
      "4   met-a-427 finn-b-G6_MS MS-disease / Multiple Sclerosis || id:finn-b-G6_MS\n",
      "5   met-a-427 finn-b-G6_MS MS-disease / Multiple Sclerosis || id:finn-b-G6_MS\n",
      "                              exposure                    method nsnp         b\n",
      "1 2-hydroxyisobutyrate || id:met-a-427                  MR Egger    3 -3.438496\n",
      "2 2-hydroxyisobutyrate || id:met-a-427           Weighted median    3 -2.320968\n",
      "3 2-hydroxyisobutyrate || id:met-a-427 Inverse variance weighted    3 -1.709091\n",
      "4 2-hydroxyisobutyrate || id:met-a-427               Simple mode    3 -3.374075\n",
      "5 2-hydroxyisobutyrate || id:met-a-427             Weighted mode    3 -2.576120\n",
      "        se      pval\n",
      "1 6.491155 0.6898770\n",
      "2 1.530945 0.1295102\n",
      "3 1.952448 0.3813790\n",
      "4 1.995544 0.2329423\n",
      "5 1.630372 0.2548658\n",
      "[1] \"#################\"\n",
      "[1] \"#################\"\n",
      "[1] \"#################\"\n"
     ]
    },
    {
     "name": "stderr",
     "output_type": "stream",
     "text": [
      "Quitting.\n",
      "\n",
      "Extracting data for 3 SNP(s) from 1 GWAS(s)\n",
      "\n",
      "Finding proxies for 1 SNPs in outcome ukb-b-17670\n",
      "\n",
      "Extracting data for 1 SNP(s) from 1 GWAS(s)\n",
      "\n",
      "Harmonising 2-hydroxyisobutyrate || id:met-a-427 (met-a-427) and Non-cancer illness code, self-reported: multiple sclerosis || id:ukb-b-17670 (ukb-b-17670)\n",
      "\n",
      "Analysing 'met-a-427' on 'ukb-b-17670'\n",
      "\n"
     ]
    },
    {
     "name": "stdout",
     "output_type": "stream",
     "text": [
      "[1] \"#################\"\n",
      "[1] \"#################\"\n",
      "[1] \"#####NEW RUN#####\"\n",
      "EXPOSURE:  met-a-427  LABEL:  2-hydroxyisobutyrateOUTCOME:  ukb-b-17670  LABEL:  NA"
     ]
    },
    {
     "name": "stderr",
     "output_type": "stream",
     "text": [
      "Saving 6.67 x 6.67 in image\n",
      "\n"
     ]
    },
    {
     "name": "stdout",
     "output_type": "stream",
     "text": [
      "  id.exposure  id.outcome\n",
      "1   met-a-427 ukb-b-17670\n",
      "                                                                       outcome\n",
      "1 Non-cancer illness code, self-reported: multiple sclerosis || id:ukb-b-17670\n",
      "                              exposure                    method nsnp\n",
      "1 2-hydroxyisobutyrate || id:met-a-427 Inverse variance weighted    2\n",
      "             b          se      pval\n",
      "1 -0.002309874 0.006172381 0.7082352\n",
      "[1] \"#################\"\n",
      "[1] \"#################\"\n",
      "[1] \"#################\"\n"
     ]
    },
    {
     "name": "stderr",
     "output_type": "stream",
     "text": [
      "Quitting.\n",
      "\n",
      "Extracting data for 7 SNP(s) from 1 GWAS(s)\n",
      "\n",
      "Finding proxies for 2 SNPs in outcome ieu-b-18\n",
      "\n",
      "Extracting data for 2 SNP(s) from 1 GWAS(s)\n",
      "\n",
      "Harmonising Acetoacetate || id:met-d-Acetoacetate (met-d-Acetoacetate) and multiple sclerosis || id:ieu-b-18 (ieu-b-18)\n",
      "\n",
      "Removing the following SNPs for being palindromic with intermediate allele frequencies:\n",
      "rs11745373, rs910502, rs964184\n",
      "\n",
      "Analysing 'met-d-Acetoacetate' on 'ieu-b-18'\n",
      "\n"
     ]
    },
    {
     "name": "stdout",
     "output_type": "stream",
     "text": [
      "[1] \"#################\"\n",
      "[1] \"#################\"\n",
      "[1] \"#####NEW RUN#####\"\n",
      "EXPOSURE:  met-d-Acetoacetate  LABEL:  AcetoacetateOUTCOME:  ieu-b-18  LABEL:  NA"
     ]
    },
    {
     "name": "stderr",
     "output_type": "stream",
     "text": [
      "Saving 6.67 x 6.67 in image\n",
      "\n"
     ]
    },
    {
     "name": "stdout",
     "output_type": "stream",
     "text": [
      "         id.exposure id.outcome                           outcome\n",
      "1 met-d-Acetoacetate   ieu-b-18 multiple sclerosis || id:ieu-b-18\n",
      "2 met-d-Acetoacetate   ieu-b-18 multiple sclerosis || id:ieu-b-18\n",
      "3 met-d-Acetoacetate   ieu-b-18 multiple sclerosis || id:ieu-b-18\n",
      "4 met-d-Acetoacetate   ieu-b-18 multiple sclerosis || id:ieu-b-18\n",
      "5 met-d-Acetoacetate   ieu-b-18 multiple sclerosis || id:ieu-b-18\n",
      "                               exposure                    method nsnp\n",
      "1 Acetoacetate || id:met-d-Acetoacetate                  MR Egger    4\n",
      "2 Acetoacetate || id:met-d-Acetoacetate           Weighted median    4\n",
      "3 Acetoacetate || id:met-d-Acetoacetate Inverse variance weighted    4\n",
      "4 Acetoacetate || id:met-d-Acetoacetate               Simple mode    4\n",
      "5 Acetoacetate || id:met-d-Acetoacetate             Weighted mode    4\n",
      "          b        se       pval\n",
      "1 0.3120996 1.2022291 0.81945123\n",
      "2 0.5495853 0.4001661 0.16963027\n",
      "3 0.9050631 0.3933805 0.02140679\n",
      "4 0.4916793 0.5518654 0.43859768\n",
      "5 0.4866645 0.5395922 0.43358055\n",
      "[1] \"#################\"\n",
      "[1] \"#################\"\n",
      "[1] \"#################\"\n"
     ]
    },
    {
     "name": "stderr",
     "output_type": "stream",
     "text": [
      "Quitting.\n",
      "\n",
      "Extracting data for 7 SNP(s) from 1 GWAS(s)\n",
      "\n",
      "Harmonising Acetoacetate || id:met-d-Acetoacetate (met-d-Acetoacetate) and MS-disease / Multiple Sclerosis || id:finn-b-G6_MS (finn-b-G6_MS)\n",
      "\n",
      "Analysing 'met-d-Acetoacetate' on 'finn-b-G6_MS'\n",
      "\n"
     ]
    },
    {
     "name": "stdout",
     "output_type": "stream",
     "text": [
      "[1] \"#################\"\n",
      "[1] \"#################\"\n",
      "[1] \"#####NEW RUN#####\"\n",
      "EXPOSURE:  met-d-Acetoacetate  LABEL:  AcetoacetateOUTCOME:  finn-b-G6_MS  LABEL:  NA"
     ]
    },
    {
     "name": "stderr",
     "output_type": "stream",
     "text": [
      "Saving 6.67 x 6.67 in image\n",
      "\n"
     ]
    },
    {
     "name": "stdout",
     "output_type": "stream",
     "text": [
      "         id.exposure   id.outcome\n",
      "1 met-d-Acetoacetate finn-b-G6_MS\n",
      "2 met-d-Acetoacetate finn-b-G6_MS\n",
      "3 met-d-Acetoacetate finn-b-G6_MS\n",
      "4 met-d-Acetoacetate finn-b-G6_MS\n",
      "5 met-d-Acetoacetate finn-b-G6_MS\n",
      "                                             outcome\n",
      "1 MS-disease / Multiple Sclerosis || id:finn-b-G6_MS\n",
      "2 MS-disease / Multiple Sclerosis || id:finn-b-G6_MS\n",
      "3 MS-disease / Multiple Sclerosis || id:finn-b-G6_MS\n",
      "4 MS-disease / Multiple Sclerosis || id:finn-b-G6_MS\n",
      "5 MS-disease / Multiple Sclerosis || id:finn-b-G6_MS\n",
      "                               exposure                    method nsnp\n",
      "1 Acetoacetate || id:met-d-Acetoacetate                  MR Egger    7\n",
      "2 Acetoacetate || id:met-d-Acetoacetate           Weighted median    7\n",
      "3 Acetoacetate || id:met-d-Acetoacetate Inverse variance weighted    7\n",
      "4 Acetoacetate || id:met-d-Acetoacetate               Simple mode    7\n",
      "5 Acetoacetate || id:met-d-Acetoacetate             Weighted mode    7\n",
      "           b        se      pval\n",
      "1 -0.5044815 1.7199858 0.7810723\n",
      "2 -0.6623326 0.6271583 0.2909293\n",
      "3 -0.6589296 0.5037849 0.1908875\n",
      "4 -0.8803517 0.8957260 0.3636436\n",
      "5 -0.6968124 0.7255376 0.3739378\n",
      "[1] \"#################\"\n",
      "[1] \"#################\"\n",
      "[1] \"#################\"\n"
     ]
    },
    {
     "name": "stderr",
     "output_type": "stream",
     "text": [
      "Quitting.\n",
      "\n",
      "Extracting data for 7 SNP(s) from 1 GWAS(s)\n",
      "\n",
      "Finding proxies for 5 SNPs in outcome ukb-b-17670\n",
      "\n",
      "Extracting data for 5 SNP(s) from 1 GWAS(s)\n",
      "\n",
      "Harmonising Acetoacetate || id:met-d-Acetoacetate (met-d-Acetoacetate) and Non-cancer illness code, self-reported: multiple sclerosis || id:ukb-b-17670 (ukb-b-17670)\n",
      "\n",
      "Analysing 'met-d-Acetoacetate' on 'ukb-b-17670'\n",
      "\n"
     ]
    },
    {
     "name": "stdout",
     "output_type": "stream",
     "text": [
      "[1] \"#################\"\n",
      "[1] \"#################\"\n",
      "[1] \"#####NEW RUN#####\"\n",
      "EXPOSURE:  met-d-Acetoacetate  LABEL:  AcetoacetateOUTCOME:  ukb-b-17670  LABEL:  NA"
     ]
    },
    {
     "name": "stderr",
     "output_type": "stream",
     "text": [
      "Saving 6.67 x 6.67 in image\n",
      "\n"
     ]
    },
    {
     "name": "stdout",
     "output_type": "stream",
     "text": [
      "         id.exposure  id.outcome\n",
      "1 met-d-Acetoacetate ukb-b-17670\n",
      "                                                                       outcome\n",
      "1 Non-cancer illness code, self-reported: multiple sclerosis || id:ukb-b-17670\n",
      "                               exposure                    method nsnp\n",
      "1 Acetoacetate || id:met-d-Acetoacetate Inverse variance weighted    2\n",
      "             b          se     pval\n",
      "1 0.0009487574 0.002387049 0.691028\n",
      "[1] \"#################\"\n",
      "[1] \"#################\"\n",
      "[1] \"#################\"\n"
     ]
    },
    {
     "name": "stderr",
     "output_type": "stream",
     "text": [
      "Quitting.\n",
      "\n",
      "Extracting data for 2 SNP(s) from 1 GWAS(s)\n",
      "\n",
      "Harmonising Acetoacetate || id:met-c-838 (met-c-838) and multiple sclerosis || id:ieu-b-18 (ieu-b-18)\n",
      "\n",
      "Removing the following SNPs for being palindromic with intermediate allele frequencies:\n",
      "rs964184\n",
      "\n",
      "Analysing 'met-c-838' on 'ieu-b-18'\n",
      "\n"
     ]
    },
    {
     "name": "stdout",
     "output_type": "stream",
     "text": [
      "[1] \"#################\"\n",
      "[1] \"#################\"\n",
      "[1] \"#####NEW RUN#####\"\n",
      "EXPOSURE:  met-c-838  LABEL:  AcetoacetateOUTCOME:  ieu-b-18  LABEL:  NA"
     ]
    },
    {
     "name": "stderr",
     "output_type": "stream",
     "text": [
      "Saving 6.67 x 6.67 in image\n",
      "\n"
     ]
    },
    {
     "name": "stdout",
     "output_type": "stream",
     "text": [
      "  id.exposure id.outcome                           outcome\n",
      "1   met-c-838   ieu-b-18 multiple sclerosis || id:ieu-b-18\n",
      "                      exposure     method nsnp        b        se      pval\n",
      "1 Acetoacetate || id:met-c-838 Wald ratio    1 0.260988 0.3405839 0.4435004\n",
      "[1] \"#################\"\n",
      "[1] \"#################\"\n",
      "[1] \"#################\"\n"
     ]
    },
    {
     "name": "stderr",
     "output_type": "stream",
     "text": [
      "Quitting.\n",
      "\n",
      "Extracting data for 2 SNP(s) from 1 GWAS(s)\n",
      "\n",
      "Harmonising Acetoacetate || id:met-c-838 (met-c-838) and MS-disease / Multiple Sclerosis || id:finn-b-G6_MS (finn-b-G6_MS)\n",
      "\n",
      "Analysing 'met-c-838' on 'finn-b-G6_MS'\n",
      "\n"
     ]
    },
    {
     "name": "stdout",
     "output_type": "stream",
     "text": [
      "[1] \"#################\"\n",
      "[1] \"#################\"\n",
      "[1] \"#####NEW RUN#####\"\n",
      "EXPOSURE:  met-c-838  LABEL:  AcetoacetateOUTCOME:  finn-b-G6_MS  LABEL:  NA"
     ]
    },
    {
     "name": "stderr",
     "output_type": "stream",
     "text": [
      "Saving 6.67 x 6.67 in image\n",
      "\n"
     ]
    },
    {
     "name": "stdout",
     "output_type": "stream",
     "text": [
      "  id.exposure   id.outcome                                            outcome\n",
      "1   met-c-838 finn-b-G6_MS MS-disease / Multiple Sclerosis || id:finn-b-G6_MS\n",
      "                      exposure                    method nsnp          b\n",
      "1 Acetoacetate || id:met-c-838 Inverse variance weighted    2 -0.1590177\n",
      "         se      pval\n",
      "1 0.5062988 0.7534612\n",
      "[1] \"#################\"\n",
      "[1] \"#################\"\n",
      "[1] \"#################\"\n"
     ]
    },
    {
     "name": "stderr",
     "output_type": "stream",
     "text": [
      "Quitting.\n",
      "\n",
      "Extracting data for 2 SNP(s) from 1 GWAS(s)\n",
      "\n",
      "Finding proxies for 2 SNPs in outcome ukb-b-17670\n",
      "\n",
      "Extracting data for 2 SNP(s) from 1 GWAS(s)\n",
      "\n",
      "Caught an error\n",
      "\n"
     ]
    },
    {
     "name": "stdout",
     "output_type": "stream",
     "text": [
      "<simpleError in check_required_columns(outcome_dat, \"outcome\"): The following required columns are missing from outcome: SNP, id.outcome, outcome, beta.outcome, se.outcome, effect_allele.outcome, other_allele.outcome>\n"
     ]
    },
    {
     "name": "stderr",
     "output_type": "stream",
     "text": [
      "Quitting.\n",
      "\n",
      "Extracting data for 9 SNP(s) from 1 GWAS(s)\n",
      "\n",
      "Finding proxies for 2 SNPs in outcome ieu-b-18\n",
      "\n",
      "Extracting data for 2 SNP(s) from 1 GWAS(s)\n",
      "\n",
      "Harmonising Acetate || id:met-d-Acetate (met-d-Acetate) and multiple sclerosis || id:ieu-b-18 (ieu-b-18)\n",
      "\n",
      "Removing the following SNPs for incompatible alleles:\n",
      "rs7272751\n",
      "\n",
      "Removing the following SNPs for being palindromic with intermediate allele frequencies:\n",
      "rs28601761, rs8123210\n",
      "\n",
      "Analysing 'met-d-Acetate' on 'ieu-b-18'\n",
      "\n"
     ]
    },
    {
     "name": "stdout",
     "output_type": "stream",
     "text": [
      "[1] \"#################\"\n",
      "[1] \"#################\"\n",
      "[1] \"#####NEW RUN#####\"\n",
      "EXPOSURE:  met-d-Acetate  LABEL:  AcetateOUTCOME:  ieu-b-18  LABEL:  NA"
     ]
    },
    {
     "name": "stderr",
     "output_type": "stream",
     "text": [
      "Saving 6.67 x 6.67 in image\n",
      "\n"
     ]
    },
    {
     "name": "stdout",
     "output_type": "stream",
     "text": [
      "    id.exposure id.outcome                           outcome\n",
      "1 met-d-Acetate   ieu-b-18 multiple sclerosis || id:ieu-b-18\n",
      "2 met-d-Acetate   ieu-b-18 multiple sclerosis || id:ieu-b-18\n",
      "3 met-d-Acetate   ieu-b-18 multiple sclerosis || id:ieu-b-18\n",
      "4 met-d-Acetate   ieu-b-18 multiple sclerosis || id:ieu-b-18\n",
      "5 met-d-Acetate   ieu-b-18 multiple sclerosis || id:ieu-b-18\n",
      "                     exposure                    method nsnp         b\n",
      "1 Acetate || id:met-d-Acetate                  MR Egger    5 1.3552400\n",
      "2 Acetate || id:met-d-Acetate           Weighted median    5 0.4869136\n",
      "3 Acetate || id:met-d-Acetate Inverse variance weighted    5 0.2070283\n",
      "4 Acetate || id:met-d-Acetate               Simple mode    5 0.4172330\n",
      "5 Acetate || id:met-d-Acetate             Weighted mode    5 0.5241545\n",
      "         se       pval\n",
      "1 1.4106332 0.40756035\n",
      "2 0.2514696 0.05283434\n",
      "3 0.5362409 0.69944242\n",
      "4 0.3068732 0.24554237\n",
      "5 0.2479637 0.10204832\n",
      "[1] \"#################\"\n",
      "[1] \"#################\"\n",
      "[1] \"#################\"\n"
     ]
    },
    {
     "name": "stderr",
     "output_type": "stream",
     "text": [
      "Quitting.\n",
      "\n",
      "Extracting data for 9 SNP(s) from 1 GWAS(s)\n",
      "\n",
      "Harmonising Acetate || id:met-d-Acetate (met-d-Acetate) and MS-disease / Multiple Sclerosis || id:finn-b-G6_MS (finn-b-G6_MS)\n",
      "\n",
      "Removing the following SNPs for incompatible alleles:\n",
      "rs7272751\n",
      "\n",
      "Removing the following SNPs for being palindromic with intermediate allele frequencies:\n",
      "rs28601761\n",
      "\n",
      "Analysing 'met-d-Acetate' on 'finn-b-G6_MS'\n",
      "\n"
     ]
    },
    {
     "name": "stdout",
     "output_type": "stream",
     "text": [
      "[1] \"#################\"\n",
      "[1] \"#################\"\n",
      "[1] \"#####NEW RUN#####\"\n",
      "EXPOSURE:  met-d-Acetate  LABEL:  AcetateOUTCOME:  finn-b-G6_MS  LABEL:  NA"
     ]
    },
    {
     "name": "stderr",
     "output_type": "stream",
     "text": [
      "Saving 6.67 x 6.67 in image\n",
      "\n"
     ]
    },
    {
     "name": "stdout",
     "output_type": "stream",
     "text": [
      "    id.exposure   id.outcome                                            outcome\n",
      "1 met-d-Acetate finn-b-G6_MS MS-disease / Multiple Sclerosis || id:finn-b-G6_MS\n",
      "2 met-d-Acetate finn-b-G6_MS MS-disease / Multiple Sclerosis || id:finn-b-G6_MS\n",
      "3 met-d-Acetate finn-b-G6_MS MS-disease / Multiple Sclerosis || id:finn-b-G6_MS\n",
      "4 met-d-Acetate finn-b-G6_MS MS-disease / Multiple Sclerosis || id:finn-b-G6_MS\n",
      "5 met-d-Acetate finn-b-G6_MS MS-disease / Multiple Sclerosis || id:finn-b-G6_MS\n",
      "                     exposure                    method nsnp          b\n",
      "1 Acetate || id:met-d-Acetate                  MR Egger    8 -0.3782662\n",
      "2 Acetate || id:met-d-Acetate           Weighted median    8 -0.2411420\n",
      "3 Acetate || id:met-d-Acetate Inverse variance weighted    8 -0.9577077\n",
      "4 Acetate || id:met-d-Acetate               Simple mode    8 -0.3677650\n",
      "5 Acetate || id:met-d-Acetate             Weighted mode    8 -0.2918497\n",
      "         se      pval\n",
      "1 3.1181806 0.9074063\n",
      "2 0.6691587 0.7185735\n",
      "3 0.8931257 0.2835808\n",
      "4 0.8602737 0.6818599\n",
      "5 0.7626541 0.7133143\n",
      "[1] \"#################\"\n",
      "[1] \"#################\"\n",
      "[1] \"#################\"\n"
     ]
    },
    {
     "name": "stderr",
     "output_type": "stream",
     "text": [
      "Quitting.\n",
      "\n",
      "Extracting data for 9 SNP(s) from 1 GWAS(s)\n",
      "\n",
      "Finding proxies for 4 SNPs in outcome ukb-b-17670\n",
      "\n",
      "Extracting data for 4 SNP(s) from 1 GWAS(s)\n",
      "\n",
      "Harmonising Acetate || id:met-d-Acetate (met-d-Acetate) and Non-cancer illness code, self-reported: multiple sclerosis || id:ukb-b-17670 (ukb-b-17670)\n",
      "\n",
      "Removing the following SNPs for being palindromic with intermediate allele frequencies:\n",
      "rs28601761\n",
      "\n",
      "Analysing 'met-d-Acetate' on 'ukb-b-17670'\n",
      "\n"
     ]
    },
    {
     "name": "stdout",
     "output_type": "stream",
     "text": [
      "[1] \"#################\"\n",
      "[1] \"#################\"\n",
      "[1] \"#####NEW RUN#####\"\n",
      "EXPOSURE:  met-d-Acetate  LABEL:  AcetateOUTCOME:  ukb-b-17670  LABEL:  NA"
     ]
    },
    {
     "name": "stderr",
     "output_type": "stream",
     "text": [
      "Saving 6.67 x 6.67 in image\n",
      "\n"
     ]
    },
    {
     "name": "stdout",
     "output_type": "stream",
     "text": [
      "    id.exposure  id.outcome\n",
      "1 met-d-Acetate ukb-b-17670\n",
      "2 met-d-Acetate ukb-b-17670\n",
      "3 met-d-Acetate ukb-b-17670\n",
      "4 met-d-Acetate ukb-b-17670\n",
      "5 met-d-Acetate ukb-b-17670\n",
      "                                                                       outcome\n",
      "1 Non-cancer illness code, self-reported: multiple sclerosis || id:ukb-b-17670\n",
      "2 Non-cancer illness code, self-reported: multiple sclerosis || id:ukb-b-17670\n",
      "3 Non-cancer illness code, self-reported: multiple sclerosis || id:ukb-b-17670\n",
      "4 Non-cancer illness code, self-reported: multiple sclerosis || id:ukb-b-17670\n",
      "5 Non-cancer illness code, self-reported: multiple sclerosis || id:ukb-b-17670\n",
      "                     exposure                    method nsnp            b\n",
      "1 Acetate || id:met-d-Acetate                  MR Egger    5  0.005633329\n",
      "2 Acetate || id:met-d-Acetate           Weighted median    5 -0.002360507\n",
      "3 Acetate || id:met-d-Acetate Inverse variance weighted    5 -0.003433917\n",
      "4 Acetate || id:met-d-Acetate               Simple mode    5 -0.001805047\n",
      "5 Acetate || id:met-d-Acetate             Weighted mode    5 -0.001898690\n",
      "           se       pval\n",
      "1 0.025654017 0.84028434\n",
      "2 0.002551417 0.35487497\n",
      "3 0.001912129 0.07251664\n",
      "4 0.003395001 0.62310539\n",
      "5 0.003297966 0.59564643\n",
      "[1] \"#################\"\n",
      "[1] \"#################\"\n",
      "[1] \"#################\"\n"
     ]
    },
    {
     "name": "stderr",
     "output_type": "stream",
     "text": [
      "Quitting.\n",
      "\n",
      "Extracting data for 1 SNP(s) from 1 GWAS(s)\n",
      "\n",
      "Harmonising Acetate || id:met-c-839 (met-c-839) and multiple sclerosis || id:ieu-b-18 (ieu-b-18)\n",
      "\n",
      "Analysing 'met-c-839' on 'ieu-b-18'\n",
      "\n"
     ]
    },
    {
     "name": "stdout",
     "output_type": "stream",
     "text": [
      "[1] \"#################\"\n",
      "[1] \"#################\"\n",
      "[1] \"#####NEW RUN#####\"\n",
      "EXPOSURE:  met-c-839  LABEL:  AcetateOUTCOME:  ieu-b-18  LABEL:  NA"
     ]
    },
    {
     "name": "stderr",
     "output_type": "stream",
     "text": [
      "Saving 6.67 x 6.67 in image\n",
      "\n"
     ]
    },
    {
     "name": "stdout",
     "output_type": "stream",
     "text": [
      "  id.exposure id.outcome                           outcome\n",
      "1   met-c-839   ieu-b-18 multiple sclerosis || id:ieu-b-18\n",
      "                 exposure     method nsnp          b        se      pval\n",
      "1 Acetate || id:met-c-839 Wald ratio    1 -0.1383279 0.3742885 0.7116988\n",
      "[1] \"#################\"\n",
      "[1] \"#################\"\n",
      "[1] \"#################\"\n"
     ]
    },
    {
     "name": "stderr",
     "output_type": "stream",
     "text": [
      "Quitting.\n",
      "\n",
      "Extracting data for 1 SNP(s) from 1 GWAS(s)\n",
      "\n",
      "Finding proxies for 1 SNPs in outcome finn-b-G6_MS\n",
      "\n",
      "Extracting data for 1 SNP(s) from 1 GWAS(s)\n",
      "\n",
      "Caught an error\n",
      "\n"
     ]
    },
    {
     "name": "stdout",
     "output_type": "stream",
     "text": [
      "<simpleError in check_required_columns(outcome_dat, \"outcome\"): The following required columns are missing from outcome: SNP, id.outcome, outcome, beta.outcome, se.outcome, effect_allele.outcome, other_allele.outcome>\n"
     ]
    },
    {
     "name": "stderr",
     "output_type": "stream",
     "text": [
      "Quitting.\n",
      "\n",
      "Extracting data for 1 SNP(s) from 1 GWAS(s)\n",
      "\n",
      "Finding proxies for 1 SNPs in outcome ukb-b-17670\n",
      "\n",
      "Extracting data for 1 SNP(s) from 1 GWAS(s)\n",
      "\n",
      "Caught an error\n",
      "\n"
     ]
    },
    {
     "name": "stdout",
     "output_type": "stream",
     "text": [
      "<simpleError in check_required_columns(outcome_dat, \"outcome\"): The following required columns are missing from outcome: SNP, id.outcome, outcome, beta.outcome, se.outcome, effect_allele.outcome, other_allele.outcome>\n"
     ]
    },
    {
     "name": "stderr",
     "output_type": "stream",
     "text": [
      "Quitting.\n",
      "\n",
      "Extracting data for 2 SNP(s) from 1 GWAS(s)\n",
      "\n",
      "Harmonising Indoleacetate || id:met-a-446 (met-a-446) and multiple sclerosis || id:ieu-b-18 (ieu-b-18)\n",
      "\n",
      "Removing the following SNPs for being palindromic with intermediate allele frequencies:\n",
      "rs7809234\n",
      "\n",
      "Analysing 'met-a-446' on 'ieu-b-18'\n",
      "\n"
     ]
    },
    {
     "name": "stdout",
     "output_type": "stream",
     "text": [
      "[1] \"#################\"\n",
      "[1] \"#################\"\n",
      "[1] \"#####NEW RUN#####\"\n",
      "EXPOSURE:  met-a-446  LABEL:  IndoleacetateOUTCOME:  ieu-b-18  LABEL:  NA"
     ]
    },
    {
     "name": "stderr",
     "output_type": "stream",
     "text": [
      "Saving 6.67 x 6.67 in image\n",
      "\n"
     ]
    },
    {
     "name": "stdout",
     "output_type": "stream",
     "text": [
      "  id.exposure id.outcome                           outcome\n",
      "1   met-a-446   ieu-b-18 multiple sclerosis || id:ieu-b-18\n",
      "                       exposure     method nsnp        b        se   pval\n",
      "1 Indoleacetate || id:met-a-446 Wald ratio    1 1.066334 0.9431115 0.2582\n",
      "[1] \"#################\"\n",
      "[1] \"#################\"\n",
      "[1] \"#################\"\n"
     ]
    },
    {
     "name": "stderr",
     "output_type": "stream",
     "text": [
      "Quitting.\n",
      "\n",
      "Extracting data for 2 SNP(s) from 1 GWAS(s)\n",
      "\n",
      "Harmonising Indoleacetate || id:met-a-446 (met-a-446) and MS-disease / Multiple Sclerosis || id:finn-b-G6_MS (finn-b-G6_MS)\n",
      "\n",
      "Analysing 'met-a-446' on 'finn-b-G6_MS'\n",
      "\n"
     ]
    },
    {
     "name": "stdout",
     "output_type": "stream",
     "text": [
      "[1] \"#################\"\n",
      "[1] \"#################\"\n",
      "[1] \"#####NEW RUN#####\"\n",
      "EXPOSURE:  met-a-446  LABEL:  IndoleacetateOUTCOME:  finn-b-G6_MS  LABEL:  NA"
     ]
    },
    {
     "name": "stderr",
     "output_type": "stream",
     "text": [
      "Saving 6.67 x 6.67 in image\n",
      "\n"
     ]
    },
    {
     "name": "stdout",
     "output_type": "stream",
     "text": [
      "  id.exposure   id.outcome                                            outcome\n",
      "1   met-a-446 finn-b-G6_MS MS-disease / Multiple Sclerosis || id:finn-b-G6_MS\n",
      "                       exposure                    method nsnp         b\n",
      "1 Indoleacetate || id:met-a-446 Inverse variance weighted    2 0.1155055\n",
      "        se      pval\n",
      "1 1.588916 0.9420492\n",
      "[1] \"#################\"\n",
      "[1] \"#################\"\n",
      "[1] \"#################\"\n"
     ]
    },
    {
     "name": "stderr",
     "output_type": "stream",
     "text": [
      "Quitting.\n",
      "\n",
      "Extracting data for 2 SNP(s) from 1 GWAS(s)\n",
      "\n",
      "Finding proxies for 2 SNPs in outcome ukb-b-17670\n",
      "\n",
      "Extracting data for 2 SNP(s) from 1 GWAS(s)\n",
      "\n",
      "Caught an error\n",
      "\n"
     ]
    },
    {
     "name": "stdout",
     "output_type": "stream",
     "text": [
      "<simpleError in check_required_columns(outcome_dat, \"outcome\"): The following required columns are missing from outcome: SNP, id.outcome, outcome, beta.outcome, se.outcome, effect_allele.outcome, other_allele.outcome>\n"
     ]
    },
    {
     "name": "stderr",
     "output_type": "stream",
     "text": [
      "Quitting.\n",
      "\n",
      "Extracting data for 0 SNP(s) from 1 GWAS(s)\n",
      "\n",
      "Caught an error\n",
      "\n"
     ]
    },
    {
     "name": "stdout",
     "output_type": "stream",
     "text": [
      "<simpleError in check_required_columns(exposure_dat, \"exposure\"): The following required columns are missing from exposure: SNP, id.exposure, exposure, beta.exposure, se.exposure, effect_allele.exposure, other_allele.exposure>\n"
     ]
    },
    {
     "name": "stderr",
     "output_type": "stream",
     "text": [
      "Quitting.\n",
      "\n",
      "Extracting data for 0 SNP(s) from 1 GWAS(s)\n",
      "\n",
      "Caught an error\n",
      "\n"
     ]
    },
    {
     "name": "stdout",
     "output_type": "stream",
     "text": [
      "<simpleError in check_required_columns(exposure_dat, \"exposure\"): The following required columns are missing from exposure: SNP, id.exposure, exposure, beta.exposure, se.exposure, effect_allele.exposure, other_allele.exposure>\n"
     ]
    },
    {
     "name": "stderr",
     "output_type": "stream",
     "text": [
      "Quitting.\n",
      "\n",
      "Extracting data for 0 SNP(s) from 1 GWAS(s)\n",
      "\n",
      "Caught an error\n",
      "\n"
     ]
    },
    {
     "name": "stdout",
     "output_type": "stream",
     "text": [
      "<simpleError in check_required_columns(exposure_dat, \"exposure\"): The following required columns are missing from exposure: SNP, id.exposure, exposure, beta.exposure, se.exposure, effect_allele.exposure, other_allele.exposure>\n"
     ]
    },
    {
     "name": "stderr",
     "output_type": "stream",
     "text": [
      "Quitting.\n",
      "\n"
     ]
    }
   ],
   "source": [
    "for (i in 1:length(exposures)) {\n",
    "  exposure_dat = extract_instruments(exposures[i])\n",
    "  for (j in 1:length(outcomes)) {\n",
    "    run_with_catching <- function(){\n",
    "        tryCatch(\n",
    "            expr = {\n",
    "                outcome_dat = extract_outcome_data(snps=exposure_dat$SNP, outcomes=outcomes[j])\n",
    "      \n",
    "                dat <- harmonise_data(exposure_dat, outcome_dat)\n",
    "\n",
    "                res <- mr(dat)\n",
    "                print(\"#################\")\n",
    "                print(\"#################\")\n",
    "                print(\"#####NEW RUN#####\")\n",
    "                exp = exposures[i]\n",
    "                out = outcomes[j]\n",
    "                cat(\"EXPOSURE: \", exp, \" LABEL: \", exposure_labels[i])\n",
    "                cat(\"OUTCOME: \", out, \" LABEL: \", outcome_labels[i])\n",
    "\n",
    "                reg_plot = mr_scatter_plot(res, dat)\n",
    "                base_path = \"./seventeen_nutritional_outcomes/\"\n",
    "                plot_path = paste(base_path, exp, \"_on_\", out, \".png\", sep=\"\")\n",
    "                ggsave(plot_path, plot=reg_plot[[1]], scale = 1,dpi = 300)\n",
    "\n",
    "                print(res)\n",
    "                \n",
    "                print(\"#################\")\n",
    "                print(\"#################\")\n",
    "                print(\"#################\")\n",
    "                \n",
    "            },\n",
    "            error = function(e){\n",
    "                message('Caught an error')\n",
    "                print(e)\n",
    "            },\n",
    "            warning = function(w){\n",
    "                message('Caught an warning')\n",
    "                print(w)\n",
    "            },\n",
    "            finally = {\n",
    "                message('Quitting.')\n",
    "            }\n",
    "        )    \n",
    "    }\n",
    "      \n",
    "    run_with_catching()\n",
    "    }\n",
    "}"
   ]
  },
  {
   "cell_type": "markdown",
   "id": "8099d1cf",
   "metadata": {},
   "source": [
    "## BACK UP INFORMATION / CODE BELOW"
   ]
  }
 ],
 "metadata": {
  "kernelspec": {
   "display_name": "R",
   "language": "R",
   "name": "ir"
  },
  "language_info": {
   "codemirror_mode": "r",
   "file_extension": ".r",
   "mimetype": "text/x-r-source",
   "name": "R",
   "pygments_lexer": "r",
   "version": "4.1.2"
  }
 },
 "nbformat": 4,
 "nbformat_minor": 5
}
