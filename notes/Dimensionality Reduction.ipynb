{
 "cells": [
  {
   "cell_type": "markdown",
   "metadata": {},
   "source": [
    "# Dimensionality Reduction Notes"
   ]
  },
  {
   "cell_type": "markdown",
   "metadata": {},
   "source": [
    "## Remaining Questions // Things to Look Into\n",
    "* Is there a more space efficient way to store the expressions data than in the pandas dataframe oriented .csv it's currently in, or should we just compress it for the cloud and uncompress it when we're working with it?\n",
    "* yes. these links: https://towardsdatascience.com/the-best-format-to-save-pandas-data-414dca023e0d, https://towardsdatascience.com/stop-persisting-pandas-data-frames-in-csvs-f369a6440af5, and https://analyticsindiamag.com/complete-guide-to-different-persisting-methods-in-pandas/. Seems like we should talk about these alternative formats as a group on Wednesday. "
   ]
  },
  {
   "cell_type": "markdown",
   "metadata": {},
   "source": [
    "* number of input variables (aka features)== dimensionality of dataset\n",
    "* \"Having a large number of dimensions in the feature space can mean that the volume of that space is very large, and in turn, the points that we have in that space (rows of data) often represent a small and non-representative sample. This can dramatically impact the performance of machine learning algorithms fit on data with many input features, generally referred to as the 'curse of dimensionality.'\"\n",
    "* https://scikit-learn.org/stable/auto_examples/neighbors/plot_nca_dim_reduction.html#sphx-glr-auto-examples-neighbors-plot-nca-dim-reduction-py \n",
    "* https://scikit-learn.org/stable/auto_examples/compose/plot_compare_reduction.html#sphx-glr-auto-examples-compose-plot-compare-reduction-py  \n",
    "* https://www.codegrepper.com/code-examples/python/pandas+set+first+row+as+column+names \n"
   ]
  },
  {
   "cell_type": "markdown",
   "metadata": {},
   "source": [
    "### PCA Attempt\n",
    "* have the expressions been standardized or z-score normalized? Should make a couple plots of their values to see. If not, they should be scaled before PCA "
   ]
  },
  {
   "cell_type": "code",
   "execution_count": 2,
   "metadata": {},
   "outputs": [],
   "source": [
    "import numpy as np\n",
    "import pandas as pd\n",
    "import matplotlib.pyplot as plt\n",
    "from sklearn.decomposition import PCA, IncrementalPCA\n",
    "\n",
    "expressions_df = pd.read_csv('https://raw.githubusercontent.com/HarritonResearchLab/genomics/main/src/exploring/gene_knn/first_try/data/expressions_df.csv')\n",
    "tissues = np.array(pd.read_csv('https://raw.githubusercontent.com/HarritonResearchLab/genomics/main/src/exploring/gene_knn/first_try/data/tissue_df.csv')['tissue_name'])"
   ]
  },
  {
   "cell_type": "code",
   "execution_count": null,
   "metadata": {},
   "outputs": [],
   "source": [
    "expressions_df = expressions_df.transpose()"
   ]
  },
  {
   "cell_type": "code",
   "execution_count": 9,
   "metadata": {},
   "outputs": [
    {
     "name": "stdout",
     "output_type": "stream",
     "text": [
      "                      0         1         2          3          4      \\\n",
      "gene_name         1007_s_at   1053_at    117_at     121_at  1255_g_at   \n",
      "GSM11805.CEL.gz   10.191267  6.040463  7.447409  12.025042   5.269269   \n",
      "GSM11814.CEL.gz   10.509167  6.696075  7.775354  12.007817   5.180389   \n",
      "GSM11823.CEL.gz   10.272027  6.144663  7.696235  11.633279   5.301714   \n",
      "GSM11830.CEL.gz   10.252952  6.575153  8.478135  11.075286   5.372235   \n",
      "...                     ...       ...       ...        ...        ...   \n",
      "GSM246493.CEL.gz   9.803686  6.058488  7.486711   9.914632   5.312712   \n",
      "GSM246494.CEL.gz  10.509541  6.345526  7.468406   9.909784   5.341193   \n",
      "GSM307639.CEL.gz   9.984502  6.715984  7.120793   9.409933   4.896124   \n",
      "GSM307640.CEL.gz   9.937738  6.836179  7.125811   9.587782   5.296695   \n",
      "GSM307641.CEL.gz  10.306781  7.025547  7.407624   9.792904   5.206251   \n",
      "\n",
      "                     5         6         7          8         9      ...  \\\n",
      "gene_name          1294_at   1316_at   1320_at  1405_i_at   1431_at  ...   \n",
      "GSM11805.CEL.gz   8.535176   6.92169   5.71819   8.082076  5.434304  ...   \n",
      "GSM11814.CEL.gz   8.587241   6.96243  5.596042   7.568178  5.281319  ...   \n",
      "GSM11823.CEL.gz   8.277414  7.054633  5.576952   7.136474  5.282916  ...   \n",
      "GSM11830.CEL.gz    8.60365  7.115067  5.860551   8.605091  5.375391  ...   \n",
      "...                    ...       ...       ...        ...       ...  ...   \n",
      "GSM246493.CEL.gz  7.421166  6.906639  5.778275   6.552426  5.435237  ...   \n",
      "GSM246494.CEL.gz   7.90008  6.982293  5.998825   6.779777  5.370535  ...   \n",
      "GSM307639.CEL.gz  8.119396  6.810089  5.965485   6.584802  5.420766  ...   \n",
      "GSM307640.CEL.gz  8.005432  6.976594  5.443173    6.64366  5.501452  ...   \n",
      "GSM307641.CEL.gz  8.283758  7.123559  6.232968   6.505756  5.412707  ...   \n",
      "\n",
      "                     22205     22206     22207     22208       22209  \\\n",
      "gene_name         90610_at  91580_at  91617_at  91682_at  91684_g_at   \n",
      "GSM11805.CEL.gz   8.108419  5.251074  7.098663  8.210405    7.736744   \n",
      "GSM11814.CEL.gz   8.072807  5.409345  6.905827  8.322514    8.192083   \n",
      "GSM11823.CEL.gz   7.809687  5.297679  6.718544  8.404708    7.961902   \n",
      "GSM11830.CEL.gz   8.036512  6.025769  6.716618  8.797825    8.325583   \n",
      "...                    ...       ...       ...       ...         ...   \n",
      "GSM246493.CEL.gz  7.095949  5.362407  7.103406  7.972189    6.793989   \n",
      "GSM246494.CEL.gz  7.056859  5.432815  7.047431  7.158617    7.924496   \n",
      "GSM307639.CEL.gz  8.314995   5.65109    7.5469  7.872795    8.508173   \n",
      "GSM307640.CEL.gz  7.860281  5.741697  7.509888  7.643282    8.384567   \n",
      "GSM307641.CEL.gz   8.12548  5.543658  7.593968  7.819284    8.871103   \n",
      "\n",
      "                     22210       22211     22212     22213     22214  \n",
      "gene_name         91703_at  91816_f_at  91826_at  91920_at  91952_at  \n",
      "GSM11805.CEL.gz   6.434851    5.700448  9.211163   8.33913  7.367797  \n",
      "GSM11814.CEL.gz   7.676989    6.566479   9.41598  8.214426  7.917754  \n",
      "GSM11823.CEL.gz   6.424996    5.641277  8.192909  8.456095  7.598461  \n",
      "GSM11830.CEL.gz   6.354779    5.754815  8.522238  8.558297  7.799779  \n",
      "...                    ...         ...       ...       ...       ...  \n",
      "GSM246493.CEL.gz  6.216806    7.327094  8.452172  8.340901  7.658151  \n",
      "GSM246494.CEL.gz  6.422848   10.260284  9.297665  8.258056   8.07374  \n",
      "GSM307639.CEL.gz  7.154838    6.446923  8.753853  8.355681  7.907719  \n",
      "GSM307640.CEL.gz   6.64589     7.64461  8.195537  8.589336  7.627872  \n",
      "GSM307641.CEL.gz  7.181134    7.788115  9.422535   8.33398  8.056553  \n",
      "\n",
      "[190 rows x 22215 columns]\n"
     ]
    }
   ],
   "source": [
    "print(expressions_df)"
   ]
  },
  {
   "cell_type": "code",
   "execution_count": 18,
   "metadata": {},
   "outputs": [
    {
     "ename": "IndexError",
     "evalue": "single positional indexer is out-of-bounds",
     "output_type": "error",
     "traceback": [
      "\u001b[1;31m---------------------------------------------------------------------------\u001b[0m",
      "\u001b[1;31mIndexError\u001b[0m                                Traceback (most recent call last)",
      "\u001b[1;32m~\\AppData\\Local\\Temp/ipykernel_14940/670711485.py\u001b[0m in \u001b[0;36m<module>\u001b[1;34m\u001b[0m\n\u001b[0;32m      2\u001b[0m \u001b[1;33m\u001b[0m\u001b[0m\n\u001b[0;32m      3\u001b[0m \u001b[1;32mfor\u001b[0m \u001b[0mi\u001b[0m \u001b[1;32min\u001b[0m \u001b[0mrange\u001b[0m\u001b[1;33m(\u001b[0m\u001b[0mlen\u001b[0m\u001b[1;33m(\u001b[0m\u001b[0mexpressions_df\u001b[0m\u001b[1;33m.\u001b[0m\u001b[0mcolumns\u001b[0m\u001b[1;33m)\u001b[0m\u001b[1;33m-\u001b[0m\u001b[1;36m1\u001b[0m\u001b[1;33m)\u001b[0m\u001b[1;33m:\u001b[0m\u001b[1;33m\u001b[0m\u001b[1;33m\u001b[0m\u001b[0m\n\u001b[1;32m----> 4\u001b[1;33m     \u001b[0mexpressions_df\u001b[0m \u001b[1;33m=\u001b[0m \u001b[0mexpressions_df\u001b[0m\u001b[1;33m.\u001b[0m\u001b[0mrename\u001b[0m\u001b[1;33m(\u001b[0m\u001b[0mcolumns\u001b[0m\u001b[1;33m=\u001b[0m\u001b[0mexpressions_df\u001b[0m\u001b[1;33m.\u001b[0m\u001b[0miloc\u001b[0m\u001b[1;33m[\u001b[0m\u001b[0mi\u001b[0m\u001b[1;33m]\u001b[0m\u001b[1;33m)\u001b[0m\u001b[1;33m\u001b[0m\u001b[1;33m\u001b[0m\u001b[0m\n\u001b[0m\u001b[0;32m      5\u001b[0m \u001b[1;33m\u001b[0m\u001b[0m\n\u001b[0;32m      6\u001b[0m \u001b[0mprint\u001b[0m\u001b[1;33m(\u001b[0m\u001b[0mexpressions_df\u001b[0m\u001b[1;33m)\u001b[0m\u001b[1;33m\u001b[0m\u001b[1;33m\u001b[0m\u001b[0m\n",
      "\u001b[1;32m~\\AppData\\Local\\Programs\\Python\\Python38\\lib\\site-packages\\pandas\\core\\indexing.py\u001b[0m in \u001b[0;36m__getitem__\u001b[1;34m(self, key)\u001b[0m\n\u001b[0;32m    929\u001b[0m \u001b[1;33m\u001b[0m\u001b[0m\n\u001b[0;32m    930\u001b[0m             \u001b[0mmaybe_callable\u001b[0m \u001b[1;33m=\u001b[0m \u001b[0mcom\u001b[0m\u001b[1;33m.\u001b[0m\u001b[0mapply_if_callable\u001b[0m\u001b[1;33m(\u001b[0m\u001b[0mkey\u001b[0m\u001b[1;33m,\u001b[0m \u001b[0mself\u001b[0m\u001b[1;33m.\u001b[0m\u001b[0mobj\u001b[0m\u001b[1;33m)\u001b[0m\u001b[1;33m\u001b[0m\u001b[1;33m\u001b[0m\u001b[0m\n\u001b[1;32m--> 931\u001b[1;33m             \u001b[1;32mreturn\u001b[0m \u001b[0mself\u001b[0m\u001b[1;33m.\u001b[0m\u001b[0m_getitem_axis\u001b[0m\u001b[1;33m(\u001b[0m\u001b[0mmaybe_callable\u001b[0m\u001b[1;33m,\u001b[0m \u001b[0maxis\u001b[0m\u001b[1;33m=\u001b[0m\u001b[0maxis\u001b[0m\u001b[1;33m)\u001b[0m\u001b[1;33m\u001b[0m\u001b[1;33m\u001b[0m\u001b[0m\n\u001b[0m\u001b[0;32m    932\u001b[0m \u001b[1;33m\u001b[0m\u001b[0m\n\u001b[0;32m    933\u001b[0m     \u001b[1;32mdef\u001b[0m \u001b[0m_is_scalar_access\u001b[0m\u001b[1;33m(\u001b[0m\u001b[0mself\u001b[0m\u001b[1;33m,\u001b[0m \u001b[0mkey\u001b[0m\u001b[1;33m:\u001b[0m \u001b[0mtuple\u001b[0m\u001b[1;33m)\u001b[0m\u001b[1;33m:\u001b[0m\u001b[1;33m\u001b[0m\u001b[1;33m\u001b[0m\u001b[0m\n",
      "\u001b[1;32m~\\AppData\\Local\\Programs\\Python\\Python38\\lib\\site-packages\\pandas\\core\\indexing.py\u001b[0m in \u001b[0;36m_getitem_axis\u001b[1;34m(self, key, axis)\u001b[0m\n\u001b[0;32m   1564\u001b[0m \u001b[1;33m\u001b[0m\u001b[0m\n\u001b[0;32m   1565\u001b[0m             \u001b[1;31m# validate the location\u001b[0m\u001b[1;33m\u001b[0m\u001b[1;33m\u001b[0m\u001b[1;33m\u001b[0m\u001b[0m\n\u001b[1;32m-> 1566\u001b[1;33m             \u001b[0mself\u001b[0m\u001b[1;33m.\u001b[0m\u001b[0m_validate_integer\u001b[0m\u001b[1;33m(\u001b[0m\u001b[0mkey\u001b[0m\u001b[1;33m,\u001b[0m \u001b[0maxis\u001b[0m\u001b[1;33m)\u001b[0m\u001b[1;33m\u001b[0m\u001b[1;33m\u001b[0m\u001b[0m\n\u001b[0m\u001b[0;32m   1567\u001b[0m \u001b[1;33m\u001b[0m\u001b[0m\n\u001b[0;32m   1568\u001b[0m             \u001b[1;32mreturn\u001b[0m \u001b[0mself\u001b[0m\u001b[1;33m.\u001b[0m\u001b[0mobj\u001b[0m\u001b[1;33m.\u001b[0m\u001b[0m_ixs\u001b[0m\u001b[1;33m(\u001b[0m\u001b[0mkey\u001b[0m\u001b[1;33m,\u001b[0m \u001b[0maxis\u001b[0m\u001b[1;33m=\u001b[0m\u001b[0maxis\u001b[0m\u001b[1;33m)\u001b[0m\u001b[1;33m\u001b[0m\u001b[1;33m\u001b[0m\u001b[0m\n",
      "\u001b[1;32m~\\AppData\\Local\\Programs\\Python\\Python38\\lib\\site-packages\\pandas\\core\\indexing.py\u001b[0m in \u001b[0;36m_validate_integer\u001b[1;34m(self, key, axis)\u001b[0m\n\u001b[0;32m   1498\u001b[0m         \u001b[0mlen_axis\u001b[0m \u001b[1;33m=\u001b[0m \u001b[0mlen\u001b[0m\u001b[1;33m(\u001b[0m\u001b[0mself\u001b[0m\u001b[1;33m.\u001b[0m\u001b[0mobj\u001b[0m\u001b[1;33m.\u001b[0m\u001b[0m_get_axis\u001b[0m\u001b[1;33m(\u001b[0m\u001b[0maxis\u001b[0m\u001b[1;33m)\u001b[0m\u001b[1;33m)\u001b[0m\u001b[1;33m\u001b[0m\u001b[1;33m\u001b[0m\u001b[0m\n\u001b[0;32m   1499\u001b[0m         \u001b[1;32mif\u001b[0m \u001b[0mkey\u001b[0m \u001b[1;33m>=\u001b[0m \u001b[0mlen_axis\u001b[0m \u001b[1;32mor\u001b[0m \u001b[0mkey\u001b[0m \u001b[1;33m<\u001b[0m \u001b[1;33m-\u001b[0m\u001b[0mlen_axis\u001b[0m\u001b[1;33m:\u001b[0m\u001b[1;33m\u001b[0m\u001b[1;33m\u001b[0m\u001b[0m\n\u001b[1;32m-> 1500\u001b[1;33m             \u001b[1;32mraise\u001b[0m \u001b[0mIndexError\u001b[0m\u001b[1;33m(\u001b[0m\u001b[1;34m\"single positional indexer is out-of-bounds\"\u001b[0m\u001b[1;33m)\u001b[0m\u001b[1;33m\u001b[0m\u001b[1;33m\u001b[0m\u001b[0m\n\u001b[0m\u001b[0;32m   1501\u001b[0m \u001b[1;33m\u001b[0m\u001b[0m\n\u001b[0;32m   1502\u001b[0m     \u001b[1;31m# -------------------------------------------------------------------\u001b[0m\u001b[1;33m\u001b[0m\u001b[1;33m\u001b[0m\u001b[1;33m\u001b[0m\u001b[0m\n",
      "\u001b[1;31mIndexError\u001b[0m: single positional indexer is out-of-bounds"
     ]
    }
   ],
   "source": [
    "expressions_df = expressions_df.reset_index(drop=True)\n",
    "\n",
    "for i in range(len(expressions_df.columns)-1): \n",
    "    expressions_df = expressions_df.rename(columns=expressions_df.iloc[i])\n",
    "\n",
    "print(expressions_df)"
   ]
  },
  {
   "cell_type": "code",
   "execution_count": null,
   "metadata": {},
   "outputs": [],
   "source": [
    "pca = PCA(n_components=2)\n",
    "x_pca = pca.fit_transform(expressions_df)"
   ]
  }
 ],
 "metadata": {
  "interpreter": {
   "hash": "d3c0f98bc337faacb3dc92d86fb3c3ff5c297fcab3c4973bdf073a6202ea54c1"
  },
  "kernelspec": {
   "display_name": "Python 3.8.5 64-bit",
   "language": "python",
   "name": "python3"
  },
  "language_info": {
   "codemirror_mode": {
    "name": "ipython",
    "version": 3
   },
   "file_extension": ".py",
   "mimetype": "text/x-python",
   "name": "python",
   "nbconvert_exporter": "python",
   "pygments_lexer": "ipython3",
   "version": "3.8.5"
  },
  "orig_nbformat": 4
 },
 "nbformat": 4,
 "nbformat_minor": 2
}
