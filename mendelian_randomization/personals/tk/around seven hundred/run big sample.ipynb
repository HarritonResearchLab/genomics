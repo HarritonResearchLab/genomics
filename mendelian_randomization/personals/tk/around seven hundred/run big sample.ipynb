{
 "cells": [
  {
   "cell_type": "code",
   "execution_count": 8,
   "id": "bb06cfc0",
   "metadata": {},
   "outputs": [
    {
     "name": "stdout",
     "output_type": "stream",
     "text": [
      "[1] \"why does r suck\"\n"
     ]
    }
   ],
   "source": [
    "print(\"why does r suck\")"
   ]
  },
  {
   "cell_type": "code",
   "execution_count": 9,
   "id": "4704e42a",
   "metadata": {},
   "outputs": [],
   "source": [
    "library(TwoSampleMR)\n",
    "exposures = scan(\"ms_outcome.txt\", character(), quote = \"\")"
   ]
  },
  {
   "cell_type": "code",
   "execution_count": 10,
   "id": "cedb0517",
   "metadata": {},
   "outputs": [
    {
     "name": "stdout",
     "output_type": "stream",
     "text": [
      " [1] \"met-a-656\"        \"met-d-Gly\"        \"met-c-940\"        \"met-c-849\"       \n",
      " [5] \"met-d-Gln\"        \"met-c-938\"        \"met-d-Ala\"        \"met-c-866\"       \n",
      " [9] \"met-d-Creatinine\" \"met-c-840\"        \"met-d-Citrate\"    \"met-d-Lactate\"   \n",
      "[13] \"met-a-356\"        \"met-a-753\"        \"met-d-Tyr\"        \"met-a-467\"       \n",
      "[17] \"met-c-850\"        \"met-a-463\"        \"met-d-Val\"        \"met-d-His\"       \n",
      "[21] \"met-c-860\"        \"met-a-573\"        \"met-c-894\"        \"met-a-652\"       \n",
      "[25] \"met-a-341\"        \"met-a-325\"        \"met-a-379\"        \"met-a-304\"       \n",
      "[29] \"met-a-360\"        \"met-a-469\"        \"met-a-656\"        \"met-a-316\"       \n",
      "[33] \"met-a-469\"       \n"
     ]
    }
   ],
   "source": [
    "print(exposures)"
   ]
  },
  {
   "cell_type": "code",
   "execution_count": 11,
   "id": "4eb5eec5",
   "metadata": {},
   "outputs": [
    {
     "data": {
      "text/html": [
       "33"
      ],
      "text/latex": [
       "33"
      ],
      "text/markdown": [
       "33"
      ],
      "text/plain": [
       "[1] 33"
      ]
     },
     "metadata": {},
     "output_type": "display_data"
    }
   ],
   "source": [
    "outcomes = c('ieu-b-18','finn-b-G6_MS')\n",
    "length(exposures)"
   ]
  },
  {
   "cell_type": "code",
   "execution_count": 19,
   "id": "4a79ebc6",
   "metadata": {},
   "outputs": [
    {
     "name": "stderr",
     "output_type": "stream",
     "text": [
      "Extracting data for 3 SNP(s) from 1 GWAS(s)\n",
      "\n",
      "Harmonising Bradykinin, des-arg(9) || id:met-a-656 (met-a-656) and multiple sclerosis || id:ieu-b-18 (ieu-b-18)\n",
      "\n",
      "Analysing 'met-a-656' on 'ieu-b-18'\n",
      "\n"
     ]
    },
    {
     "name": "stdout",
     "output_type": "stream",
     "text": [
      "  id.exposure id.outcome                           outcome\n",
      "1   met-a-656   ieu-b-18 multiple sclerosis || id:ieu-b-18\n",
      "2   met-a-656   ieu-b-18 multiple sclerosis || id:ieu-b-18\n",
      "3   met-a-656   ieu-b-18 multiple sclerosis || id:ieu-b-18\n",
      "4   met-a-656   ieu-b-18 multiple sclerosis || id:ieu-b-18\n",
      "5   met-a-656   ieu-b-18 multiple sclerosis || id:ieu-b-18\n",
      "                                exposure                    method nsnp\n",
      "1 Bradykinin, des-arg(9) || id:met-a-656                  MR Egger    3\n",
      "2 Bradykinin, des-arg(9) || id:met-a-656           Weighted median    3\n",
      "3 Bradykinin, des-arg(9) || id:met-a-656 Inverse variance weighted    3\n",
      "4 Bradykinin, des-arg(9) || id:met-a-656               Simple mode    3\n",
      "5 Bradykinin, des-arg(9) || id:met-a-656             Weighted mode    3\n",
      "          b         se       pval\n",
      "1 0.1288391 0.24943652 0.69647458\n",
      "2 0.1238134 0.08780037 0.15848956\n",
      "3 0.1340630 0.07738770 0.08321025\n",
      "4 0.1167064 0.10317356 0.37537396\n",
      "5 0.1122021 0.09982564 0.37780248\n"
     ]
    },
    {
     "name": "stderr",
     "output_type": "stream",
     "text": [
      "Quitting.\n",
      "\n",
      "Extracting data for 3 SNP(s) from 1 GWAS(s)\n",
      "\n",
      "Harmonising Bradykinin, des-arg(9) || id:met-a-656 (met-a-656) and MS-disease / Multiple Sclerosis || id:finn-b-G6_MS (finn-b-G6_MS)\n",
      "\n",
      "Analysing 'met-a-656' on 'finn-b-G6_MS'\n",
      "\n"
     ]
    },
    {
     "name": "stdout",
     "output_type": "stream",
     "text": [
      "  id.exposure   id.outcome                                            outcome\n",
      "1   met-a-656 finn-b-G6_MS MS-disease / Multiple Sclerosis || id:finn-b-G6_MS\n",
      "2   met-a-656 finn-b-G6_MS MS-disease / Multiple Sclerosis || id:finn-b-G6_MS\n",
      "3   met-a-656 finn-b-G6_MS MS-disease / Multiple Sclerosis || id:finn-b-G6_MS\n",
      "4   met-a-656 finn-b-G6_MS MS-disease / Multiple Sclerosis || id:finn-b-G6_MS\n",
      "5   met-a-656 finn-b-G6_MS MS-disease / Multiple Sclerosis || id:finn-b-G6_MS\n",
      "                                exposure                    method nsnp\n",
      "1 Bradykinin, des-arg(9) || id:met-a-656                  MR Egger    3\n",
      "2 Bradykinin, des-arg(9) || id:met-a-656           Weighted median    3\n",
      "3 Bradykinin, des-arg(9) || id:met-a-656 Inverse variance weighted    3\n",
      "4 Bradykinin, des-arg(9) || id:met-a-656               Simple mode    3\n",
      "5 Bradykinin, des-arg(9) || id:met-a-656             Weighted mode    3\n",
      "          b        se      pval\n",
      "1 1.5911342 0.6851697 0.2588616\n",
      "2 0.3325941 0.2332807 0.1539478\n",
      "3 0.2111190 0.3138543 0.5011601\n",
      "4 0.3544591 0.2623945 0.3092749\n",
      "5 0.3544591 0.2303280 0.2636867\n"
     ]
    },
    {
     "name": "stderr",
     "output_type": "stream",
     "text": [
      "Quitting.\n",
      "\n",
      "Extracting data for 49 SNP(s) from 1 GWAS(s)\n",
      "\n",
      "Finding proxies for 15 SNPs in outcome ieu-b-18\n",
      "\n",
      "Extracting data for 15 SNP(s) from 1 GWAS(s)\n",
      "\n",
      "Harmonising Glycine || id:met-d-Gly (met-d-Gly) and multiple sclerosis || id:ieu-b-18 (ieu-b-18)\n",
      "\n",
      "Removing the following SNPs for being palindromic with intermediate allele frequencies:\n",
      "rs10190808, rs2026972, rs28601761, rs35034344, rs36105243, rs7515955\n",
      "\n",
      "Analysing 'met-d-Gly' on 'ieu-b-18'\n",
      "\n"
     ]
    },
    {
     "name": "stdout",
     "output_type": "stream",
     "text": [
      "  id.exposure id.outcome                           outcome\n",
      "1   met-d-Gly   ieu-b-18 multiple sclerosis || id:ieu-b-18\n",
      "2   met-d-Gly   ieu-b-18 multiple sclerosis || id:ieu-b-18\n",
      "3   met-d-Gly   ieu-b-18 multiple sclerosis || id:ieu-b-18\n",
      "4   met-d-Gly   ieu-b-18 multiple sclerosis || id:ieu-b-18\n",
      "5   met-d-Gly   ieu-b-18 multiple sclerosis || id:ieu-b-18\n",
      "                 exposure                    method nsnp            b\n",
      "1 Glycine || id:met-d-Gly                  MR Egger   33  0.011009899\n",
      "2 Glycine || id:met-d-Gly           Weighted median   33  0.016727965\n",
      "3 Glycine || id:met-d-Gly Inverse variance weighted   33  0.044543431\n",
      "4 Glycine || id:met-d-Gly               Simple mode   33 -0.087329631\n",
      "5 Glycine || id:met-d-Gly             Weighted mode   33  0.007546362\n",
      "          se      pval\n",
      "1 0.08721582 0.9003592\n",
      "2 0.03661404 0.6477624\n",
      "3 0.07504917 0.5528310\n",
      "4 0.19574039 0.6584931\n",
      "5 0.03627706 0.8365315\n"
     ]
    },
    {
     "name": "stderr",
     "output_type": "stream",
     "text": [
      "Quitting.\n",
      "\n",
      "Extracting data for 49 SNP(s) from 1 GWAS(s)\n",
      "\n",
      "Finding proxies for 8 SNPs in outcome finn-b-G6_MS\n",
      "\n",
      "Extracting data for 8 SNP(s) from 1 GWAS(s)\n",
      "\n",
      "Harmonising Glycine || id:met-d-Gly (met-d-Gly) and MS-disease / Multiple Sclerosis || id:finn-b-G6_MS (finn-b-G6_MS)\n",
      "\n",
      "Removing the following SNPs for being palindromic with intermediate allele frequencies:\n",
      "rs28601761\n",
      "\n",
      "Analysing 'met-d-Gly' on 'finn-b-G6_MS'\n",
      "\n"
     ]
    },
    {
     "name": "stdout",
     "output_type": "stream",
     "text": [
      "  id.exposure   id.outcome                                            outcome\n",
      "1   met-d-Gly finn-b-G6_MS MS-disease / Multiple Sclerosis || id:finn-b-G6_MS\n",
      "2   met-d-Gly finn-b-G6_MS MS-disease / Multiple Sclerosis || id:finn-b-G6_MS\n",
      "3   met-d-Gly finn-b-G6_MS MS-disease / Multiple Sclerosis || id:finn-b-G6_MS\n",
      "4   met-d-Gly finn-b-G6_MS MS-disease / Multiple Sclerosis || id:finn-b-G6_MS\n",
      "5   met-d-Gly finn-b-G6_MS MS-disease / Multiple Sclerosis || id:finn-b-G6_MS\n",
      "                 exposure                    method nsnp           b         se\n",
      "1 Glycine || id:met-d-Gly                  MR Egger   43 -0.11955892 0.11356083\n",
      "2 Glycine || id:met-d-Gly           Weighted median   43 -0.12108878 0.08806682\n",
      "3 Glycine || id:met-d-Gly Inverse variance weighted   43 -0.06893657 0.09642480\n",
      "4 Glycine || id:met-d-Gly               Simple mode   43 -0.12951543 0.38824421\n",
      "5 Glycine || id:met-d-Gly             Weighted mode   43 -0.12951543 0.08620971\n",
      "       pval\n",
      "1 0.2985897\n",
      "2 0.1691424\n",
      "3 0.4746549\n",
      "4 0.7403467\n",
      "5 0.1404940\n"
     ]
    },
    {
     "name": "stderr",
     "output_type": "stream",
     "text": [
      "Quitting.\n",
      "\n",
      "Extracting data for 5 SNP(s) from 1 GWAS(s)\n",
      "\n",
      "Harmonising Valine || id:met-c-940 (met-c-940) and multiple sclerosis || id:ieu-b-18 (ieu-b-18)\n",
      "\n",
      "Removing the following SNPs for being palindromic with intermediate allele frequencies:\n",
      "rs7655059\n",
      "\n",
      "Analysing 'met-c-940' on 'ieu-b-18'\n",
      "\n"
     ]
    },
    {
     "name": "stdout",
     "output_type": "stream",
     "text": [
      "  id.exposure id.outcome                           outcome\n",
      "1   met-c-940   ieu-b-18 multiple sclerosis || id:ieu-b-18\n",
      "2   met-c-940   ieu-b-18 multiple sclerosis || id:ieu-b-18\n",
      "3   met-c-940   ieu-b-18 multiple sclerosis || id:ieu-b-18\n",
      "4   met-c-940   ieu-b-18 multiple sclerosis || id:ieu-b-18\n",
      "5   met-c-940   ieu-b-18 multiple sclerosis || id:ieu-b-18\n",
      "                exposure                    method nsnp         b        se\n",
      "1 Valine || id:met-c-940                  MR Egger    4 1.4270544 0.7262436\n",
      "2 Valine || id:met-c-940           Weighted median    4 0.1389581 0.1304450\n",
      "3 Valine || id:met-c-940 Inverse variance weighted    4 0.1233355 0.1221866\n",
      "4 Valine || id:met-c-940               Simple mode    4 0.2566617 0.2375180\n",
      "5 Valine || id:met-c-940             Weighted mode    4 0.2626876 0.1444388\n",
      "       pval\n",
      "1 0.1883536\n",
      "2 0.2867573\n",
      "3 0.3127814\n",
      "4 0.3589988\n",
      "5 0.1665405\n"
     ]
    },
    {
     "name": "stderr",
     "output_type": "stream",
     "text": [
      "Quitting.\n",
      "\n",
      "Extracting data for 5 SNP(s) from 1 GWAS(s)\n",
      "\n",
      "Finding proxies for 1 SNPs in outcome finn-b-G6_MS\n",
      "\n",
      "Extracting data for 1 SNP(s) from 1 GWAS(s)\n",
      "\n",
      "Harmonising Valine || id:met-c-940 (met-c-940) and MS-disease / Multiple Sclerosis || id:finn-b-G6_MS (finn-b-G6_MS)\n",
      "\n",
      "Analysing 'met-c-940' on 'finn-b-G6_MS'\n",
      "\n"
     ]
    },
    {
     "name": "stdout",
     "output_type": "stream",
     "text": [
      "  id.exposure   id.outcome                                            outcome\n",
      "1   met-c-940 finn-b-G6_MS MS-disease / Multiple Sclerosis || id:finn-b-G6_MS\n",
      "2   met-c-940 finn-b-G6_MS MS-disease / Multiple Sclerosis || id:finn-b-G6_MS\n",
      "3   met-c-940 finn-b-G6_MS MS-disease / Multiple Sclerosis || id:finn-b-G6_MS\n",
      "4   met-c-940 finn-b-G6_MS MS-disease / Multiple Sclerosis || id:finn-b-G6_MS\n",
      "5   met-c-940 finn-b-G6_MS MS-disease / Multiple Sclerosis || id:finn-b-G6_MS\n",
      "                exposure                    method nsnp           b        se\n",
      "1 Valine || id:met-c-940                  MR Egger    5 -1.54228649 1.3940034\n",
      "2 Valine || id:met-c-940           Weighted median    5  0.04148505 0.3220533\n",
      "3 Valine || id:met-c-940 Inverse variance weighted    5  0.29530043 0.2551422\n",
      "4 Valine || id:met-c-940               Simple mode    5  0.22912650 0.3957501\n",
      "5 Valine || id:met-c-940             Weighted mode    5  0.12824849 0.3467922\n",
      "       pval\n",
      "1 0.3493126\n",
      "2 0.8975046\n",
      "3 0.2471108\n",
      "4 0.5936497\n",
      "5 0.7302687\n"
     ]
    },
    {
     "name": "stderr",
     "output_type": "stream",
     "text": [
      "Quitting.\n",
      "\n",
      "Extracting data for 6 SNP(s) from 1 GWAS(s)\n",
      "\n",
      "Harmonising Citrate || id:met-c-849 (met-c-849) and multiple sclerosis || id:ieu-b-18 (ieu-b-18)\n",
      "\n",
      "Removing the following SNPs for being palindromic with intermediate allele frequencies:\n",
      "rs2954029, rs89356\n",
      "\n",
      "Analysing 'met-c-849' on 'ieu-b-18'\n",
      "\n"
     ]
    },
    {
     "name": "stdout",
     "output_type": "stream",
     "text": [
      "  id.exposure id.outcome                           outcome\n",
      "1   met-c-849   ieu-b-18 multiple sclerosis || id:ieu-b-18\n",
      "2   met-c-849   ieu-b-18 multiple sclerosis || id:ieu-b-18\n",
      "3   met-c-849   ieu-b-18 multiple sclerosis || id:ieu-b-18\n",
      "4   met-c-849   ieu-b-18 multiple sclerosis || id:ieu-b-18\n",
      "5   met-c-849   ieu-b-18 multiple sclerosis || id:ieu-b-18\n",
      "                 exposure                    method nsnp           b        se\n",
      "1 Citrate || id:met-c-849                  MR Egger    4  1.01683115 0.7883361\n",
      "2 Citrate || id:met-c-849           Weighted median    4  0.02718674 0.1243416\n",
      "3 Citrate || id:met-c-849 Inverse variance weighted    4 -0.02329262 0.1010420\n",
      "4 Citrate || id:met-c-849               Simple mode    4  0.01404583 0.1666604\n",
      "5 Citrate || id:met-c-849             Weighted mode    4  0.03924620 0.1457447\n",
      "       pval\n",
      "1 0.3261279\n",
      "2 0.8269261\n",
      "3 0.8176845\n",
      "4 0.9381442\n",
      "5 0.8051724\n"
     ]
    },
    {
     "name": "stderr",
     "output_type": "stream",
     "text": [
      "Quitting.\n",
      "\n",
      "Extracting data for 6 SNP(s) from 1 GWAS(s)\n",
      "\n",
      "Harmonising Citrate || id:met-c-849 (met-c-849) and MS-disease / Multiple Sclerosis || id:finn-b-G6_MS (finn-b-G6_MS)\n",
      "\n",
      "Removing the following SNPs for being palindromic with intermediate allele frequencies:\n",
      "rs2954029\n",
      "\n",
      "Analysing 'met-c-849' on 'finn-b-G6_MS'\n",
      "\n"
     ]
    },
    {
     "name": "stdout",
     "output_type": "stream",
     "text": [
      "  id.exposure   id.outcome                                            outcome\n",
      "1   met-c-849 finn-b-G6_MS MS-disease / Multiple Sclerosis || id:finn-b-G6_MS\n",
      "2   met-c-849 finn-b-G6_MS MS-disease / Multiple Sclerosis || id:finn-b-G6_MS\n",
      "3   met-c-849 finn-b-G6_MS MS-disease / Multiple Sclerosis || id:finn-b-G6_MS\n",
      "4   met-c-849 finn-b-G6_MS MS-disease / Multiple Sclerosis || id:finn-b-G6_MS\n",
      "5   met-c-849 finn-b-G6_MS MS-disease / Multiple Sclerosis || id:finn-b-G6_MS\n",
      "                 exposure                    method nsnp          b        se\n",
      "1 Citrate || id:met-c-849                  MR Egger    5  1.2008341 1.8885364\n",
      "2 Citrate || id:met-c-849           Weighted median    5 -0.1347432 0.3025161\n",
      "3 Citrate || id:met-c-849 Inverse variance weighted    5 -0.1665255 0.2604448\n",
      "4 Citrate || id:met-c-849               Simple mode    5 -0.1632288 0.4150015\n",
      "5 Citrate || id:met-c-849             Weighted mode    5 -0.1033106 0.3882018\n",
      "       pval\n",
      "1 0.5700607\n",
      "2 0.6560246\n",
      "3 0.5225700\n",
      "4 0.7141459\n",
      "5 0.8032968\n"
     ]
    },
    {
     "name": "stderr",
     "output_type": "stream",
     "text": [
      "Quitting.\n",
      "\n",
      "Extracting data for 46 SNP(s) from 1 GWAS(s)\n",
      "\n",
      "Finding proxies for 15 SNPs in outcome ieu-b-18\n",
      "\n",
      "Extracting data for 15 SNP(s) from 1 GWAS(s)\n",
      "\n",
      "Harmonising Glutamine || id:met-d-Gln (met-d-Gln) and multiple sclerosis || id:ieu-b-18 (ieu-b-18)\n",
      "\n",
      "Removing the following SNPs for being palindromic with intermediate allele frequencies:\n",
      "rs13094915, rs17096421, rs28601761, rs4237150, rs4365129\n",
      "\n",
      "Analysing 'met-d-Gln' on 'ieu-b-18'\n",
      "\n"
     ]
    },
    {
     "name": "stdout",
     "output_type": "stream",
     "text": [
      "  id.exposure id.outcome                           outcome\n",
      "1   met-d-Gln   ieu-b-18 multiple sclerosis || id:ieu-b-18\n",
      "2   met-d-Gln   ieu-b-18 multiple sclerosis || id:ieu-b-18\n",
      "3   met-d-Gln   ieu-b-18 multiple sclerosis || id:ieu-b-18\n",
      "4   met-d-Gln   ieu-b-18 multiple sclerosis || id:ieu-b-18\n",
      "5   met-d-Gln   ieu-b-18 multiple sclerosis || id:ieu-b-18\n",
      "                   exposure                    method nsnp           b\n",
      "1 Glutamine || id:met-d-Gln                  MR Egger   30 -0.05685602\n",
      "2 Glutamine || id:met-d-Gln           Weighted median   30 -0.06590942\n",
      "3 Glutamine || id:met-d-Gln Inverse variance weighted   30  0.01372971\n",
      "4 Glutamine || id:met-d-Gln               Simple mode   30  0.24578458\n",
      "5 Glutamine || id:met-d-Gln             Weighted mode   30 -0.03632015\n",
      "          se      pval\n",
      "1 0.11930193 0.6373648\n",
      "2 0.08212648 0.4222433\n",
      "3 0.08100201 0.8654046\n",
      "4 0.18612499 0.1969839\n",
      "5 0.07159107 0.6157614\n"
     ]
    },
    {
     "name": "stderr",
     "output_type": "stream",
     "text": [
      "Quitting.\n",
      "\n",
      "Extracting data for 46 SNP(s) from 1 GWAS(s)\n",
      "\n",
      "Finding proxies for 9 SNPs in outcome finn-b-G6_MS\n",
      "\n",
      "Extracting data for 9 SNP(s) from 1 GWAS(s)\n",
      "\n",
      "Harmonising Glutamine || id:met-d-Gln (met-d-Gln) and MS-disease / Multiple Sclerosis || id:finn-b-G6_MS (finn-b-G6_MS)\n",
      "\n",
      "Removing the following SNPs for incompatible alleles:\n",
      "rs9381075\n",
      "\n",
      "Removing the following SNPs for being palindromic with intermediate allele frequencies:\n",
      "rs13094915, rs28601761, rs4237150\n",
      "\n",
      "Analysing 'met-d-Gln' on 'finn-b-G6_MS'\n",
      "\n"
     ]
    },
    {
     "name": "stdout",
     "output_type": "stream",
     "text": [
      "  id.exposure   id.outcome                                            outcome\n",
      "1   met-d-Gln finn-b-G6_MS MS-disease / Multiple Sclerosis || id:finn-b-G6_MS\n",
      "2   met-d-Gln finn-b-G6_MS MS-disease / Multiple Sclerosis || id:finn-b-G6_MS\n",
      "3   met-d-Gln finn-b-G6_MS MS-disease / Multiple Sclerosis || id:finn-b-G6_MS\n",
      "4   met-d-Gln finn-b-G6_MS MS-disease / Multiple Sclerosis || id:finn-b-G6_MS\n",
      "5   met-d-Gln finn-b-G6_MS MS-disease / Multiple Sclerosis || id:finn-b-G6_MS\n",
      "                   exposure                    method nsnp         b        se\n",
      "1 Glutamine || id:met-d-Gln                  MR Egger   40 0.2029606 0.2200401\n",
      "2 Glutamine || id:met-d-Gln           Weighted median   40 0.1018592 0.2179525\n",
      "3 Glutamine || id:met-d-Gln Inverse variance weighted   40 0.1206549 0.1461205\n",
      "4 Glutamine || id:met-d-Gln               Simple mode   40 0.1283935 0.4944489\n",
      "5 Glutamine || id:met-d-Gln             Weighted mode   40 0.1085930 0.1936074\n",
      "       pval\n",
      "1 0.3621500\n",
      "2 0.6402524\n",
      "3 0.4089617\n",
      "4 0.7964843\n",
      "5 0.5780790\n"
     ]
    },
    {
     "name": "stderr",
     "output_type": "stream",
     "text": [
      "Quitting.\n",
      "\n",
      "Extracting data for 5 SNP(s) from 1 GWAS(s)\n",
      "\n",
      "Finding proxies for 2 SNPs in outcome ieu-b-18\n",
      "\n",
      "Extracting data for 2 SNP(s) from 1 GWAS(s)\n",
      "\n",
      "Harmonising Tyrosine || id:met-c-938 (met-c-938) and multiple sclerosis || id:ieu-b-18 (ieu-b-18)\n",
      "\n",
      "Removing the following SNPs for being palindromic with intermediate allele frequencies:\n",
      "rs1169289\n",
      "\n",
      "Analysing 'met-c-938' on 'ieu-b-18'\n",
      "\n"
     ]
    },
    {
     "name": "stdout",
     "output_type": "stream",
     "text": [
      "  id.exposure id.outcome                           outcome\n",
      "1   met-c-938   ieu-b-18 multiple sclerosis || id:ieu-b-18\n",
      "2   met-c-938   ieu-b-18 multiple sclerosis || id:ieu-b-18\n",
      "3   met-c-938   ieu-b-18 multiple sclerosis || id:ieu-b-18\n",
      "4   met-c-938   ieu-b-18 multiple sclerosis || id:ieu-b-18\n",
      "5   met-c-938   ieu-b-18 multiple sclerosis || id:ieu-b-18\n",
      "                  exposure                    method nsnp           b        se\n",
      "1 Tyrosine || id:met-c-938                  MR Egger    3 -0.55109122 0.7583092\n",
      "2 Tyrosine || id:met-c-938           Weighted median    3 -0.14822660 0.1491496\n",
      "3 Tyrosine || id:met-c-938 Inverse variance weighted    3 -0.03982281 0.1447139\n",
      "4 Tyrosine || id:met-c-938               Simple mode    3 -0.14821294 0.2089135\n",
      "5 Tyrosine || id:met-c-938             Weighted mode    3 -0.15143796 0.1684737\n",
      "       pval\n",
      "1 0.5999190\n",
      "2 0.3203145\n",
      "3 0.7831756\n",
      "4 0.5516038\n",
      "5 0.4635799\n"
     ]
    },
    {
     "name": "stderr",
     "output_type": "stream",
     "text": [
      "Quitting.\n",
      "\n",
      "Extracting data for 5 SNP(s) from 1 GWAS(s)\n",
      "\n",
      "Finding proxies for 1 SNPs in outcome finn-b-G6_MS\n",
      "\n",
      "Extracting data for 1 SNP(s) from 1 GWAS(s)\n",
      "\n",
      "Harmonising Tyrosine || id:met-c-938 (met-c-938) and MS-disease / Multiple Sclerosis || id:finn-b-G6_MS (finn-b-G6_MS)\n",
      "\n",
      "Removing the following SNPs for being palindromic with intermediate allele frequencies:\n",
      "rs1169289\n",
      "\n",
      "Analysing 'met-c-938' on 'finn-b-G6_MS'\n",
      "\n"
     ]
    },
    {
     "name": "stdout",
     "output_type": "stream",
     "text": [
      "  id.exposure   id.outcome                                            outcome\n",
      "1   met-c-938 finn-b-G6_MS MS-disease / Multiple Sclerosis || id:finn-b-G6_MS\n",
      "2   met-c-938 finn-b-G6_MS MS-disease / Multiple Sclerosis || id:finn-b-G6_MS\n",
      "3   met-c-938 finn-b-G6_MS MS-disease / Multiple Sclerosis || id:finn-b-G6_MS\n",
      "4   met-c-938 finn-b-G6_MS MS-disease / Multiple Sclerosis || id:finn-b-G6_MS\n",
      "5   met-c-938 finn-b-G6_MS MS-disease / Multiple Sclerosis || id:finn-b-G6_MS\n",
      "                  exposure                    method nsnp             b\n",
      "1 Tyrosine || id:met-c-938                  MR Egger    4  0.3160873458\n",
      "2 Tyrosine || id:met-c-938           Weighted median    4  0.0278677604\n",
      "3 Tyrosine || id:met-c-938 Inverse variance weighted    4 -0.0007889284\n",
      "4 Tyrosine || id:met-c-938               Simple mode    4 -0.4948095664\n",
      "5 Tyrosine || id:met-c-938             Weighted mode    4  0.3206875065\n",
      "         se      pval\n",
      "1 0.4861189 0.5822598\n",
      "2 0.3320190 0.9331087\n",
      "3 0.2675661 0.9976474\n",
      "4 0.5497324 0.4344092\n",
      "5 0.4013619 0.4826993\n"
     ]
    },
    {
     "name": "stderr",
     "output_type": "stream",
     "text": [
      "Quitting.\n",
      "\n",
      "Extracting data for 36 SNP(s) from 1 GWAS(s)\n",
      "\n",
      "Finding proxies for 10 SNPs in outcome ieu-b-18\n",
      "\n",
      "Extracting data for 10 SNP(s) from 1 GWAS(s)\n",
      "\n",
      "Harmonising Alanine || id:met-d-Ala (met-d-Ala) and multiple sclerosis || id:ieu-b-18 (ieu-b-18)\n",
      "\n",
      "Removing the following SNPs for being palindromic with intermediate allele frequencies:\n",
      "rs12379111, rs2808454, rs4237150, rs4903264, rs807672\n",
      "\n",
      "Analysing 'met-d-Ala' on 'ieu-b-18'\n",
      "\n"
     ]
    },
    {
     "name": "stdout",
     "output_type": "stream",
     "text": [
      "  id.exposure id.outcome                           outcome\n",
      "1   met-d-Ala   ieu-b-18 multiple sclerosis || id:ieu-b-18\n",
      "2   met-d-Ala   ieu-b-18 multiple sclerosis || id:ieu-b-18\n",
      "3   met-d-Ala   ieu-b-18 multiple sclerosis || id:ieu-b-18\n",
      "4   met-d-Ala   ieu-b-18 multiple sclerosis || id:ieu-b-18\n",
      "5   met-d-Ala   ieu-b-18 multiple sclerosis || id:ieu-b-18\n",
      "                 exposure                    method nsnp          b        se\n",
      "1 Alanine || id:met-d-Ala                  MR Egger   25 0.74421407 0.3170924\n",
      "2 Alanine || id:met-d-Ala           Weighted median   25 0.08146075 0.1478165\n",
      "3 Alanine || id:met-d-Ala Inverse variance weighted   25 0.03278893 0.1245390\n",
      "4 Alanine || id:met-d-Ala               Simple mode   25 0.03804797 0.2346708\n",
      "5 Alanine || id:met-d-Ala             Weighted mode   25 0.02873591 0.1847606\n",
      "        pval\n",
      "1 0.02790466\n",
      "2 0.58156945\n",
      "3 0.79233286\n",
      "4 0.87255816\n",
      "5 0.87770384\n"
     ]
    },
    {
     "name": "stderr",
     "output_type": "stream",
     "text": [
      "Quitting.\n",
      "\n",
      "Extracting data for 36 SNP(s) from 1 GWAS(s)\n",
      "\n",
      "Finding proxies for 2 SNPs in outcome finn-b-G6_MS\n",
      "\n",
      "Extracting data for 2 SNP(s) from 1 GWAS(s)\n",
      "\n",
      "Harmonising Alanine || id:met-d-Ala (met-d-Ala) and MS-disease / Multiple Sclerosis || id:finn-b-G6_MS (finn-b-G6_MS)\n",
      "\n",
      "Removing the following SNPs for being palindromic with intermediate allele frequencies:\n",
      "rs2808454, rs4237150, rs4903264, rs807672\n",
      "\n",
      "Analysing 'met-d-Ala' on 'finn-b-G6_MS'\n",
      "\n"
     ]
    },
    {
     "name": "stdout",
     "output_type": "stream",
     "text": [
      "  id.exposure   id.outcome                                            outcome\n",
      "1   met-d-Ala finn-b-G6_MS MS-disease / Multiple Sclerosis || id:finn-b-G6_MS\n",
      "2   met-d-Ala finn-b-G6_MS MS-disease / Multiple Sclerosis || id:finn-b-G6_MS\n",
      "3   met-d-Ala finn-b-G6_MS MS-disease / Multiple Sclerosis || id:finn-b-G6_MS\n",
      "4   met-d-Ala finn-b-G6_MS MS-disease / Multiple Sclerosis || id:finn-b-G6_MS\n",
      "5   met-d-Ala finn-b-G6_MS MS-disease / Multiple Sclerosis || id:finn-b-G6_MS\n",
      "                 exposure                    method nsnp           b        se\n",
      "1 Alanine || id:met-d-Ala                  MR Egger   32 -0.61139935 0.6549829\n",
      "2 Alanine || id:met-d-Ala           Weighted median   32 -0.05557754 0.3186964\n",
      "3 Alanine || id:met-d-Ala Inverse variance weighted   32  0.18944704 0.2359796\n",
      "4 Alanine || id:met-d-Ala               Simple mode   32 -0.09318171 0.5685397\n",
      "5 Alanine || id:met-d-Ala             Weighted mode   32 -0.12440910 0.4298829\n",
      "       pval\n",
      "1 0.3580360\n",
      "2 0.8615588\n",
      "3 0.4220839\n",
      "4 0.8708765\n",
      "5 0.7742003\n"
     ]
    },
    {
     "name": "stderr",
     "output_type": "stream",
     "text": [
      "Quitting.\n",
      "\n",
      "Extracting data for 5 SNP(s) from 1 GWAS(s)\n",
      "\n",
      "Finding proxies for 1 SNPs in outcome ieu-b-18\n",
      "\n",
      "Extracting data for 1 SNP(s) from 1 GWAS(s)\n",
      "\n",
      "Harmonising Histidine || id:met-c-866 (met-c-866) and multiple sclerosis || id:ieu-b-18 (ieu-b-18)\n",
      "\n",
      "Removing the following SNPs for being palindromic with intermediate allele frequencies:\n",
      "rs73216231\n",
      "\n",
      "Analysing 'met-c-866' on 'ieu-b-18'\n",
      "\n"
     ]
    },
    {
     "name": "stdout",
     "output_type": "stream",
     "text": [
      "  id.exposure id.outcome                           outcome\n",
      "1   met-c-866   ieu-b-18 multiple sclerosis || id:ieu-b-18\n",
      "2   met-c-866   ieu-b-18 multiple sclerosis || id:ieu-b-18\n",
      "3   met-c-866   ieu-b-18 multiple sclerosis || id:ieu-b-18\n",
      "4   met-c-866   ieu-b-18 multiple sclerosis || id:ieu-b-18\n",
      "5   met-c-866   ieu-b-18 multiple sclerosis || id:ieu-b-18\n",
      "                   exposure                    method nsnp          b        se\n",
      "1 Histidine || id:met-c-866                  MR Egger    4 -1.7931220 1.2745461\n",
      "2 Histidine || id:met-c-866           Weighted median    4  0.2400751 0.1594397\n",
      "3 Histidine || id:met-c-866 Inverse variance weighted    4  0.1146359 0.1296245\n",
      "4 Histidine || id:met-c-866               Simple mode    4  0.2238628 0.1847677\n",
      "5 Histidine || id:met-c-866             Weighted mode    4  0.2201350 0.1691116\n",
      "       pval\n",
      "1 0.2947360\n",
      "2 0.1321335\n",
      "3 0.3764970\n",
      "4 0.3123966\n",
      "5 0.2839524\n"
     ]
    },
    {
     "name": "stderr",
     "output_type": "stream",
     "text": [
      "Quitting.\n",
      "\n",
      "Extracting data for 5 SNP(s) from 1 GWAS(s)\n",
      "\n",
      "Harmonising Histidine || id:met-c-866 (met-c-866) and MS-disease / Multiple Sclerosis || id:finn-b-G6_MS (finn-b-G6_MS)\n",
      "\n",
      "Analysing 'met-c-866' on 'finn-b-G6_MS'\n",
      "\n"
     ]
    },
    {
     "name": "stdout",
     "output_type": "stream",
     "text": [
      "  id.exposure   id.outcome                                            outcome\n",
      "1   met-c-866 finn-b-G6_MS MS-disease / Multiple Sclerosis || id:finn-b-G6_MS\n",
      "2   met-c-866 finn-b-G6_MS MS-disease / Multiple Sclerosis || id:finn-b-G6_MS\n",
      "3   met-c-866 finn-b-G6_MS MS-disease / Multiple Sclerosis || id:finn-b-G6_MS\n",
      "4   met-c-866 finn-b-G6_MS MS-disease / Multiple Sclerosis || id:finn-b-G6_MS\n",
      "5   met-c-866 finn-b-G6_MS MS-disease / Multiple Sclerosis || id:finn-b-G6_MS\n",
      "                   exposure                    method nsnp          b        se\n",
      "1 Histidine || id:met-c-866                  MR Egger    5 -0.9152119 1.2385837\n",
      "2 Histidine || id:met-c-866           Weighted median    5  0.4795462 0.3460574\n",
      "3 Histidine || id:met-c-866 Inverse variance weighted    5  0.5211517 0.2681563\n",
      "4 Histidine || id:met-c-866               Simple mode    5  0.5722412 0.4699466\n",
      "5 Histidine || id:met-c-866             Weighted mode    5  0.6184097 0.4435156\n",
      "        pval\n",
      "1 0.51351846\n",
      "2 0.16582575\n",
      "3 0.05196029\n",
      "4 0.29026605\n",
      "5 0.23567343\n"
     ]
    },
    {
     "name": "stderr",
     "output_type": "stream",
     "text": [
      "Quitting.\n",
      "\n",
      "Extracting data for 78 SNP(s) from 1 GWAS(s)\n",
      "\n",
      "Finding proxies for 20 SNPs in outcome ieu-b-18\n",
      "\n",
      "Extracting data for 20 SNP(s) from 1 GWAS(s)\n",
      "\n",
      "Harmonising Creatinine || id:met-d-Creatinine (met-d-Creatinine) and multiple sclerosis || id:ieu-b-18 (ieu-b-18)\n",
      "\n",
      "Removing the following SNPs for incompatible alleles:\n",
      "rs12476098\n",
      "\n",
      "Removing the following SNPs for being palindromic with intermediate allele frequencies:\n",
      "rs10934569, rs12476098, rs478308, rs5750561, rs6127099, rs6747041, rs8096658, rs964184\n",
      "\n",
      "Analysing 'met-d-Creatinine' on 'ieu-b-18'\n",
      "\n"
     ]
    },
    {
     "name": "stdout",
     "output_type": "stream",
     "text": [
      "       id.exposure id.outcome                           outcome\n",
      "1 met-d-Creatinine   ieu-b-18 multiple sclerosis || id:ieu-b-18\n",
      "2 met-d-Creatinine   ieu-b-18 multiple sclerosis || id:ieu-b-18\n",
      "3 met-d-Creatinine   ieu-b-18 multiple sclerosis || id:ieu-b-18\n",
      "4 met-d-Creatinine   ieu-b-18 multiple sclerosis || id:ieu-b-18\n",
      "5 met-d-Creatinine   ieu-b-18 multiple sclerosis || id:ieu-b-18\n",
      "                           exposure                    method nsnp           b\n",
      "1 Creatinine || id:met-d-Creatinine                  MR Egger   55  0.66488109\n",
      "2 Creatinine || id:met-d-Creatinine           Weighted median   55 -0.07445850\n",
      "3 Creatinine || id:met-d-Creatinine Inverse variance weighted   55 -0.25413528\n",
      "4 Creatinine || id:met-d-Creatinine               Simple mode   55 -0.17294453\n",
      "5 Creatinine || id:met-d-Creatinine             Weighted mode   55 -0.07731679\n",
      "         se      pval\n",
      "1 0.9204396 0.4732537\n",
      "2 0.1414737 0.5986756\n",
      "3 0.2511391 0.3115713\n",
      "4 0.2957786 0.5611783\n",
      "5 0.2293401 0.7373279\n"
     ]
    },
    {
     "name": "stderr",
     "output_type": "stream",
     "text": [
      "Quitting.\n",
      "\n",
      "Extracting data for 78 SNP(s) from 1 GWAS(s)\n",
      "\n",
      "Finding proxies for 13 SNPs in outcome finn-b-G6_MS\n",
      "\n",
      "Extracting data for 13 SNP(s) from 1 GWAS(s)\n",
      "\n",
      "Harmonising Creatinine || id:met-d-Creatinine (met-d-Creatinine) and MS-disease / Multiple Sclerosis || id:finn-b-G6_MS (finn-b-G6_MS)\n",
      "\n",
      "Removing the following SNPs for incompatible alleles:\n",
      "rs12476098\n",
      "\n",
      "Removing the following SNPs for being palindromic with intermediate allele frequencies:\n",
      "rs10934569, rs8096658\n",
      "\n",
      "Analysing 'met-d-Creatinine' on 'finn-b-G6_MS'\n",
      "\n"
     ]
    },
    {
     "name": "stdout",
     "output_type": "stream",
     "text": [
      "       id.exposure   id.outcome\n",
      "1 met-d-Creatinine finn-b-G6_MS\n",
      "2 met-d-Creatinine finn-b-G6_MS\n",
      "3 met-d-Creatinine finn-b-G6_MS\n",
      "4 met-d-Creatinine finn-b-G6_MS\n",
      "5 met-d-Creatinine finn-b-G6_MS\n",
      "                                             outcome\n",
      "1 MS-disease / Multiple Sclerosis || id:finn-b-G6_MS\n",
      "2 MS-disease / Multiple Sclerosis || id:finn-b-G6_MS\n",
      "3 MS-disease / Multiple Sclerosis || id:finn-b-G6_MS\n",
      "4 MS-disease / Multiple Sclerosis || id:finn-b-G6_MS\n",
      "5 MS-disease / Multiple Sclerosis || id:finn-b-G6_MS\n",
      "                           exposure                    method nsnp          b\n",
      "1 Creatinine || id:met-d-Creatinine                  MR Egger   68 -0.5307095\n",
      "2 Creatinine || id:met-d-Creatinine           Weighted median   68  0.1014389\n",
      "3 Creatinine || id:met-d-Creatinine Inverse variance weighted   68 -0.2659659\n",
      "4 Creatinine || id:met-d-Creatinine               Simple mode   68  0.3852098\n",
      "5 Creatinine || id:met-d-Creatinine             Weighted mode   68  0.1719198\n",
      "         se      pval\n",
      "1 0.8214811 0.5204937\n",
      "2 0.3018799 0.7368528\n",
      "3 0.2825231 0.3465023\n",
      "4 0.6184160 0.5354664\n",
      "5 0.4567775 0.7078272\n"
     ]
    },
    {
     "name": "stderr",
     "output_type": "stream",
     "text": [
      "Quitting.\n",
      "\n",
      "Extracting data for 6 SNP(s) from 1 GWAS(s)\n",
      "\n",
      "Finding proxies for 2 SNPs in outcome ieu-b-18\n",
      "\n",
      "Extracting data for 2 SNP(s) from 1 GWAS(s)\n",
      "\n",
      "Harmonising Alanine || id:met-c-840 (met-c-840) and multiple sclerosis || id:ieu-b-18 (ieu-b-18)\n",
      "\n",
      "Analysing 'met-c-840' on 'ieu-b-18'\n",
      "\n"
     ]
    },
    {
     "name": "stdout",
     "output_type": "stream",
     "text": [
      "  id.exposure id.outcome                           outcome\n",
      "1   met-c-840   ieu-b-18 multiple sclerosis || id:ieu-b-18\n",
      "2   met-c-840   ieu-b-18 multiple sclerosis || id:ieu-b-18\n",
      "3   met-c-840   ieu-b-18 multiple sclerosis || id:ieu-b-18\n",
      "4   met-c-840   ieu-b-18 multiple sclerosis || id:ieu-b-18\n",
      "5   met-c-840   ieu-b-18 multiple sclerosis || id:ieu-b-18\n",
      "                 exposure                    method nsnp            b        se\n",
      "1 Alanine || id:met-c-840                  MR Egger    4 -0.304886844 0.7843525\n",
      "2 Alanine || id:met-c-840           Weighted median    4 -0.084000054 0.1318196\n",
      "3 Alanine || id:met-c-840 Inverse variance weighted    4  0.005230225 0.1115087\n",
      "4 Alanine || id:met-c-840               Simple mode    4 -0.078611971 0.1692626\n",
      "5 Alanine || id:met-c-840             Weighted mode    4 -0.082976835 0.1421784\n",
      "       pval\n",
      "1 0.7349685\n",
      "2 0.5239717\n",
      "3 0.9625896\n",
      "4 0.6739632\n",
      "5 0.6004617\n"
     ]
    },
    {
     "name": "stderr",
     "output_type": "stream",
     "text": [
      "Quitting.\n",
      "\n",
      "Extracting data for 6 SNP(s) from 1 GWAS(s)\n",
      "\n",
      "Harmonising Alanine || id:met-c-840 (met-c-840) and MS-disease / Multiple Sclerosis || id:finn-b-G6_MS (finn-b-G6_MS)\n",
      "\n",
      "Analysing 'met-c-840' on 'finn-b-G6_MS'\n",
      "\n"
     ]
    },
    {
     "name": "stdout",
     "output_type": "stream",
     "text": [
      "  id.exposure   id.outcome                                            outcome\n",
      "1   met-c-840 finn-b-G6_MS MS-disease / Multiple Sclerosis || id:finn-b-G6_MS\n",
      "2   met-c-840 finn-b-G6_MS MS-disease / Multiple Sclerosis || id:finn-b-G6_MS\n",
      "3   met-c-840 finn-b-G6_MS MS-disease / Multiple Sclerosis || id:finn-b-G6_MS\n",
      "4   met-c-840 finn-b-G6_MS MS-disease / Multiple Sclerosis || id:finn-b-G6_MS\n",
      "5   met-c-840 finn-b-G6_MS MS-disease / Multiple Sclerosis || id:finn-b-G6_MS\n",
      "                 exposure                    method nsnp           b        se\n",
      "1 Alanine || id:met-c-840                  MR Egger    6 -0.40032239 1.0704795\n",
      "2 Alanine || id:met-c-840           Weighted median    6 -0.06512403 0.3155788\n",
      "3 Alanine || id:met-c-840 Inverse variance weighted    6  0.04546838 0.2561382\n",
      "4 Alanine || id:met-c-840               Simple mode    6 -0.09144293 0.3937151\n",
      "5 Alanine || id:met-c-840             Weighted mode    6 -0.08761291 0.3892598\n",
      "       pval\n",
      "1 0.7274085\n",
      "2 0.8365068\n",
      "3 0.8591039\n",
      "4 0.8255458\n",
      "5 0.8308301\n"
     ]
    },
    {
     "name": "stderr",
     "output_type": "stream",
     "text": [
      "Quitting.\n",
      "\n",
      "Extracting data for 38 SNP(s) from 1 GWAS(s)\n",
      "\n",
      "Finding proxies for 10 SNPs in outcome ieu-b-18\n",
      "\n",
      "Extracting data for 10 SNP(s) from 1 GWAS(s)\n",
      "\n",
      "Harmonising Citrate || id:met-d-Citrate (met-d-Citrate) and multiple sclerosis || id:ieu-b-18 (ieu-b-18)\n",
      "\n",
      "Removing the following SNPs for being palindromic with intermediate allele frequencies:\n",
      "rs1190585, rs218689, rs2808454, rs28601761, rs2896635\n",
      "\n",
      "Analysing 'met-d-Citrate' on 'ieu-b-18'\n",
      "\n"
     ]
    },
    {
     "name": "stdout",
     "output_type": "stream",
     "text": [
      "    id.exposure id.outcome                           outcome\n",
      "1 met-d-Citrate   ieu-b-18 multiple sclerosis || id:ieu-b-18\n",
      "2 met-d-Citrate   ieu-b-18 multiple sclerosis || id:ieu-b-18\n",
      "3 met-d-Citrate   ieu-b-18 multiple sclerosis || id:ieu-b-18\n",
      "4 met-d-Citrate   ieu-b-18 multiple sclerosis || id:ieu-b-18\n",
      "5 met-d-Citrate   ieu-b-18 multiple sclerosis || id:ieu-b-18\n",
      "                     exposure                    method nsnp            b\n",
      "1 Citrate || id:met-d-Citrate                  MR Egger   26  0.045970665\n",
      "2 Citrate || id:met-d-Citrate           Weighted median   26  0.095294370\n",
      "3 Citrate || id:met-d-Citrate Inverse variance weighted   26 -0.004760353\n",
      "4 Citrate || id:met-d-Citrate               Simple mode   26  0.170378524\n",
      "5 Citrate || id:met-d-Citrate             Weighted mode   26  0.081940098\n",
      "          se      pval\n",
      "1 0.21526045 0.8326953\n",
      "2 0.10871364 0.3807240\n",
      "3 0.10254779 0.9629748\n",
      "4 0.15631845 0.2861321\n",
      "5 0.09697084 0.4061269\n"
     ]
    },
    {
     "name": "stderr",
     "output_type": "stream",
     "text": [
      "Quitting.\n",
      "\n",
      "Extracting data for 38 SNP(s) from 1 GWAS(s)\n",
      "\n",
      "Finding proxies for 6 SNPs in outcome finn-b-G6_MS\n",
      "\n",
      "Extracting data for 6 SNP(s) from 1 GWAS(s)\n",
      "\n",
      "Harmonising Citrate || id:met-d-Citrate (met-d-Citrate) and MS-disease / Multiple Sclerosis || id:finn-b-G6_MS (finn-b-G6_MS)\n",
      "\n",
      "Removing the following SNPs for being palindromic with intermediate allele frequencies:\n",
      "rs2808454, rs28601761, rs2896635\n",
      "\n",
      "Analysing 'met-d-Citrate' on 'finn-b-G6_MS'\n",
      "\n"
     ]
    },
    {
     "name": "stdout",
     "output_type": "stream",
     "text": [
      "    id.exposure   id.outcome                                            outcome\n",
      "1 met-d-Citrate finn-b-G6_MS MS-disease / Multiple Sclerosis || id:finn-b-G6_MS\n",
      "2 met-d-Citrate finn-b-G6_MS MS-disease / Multiple Sclerosis || id:finn-b-G6_MS\n",
      "3 met-d-Citrate finn-b-G6_MS MS-disease / Multiple Sclerosis || id:finn-b-G6_MS\n",
      "4 met-d-Citrate finn-b-G6_MS MS-disease / Multiple Sclerosis || id:finn-b-G6_MS\n",
      "5 met-d-Citrate finn-b-G6_MS MS-disease / Multiple Sclerosis || id:finn-b-G6_MS\n",
      "                     exposure                    method nsnp           b\n",
      "1 Citrate || id:met-d-Citrate                  MR Egger   31 -0.25587671\n",
      "2 Citrate || id:met-d-Citrate           Weighted median   31 -0.05974636\n",
      "3 Citrate || id:met-d-Citrate Inverse variance weighted   31  0.11646150\n",
      "4 Citrate || id:met-d-Citrate               Simple mode   31 -0.25491769\n",
      "5 Citrate || id:met-d-Citrate             Weighted mode   31 -0.16136229\n",
      "         se      pval\n",
      "1 0.4773872 0.5960502\n",
      "2 0.2831282 0.8328699\n",
      "3 0.2416032 0.6297802\n",
      "4 0.4864884 0.6041318\n",
      "5 0.2703436 0.5550667\n"
     ]
    },
    {
     "name": "stderr",
     "output_type": "stream",
     "text": [
      "Quitting.\n",
      "\n",
      "Extracting data for 12 SNP(s) from 1 GWAS(s)\n",
      "\n",
      "Finding proxies for 4 SNPs in outcome ieu-b-18\n",
      "\n",
      "Extracting data for 4 SNP(s) from 1 GWAS(s)\n",
      "\n",
      "Harmonising Lactate || id:met-d-Lactate (met-d-Lactate) and multiple sclerosis || id:ieu-b-18 (ieu-b-18)\n",
      "\n",
      "Removing the following SNPs for being palindromic with intermediate allele frequencies:\n",
      "rs59273177, rs6993770\n",
      "\n",
      "Analysing 'met-d-Lactate' on 'ieu-b-18'\n",
      "\n"
     ]
    },
    {
     "name": "stdout",
     "output_type": "stream",
     "text": [
      "    id.exposure id.outcome                           outcome\n",
      "1 met-d-Lactate   ieu-b-18 multiple sclerosis || id:ieu-b-18\n",
      "2 met-d-Lactate   ieu-b-18 multiple sclerosis || id:ieu-b-18\n",
      "3 met-d-Lactate   ieu-b-18 multiple sclerosis || id:ieu-b-18\n",
      "4 met-d-Lactate   ieu-b-18 multiple sclerosis || id:ieu-b-18\n",
      "5 met-d-Lactate   ieu-b-18 multiple sclerosis || id:ieu-b-18\n",
      "                     exposure                    method nsnp            b\n",
      "1 Lactate || id:met-d-Lactate                  MR Egger    8  0.248450147\n",
      "2 Lactate || id:met-d-Lactate           Weighted median    8  0.002561859\n",
      "3 Lactate || id:met-d-Lactate Inverse variance weighted    8  0.135667380\n",
      "4 Lactate || id:met-d-Lactate               Simple mode    8 -0.161486844\n",
      "5 Lactate || id:met-d-Lactate             Weighted mode    8 -0.161486844\n",
      "         se      pval\n",
      "1 1.6209765 0.8832088\n",
      "2 0.2942160 0.9930526\n",
      "3 0.4355862 0.7554515\n",
      "4 0.5395088 0.7733862\n",
      "5 0.4112801 0.7062642\n"
     ]
    },
    {
     "name": "stderr",
     "output_type": "stream",
     "text": [
      "Quitting.\n",
      "\n",
      "Extracting data for 12 SNP(s) from 1 GWAS(s)\n",
      "\n",
      "Finding proxies for 2 SNPs in outcome finn-b-G6_MS\n",
      "\n",
      "Extracting data for 2 SNP(s) from 1 GWAS(s)\n",
      "\n",
      "Harmonising Lactate || id:met-d-Lactate (met-d-Lactate) and MS-disease / Multiple Sclerosis || id:finn-b-G6_MS (finn-b-G6_MS)\n",
      "\n",
      "Analysing 'met-d-Lactate' on 'finn-b-G6_MS'\n",
      "\n"
     ]
    },
    {
     "name": "stdout",
     "output_type": "stream",
     "text": [
      "    id.exposure   id.outcome                                            outcome\n",
      "1 met-d-Lactate finn-b-G6_MS MS-disease / Multiple Sclerosis || id:finn-b-G6_MS\n",
      "2 met-d-Lactate finn-b-G6_MS MS-disease / Multiple Sclerosis || id:finn-b-G6_MS\n",
      "3 met-d-Lactate finn-b-G6_MS MS-disease / Multiple Sclerosis || id:finn-b-G6_MS\n",
      "4 met-d-Lactate finn-b-G6_MS MS-disease / Multiple Sclerosis || id:finn-b-G6_MS\n",
      "5 met-d-Lactate finn-b-G6_MS MS-disease / Multiple Sclerosis || id:finn-b-G6_MS\n",
      "                     exposure                    method nsnp          b\n",
      "1 Lactate || id:met-d-Lactate                  MR Egger   12  1.0115795\n",
      "2 Lactate || id:met-d-Lactate           Weighted median   12  0.9852904\n",
      "3 Lactate || id:met-d-Lactate Inverse variance weighted   12  1.0338504\n",
      "4 Lactate || id:met-d-Lactate               Simple mode   12 -0.1679199\n",
      "5 Lactate || id:met-d-Lactate             Weighted mode   12  0.7319957\n",
      "         se       pval\n",
      "1 1.5638351 0.53228961\n",
      "2 0.5720439 0.08499645\n",
      "3 0.4710364 0.02817494\n",
      "4 1.0424297 0.87494677\n",
      "5 0.8450299 0.40485871\n"
     ]
    },
    {
     "name": "stderr",
     "output_type": "stream",
     "text": [
      "Quitting.\n",
      "\n",
      "Extracting data for 4 SNP(s) from 1 GWAS(s)\n",
      "\n",
      "Harmonising Citrulline || id:met-a-356 (met-a-356) and multiple sclerosis || id:ieu-b-18 (ieu-b-18)\n",
      "\n",
      "Removing the following SNPs for being palindromic with intermediate allele frequencies:\n",
      "rs1935815\n",
      "\n",
      "Analysing 'met-a-356' on 'ieu-b-18'\n",
      "\n"
     ]
    },
    {
     "name": "stdout",
     "output_type": "stream",
     "text": [
      "  id.exposure id.outcome                           outcome\n",
      "1   met-a-356   ieu-b-18 multiple sclerosis || id:ieu-b-18\n",
      "2   met-a-356   ieu-b-18 multiple sclerosis || id:ieu-b-18\n",
      "3   met-a-356   ieu-b-18 multiple sclerosis || id:ieu-b-18\n",
      "4   met-a-356   ieu-b-18 multiple sclerosis || id:ieu-b-18\n",
      "5   met-a-356   ieu-b-18 multiple sclerosis || id:ieu-b-18\n",
      "                    exposure                    method nsnp           b\n",
      "1 Citrulline || id:met-a-356                  MR Egger    3 -33.7883750\n",
      "2 Citrulline || id:met-a-356           Weighted median    3   0.1659604\n",
      "3 Citrulline || id:met-a-356 Inverse variance weighted    3  -0.0737296\n",
      "4 Citrulline || id:met-a-356               Simple mode    3   0.3193442\n",
      "5 Citrulline || id:met-a-356             Weighted mode    3   0.9758194\n",
      "         se      pval\n",
      "1 99.061472 0.7907363\n",
      "2  1.420266 0.9069776\n",
      "3  1.145214 0.9486671\n",
      "4  1.989656 0.8872317\n",
      "5  2.013354 0.6757953\n"
     ]
    },
    {
     "name": "stderr",
     "output_type": "stream",
     "text": [
      "Quitting.\n",
      "\n",
      "Extracting data for 4 SNP(s) from 1 GWAS(s)\n",
      "\n",
      "Harmonising Citrulline || id:met-a-356 (met-a-356) and MS-disease / Multiple Sclerosis || id:finn-b-G6_MS (finn-b-G6_MS)\n",
      "\n",
      "Analysing 'met-a-356' on 'finn-b-G6_MS'\n",
      "\n"
     ]
    },
    {
     "name": "stdout",
     "output_type": "stream",
     "text": [
      "  id.exposure   id.outcome                                            outcome\n",
      "1   met-a-356 finn-b-G6_MS MS-disease / Multiple Sclerosis || id:finn-b-G6_MS\n",
      "2   met-a-356 finn-b-G6_MS MS-disease / Multiple Sclerosis || id:finn-b-G6_MS\n",
      "3   met-a-356 finn-b-G6_MS MS-disease / Multiple Sclerosis || id:finn-b-G6_MS\n",
      "4   met-a-356 finn-b-G6_MS MS-disease / Multiple Sclerosis || id:finn-b-G6_MS\n",
      "5   met-a-356 finn-b-G6_MS MS-disease / Multiple Sclerosis || id:finn-b-G6_MS\n",
      "                    exposure                    method nsnp          b\n",
      "1 Citrulline || id:met-a-356                  MR Egger    4 120.919645\n",
      "2 Citrulline || id:met-a-356           Weighted median    4  -5.985785\n",
      "3 Citrulline || id:met-a-356 Inverse variance weighted    4  -4.028831\n",
      "4 Citrulline || id:met-a-356               Simple mode    4  -8.990439\n",
      "5 Citrulline || id:met-a-356             Weighted mode    4  -8.418800\n",
      "         se       pval\n",
      "1 40.182361 0.09495961\n",
      "2  3.333999 0.07259362\n",
      "3  4.318200 0.35082580\n",
      "4  4.622598 0.14700673\n",
      "5  5.601695 0.22988838\n"
     ]
    },
    {
     "name": "stderr",
     "output_type": "stream",
     "text": [
      "Quitting.\n",
      "\n",
      "Extracting data for 2 SNP(s) from 1 GWAS(s)\n",
      "\n",
      "Harmonising Cis-4-decenoyl carnitine || id:met-a-753 (met-a-753) and multiple sclerosis || id:ieu-b-18 (ieu-b-18)\n",
      "\n",
      "Analysing 'met-a-753' on 'ieu-b-18'\n",
      "\n"
     ]
    },
    {
     "name": "stdout",
     "output_type": "stream",
     "text": [
      "  id.exposure id.outcome                           outcome\n",
      "1   met-a-753   ieu-b-18 multiple sclerosis || id:ieu-b-18\n",
      "                                  exposure                    method nsnp\n",
      "1 Cis-4-decenoyl carnitine || id:met-a-753 Inverse variance weighted    2\n",
      "          b        se      pval\n",
      "1 0.3580499 0.2673069 0.1804174\n"
     ]
    },
    {
     "name": "stderr",
     "output_type": "stream",
     "text": [
      "Quitting.\n",
      "\n",
      "Extracting data for 2 SNP(s) from 1 GWAS(s)\n",
      "\n",
      "Harmonising Cis-4-decenoyl carnitine || id:met-a-753 (met-a-753) and MS-disease / Multiple Sclerosis || id:finn-b-G6_MS (finn-b-G6_MS)\n",
      "\n",
      "Analysing 'met-a-753' on 'finn-b-G6_MS'\n",
      "\n"
     ]
    },
    {
     "name": "stdout",
     "output_type": "stream",
     "text": [
      "  id.exposure   id.outcome                                            outcome\n",
      "1   met-a-753 finn-b-G6_MS MS-disease / Multiple Sclerosis || id:finn-b-G6_MS\n",
      "                                  exposure                    method nsnp\n",
      "1 Cis-4-decenoyl carnitine || id:met-a-753 Inverse variance weighted    2\n",
      "           b        se      pval\n",
      "1 -0.4498862 0.7771739 0.5626738\n"
     ]
    },
    {
     "name": "stderr",
     "output_type": "stream",
     "text": [
      "Quitting.\n",
      "\n",
      "Extracting data for 38 SNP(s) from 1 GWAS(s)\n",
      "\n",
      "Finding proxies for 17 SNPs in outcome ieu-b-18\n",
      "\n",
      "Extracting data for 17 SNP(s) from 1 GWAS(s)\n",
      "\n",
      "Harmonising Tyrosine || id:met-d-Tyr (met-d-Tyr) and multiple sclerosis || id:ieu-b-18 (ieu-b-18)\n",
      "\n",
      "Removing the following SNPs for being palindromic with intermediate allele frequencies:\n",
      "rs2638315, rs28601761, rs6575900\n",
      "\n",
      "Analysing 'met-d-Tyr' on 'ieu-b-18'\n",
      "\n"
     ]
    },
    {
     "name": "stdout",
     "output_type": "stream",
     "text": [
      "  id.exposure id.outcome                           outcome\n",
      "1   met-d-Tyr   ieu-b-18 multiple sclerosis || id:ieu-b-18\n",
      "2   met-d-Tyr   ieu-b-18 multiple sclerosis || id:ieu-b-18\n",
      "3   met-d-Tyr   ieu-b-18 multiple sclerosis || id:ieu-b-18\n",
      "4   met-d-Tyr   ieu-b-18 multiple sclerosis || id:ieu-b-18\n",
      "5   met-d-Tyr   ieu-b-18 multiple sclerosis || id:ieu-b-18\n",
      "                  exposure                    method nsnp           b        se\n",
      "1 Tyrosine || id:met-d-Tyr                  MR Egger   23  0.16602313 0.4665787\n",
      "2 Tyrosine || id:met-d-Tyr           Weighted median   23 -0.15491910 0.1072410\n",
      "3 Tyrosine || id:met-d-Tyr Inverse variance weighted   23 -0.19667404 0.2808827\n",
      "4 Tyrosine || id:met-d-Tyr               Simple mode   23 -0.07033733 0.2419204\n",
      "5 Tyrosine || id:met-d-Tyr             Weighted mode   23 -0.12985738 0.1147199\n",
      "       pval\n",
      "1 0.7255168\n",
      "2 0.1485735\n",
      "3 0.4838024\n",
      "4 0.7739690\n",
      "5 0.2698425\n"
     ]
    },
    {
     "name": "stderr",
     "output_type": "stream",
     "text": [
      "Quitting.\n",
      "\n",
      "Extracting data for 38 SNP(s) from 1 GWAS(s)\n",
      "\n",
      "Finding proxies for 9 SNPs in outcome finn-b-G6_MS\n",
      "\n",
      "Extracting data for 9 SNP(s) from 1 GWAS(s)\n",
      "\n",
      "Harmonising Tyrosine || id:met-d-Tyr (met-d-Tyr) and MS-disease / Multiple Sclerosis || id:finn-b-G6_MS (finn-b-G6_MS)\n",
      "\n",
      "Removing the following SNPs for being palindromic with intermediate allele frequencies:\n",
      "rs28601761\n",
      "\n",
      "Analysing 'met-d-Tyr' on 'finn-b-G6_MS'\n",
      "\n"
     ]
    },
    {
     "name": "stdout",
     "output_type": "stream",
     "text": [
      "  id.exposure   id.outcome                                            outcome\n",
      "1   met-d-Tyr finn-b-G6_MS MS-disease / Multiple Sclerosis || id:finn-b-G6_MS\n",
      "2   met-d-Tyr finn-b-G6_MS MS-disease / Multiple Sclerosis || id:finn-b-G6_MS\n",
      "3   met-d-Tyr finn-b-G6_MS MS-disease / Multiple Sclerosis || id:finn-b-G6_MS\n",
      "4   met-d-Tyr finn-b-G6_MS MS-disease / Multiple Sclerosis || id:finn-b-G6_MS\n",
      "5   met-d-Tyr finn-b-G6_MS MS-disease / Multiple Sclerosis || id:finn-b-G6_MS\n",
      "                  exposure                    method nsnp         b        se\n",
      "1 Tyrosine || id:met-d-Tyr                  MR Egger   31 0.3660211 0.2963595\n",
      "2 Tyrosine || id:met-d-Tyr           Weighted median   31 0.1285442 0.2581731\n",
      "3 Tyrosine || id:met-d-Tyr Inverse variance weighted   31 0.1264564 0.1883441\n",
      "4 Tyrosine || id:met-d-Tyr               Simple mode   31 0.0618353 0.4759653\n",
      "5 Tyrosine || id:met-d-Tyr             Weighted mode   31 0.2093945 0.2623894\n",
      "       pval\n",
      "1 0.2267222\n",
      "2 0.6185549\n",
      "3 0.5019583\n",
      "4 0.8975004\n",
      "5 0.4311255\n"
     ]
    },
    {
     "name": "stderr",
     "output_type": "stream",
     "text": [
      "Quitting.\n",
      "\n",
      "Extracting data for 4 SNP(s) from 1 GWAS(s)\n",
      "\n",
      "Harmonising Hexanoylcarnitine || id:met-a-467 (met-a-467) and multiple sclerosis || id:ieu-b-18 (ieu-b-18)\n",
      "\n",
      "Removing the following SNPs for being palindromic with intermediate allele frequencies:\n",
      "rs2070630\n",
      "\n",
      "Analysing 'met-a-467' on 'ieu-b-18'\n",
      "\n"
     ]
    },
    {
     "name": "stdout",
     "output_type": "stream",
     "text": [
      "  id.exposure id.outcome                           outcome\n",
      "1   met-a-467   ieu-b-18 multiple sclerosis || id:ieu-b-18\n",
      "2   met-a-467   ieu-b-18 multiple sclerosis || id:ieu-b-18\n",
      "3   met-a-467   ieu-b-18 multiple sclerosis || id:ieu-b-18\n",
      "4   met-a-467   ieu-b-18 multiple sclerosis || id:ieu-b-18\n",
      "5   met-a-467   ieu-b-18 multiple sclerosis || id:ieu-b-18\n",
      "                           exposure                    method nsnp         b\n",
      "1 Hexanoylcarnitine || id:met-a-467                  MR Egger    3 0.1825105\n",
      "2 Hexanoylcarnitine || id:met-a-467           Weighted median    3 0.3591581\n",
      "3 Hexanoylcarnitine || id:met-a-467 Inverse variance weighted    3 0.3905585\n",
      "4 Hexanoylcarnitine || id:met-a-467               Simple mode    3 0.1908237\n",
      "5 Hexanoylcarnitine || id:met-a-467             Weighted mode    3 0.3402365\n",
      "         se       pval\n",
      "1 0.5707611 0.80297158\n",
      "2 0.2414601 0.13689786\n",
      "3 0.2284884 0.08739269\n",
      "4 0.3848048 0.66910113\n",
      "5 0.2610581 0.32231807\n"
     ]
    },
    {
     "name": "stderr",
     "output_type": "stream",
     "text": [
      "Quitting.\n",
      "\n",
      "Extracting data for 4 SNP(s) from 1 GWAS(s)\n",
      "\n",
      "Harmonising Hexanoylcarnitine || id:met-a-467 (met-a-467) and MS-disease / Multiple Sclerosis || id:finn-b-G6_MS (finn-b-G6_MS)\n",
      "\n",
      "Analysing 'met-a-467' on 'finn-b-G6_MS'\n",
      "\n"
     ]
    },
    {
     "name": "stdout",
     "output_type": "stream",
     "text": [
      "  id.exposure   id.outcome                                            outcome\n",
      "1   met-a-467 finn-b-G6_MS MS-disease / Multiple Sclerosis || id:finn-b-G6_MS\n",
      "2   met-a-467 finn-b-G6_MS MS-disease / Multiple Sclerosis || id:finn-b-G6_MS\n",
      "3   met-a-467 finn-b-G6_MS MS-disease / Multiple Sclerosis || id:finn-b-G6_MS\n",
      "4   met-a-467 finn-b-G6_MS MS-disease / Multiple Sclerosis || id:finn-b-G6_MS\n",
      "5   met-a-467 finn-b-G6_MS MS-disease / Multiple Sclerosis || id:finn-b-G6_MS\n",
      "                           exposure                    method nsnp           b\n",
      "1 Hexanoylcarnitine || id:met-a-467                  MR Egger    4 -1.68580881\n",
      "2 Hexanoylcarnitine || id:met-a-467           Weighted median    4 -0.09171994\n",
      "3 Hexanoylcarnitine || id:met-a-467 Inverse variance weighted    4 -0.13875591\n",
      "4 Hexanoylcarnitine || id:met-a-467               Simple mode    4  1.40224986\n",
      "5 Hexanoylcarnitine || id:met-a-467             Weighted mode    4 -0.66098621\n",
      "         se      pval\n",
      "1 1.2394488 0.3068100\n",
      "2 0.6909800 0.8943999\n",
      "3 0.6401355 0.8283952\n",
      "4 1.5730264 0.4383707\n",
      "5 0.7561280 0.4463664\n"
     ]
    },
    {
     "name": "stderr",
     "output_type": "stream",
     "text": [
      "Quitting.\n",
      "\n",
      "Extracting data for 6 SNP(s) from 1 GWAS(s)\n",
      "\n",
      "Finding proxies for 1 SNPs in outcome ieu-b-18\n",
      "\n",
      "Extracting data for 1 SNP(s) from 1 GWAS(s)\n",
      "\n",
      "Harmonising Creatinine || id:met-c-850 (met-c-850) and multiple sclerosis || id:ieu-b-18 (ieu-b-18)\n",
      "\n",
      "Removing the following SNPs for being palindromic with intermediate allele frequencies:\n",
      "rs6127099\n",
      "\n",
      "Analysing 'met-c-850' on 'ieu-b-18'\n",
      "\n"
     ]
    },
    {
     "name": "stdout",
     "output_type": "stream",
     "text": [
      "  id.exposure id.outcome                           outcome\n",
      "1   met-c-850   ieu-b-18 multiple sclerosis || id:ieu-b-18\n",
      "2   met-c-850   ieu-b-18 multiple sclerosis || id:ieu-b-18\n",
      "3   met-c-850   ieu-b-18 multiple sclerosis || id:ieu-b-18\n",
      "4   met-c-850   ieu-b-18 multiple sclerosis || id:ieu-b-18\n",
      "5   met-c-850   ieu-b-18 multiple sclerosis || id:ieu-b-18\n",
      "                    exposure                    method nsnp           b\n",
      "1 Creatinine || id:met-c-850                  MR Egger    4 -0.76235596\n",
      "2 Creatinine || id:met-c-850           Weighted median    4 -0.28402299\n",
      "3 Creatinine || id:met-c-850 Inverse variance weighted    4 -0.26172443\n",
      "4 Creatinine || id:met-c-850               Simple mode    4 -0.02951596\n",
      "5 Creatinine || id:met-c-850             Weighted mode    4 -0.44655816\n",
      "         se       pval\n",
      "1 1.0955083 0.55848744\n",
      "2 0.1492359 0.05701682\n",
      "3 0.1382216 0.05828971\n",
      "4 0.2613798 0.91722358\n",
      "5 0.2363285 0.15522104\n"
     ]
    },
    {
     "name": "stderr",
     "output_type": "stream",
     "text": [
      "Quitting.\n",
      "\n",
      "Extracting data for 6 SNP(s) from 1 GWAS(s)\n",
      "\n",
      "Finding proxies for 1 SNPs in outcome finn-b-G6_MS\n",
      "\n",
      "Extracting data for 1 SNP(s) from 1 GWAS(s)\n",
      "\n",
      "Harmonising Creatinine || id:met-c-850 (met-c-850) and MS-disease / Multiple Sclerosis || id:finn-b-G6_MS (finn-b-G6_MS)\n",
      "\n",
      "Analysing 'met-c-850' on 'finn-b-G6_MS'\n",
      "\n"
     ]
    },
    {
     "name": "stdout",
     "output_type": "stream",
     "text": [
      "  id.exposure   id.outcome                                            outcome\n",
      "1   met-c-850 finn-b-G6_MS MS-disease / Multiple Sclerosis || id:finn-b-G6_MS\n",
      "2   met-c-850 finn-b-G6_MS MS-disease / Multiple Sclerosis || id:finn-b-G6_MS\n",
      "3   met-c-850 finn-b-G6_MS MS-disease / Multiple Sclerosis || id:finn-b-G6_MS\n",
      "4   met-c-850 finn-b-G6_MS MS-disease / Multiple Sclerosis || id:finn-b-G6_MS\n",
      "5   met-c-850 finn-b-G6_MS MS-disease / Multiple Sclerosis || id:finn-b-G6_MS\n",
      "                    exposure                    method nsnp           b\n",
      "1 Creatinine || id:met-c-850                  MR Egger    6  0.19630634\n",
      "2 Creatinine || id:met-c-850           Weighted median    6 -0.27829062\n",
      "3 Creatinine || id:met-c-850 Inverse variance weighted    6 -0.37882877\n",
      "4 Creatinine || id:met-c-850               Simple mode    6  0.04118580\n",
      "5 Creatinine || id:met-c-850             Weighted mode    6 -0.09729284\n",
      "         se      pval\n",
      "1 1.5956387 0.9080197\n",
      "2 0.3492285 0.4255250\n",
      "3 0.2827409 0.1802960\n",
      "4 0.5222111 0.9401967\n",
      "5 0.4637344 0.8421024\n"
     ]
    },
    {
     "name": "stderr",
     "output_type": "stream",
     "text": [
      "Quitting.\n",
      "\n",
      "Extracting data for 2 SNP(s) from 1 GWAS(s)\n",
      "\n",
      "Finding proxies for 1 SNPs in outcome ieu-b-18\n",
      "\n",
      "Extracting data for 1 SNP(s) from 1 GWAS(s)\n",
      "\n",
      "Harmonising Acetylcarnitine || id:met-a-463 (met-a-463) and multiple sclerosis || id:ieu-b-18 (ieu-b-18)\n",
      "\n",
      "Analysing 'met-a-463' on 'ieu-b-18'\n",
      "\n"
     ]
    },
    {
     "name": "stdout",
     "output_type": "stream",
     "text": [
      "  id.exposure id.outcome                           outcome\n",
      "1   met-a-463   ieu-b-18 multiple sclerosis || id:ieu-b-18\n",
      "                         exposure     method nsnp        b        se      pval\n",
      "1 Acetylcarnitine || id:met-a-463 Wald ratio    1 1.497148 0.9488523 0.1145998\n"
     ]
    },
    {
     "name": "stderr",
     "output_type": "stream",
     "text": [
      "Quitting.\n",
      "\n",
      "Extracting data for 2 SNP(s) from 1 GWAS(s)\n",
      "\n",
      "Harmonising Acetylcarnitine || id:met-a-463 (met-a-463) and MS-disease / Multiple Sclerosis || id:finn-b-G6_MS (finn-b-G6_MS)\n",
      "\n",
      "Analysing 'met-a-463' on 'finn-b-G6_MS'\n",
      "\n"
     ]
    },
    {
     "name": "stdout",
     "output_type": "stream",
     "text": [
      "  id.exposure   id.outcome                                            outcome\n",
      "1   met-a-463 finn-b-G6_MS MS-disease / Multiple Sclerosis || id:finn-b-G6_MS\n",
      "                         exposure                    method nsnp        b\n",
      "1 Acetylcarnitine || id:met-a-463 Inverse variance weighted    2 1.645678\n",
      "        se      pval\n",
      "1 1.664818 0.3229064\n"
     ]
    },
    {
     "name": "stderr",
     "output_type": "stream",
     "text": [
      "Quitting.\n",
      "\n",
      "Extracting data for 22 SNP(s) from 1 GWAS(s)\n",
      "\n",
      "Finding proxies for 6 SNPs in outcome ieu-b-18\n",
      "\n",
      "Extracting data for 6 SNP(s) from 1 GWAS(s)\n",
      "\n",
      "Harmonising Valine || id:met-d-Val (met-d-Val) and multiple sclerosis || id:ieu-b-18 (ieu-b-18)\n",
      "\n",
      "Removing the following SNPs for being palindromic with intermediate allele frequencies:\n",
      "rs17096421, rs2638315, rs6941263\n",
      "\n",
      "Analysing 'met-d-Val' on 'ieu-b-18'\n",
      "\n"
     ]
    },
    {
     "name": "stdout",
     "output_type": "stream",
     "text": [
      "  id.exposure id.outcome                           outcome\n",
      "1   met-d-Val   ieu-b-18 multiple sclerosis || id:ieu-b-18\n",
      "2   met-d-Val   ieu-b-18 multiple sclerosis || id:ieu-b-18\n",
      "3   met-d-Val   ieu-b-18 multiple sclerosis || id:ieu-b-18\n",
      "4   met-d-Val   ieu-b-18 multiple sclerosis || id:ieu-b-18\n",
      "5   met-d-Val   ieu-b-18 multiple sclerosis || id:ieu-b-18\n",
      "                exposure                    method nsnp           b        se\n",
      "1 Valine || id:met-d-Val                  MR Egger   14 -0.18324225 0.2848802\n",
      "2 Valine || id:met-d-Val           Weighted median   14  0.16250187 0.1399229\n",
      "3 Valine || id:met-d-Val Inverse variance weighted   14  0.20193217 0.1484525\n",
      "4 Valine || id:met-d-Val               Simple mode   14 -0.01597131 0.2500614\n",
      "5 Valine || id:met-d-Val             Weighted mode   14  0.11913919 0.1395895\n",
      "       pval\n",
      "1 0.5321771\n",
      "2 0.2454927\n",
      "3 0.1737516\n",
      "4 0.9500457\n",
      "5 0.4088355\n"
     ]
    },
    {
     "name": "stderr",
     "output_type": "stream",
     "text": [
      "Quitting.\n",
      "\n",
      "Extracting data for 22 SNP(s) from 1 GWAS(s)\n",
      "\n",
      "Finding proxies for 4 SNPs in outcome finn-b-G6_MS\n",
      "\n",
      "Extracting data for 4 SNP(s) from 1 GWAS(s)\n",
      "\n",
      "Harmonising Valine || id:met-d-Val (met-d-Val) and MS-disease / Multiple Sclerosis || id:finn-b-G6_MS (finn-b-G6_MS)\n",
      "\n",
      "Removing the following SNPs for incompatible alleles:\n",
      "rs7656569\n",
      "\n",
      "Analysing 'met-d-Val' on 'finn-b-G6_MS'\n",
      "\n"
     ]
    },
    {
     "name": "stdout",
     "output_type": "stream",
     "text": [
      "  id.exposure   id.outcome                                            outcome\n",
      "1   met-d-Val finn-b-G6_MS MS-disease / Multiple Sclerosis || id:finn-b-G6_MS\n",
      "2   met-d-Val finn-b-G6_MS MS-disease / Multiple Sclerosis || id:finn-b-G6_MS\n",
      "3   met-d-Val finn-b-G6_MS MS-disease / Multiple Sclerosis || id:finn-b-G6_MS\n",
      "4   met-d-Val finn-b-G6_MS MS-disease / Multiple Sclerosis || id:finn-b-G6_MS\n",
      "5   met-d-Val finn-b-G6_MS MS-disease / Multiple Sclerosis || id:finn-b-G6_MS\n",
      "                exposure                    method nsnp           b        se\n",
      "1 Valine || id:met-d-Val                  MR Egger   19  0.69884151 0.4663017\n",
      "2 Valine || id:met-d-Val           Weighted median   19 -0.12067588 0.3317920\n",
      "3 Valine || id:met-d-Val Inverse variance weighted   19 -0.04619594 0.2348954\n",
      "4 Valine || id:met-d-Val               Simple mode   19 -0.23556047 0.4741580\n",
      "5 Valine || id:met-d-Val             Weighted mode   19 -0.09360744 0.3476014\n",
      "       pval\n",
      "1 0.1522940\n",
      "2 0.7160750\n",
      "3 0.8440889\n",
      "4 0.6253449\n",
      "5 0.7907651\n"
     ]
    },
    {
     "name": "stderr",
     "output_type": "stream",
     "text": [
      "Quitting.\n",
      "\n",
      "Extracting data for 17 SNP(s) from 1 GWAS(s)\n",
      "\n",
      "Finding proxies for 8 SNPs in outcome ieu-b-18\n",
      "\n",
      "Extracting data for 8 SNP(s) from 1 GWAS(s)\n",
      "\n",
      "Harmonising Histidine || id:met-d-His (met-d-His) and multiple sclerosis || id:ieu-b-18 (ieu-b-18)\n",
      "\n",
      "Removing the following SNPs for being palindromic with intermediate allele frequencies:\n",
      "rs1883711, rs1958393\n",
      "\n",
      "Analysing 'met-d-His' on 'ieu-b-18'\n",
      "\n"
     ]
    },
    {
     "name": "stdout",
     "output_type": "stream",
     "text": [
      "  id.exposure id.outcome                           outcome\n",
      "1   met-d-His   ieu-b-18 multiple sclerosis || id:ieu-b-18\n",
      "2   met-d-His   ieu-b-18 multiple sclerosis || id:ieu-b-18\n",
      "3   met-d-His   ieu-b-18 multiple sclerosis || id:ieu-b-18\n",
      "4   met-d-His   ieu-b-18 multiple sclerosis || id:ieu-b-18\n",
      "5   met-d-His   ieu-b-18 multiple sclerosis || id:ieu-b-18\n",
      "                   exposure                    method nsnp            b\n",
      "1 Histidine || id:met-d-His                  MR Egger   11  0.352334738\n",
      "2 Histidine || id:met-d-His           Weighted median   11 -0.062483895\n",
      "3 Histidine || id:met-d-His Inverse variance weighted   11  0.051472910\n",
      "4 Histidine || id:met-d-His               Simple mode   11  0.005800105\n",
      "5 Histidine || id:met-d-His             Weighted mode   11  0.080263836\n",
      "         se      pval\n",
      "1 0.3819553 0.3803583\n",
      "2 0.1852289 0.7358656\n",
      "3 0.1471483 0.7264866\n",
      "4 0.2959279 0.9847482\n",
      "5 0.2242013 0.7277854\n"
     ]
    },
    {
     "name": "stderr",
     "output_type": "stream",
     "text": [
      "Quitting.\n",
      "\n",
      "Extracting data for 17 SNP(s) from 1 GWAS(s)\n",
      "\n",
      "Finding proxies for 2 SNPs in outcome finn-b-G6_MS\n",
      "\n",
      "Extracting data for 2 SNP(s) from 1 GWAS(s)\n",
      "\n",
      "Harmonising Histidine || id:met-d-His (met-d-His) and MS-disease / Multiple Sclerosis || id:finn-b-G6_MS (finn-b-G6_MS)\n",
      "\n",
      "Analysing 'met-d-His' on 'finn-b-G6_MS'\n",
      "\n"
     ]
    },
    {
     "name": "stdout",
     "output_type": "stream",
     "text": [
      "  id.exposure   id.outcome                                            outcome\n",
      "1   met-d-His finn-b-G6_MS MS-disease / Multiple Sclerosis || id:finn-b-G6_MS\n",
      "2   met-d-His finn-b-G6_MS MS-disease / Multiple Sclerosis || id:finn-b-G6_MS\n",
      "3   met-d-His finn-b-G6_MS MS-disease / Multiple Sclerosis || id:finn-b-G6_MS\n",
      "4   met-d-His finn-b-G6_MS MS-disease / Multiple Sclerosis || id:finn-b-G6_MS\n",
      "5   met-d-His finn-b-G6_MS MS-disease / Multiple Sclerosis || id:finn-b-G6_MS\n",
      "                   exposure                    method nsnp         b        se\n",
      "1 Histidine || id:met-d-His                  MR Egger   15 1.2969051 0.9860684\n",
      "2 Histidine || id:met-d-His           Weighted median   15 0.2818920 0.4486219\n",
      "3 Histidine || id:met-d-His Inverse variance weighted   15 0.2613006 0.3816955\n",
      "4 Histidine || id:met-d-His               Simple mode   15 0.3146173 0.6259816\n",
      "5 Histidine || id:met-d-His             Weighted mode   15 0.5051381 0.5460348\n",
      "       pval\n",
      "1 0.2111600\n",
      "2 0.5297741\n",
      "3 0.4936098\n",
      "4 0.6230598\n",
      "5 0.3705847\n"
     ]
    },
    {
     "name": "stderr",
     "output_type": "stream",
     "text": [
      "Quitting.\n",
      "\n",
      "Extracting data for 6 SNP(s) from 1 GWAS(s)\n",
      "\n",
      "Harmonising Glutamine || id:met-c-860 (met-c-860) and multiple sclerosis || id:ieu-b-18 (ieu-b-18)\n",
      "\n",
      "Removing the following SNPs for being palindromic with intermediate allele frequencies:\n",
      "rs7952320\n",
      "\n",
      "Analysing 'met-c-860' on 'ieu-b-18'\n",
      "\n"
     ]
    },
    {
     "name": "stdout",
     "output_type": "stream",
     "text": [
      "  id.exposure id.outcome                           outcome\n",
      "1   met-c-860   ieu-b-18 multiple sclerosis || id:ieu-b-18\n",
      "2   met-c-860   ieu-b-18 multiple sclerosis || id:ieu-b-18\n",
      "3   met-c-860   ieu-b-18 multiple sclerosis || id:ieu-b-18\n",
      "4   met-c-860   ieu-b-18 multiple sclerosis || id:ieu-b-18\n",
      "5   met-c-860   ieu-b-18 multiple sclerosis || id:ieu-b-18\n",
      "                   exposure                    method nsnp           b\n",
      "1 Glutamine || id:met-c-860                  MR Egger    5 -0.16488005\n",
      "2 Glutamine || id:met-c-860           Weighted median    5 -0.07432625\n",
      "3 Glutamine || id:met-c-860 Inverse variance weighted    5 -0.04280065\n",
      "4 Glutamine || id:met-c-860               Simple mode    5 -0.16605212\n",
      "5 Glutamine || id:met-c-860             Weighted mode    5 -0.08636392\n",
      "          se      pval\n",
      "1 0.21376498 0.4967032\n",
      "2 0.09006405 0.4092241\n",
      "3 0.10299482 0.6777312\n",
      "4 0.17034641 0.3848607\n",
      "5 0.09648287 0.4213181\n"
     ]
    },
    {
     "name": "stderr",
     "output_type": "stream",
     "text": [
      "Quitting.\n",
      "\n",
      "Extracting data for 6 SNP(s) from 1 GWAS(s)\n",
      "\n",
      "Harmonising Glutamine || id:met-c-860 (met-c-860) and MS-disease / Multiple Sclerosis || id:finn-b-G6_MS (finn-b-G6_MS)\n",
      "\n",
      "Removing the following SNPs for being palindromic with intermediate allele frequencies:\n",
      "rs7952320\n",
      "\n",
      "Analysing 'met-c-860' on 'finn-b-G6_MS'\n",
      "\n"
     ]
    },
    {
     "name": "stdout",
     "output_type": "stream",
     "text": [
      "  id.exposure   id.outcome                                            outcome\n",
      "1   met-c-860 finn-b-G6_MS MS-disease / Multiple Sclerosis || id:finn-b-G6_MS\n",
      "2   met-c-860 finn-b-G6_MS MS-disease / Multiple Sclerosis || id:finn-b-G6_MS\n",
      "3   met-c-860 finn-b-G6_MS MS-disease / Multiple Sclerosis || id:finn-b-G6_MS\n",
      "4   met-c-860 finn-b-G6_MS MS-disease / Multiple Sclerosis || id:finn-b-G6_MS\n",
      "5   met-c-860 finn-b-G6_MS MS-disease / Multiple Sclerosis || id:finn-b-G6_MS\n",
      "                   exposure                    method nsnp           b\n",
      "1 Glutamine || id:met-c-860                  MR Egger    5 -0.03483312\n",
      "2 Glutamine || id:met-c-860           Weighted median    5  0.11824761\n",
      "3 Glutamine || id:met-c-860 Inverse variance weighted    5  0.20647808\n",
      "4 Glutamine || id:met-c-860               Simple mode    5  0.28628112\n",
      "5 Glutamine || id:met-c-860             Weighted mode    5  0.13738020\n",
      "         se      pval\n",
      "1 0.7907527 0.9676321\n",
      "2 0.2433627 0.6270448\n",
      "3 0.3623126 0.5687527\n",
      "4 0.4668487 0.5728841\n",
      "5 0.2610013 0.6264744\n"
     ]
    },
    {
     "name": "stderr",
     "output_type": "stream",
     "text": [
      "Quitting.\n",
      "\n",
      "Extracting data for 3 SNP(s) from 1 GWAS(s)\n",
      "\n",
      "Finding proxies for 1 SNPs in outcome ieu-b-18\n",
      "\n",
      "Extracting data for 1 SNP(s) from 1 GWAS(s)\n",
      "\n",
      "Harmonising Isobutyrylcarnitine || id:met-a-573 (met-a-573) and multiple sclerosis || id:ieu-b-18 (ieu-b-18)\n",
      "\n",
      "Removing the following SNPs for being palindromic with intermediate allele frequencies:\n",
      "rs662138\n",
      "\n",
      "Analysing 'met-a-573' on 'ieu-b-18'\n",
      "\n"
     ]
    },
    {
     "name": "stdout",
     "output_type": "stream",
     "text": [
      "  id.exposure id.outcome                           outcome\n",
      "1   met-a-573   ieu-b-18 multiple sclerosis || id:ieu-b-18\n",
      "                             exposure                    method nsnp          b\n",
      "1 Isobutyrylcarnitine || id:met-a-573 Inverse variance weighted    2 -0.1918307\n",
      "         se      pval\n",
      "1 0.4465211 0.6674781\n"
     ]
    },
    {
     "name": "stderr",
     "output_type": "stream",
     "text": [
      "Quitting.\n",
      "\n",
      "Extracting data for 3 SNP(s) from 1 GWAS(s)\n",
      "\n",
      "Harmonising Isobutyrylcarnitine || id:met-a-573 (met-a-573) and MS-disease / Multiple Sclerosis || id:finn-b-G6_MS (finn-b-G6_MS)\n",
      "\n",
      "Analysing 'met-a-573' on 'finn-b-G6_MS'\n",
      "\n"
     ]
    },
    {
     "name": "stdout",
     "output_type": "stream",
     "text": [
      "  id.exposure   id.outcome                                            outcome\n",
      "1   met-a-573 finn-b-G6_MS MS-disease / Multiple Sclerosis || id:finn-b-G6_MS\n",
      "2   met-a-573 finn-b-G6_MS MS-disease / Multiple Sclerosis || id:finn-b-G6_MS\n",
      "3   met-a-573 finn-b-G6_MS MS-disease / Multiple Sclerosis || id:finn-b-G6_MS\n",
      "4   met-a-573 finn-b-G6_MS MS-disease / Multiple Sclerosis || id:finn-b-G6_MS\n",
      "5   met-a-573 finn-b-G6_MS MS-disease / Multiple Sclerosis || id:finn-b-G6_MS\n",
      "                             exposure                    method nsnp          b\n",
      "1 Isobutyrylcarnitine || id:met-a-573                  MR Egger    3 -0.1653623\n",
      "2 Isobutyrylcarnitine || id:met-a-573           Weighted median    3 -0.1493250\n",
      "3 Isobutyrylcarnitine || id:met-a-573 Inverse variance weighted    3 -0.2483611\n",
      "4 Isobutyrylcarnitine || id:met-a-573               Simple mode    3  0.1474063\n",
      "5 Isobutyrylcarnitine || id:met-a-573             Weighted mode    3 -0.1069491\n",
      "         se      pval\n",
      "1 1.6172442 0.9351314\n",
      "2 0.7805763 0.8482898\n",
      "3 0.6856073 0.7171654\n",
      "4 0.9260013 0.8881450\n",
      "5 0.8730818 0.9137053\n"
     ]
    },
    {
     "name": "stderr",
     "output_type": "stream",
     "text": [
      "Quitting.\n",
      "\n",
      "Extracting data for 2 SNP(s) from 1 GWAS(s)\n",
      "\n",
      "Harmonising Lactate || id:met-c-894 (met-c-894) and multiple sclerosis || id:ieu-b-18 (ieu-b-18)\n",
      "\n",
      "Analysing 'met-c-894' on 'ieu-b-18'\n",
      "\n"
     ]
    },
    {
     "name": "stdout",
     "output_type": "stream",
     "text": [
      "  id.exposure id.outcome                           outcome\n",
      "1   met-c-894   ieu-b-18 multiple sclerosis || id:ieu-b-18\n",
      "                 exposure                    method nsnp          b        se\n",
      "1 Lactate || id:met-c-894 Inverse variance weighted    2 -0.1089143 0.2136534\n",
      "       pval\n",
      "1 0.6102118\n"
     ]
    },
    {
     "name": "stderr",
     "output_type": "stream",
     "text": [
      "Quitting.\n",
      "\n",
      "Extracting data for 2 SNP(s) from 1 GWAS(s)\n",
      "\n",
      "Harmonising Lactate || id:met-c-894 (met-c-894) and MS-disease / Multiple Sclerosis || id:finn-b-G6_MS (finn-b-G6_MS)\n",
      "\n",
      "Analysing 'met-c-894' on 'finn-b-G6_MS'\n",
      "\n"
     ]
    },
    {
     "name": "stdout",
     "output_type": "stream",
     "text": [
      "  id.exposure   id.outcome                                            outcome\n",
      "1   met-c-894 finn-b-G6_MS MS-disease / Multiple Sclerosis || id:finn-b-G6_MS\n",
      "                 exposure                    method nsnp         b       se\n",
      "1 Lactate || id:met-c-894 Inverse variance weighted    2 0.1448394 0.604394\n",
      "       pval\n",
      "1 0.8106062\n"
     ]
    },
    {
     "name": "stderr",
     "output_type": "stream",
     "text": [
      "Quitting.\n",
      "\n",
      "Extracting data for 3 SNP(s) from 1 GWAS(s)\n",
      "\n",
      "Finding proxies for 1 SNPs in outcome ieu-b-18\n",
      "\n",
      "Extracting data for 1 SNP(s) from 1 GWAS(s)\n",
      "\n",
      "Harmonising Isovalerylcarnitine || id:met-a-652 (met-a-652) and multiple sclerosis || id:ieu-b-18 (ieu-b-18)\n",
      "\n",
      "Analysing 'met-a-652' on 'ieu-b-18'\n",
      "\n"
     ]
    },
    {
     "name": "stdout",
     "output_type": "stream",
     "text": [
      "  id.exposure id.outcome                           outcome\n",
      "1   met-a-652   ieu-b-18 multiple sclerosis || id:ieu-b-18\n",
      "2   met-a-652   ieu-b-18 multiple sclerosis || id:ieu-b-18\n",
      "3   met-a-652   ieu-b-18 multiple sclerosis || id:ieu-b-18\n",
      "4   met-a-652   ieu-b-18 multiple sclerosis || id:ieu-b-18\n",
      "5   met-a-652   ieu-b-18 multiple sclerosis || id:ieu-b-18\n",
      "                             exposure                    method nsnp          b\n",
      "1 Isovalerylcarnitine || id:met-a-652                  MR Egger    3  9.2172314\n",
      "2 Isovalerylcarnitine || id:met-a-652           Weighted median    3  0.3198384\n",
      "3 Isovalerylcarnitine || id:met-a-652 Inverse variance weighted    3  0.2946619\n",
      "4 Isovalerylcarnitine || id:met-a-652               Simple mode    3 -0.3219086\n",
      "5 Isovalerylcarnitine || id:met-a-652             Weighted mode    3  0.4367469\n",
      "         se      pval\n",
      "1 4.3864404 0.2827730\n",
      "2 0.3842285 0.4051736\n",
      "3 0.4885016 0.5463787\n",
      "4 0.6619097 0.6748023\n",
      "5 0.4394203 0.4249986\n"
     ]
    },
    {
     "name": "stderr",
     "output_type": "stream",
     "text": [
      "Quitting.\n",
      "\n",
      "Extracting data for 3 SNP(s) from 1 GWAS(s)\n",
      "\n",
      "Harmonising Isovalerylcarnitine || id:met-a-652 (met-a-652) and MS-disease / Multiple Sclerosis || id:finn-b-G6_MS (finn-b-G6_MS)\n",
      "\n",
      "Analysing 'met-a-652' on 'finn-b-G6_MS'\n",
      "\n"
     ]
    },
    {
     "name": "stdout",
     "output_type": "stream",
     "text": [
      "  id.exposure   id.outcome                                            outcome\n",
      "1   met-a-652 finn-b-G6_MS MS-disease / Multiple Sclerosis || id:finn-b-G6_MS\n",
      "2   met-a-652 finn-b-G6_MS MS-disease / Multiple Sclerosis || id:finn-b-G6_MS\n",
      "3   met-a-652 finn-b-G6_MS MS-disease / Multiple Sclerosis || id:finn-b-G6_MS\n",
      "4   met-a-652 finn-b-G6_MS MS-disease / Multiple Sclerosis || id:finn-b-G6_MS\n",
      "5   met-a-652 finn-b-G6_MS MS-disease / Multiple Sclerosis || id:finn-b-G6_MS\n",
      "                             exposure                    method nsnp         b\n",
      "1 Isovalerylcarnitine || id:met-a-652                  MR Egger    3 -2.491341\n",
      "2 Isovalerylcarnitine || id:met-a-652           Weighted median    3  1.729148\n",
      "3 Isovalerylcarnitine || id:met-a-652 Inverse variance weighted    3  1.786543\n",
      "4 Isovalerylcarnitine || id:met-a-652               Simple mode    3  2.467450\n",
      "5 Isovalerylcarnitine || id:met-a-652             Weighted mode    3  1.669304\n",
      "          se       pval\n",
      "1 11.9897488 0.86957325\n",
      "2  0.9872258 0.07985605\n",
      "3  0.8716009 0.04039122\n",
      "4  1.1816928 0.17202949\n",
      "5  1.2215035 0.30510286\n"
     ]
    },
    {
     "name": "stderr",
     "output_type": "stream",
     "text": [
      "Quitting.\n",
      "\n",
      "Extracting data for 6 SNP(s) from 1 GWAS(s)\n",
      "\n",
      "Harmonising Citrate || id:met-a-341 (met-a-341) and multiple sclerosis || id:ieu-b-18 (ieu-b-18)\n",
      "\n",
      "Analysing 'met-a-341' on 'ieu-b-18'\n",
      "\n"
     ]
    },
    {
     "name": "stdout",
     "output_type": "stream",
     "text": [
      "  id.exposure id.outcome                           outcome\n",
      "1   met-a-341   ieu-b-18 multiple sclerosis || id:ieu-b-18\n",
      "2   met-a-341   ieu-b-18 multiple sclerosis || id:ieu-b-18\n",
      "3   met-a-341   ieu-b-18 multiple sclerosis || id:ieu-b-18\n",
      "4   met-a-341   ieu-b-18 multiple sclerosis || id:ieu-b-18\n",
      "5   met-a-341   ieu-b-18 multiple sclerosis || id:ieu-b-18\n",
      "                 exposure                    method nsnp          b        se\n",
      "1 Citrate || id:met-a-341                  MR Egger    6 -2.8305537 1.9384058\n",
      "2 Citrate || id:met-a-341           Weighted median    6  0.4090519 0.7569931\n",
      "3 Citrate || id:met-a-341 Inverse variance weighted    6 -0.2705880 0.6085548\n",
      "4 Citrate || id:met-a-341               Simple mode    6  0.6203039 1.0718976\n",
      "5 Citrate || id:met-a-341             Weighted mode    6  0.6007206 1.2195813\n",
      "       pval\n",
      "1 0.2180055\n",
      "2 0.5889459\n",
      "3 0.6565798\n",
      "4 0.5878824\n",
      "5 0.6431867\n"
     ]
    },
    {
     "name": "stderr",
     "output_type": "stream",
     "text": [
      "Quitting.\n",
      "\n",
      "Extracting data for 6 SNP(s) from 1 GWAS(s)\n",
      "\n",
      "Harmonising Citrate || id:met-a-341 (met-a-341) and MS-disease / Multiple Sclerosis || id:finn-b-G6_MS (finn-b-G6_MS)\n",
      "\n",
      "Analysing 'met-a-341' on 'finn-b-G6_MS'\n",
      "\n"
     ]
    },
    {
     "name": "stdout",
     "output_type": "stream",
     "text": [
      "  id.exposure   id.outcome                                            outcome\n",
      "1   met-a-341 finn-b-G6_MS MS-disease / Multiple Sclerosis || id:finn-b-G6_MS\n",
      "2   met-a-341 finn-b-G6_MS MS-disease / Multiple Sclerosis || id:finn-b-G6_MS\n",
      "3   met-a-341 finn-b-G6_MS MS-disease / Multiple Sclerosis || id:finn-b-G6_MS\n",
      "4   met-a-341 finn-b-G6_MS MS-disease / Multiple Sclerosis || id:finn-b-G6_MS\n",
      "5   met-a-341 finn-b-G6_MS MS-disease / Multiple Sclerosis || id:finn-b-G6_MS\n",
      "                 exposure                    method nsnp          b       se\n",
      "1 Citrate || id:met-a-341                  MR Egger    6 -1.6417509 9.642103\n",
      "2 Citrate || id:met-a-341           Weighted median    6  0.4129543 2.307777\n",
      "3 Citrate || id:met-a-341 Inverse variance weighted    6  1.3257629 2.460369\n",
      "4 Citrate || id:met-a-341               Simple mode    6  0.3981628 2.823526\n",
      "5 Citrate || id:met-a-341             Weighted mode    6  0.2215078 2.965414\n",
      "       pval\n",
      "1 0.8730638\n",
      "2 0.8579846\n",
      "3 0.5899923\n",
      "4 0.8933624\n",
      "5 0.9433522\n"
     ]
    },
    {
     "name": "stderr",
     "output_type": "stream",
     "text": [
      "Quitting.\n",
      "\n",
      "Extracting data for 3 SNP(s) from 1 GWAS(s)\n",
      "\n",
      "Finding proxies for 1 SNPs in outcome ieu-b-18\n",
      "\n",
      "Extracting data for 1 SNP(s) from 1 GWAS(s)\n",
      "\n",
      "Harmonising Tyrosine || id:met-a-325 (met-a-325) and multiple sclerosis || id:ieu-b-18 (ieu-b-18)\n",
      "\n",
      "Analysing 'met-a-325' on 'ieu-b-18'\n",
      "\n"
     ]
    },
    {
     "name": "stdout",
     "output_type": "stream",
     "text": [
      "  id.exposure id.outcome                           outcome\n",
      "1   met-a-325   ieu-b-18 multiple sclerosis || id:ieu-b-18\n",
      "2   met-a-325   ieu-b-18 multiple sclerosis || id:ieu-b-18\n",
      "3   met-a-325   ieu-b-18 multiple sclerosis || id:ieu-b-18\n",
      "4   met-a-325   ieu-b-18 multiple sclerosis || id:ieu-b-18\n",
      "5   met-a-325   ieu-b-18 multiple sclerosis || id:ieu-b-18\n",
      "                  exposure                    method nsnp             b\n",
      "1 Tyrosine || id:met-a-325                  MR Egger    3 -11.427202200\n",
      "2 Tyrosine || id:met-a-325           Weighted median    3  -1.474663387\n",
      "3 Tyrosine || id:met-a-325 Inverse variance weighted    3  -0.001441768\n",
      "4 Tyrosine || id:met-a-325               Simple mode    3  -1.571551677\n",
      "5 Tyrosine || id:met-a-325             Weighted mode    3  -1.638072700\n",
      "         se      pval\n",
      "1 19.877977 0.6678534\n",
      "2  1.345220 0.2729803\n",
      "3  1.583917 0.9992737\n",
      "4  1.773100 0.4689474\n",
      "5  1.484410 0.3848187\n"
     ]
    },
    {
     "name": "stderr",
     "output_type": "stream",
     "text": [
      "Quitting.\n",
      "\n",
      "Extracting data for 3 SNP(s) from 1 GWAS(s)\n",
      "\n",
      "Harmonising Tyrosine || id:met-a-325 (met-a-325) and MS-disease / Multiple Sclerosis || id:finn-b-G6_MS (finn-b-G6_MS)\n",
      "\n",
      "Analysing 'met-a-325' on 'finn-b-G6_MS'\n",
      "\n"
     ]
    },
    {
     "name": "stdout",
     "output_type": "stream",
     "text": [
      "  id.exposure   id.outcome                                            outcome\n",
      "1   met-a-325 finn-b-G6_MS MS-disease / Multiple Sclerosis || id:finn-b-G6_MS\n",
      "2   met-a-325 finn-b-G6_MS MS-disease / Multiple Sclerosis || id:finn-b-G6_MS\n",
      "3   met-a-325 finn-b-G6_MS MS-disease / Multiple Sclerosis || id:finn-b-G6_MS\n",
      "4   met-a-325 finn-b-G6_MS MS-disease / Multiple Sclerosis || id:finn-b-G6_MS\n",
      "5   met-a-325 finn-b-G6_MS MS-disease / Multiple Sclerosis || id:finn-b-G6_MS\n",
      "                  exposure                    method nsnp           b        se\n",
      "1 Tyrosine || id:met-a-325                  MR Egger    3 -18.1557839 37.984118\n",
      "2 Tyrosine || id:met-a-325           Weighted median    3  -2.0420664  3.142995\n",
      "3 Tyrosine || id:met-a-325 Inverse variance weighted    3  -0.4978735  2.910036\n",
      "4 Tyrosine || id:met-a-325               Simple mode    3  -3.4648937  4.400111\n",
      "5 Tyrosine || id:met-a-325             Weighted mode    3  -3.4239419  4.260249\n",
      "       pval\n",
      "1 0.7161441\n",
      "2 0.5158731\n",
      "3 0.8641542\n",
      "4 0.5135161\n",
      "5 0.5059140\n"
     ]
    },
    {
     "name": "stderr",
     "output_type": "stream",
     "text": [
      "Quitting.\n",
      "\n",
      "Extracting data for 17 SNP(s) from 1 GWAS(s)\n",
      "\n",
      "Finding proxies for 2 SNPs in outcome ieu-b-18\n",
      "\n",
      "Extracting data for 2 SNP(s) from 1 GWAS(s)\n",
      "\n",
      "Harmonising Carnitine || id:met-a-379 (met-a-379) and multiple sclerosis || id:ieu-b-18 (ieu-b-18)\n",
      "\n",
      "Removing the following SNPs for being palindromic with intermediate allele frequencies:\n",
      "rs13182512\n",
      "\n",
      "Analysing 'met-a-379' on 'ieu-b-18'\n",
      "\n"
     ]
    },
    {
     "name": "stdout",
     "output_type": "stream",
     "text": [
      "  id.exposure id.outcome                           outcome\n",
      "1   met-a-379   ieu-b-18 multiple sclerosis || id:ieu-b-18\n",
      "2   met-a-379   ieu-b-18 multiple sclerosis || id:ieu-b-18\n",
      "3   met-a-379   ieu-b-18 multiple sclerosis || id:ieu-b-18\n",
      "4   met-a-379   ieu-b-18 multiple sclerosis || id:ieu-b-18\n",
      "5   met-a-379   ieu-b-18 multiple sclerosis || id:ieu-b-18\n",
      "                   exposure                    method nsnp           b\n",
      "1 Carnitine || id:met-a-379                  MR Egger   16  1.73339477\n",
      "2 Carnitine || id:met-a-379           Weighted median   16  0.92630389\n",
      "3 Carnitine || id:met-a-379 Inverse variance weighted   16 -0.08879162\n",
      "4 Carnitine || id:met-a-379               Simple mode   16  1.35655787\n",
      "5 Carnitine || id:met-a-379             Weighted mode   16  0.99279295\n",
      "         se      pval\n",
      "1 1.6718332 0.3173959\n",
      "2 0.7002154 0.1858739\n",
      "3 0.9048548 0.9218306\n",
      "4 1.1856192 0.2704811\n",
      "5 0.7799082 0.2224081\n"
     ]
    },
    {
     "name": "stderr",
     "output_type": "stream",
     "text": [
      "Quitting.\n",
      "\n",
      "Extracting data for 17 SNP(s) from 1 GWAS(s)\n",
      "\n",
      "Harmonising Carnitine || id:met-a-379 (met-a-379) and MS-disease / Multiple Sclerosis || id:finn-b-G6_MS (finn-b-G6_MS)\n",
      "\n",
      "Analysing 'met-a-379' on 'finn-b-G6_MS'\n",
      "\n"
     ]
    },
    {
     "name": "stdout",
     "output_type": "stream",
     "text": [
      "  id.exposure   id.outcome                                            outcome\n",
      "1   met-a-379 finn-b-G6_MS MS-disease / Multiple Sclerosis || id:finn-b-G6_MS\n",
      "2   met-a-379 finn-b-G6_MS MS-disease / Multiple Sclerosis || id:finn-b-G6_MS\n",
      "3   met-a-379 finn-b-G6_MS MS-disease / Multiple Sclerosis || id:finn-b-G6_MS\n",
      "4   met-a-379 finn-b-G6_MS MS-disease / Multiple Sclerosis || id:finn-b-G6_MS\n",
      "5   met-a-379 finn-b-G6_MS MS-disease / Multiple Sclerosis || id:finn-b-G6_MS\n",
      "                   exposure                    method nsnp          b       se\n",
      "1 Carnitine || id:met-a-379                  MR Egger   17 -3.0634851 4.422416\n",
      "2 Carnitine || id:met-a-379           Weighted median   17 -1.2879595 2.399539\n",
      "3 Carnitine || id:met-a-379 Inverse variance weighted   17 -1.6680409 2.047186\n",
      "4 Carnitine || id:met-a-379               Simple mode   17  5.7343515 5.473676\n",
      "5 Carnitine || id:met-a-379             Weighted mode   17 -0.9557247 2.832984\n",
      "       pval\n",
      "1 0.4990720\n",
      "2 0.5914384\n",
      "3 0.4151886\n",
      "4 0.3103807\n",
      "5 0.7402335\n"
     ]
    },
    {
     "name": "stderr",
     "output_type": "stream",
     "text": [
      "Quitting.\n",
      "\n",
      "Extracting data for 20 SNP(s) from 1 GWAS(s)\n",
      "\n",
      "Harmonising Tryptophan || id:met-a-304 (met-a-304) and multiple sclerosis || id:ieu-b-18 (ieu-b-18)\n",
      "\n",
      "Removing the following SNPs for being palindromic with intermediate allele frequencies:\n",
      "rs1559063, rs4695138, rs6901004\n",
      "\n",
      "Analysing 'met-a-304' on 'ieu-b-18'\n",
      "\n"
     ]
    },
    {
     "name": "stdout",
     "output_type": "stream",
     "text": [
      "  id.exposure id.outcome                           outcome\n",
      "1   met-a-304   ieu-b-18 multiple sclerosis || id:ieu-b-18\n",
      "2   met-a-304   ieu-b-18 multiple sclerosis || id:ieu-b-18\n",
      "3   met-a-304   ieu-b-18 multiple sclerosis || id:ieu-b-18\n",
      "4   met-a-304   ieu-b-18 multiple sclerosis || id:ieu-b-18\n",
      "5   met-a-304   ieu-b-18 multiple sclerosis || id:ieu-b-18\n",
      "                    exposure                    method nsnp          b\n",
      "1 Tryptophan || id:met-a-304                  MR Egger   17 10.4260459\n",
      "2 Tryptophan || id:met-a-304           Weighted median   17 -0.8668543\n",
      "3 Tryptophan || id:met-a-304 Inverse variance weighted   17 -0.8720335\n",
      "4 Tryptophan || id:met-a-304               Simple mode   17 -0.6749524\n",
      "5 Tryptophan || id:met-a-304             Weighted mode   17 -0.8969936\n",
      "          se      pval\n",
      "1 11.0453595 0.3601623\n",
      "2  1.1052822 0.4328739\n",
      "3  0.8357561 0.2967600\n",
      "4  2.1715154 0.7599494\n",
      "5  2.1384726 0.6804612\n"
     ]
    },
    {
     "name": "stderr",
     "output_type": "stream",
     "text": [
      "Quitting.\n",
      "\n",
      "Extracting data for 20 SNP(s) from 1 GWAS(s)\n",
      "\n",
      "Harmonising Tryptophan || id:met-a-304 (met-a-304) and MS-disease / Multiple Sclerosis || id:finn-b-G6_MS (finn-b-G6_MS)\n",
      "\n",
      "Removing the following SNPs for being palindromic with intermediate allele frequencies:\n",
      "rs4695138, rs6901004\n",
      "\n",
      "Analysing 'met-a-304' on 'finn-b-G6_MS'\n",
      "\n"
     ]
    },
    {
     "name": "stdout",
     "output_type": "stream",
     "text": [
      "  id.exposure   id.outcome                                            outcome\n",
      "1   met-a-304 finn-b-G6_MS MS-disease / Multiple Sclerosis || id:finn-b-G6_MS\n",
      "2   met-a-304 finn-b-G6_MS MS-disease / Multiple Sclerosis || id:finn-b-G6_MS\n",
      "3   met-a-304 finn-b-G6_MS MS-disease / Multiple Sclerosis || id:finn-b-G6_MS\n",
      "4   met-a-304 finn-b-G6_MS MS-disease / Multiple Sclerosis || id:finn-b-G6_MS\n",
      "5   met-a-304 finn-b-G6_MS MS-disease / Multiple Sclerosis || id:finn-b-G6_MS\n",
      "                    exposure                    method nsnp        b        se\n",
      "1 Tryptophan || id:met-a-304                  MR Egger   18 2.450717 27.783460\n",
      "2 Tryptophan || id:met-a-304           Weighted median   18 3.784827  2.770107\n",
      "3 Tryptophan || id:met-a-304 Inverse variance weighted   18 1.875396  2.054428\n",
      "4 Tryptophan || id:met-a-304               Simple mode   18 5.482700  5.388891\n",
      "5 Tryptophan || id:met-a-304             Weighted mode   18 5.907842  5.372064\n",
      "       pval\n",
      "1 0.9308061\n",
      "2 0.1718413\n",
      "3 0.3613185\n",
      "4 0.3232214\n",
      "5 0.2867781\n"
     ]
    },
    {
     "name": "stderr",
     "output_type": "stream",
     "text": [
      "Quitting.\n",
      "\n",
      "Extracting data for 5 SNP(s) from 1 GWAS(s)\n",
      "\n",
      "Harmonising Gamma-glutamyltyrosine || id:met-a-360 (met-a-360) and multiple sclerosis || id:ieu-b-18 (ieu-b-18)\n",
      "\n",
      "Removing the following SNPs for being palindromic with intermediate allele frequencies:\n",
      "rs12192718, rs9940990\n",
      "\n",
      "Analysing 'met-a-360' on 'ieu-b-18'\n",
      "\n"
     ]
    },
    {
     "name": "stdout",
     "output_type": "stream",
     "text": [
      "  id.exposure id.outcome                           outcome\n",
      "1   met-a-360   ieu-b-18 multiple sclerosis || id:ieu-b-18\n",
      "2   met-a-360   ieu-b-18 multiple sclerosis || id:ieu-b-18\n",
      "3   met-a-360   ieu-b-18 multiple sclerosis || id:ieu-b-18\n",
      "4   met-a-360   ieu-b-18 multiple sclerosis || id:ieu-b-18\n",
      "5   met-a-360   ieu-b-18 multiple sclerosis || id:ieu-b-18\n",
      "                                exposure                    method nsnp\n",
      "1 Gamma-glutamyltyrosine || id:met-a-360                  MR Egger    3\n",
      "2 Gamma-glutamyltyrosine || id:met-a-360           Weighted median    3\n",
      "3 Gamma-glutamyltyrosine || id:met-a-360 Inverse variance weighted    3\n",
      "4 Gamma-glutamyltyrosine || id:met-a-360               Simple mode    3\n",
      "5 Gamma-glutamyltyrosine || id:met-a-360             Weighted mode    3\n",
      "            b        se      pval\n",
      "1 -4.28401489 34.238337 0.9207558\n",
      "2  0.03220603  1.122410 0.9771089\n",
      "3 -0.27987050  1.005655 0.7807846\n",
      "4  0.06617049  1.349035 0.9653371\n",
      "5  0.07434415  1.366469 0.9615576\n"
     ]
    },
    {
     "name": "stderr",
     "output_type": "stream",
     "text": [
      "Quitting.\n",
      "\n",
      "Extracting data for 5 SNP(s) from 1 GWAS(s)\n",
      "\n",
      "Harmonising Gamma-glutamyltyrosine || id:met-a-360 (met-a-360) and MS-disease / Multiple Sclerosis || id:finn-b-G6_MS (finn-b-G6_MS)\n",
      "\n",
      "Analysing 'met-a-360' on 'finn-b-G6_MS'\n",
      "\n"
     ]
    },
    {
     "name": "stdout",
     "output_type": "stream",
     "text": [
      "  id.exposure   id.outcome                                            outcome\n",
      "1   met-a-360 finn-b-G6_MS MS-disease / Multiple Sclerosis || id:finn-b-G6_MS\n",
      "2   met-a-360 finn-b-G6_MS MS-disease / Multiple Sclerosis || id:finn-b-G6_MS\n",
      "3   met-a-360 finn-b-G6_MS MS-disease / Multiple Sclerosis || id:finn-b-G6_MS\n",
      "4   met-a-360 finn-b-G6_MS MS-disease / Multiple Sclerosis || id:finn-b-G6_MS\n",
      "5   met-a-360 finn-b-G6_MS MS-disease / Multiple Sclerosis || id:finn-b-G6_MS\n",
      "                                exposure                    method nsnp\n",
      "1 Gamma-glutamyltyrosine || id:met-a-360                  MR Egger    5\n",
      "2 Gamma-glutamyltyrosine || id:met-a-360           Weighted median    5\n",
      "3 Gamma-glutamyltyrosine || id:met-a-360 Inverse variance weighted    5\n",
      "4 Gamma-glutamyltyrosine || id:met-a-360               Simple mode    5\n",
      "5 Gamma-glutamyltyrosine || id:met-a-360             Weighted mode    5\n",
      "           b        se      pval\n",
      "1 17.0454945 19.125445 0.4384569\n",
      "2  0.1732207  2.756414 0.9498917\n",
      "3 -1.8415761  2.218841 0.4065546\n",
      "4  1.0346876  4.000899 0.8086956\n",
      "5  1.0346876  4.076362 0.8121431\n"
     ]
    },
    {
     "name": "stderr",
     "output_type": "stream",
     "text": [
      "Quitting.\n",
      "\n",
      "Extracting data for 2 SNP(s) from 1 GWAS(s)\n",
      "\n",
      "Harmonising Alanine || id:met-a-469 (met-a-469) and multiple sclerosis || id:ieu-b-18 (ieu-b-18)\n",
      "\n",
      "Analysing 'met-a-469' on 'ieu-b-18'\n",
      "\n"
     ]
    },
    {
     "name": "stdout",
     "output_type": "stream",
     "text": [
      "  id.exposure id.outcome                           outcome\n",
      "1   met-a-469   ieu-b-18 multiple sclerosis || id:ieu-b-18\n",
      "                 exposure                    method nsnp          b       se\n",
      "1 Alanine || id:met-a-469 Inverse variance weighted    2 -0.6682442 1.006126\n",
      "       pval\n",
      "1 0.5065779\n"
     ]
    },
    {
     "name": "stderr",
     "output_type": "stream",
     "text": [
      "Quitting.\n",
      "\n",
      "Extracting data for 2 SNP(s) from 1 GWAS(s)\n",
      "\n",
      "Harmonising Alanine || id:met-a-469 (met-a-469) and MS-disease / Multiple Sclerosis || id:finn-b-G6_MS (finn-b-G6_MS)\n",
      "\n",
      "Analysing 'met-a-469' on 'finn-b-G6_MS'\n",
      "\n"
     ]
    },
    {
     "name": "stdout",
     "output_type": "stream",
     "text": [
      "  id.exposure   id.outcome                                            outcome\n",
      "1   met-a-469 finn-b-G6_MS MS-disease / Multiple Sclerosis || id:finn-b-G6_MS\n",
      "                 exposure                    method nsnp          b       se\n",
      "1 Alanine || id:met-a-469 Inverse variance weighted    2 -0.6577594 2.869509\n",
      "       pval\n",
      "1 0.8186951\n"
     ]
    },
    {
     "name": "stderr",
     "output_type": "stream",
     "text": [
      "Quitting.\n",
      "\n",
      "Extracting data for 3 SNP(s) from 1 GWAS(s)\n",
      "\n",
      "Harmonising Bradykinin, des-arg(9) || id:met-a-656 (met-a-656) and multiple sclerosis || id:ieu-b-18 (ieu-b-18)\n",
      "\n",
      "Analysing 'met-a-656' on 'ieu-b-18'\n",
      "\n"
     ]
    },
    {
     "name": "stdout",
     "output_type": "stream",
     "text": [
      "  id.exposure id.outcome                           outcome\n",
      "1   met-a-656   ieu-b-18 multiple sclerosis || id:ieu-b-18\n",
      "2   met-a-656   ieu-b-18 multiple sclerosis || id:ieu-b-18\n",
      "3   met-a-656   ieu-b-18 multiple sclerosis || id:ieu-b-18\n",
      "4   met-a-656   ieu-b-18 multiple sclerosis || id:ieu-b-18\n",
      "5   met-a-656   ieu-b-18 multiple sclerosis || id:ieu-b-18\n",
      "                                exposure                    method nsnp\n",
      "1 Bradykinin, des-arg(9) || id:met-a-656                  MR Egger    3\n",
      "2 Bradykinin, des-arg(9) || id:met-a-656           Weighted median    3\n",
      "3 Bradykinin, des-arg(9) || id:met-a-656 Inverse variance weighted    3\n",
      "4 Bradykinin, des-arg(9) || id:met-a-656               Simple mode    3\n",
      "5 Bradykinin, des-arg(9) || id:met-a-656             Weighted mode    3\n",
      "          b         se       pval\n",
      "1 0.1288391 0.24943652 0.69647458\n",
      "2 0.1238134 0.08420362 0.14145209\n",
      "3 0.1340630 0.07738770 0.08321025\n",
      "4 0.1167064 0.10404914 0.37859531\n",
      "5 0.1122021 0.10331977 0.39095433\n"
     ]
    },
    {
     "name": "stderr",
     "output_type": "stream",
     "text": [
      "Quitting.\n",
      "\n",
      "Extracting data for 3 SNP(s) from 1 GWAS(s)\n",
      "\n",
      "Harmonising Bradykinin, des-arg(9) || id:met-a-656 (met-a-656) and MS-disease / Multiple Sclerosis || id:finn-b-G6_MS (finn-b-G6_MS)\n",
      "\n",
      "Analysing 'met-a-656' on 'finn-b-G6_MS'\n",
      "\n"
     ]
    },
    {
     "name": "stdout",
     "output_type": "stream",
     "text": [
      "  id.exposure   id.outcome                                            outcome\n",
      "1   met-a-656 finn-b-G6_MS MS-disease / Multiple Sclerosis || id:finn-b-G6_MS\n",
      "2   met-a-656 finn-b-G6_MS MS-disease / Multiple Sclerosis || id:finn-b-G6_MS\n",
      "3   met-a-656 finn-b-G6_MS MS-disease / Multiple Sclerosis || id:finn-b-G6_MS\n",
      "4   met-a-656 finn-b-G6_MS MS-disease / Multiple Sclerosis || id:finn-b-G6_MS\n",
      "5   met-a-656 finn-b-G6_MS MS-disease / Multiple Sclerosis || id:finn-b-G6_MS\n",
      "                                exposure                    method nsnp\n",
      "1 Bradykinin, des-arg(9) || id:met-a-656                  MR Egger    3\n",
      "2 Bradykinin, des-arg(9) || id:met-a-656           Weighted median    3\n",
      "3 Bradykinin, des-arg(9) || id:met-a-656 Inverse variance weighted    3\n",
      "4 Bradykinin, des-arg(9) || id:met-a-656               Simple mode    3\n",
      "5 Bradykinin, des-arg(9) || id:met-a-656             Weighted mode    3\n",
      "          b        se      pval\n",
      "1 1.5911342 0.6851697 0.2588616\n",
      "2 0.3325941 0.2344945 0.1560902\n",
      "3 0.2111190 0.3138543 0.5011601\n",
      "4 0.3544591 0.2692521 0.3186434\n",
      "5 0.3544591 0.2296588 0.2627067\n"
     ]
    },
    {
     "name": "stderr",
     "output_type": "stream",
     "text": [
      "Quitting.\n",
      "\n",
      "Extracting data for 3 SNP(s) from 1 GWAS(s)\n",
      "\n",
      "Harmonising Uridine || id:met-a-316 (met-a-316) and multiple sclerosis || id:ieu-b-18 (ieu-b-18)\n",
      "\n",
      "Analysing 'met-a-316' on 'ieu-b-18'\n",
      "\n"
     ]
    },
    {
     "name": "stdout",
     "output_type": "stream",
     "text": [
      "  id.exposure id.outcome                           outcome\n",
      "1   met-a-316   ieu-b-18 multiple sclerosis || id:ieu-b-18\n",
      "2   met-a-316   ieu-b-18 multiple sclerosis || id:ieu-b-18\n",
      "3   met-a-316   ieu-b-18 multiple sclerosis || id:ieu-b-18\n",
      "4   met-a-316   ieu-b-18 multiple sclerosis || id:ieu-b-18\n",
      "5   met-a-316   ieu-b-18 multiple sclerosis || id:ieu-b-18\n",
      "                 exposure                    method nsnp         b       se\n",
      "1 Uridine || id:met-a-316                  MR Egger    3 16.664350 4.534619\n",
      "2 Uridine || id:met-a-316           Weighted median    3  2.995278 1.477230\n",
      "3 Uridine || id:met-a-316 Inverse variance weighted    3  4.724711 1.770554\n",
      "4 Uridine || id:met-a-316               Simple mode    3  2.442977 1.777325\n",
      "5 Uridine || id:met-a-316             Weighted mode    3  2.428614 2.030714\n",
      "         pval\n",
      "1 0.169138442\n",
      "2 0.042597841\n",
      "3 0.007619225\n",
      "4 0.303027322\n",
      "5 0.354278509\n"
     ]
    },
    {
     "name": "stderr",
     "output_type": "stream",
     "text": [
      "Quitting.\n",
      "\n",
      "Extracting data for 3 SNP(s) from 1 GWAS(s)\n",
      "\n",
      "Harmonising Uridine || id:met-a-316 (met-a-316) and MS-disease / Multiple Sclerosis || id:finn-b-G6_MS (finn-b-G6_MS)\n",
      "\n",
      "Analysing 'met-a-316' on 'finn-b-G6_MS'\n",
      "\n"
     ]
    },
    {
     "name": "stdout",
     "output_type": "stream",
     "text": [
      "  id.exposure   id.outcome                                            outcome\n",
      "1   met-a-316 finn-b-G6_MS MS-disease / Multiple Sclerosis || id:finn-b-G6_MS\n",
      "2   met-a-316 finn-b-G6_MS MS-disease / Multiple Sclerosis || id:finn-b-G6_MS\n",
      "3   met-a-316 finn-b-G6_MS MS-disease / Multiple Sclerosis || id:finn-b-G6_MS\n",
      "4   met-a-316 finn-b-G6_MS MS-disease / Multiple Sclerosis || id:finn-b-G6_MS\n",
      "5   met-a-316 finn-b-G6_MS MS-disease / Multiple Sclerosis || id:finn-b-G6_MS\n",
      "                 exposure                    method nsnp          b        se\n",
      "1 Uridine || id:met-a-316                  MR Egger    3 -11.068790 13.101783\n",
      "2 Uridine || id:met-a-316           Weighted median    3   6.314662  3.183496\n",
      "3 Uridine || id:met-a-316 Inverse variance weighted    3   6.654670  2.879884\n",
      "4 Uridine || id:met-a-316               Simple mode    3   9.522965  4.570599\n",
      "5 Uridine || id:met-a-316             Weighted mode    3   4.492423  3.456172\n",
      "        pval\n",
      "1 0.55342052\n",
      "2 0.04730468\n",
      "3 0.02084708\n",
      "4 0.17259654\n",
      "5 0.32329604\n"
     ]
    },
    {
     "name": "stderr",
     "output_type": "stream",
     "text": [
      "Quitting.\n",
      "\n",
      "Extracting data for 2 SNP(s) from 1 GWAS(s)\n",
      "\n",
      "Harmonising Alanine || id:met-a-469 (met-a-469) and multiple sclerosis || id:ieu-b-18 (ieu-b-18)\n",
      "\n",
      "Analysing 'met-a-469' on 'ieu-b-18'\n",
      "\n"
     ]
    },
    {
     "name": "stdout",
     "output_type": "stream",
     "text": [
      "  id.exposure id.outcome                           outcome\n",
      "1   met-a-469   ieu-b-18 multiple sclerosis || id:ieu-b-18\n",
      "                 exposure                    method nsnp          b       se\n",
      "1 Alanine || id:met-a-469 Inverse variance weighted    2 -0.6682442 1.006126\n",
      "       pval\n",
      "1 0.5065779\n"
     ]
    },
    {
     "name": "stderr",
     "output_type": "stream",
     "text": [
      "Quitting.\n",
      "\n",
      "Extracting data for 2 SNP(s) from 1 GWAS(s)\n",
      "\n",
      "Harmonising Alanine || id:met-a-469 (met-a-469) and MS-disease / Multiple Sclerosis || id:finn-b-G6_MS (finn-b-G6_MS)\n",
      "\n",
      "Analysing 'met-a-469' on 'finn-b-G6_MS'\n",
      "\n"
     ]
    },
    {
     "name": "stdout",
     "output_type": "stream",
     "text": [
      "  id.exposure   id.outcome                                            outcome\n",
      "1   met-a-469 finn-b-G6_MS MS-disease / Multiple Sclerosis || id:finn-b-G6_MS\n",
      "                 exposure                    method nsnp          b       se\n",
      "1 Alanine || id:met-a-469 Inverse variance weighted    2 -0.6577594 2.869509\n",
      "       pval\n",
      "1 0.8186951\n"
     ]
    },
    {
     "name": "stderr",
     "output_type": "stream",
     "text": [
      "Quitting.\n",
      "\n"
     ]
    }
   ],
   "source": [
    "results = list()\n",
    "continue = TRUE \n",
    "for (i in 1:length(exposures)) {\n",
    "  exposure_dat = extract_instruments(exposures[i])\n",
    "  for (j in 1:length(outcomes)) {\n",
    "      run_with_catching <- function(){\n",
    "        tryCatch(\n",
    "            expr = {\n",
    "                outcome_dat = extract_outcome_data(snps=exposure_dat$SNP, outcomes=outcomes[j])\n",
    "                dat <- harmonise_data(exposure_dat, outcome_dat)\n",
    "                res <- mr(dat)\n",
    "                print(res)\n",
    "                if ((nrow(res)<1)||(is.null(res))) {\n",
    "                    print(\"found a small one!\")\n",
    "                } else {\n",
    "                    results = append(results, res)\n",
    "                }\n",
    "            },\n",
    "            error = function(e){\n",
    "                message('Caught an error')\n",
    "                #print(e)\n",
    "                 \n",
    "            },\n",
    "            warning = function(w){\n",
    "                message('Caught an warning')\n",
    "                #print(w)\n",
    "                \n",
    "            },\n",
    "            finally = {\n",
    "                message('Quitting.')\n",
    "                \n",
    "            }\n",
    "        )    \n",
    "    }\n",
    "\n",
    "    if (continue == TRUE) {\n",
    "        run_with_catching()\n",
    "    }\n",
    "    }\n",
    "}"
   ]
  },
  {
   "cell_type": "code",
   "execution_count": 20,
   "id": "45d6e520",
   "metadata": {},
   "outputs": [
    {
     "name": "stdout",
     "output_type": "stream",
     "text": [
      "[1] \"done\"\n"
     ]
    }
   ],
   "source": [
    "print(\"done\")"
   ]
  },
  {
   "cell_type": "code",
   "execution_count": 15,
   "id": "c7dd9489",
   "metadata": {},
   "outputs": [
    {
     "name": "stderr",
     "output_type": "stream",
     "text": [
      "Warning message in file(file, ifelse(append, \"a\", \"w\")):\n",
      "\"cannot open file './around seven hundred/results_raw.csv': No such file or directory\"\n"
     ]
    },
    {
     "ename": "ERROR",
     "evalue": "Error in file(file, ifelse(append, \"a\", \"w\")): cannot open the connection\n",
     "output_type": "error",
     "traceback": [
      "Error in file(file, ifelse(append, \"a\", \"w\")): cannot open the connection\nTraceback:\n",
      "1. write.table(results, table_path, append = FALSE, sep = \",\", dec = \".\", \n .     row.names = TRUE, col.names = TRUE)",
      "2. file(file, ifelse(append, \"a\", \"w\"))"
     ]
    }
   ],
   "source": [
    "results <- do.call(\"rbind\", results)\n",
    "base_table_path = './around seven hundred/'\n",
    "table_path = paste(base_table_path, \"results_raw.csv\", sep=\"\")\n",
    "write.table(results, table_path, append = FALSE, sep = \",\", dec = \".\", row.names = TRUE, col.names = TRUE)"
   ]
  },
  {
   "cell_type": "code",
   "execution_count": 18,
   "id": "ad7a6d83",
   "metadata": {},
   "outputs": [
    {
     "data": {
      "text/plain": [
       "NULL"
      ]
     },
     "metadata": {},
     "output_type": "display_data"
    }
   ],
   "source": [
    "results"
   ]
  },
  {
   "cell_type": "markdown",
   "id": "7237f7df",
   "metadata": {},
   "source": [
    "### Old Stuff Below"
   ]
  },
  {
   "cell_type": "code",
   "execution_count": null,
   "id": "16bf6178",
   "metadata": {},
   "outputs": [],
   "source": [
    "library(TwoSampleMR)\n",
    "\n",
    "ao <- available_outcomes()\n",
    "\n",
    "####### met-a\n",
    "data_met_a=ao\n",
    "data_met_a$new_name_1=sapply(strsplit(data_met_a$id, split= \"-\"),\"[\",1)\n",
    "data_met_a$new_name_2=sapply(strsplit(data_met_a$id, split= \"-\"),\"[\",2)\n",
    "data_met_a=data_met_a[data_met_a$new_name_1==\"met\",]\n",
    "data_met_a=data_met_a[data_met_a$new_name_2==\"a\",]\n",
    "\n",
    "####### met-c\n",
    "data_met_c=ao\n",
    "data_met_c$new_name_1=sapply(strsplit(data_met_c$id, split= \"-\"),\"[\",1)\n",
    "data_met_c$new_name_2=sapply(strsplit(data_met_c$id, split= \"-\"),\"[\",2)\n",
    "data_met_c=data_met_c[data_met_c$new_name_1==\"met\",]\n",
    "data_met_c=data_met_c[data_met_c$new_name_2==\"c\",]\n",
    "\n",
    "####### met-d\n",
    "data_met_d=ao\n",
    "data_met_d$new_name_1=sapply(strsplit(data_met_d$id, split= \"-\"),\"[\",1)\n",
    "data_met_d$new_name_2=sapply(strsplit(data_met_d$id, split= \"-\"),\"[\",2)\n",
    "data_met_d=data_met_d[data_met_d$new_name_1==\"met\",]\n",
    "data_met_d=data_met_d[data_met_d$new_name_2==\"d\",]"
   ]
  }
 ],
 "metadata": {
  "kernelspec": {
   "display_name": "R",
   "language": "R",
   "name": "ir"
  },
  "language_info": {
   "codemirror_mode": "r",
   "file_extension": ".r",
   "mimetype": "text/x-r-source",
   "name": "R",
   "pygments_lexer": "r",
   "version": "4.1.2"
  }
 },
 "nbformat": 4,
 "nbformat_minor": 5
}
