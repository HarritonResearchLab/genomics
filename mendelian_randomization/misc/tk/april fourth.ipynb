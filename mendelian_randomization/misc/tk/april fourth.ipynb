{
 "cells": [
  {
   "cell_type": "code",
   "execution_count": null,
   "id": "1de19ce7",
   "metadata": {},
   "outputs": [],
   "source": [
    "\n",
    "## save dataframe to r-readable format\n",
    "#import feather # don't forget that you need to first pip install feather-format\n",
    "#path = 'my_data.feather'\n",
    "#feather.write_dataframe(df, path)\n",
    "\n",
    "\n",
    "## alternative is to just save df from pandas to csv and read csv in r with read.csv\n",
    "\n",
    "library(feather)\n",
    "path <- \"my_data.feather\"\n",
    "df <- read_feather(path)\n",
    "\n",
    "# write r data.frame object to RData file\n",
    "#save(df, file = 'my_data.RData')"
   ]
  }
 ],
 "metadata": {
  "kernelspec": {
   "display_name": "R",
   "language": "R",
   "name": "ir"
  },
  "language_info": {
   "codemirror_mode": "r",
   "file_extension": ".r",
   "mimetype": "text/x-r-source",
   "name": "R",
   "pygments_lexer": "r",
   "version": "4.1.2"
  }
 },
 "nbformat": 4,
 "nbformat_minor": 5
}
