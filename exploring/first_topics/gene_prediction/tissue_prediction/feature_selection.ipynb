{
 "cells": [
  {
   "cell_type": "markdown",
   "metadata": {},
   "source": [
    "# Notes\n",
    "* So far it seems like the methods we've employed (such as MDS and PCA) for predicting tissue locality work by reducing the dimension of the input data, which means that models using these methods have access to ~22,000 vectors of input data to start with. So the question I would like to pursue now is how to select the most useful (i.e. *predictive*) input vectors from the initial data set so you only work with those. \n",
    "    * A practical application of this to our work would be developing a simple quick test that predicts if someone has kidney cancer by only measuring the expressions of ~10 genes rather than the full ~20,000. \n",
    "    * This idea comes from Krishnan's *A flexible, interpretable, and accurate...* paper in which he states \"the Library of Integrated Network-Baesd Cellular Signatures (LINCS)...has shown that measuring 978 'landmark' genes...costing only $5 per sample, is sufficient to then use to impute the expresssion of all other (tens of thousands of) genes.\" \n",
    "* **Three Methods**\n",
    "    1. Univariate Selection: use sklearn's ```SelectKBest``` and ```f_classif()``` \n",
    "    2. Recursive Feature Elimination\n",
    "    3. Feature Importance (with bagged decision trees)\n",
    "\n",
    "    * [helpful article](https://machinelearningmastery.com/feature-selection-machine-learning-python/) (we love Jason Brownlee)\n",
    "## Remaining Questions\n",
    "* I wonder what the difference between MDS and PCA is...I sorta get it (PCA finds component vectors; MDS preserves sample-pair distances)"
   ]
  },
  {
   "cell_type": "code",
   "execution_count": 4,
   "metadata": {},
   "outputs": [],
   "source": [
    "import numpy as np\n",
    "import pandas as pd\n",
    "import matplotlib.pyplot as plt"
   ]
  },
  {
   "cell_type": "code",
   "execution_count": 5,
   "metadata": {},
   "outputs": [],
   "source": [
    "feather_path = input('Enter path to local feather file: ')\n",
    "tissue_df = pd.read_csv('https://raw.githubusercontent.com/HarritonResearchLab/genomics/main/exploring/first_topics/gene_prediction/tissue_prediction/data/tissue_df.csv')\n",
    "tissues = np.array(tissue_df['tissue_ordinal'])\n",
    "tissue_names = np.array(list(set(tissue_df['tissue_name'])))\n",
    "feather_df = pd.read_feather(feather_path)\n",
    "\n",
    "tissue_classes = {'cerebellum':0, \n",
    "                   'placenta':1,\n",
    "                   'kidney':2, \n",
    "                   'endometrium':3,\n",
    "                   'liver':4,\n",
    "                   'colon':5,\n",
    "                   'hippocampus':6}\n",
    "\n",
    "plt.rcParams['font.family']='serif'"
   ]
  },
  {
   "cell_type": "markdown",
   "metadata": {},
   "source": [
    "### Univariate Selection"
   ]
  },
  {
   "cell_type": "code",
   "execution_count": 12,
   "metadata": {},
   "outputs": [
    {
     "name": "stdout",
     "output_type": "stream",
     "text": [
      "[[ 6.98523346  5.48902293  5.23089188 ...  5.18146746  5.19194159\n",
      "   8.51885495]\n",
      " [ 6.72916043  5.65780828  5.47521172 ...  5.10367477  5.04317581\n",
      "   8.57742574]\n",
      " [ 6.52877528  5.35406447  5.32371928 ...  5.31028998  4.92563156\n",
      "   8.89088339]\n",
      " ...\n",
      " [ 6.38175465 11.32169233  5.59421627 ...  5.06488227  5.20592634\n",
      "   8.59109236]\n",
      " [ 7.09159978 11.21679917  5.18566812 ...  4.90362287  5.47675562\n",
      "   8.6841739 ]\n",
      " [ 6.55500951 11.44477865  5.14289371 ...  5.10781564  5.29746424\n",
      "   8.75024302]]\n"
     ]
    }
   ],
   "source": [
    "from sklearn.feature_selection import SelectKBest\n",
    "from sklearn.feature_selection import f_classif\n",
    "\n",
    "\n",
    "test = SelectKBest(score_func=f_classif, k=50)\n",
    "fit = test.fit(feather_df,tissues)\n",
    "\n",
    "#print(fit.scores_)\n",
    "\n",
    "features = fit.transform(feather_df)\n",
    "\n",
    "print(features)"
   ]
  }
 ],
 "metadata": {
  "interpreter": {
   "hash": "d3c0f98bc337faacb3dc92d86fb3c3ff5c297fcab3c4973bdf073a6202ea54c1"
  },
  "kernelspec": {
   "display_name": "Python 3.8.5 64-bit",
   "language": "python",
   "name": "python3"
  },
  "language_info": {
   "codemirror_mode": {
    "name": "ipython",
    "version": 3
   },
   "file_extension": ".py",
   "mimetype": "text/x-python",
   "name": "python",
   "nbconvert_exporter": "python",
   "pygments_lexer": "ipython3",
   "version": "3.8.5"
  },
  "orig_nbformat": 4
 },
 "nbformat": 4,
 "nbformat_minor": 2
}
