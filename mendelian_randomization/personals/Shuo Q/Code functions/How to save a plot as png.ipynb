{
 "cells": [
  {
   "cell_type": "code",
   "execution_count": null,
   "id": "2da2ac3a",
   "metadata": {},
   "outputs": [],
   "source": [
    "  # plots\n",
    "  plot <- mr_scatter_plot(mr_data, hm_data)\n",
    "\n",
    "  # save plots\n",
    "  png(paste(\"plot_\",exposures[i],\"vs. \",outcomes[1] , \".png\", sep = \"\"), width = 600, height = 500, res = 120) # set up the environment, start exporting\n",
    "  print(plot[[1]]) # send the plot to the graphing device\n",
    "  dev.off() # finish exporting, device closed, file saved"
   ]
  }
 ],
 "metadata": {
  "kernelspec": {
   "display_name": "R",
   "language": "R",
   "name": "ir"
  },
  "language_info": {
   "codemirror_mode": "r",
   "file_extension": ".r",
   "mimetype": "text/x-r-source",
   "name": "R",
   "pygments_lexer": "r",
   "version": "4.1.3"
  }
 },
 "nbformat": 4,
 "nbformat_minor": 5
}
