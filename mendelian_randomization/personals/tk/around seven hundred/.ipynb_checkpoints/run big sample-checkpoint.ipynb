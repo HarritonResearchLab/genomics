{
 "cells": [
  {
   "cell_type": "code",
   "execution_count": null,
   "id": "bb06cfc0",
   "metadata": {},
   "outputs": [],
   "source": [
    "print(\"why does r suck\")"
   ]
  },
  {
   "cell_type": "code",
   "execution_count": 7,
   "id": "4704e42a",
   "metadata": {},
   "outputs": [],
   "source": [
    "library(TwoSampleMR)\n",
    "exposures = scan(\"angie_IDs.txt\", character(), quote = \"\")"
   ]
  },
  {
   "cell_type": "code",
   "execution_count": 8,
   "id": "4eb5eec5",
   "metadata": {},
   "outputs": [
    {
     "data": {
      "text/html": [
       "824"
      ],
      "text/latex": [
       "824"
      ],
      "text/markdown": [
       "824"
      ],
      "text/plain": [
       "[1] 824"
      ]
     },
     "metadata": {},
     "output_type": "display_data"
    }
   ],
   "source": [
    "outcomes = c('ieu-b-18','finn-b-G6_MS')\n",
    "exposures = do.call(c, list(data_met_a$id, data_met_c$id, data_met_d$id))\n",
    "length(exposures)"
   ]
  },
  {
   "cell_type": "code",
   "execution_count": null,
   "id": "4a79ebc6",
   "metadata": {},
   "outputs": [
    {
     "name": "stderr",
     "output_type": "stream",
     "text": [
      "Extracting data for 1 SNP(s) from 1 GWAS(s)\n",
      "\n",
      "Harmonising Oleate (18:1n9) || id:met-a-332 (met-a-332) and multiple sclerosis || id:ieu-b-18 (ieu-b-18)\n",
      "\n",
      "Analysing 'met-a-332' on 'ieu-b-18'\n",
      "\n",
      "Quitting.\n",
      "\n",
      "Extracting data for 1 SNP(s) from 1 GWAS(s)\n",
      "\n",
      "Harmonising Oleate (18:1n9) || id:met-a-332 (met-a-332) and MS-disease / Multiple Sclerosis || id:finn-b-G6_MS (finn-b-G6_MS)\n",
      "\n",
      "Analysing 'met-a-332' on 'finn-b-G6_MS'\n",
      "\n",
      "Quitting.\n",
      "\n",
      "Extracting data for 3 SNP(s) from 1 GWAS(s)\n",
      "\n",
      "Harmonising X-10510 || id:met-a-444 (met-a-444) and multiple sclerosis || id:ieu-b-18 (ieu-b-18)\n",
      "\n",
      "Analysing 'met-a-444' on 'ieu-b-18'\n",
      "\n"
     ]
    }
   ],
   "source": [
    "results = list()\n",
    "continue = TRUE \n",
    "for (i in 1:length(exposures)) {\n",
    "  exposure_dat = extract_instruments(exposures[i])\n",
    "  for (j in 1:length(outcomes)) {\n",
    "      run_with_catching <- function(){\n",
    "        tryCatch(\n",
    "            expr = {\n",
    "                outcome_dat = extract_outcome_data(snps=exposure_dat$SNP, outcomes=outcomes[j])\n",
    "                dat <- harmonise_data(exposure_dat, outcome_dat)\n",
    "                res <- mr(dat)\n",
    "                \n",
    "                if ((nrow(res)<1)||(is.null(res))) {\n",
    "                    print(\"found a small one!\")\n",
    "                } else {\n",
    "                    results = append(results, res)\n",
    "                }\n",
    "            },\n",
    "            error = function(e){\n",
    "                message('Caught an error')\n",
    "                #print(e)\n",
    "                 \n",
    "            },\n",
    "            warning = function(w){\n",
    "                message('Caught an warning')\n",
    "                #print(w)\n",
    "                \n",
    "            },\n",
    "            finally = {\n",
    "                message('Quitting.')\n",
    "                \n",
    "            }\n",
    "        )    \n",
    "    }\n",
    "\n",
    "    if (continue == TRUE) {\n",
    "        run_with_catching()\n",
    "    }\n",
    "    }\n",
    "}"
   ]
  },
  {
   "cell_type": "code",
   "execution_count": null,
   "id": "45d6e520",
   "metadata": {},
   "outputs": [],
   "source": [
    "print(\"done\")"
   ]
  },
  {
   "cell_type": "code",
   "execution_count": null,
   "id": "c7dd9489",
   "metadata": {},
   "outputs": [],
   "source": [
    "results <- do.call(\"rbind\", results)\n",
    "base_table_path = './around seven hundred/'\n",
    "table_path = paste(base_table_path, \"results_raw.csv\", sep=\"\")\n",
    "write.table(results, table_path, append = FALSE, sep = \",\", dec = \".\", row.names = TRUE, col.names = TRUE)"
   ]
  },
  {
   "cell_type": "code",
   "execution_count": 5,
   "id": "ad7a6d83",
   "metadata": {},
   "outputs": [
    {
     "data": {
      "text/html": [
       "<ol>\n",
       "</ol>\n"
      ],
      "text/latex": [
       "\\begin{enumerate}\n",
       "\\end{enumerate}\n"
      ],
      "text/markdown": [
       "\n",
       "\n"
      ],
      "text/plain": [
       "list()"
      ]
     },
     "metadata": {},
     "output_type": "display_data"
    }
   ],
   "source": [
    "results[0]"
   ]
  },
  {
   "cell_type": "markdown",
   "id": "7237f7df",
   "metadata": {},
   "source": [
    "### Old Stuff Below"
   ]
  },
  {
   "cell_type": "code",
   "execution_count": null,
   "id": "16bf6178",
   "metadata": {},
   "outputs": [],
   "source": [
    "library(TwoSampleMR)\n",
    "\n",
    "ao <- available_outcomes()\n",
    "\n",
    "####### met-a\n",
    "data_met_a=ao\n",
    "data_met_a$new_name_1=sapply(strsplit(data_met_a$id, split= \"-\"),\"[\",1)\n",
    "data_met_a$new_name_2=sapply(strsplit(data_met_a$id, split= \"-\"),\"[\",2)\n",
    "data_met_a=data_met_a[data_met_a$new_name_1==\"met\",]\n",
    "data_met_a=data_met_a[data_met_a$new_name_2==\"a\",]\n",
    "\n",
    "####### met-c\n",
    "data_met_c=ao\n",
    "data_met_c$new_name_1=sapply(strsplit(data_met_c$id, split= \"-\"),\"[\",1)\n",
    "data_met_c$new_name_2=sapply(strsplit(data_met_c$id, split= \"-\"),\"[\",2)\n",
    "data_met_c=data_met_c[data_met_c$new_name_1==\"met\",]\n",
    "data_met_c=data_met_c[data_met_c$new_name_2==\"c\",]\n",
    "\n",
    "####### met-d\n",
    "data_met_d=ao\n",
    "data_met_d$new_name_1=sapply(strsplit(data_met_d$id, split= \"-\"),\"[\",1)\n",
    "data_met_d$new_name_2=sapply(strsplit(data_met_d$id, split= \"-\"),\"[\",2)\n",
    "data_met_d=data_met_d[data_met_d$new_name_1==\"met\",]\n",
    "data_met_d=data_met_d[data_met_d$new_name_2==\"d\",]"
   ]
  }
 ],
 "metadata": {
  "kernelspec": {
   "display_name": "R",
   "language": "R",
   "name": "ir"
  },
  "language_info": {
   "codemirror_mode": "r",
   "file_extension": ".r",
   "mimetype": "text/x-r-source",
   "name": "R",
   "pygments_lexer": "r",
   "version": "4.1.2"
  }
 },
 "nbformat": 4,
 "nbformat_minor": 5
}
