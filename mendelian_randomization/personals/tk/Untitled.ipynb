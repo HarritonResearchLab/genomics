{
 "cells": [
  {
   "cell_type": "code",
   "execution_count": 1,
   "id": "7c19c186",
   "metadata": {},
   "outputs": [
    {
     "name": "stdout",
     "output_type": "stream",
     "text": [
      "hey\n"
     ]
    }
   ],
   "source": [
    "def clean_output(file_path): \n",
    "    print('hey')\n",
    "    \n",
    "clean_output('asdfa')"
   ]
  },
  {
   "cell_type": "code",
   "execution_count": null,
   "id": "6e82776f",
   "metadata": {},
   "outputs": [],
   "source": []
  }
 ],
 "metadata": {
  "kernelspec": {
   "display_name": "Python 3 (ipykernel)",
   "language": "python",
   "name": "python3"
  },
  "language_info": {
   "codemirror_mode": {
    "name": "ipython",
    "version": 3
   },
   "file_extension": ".py",
   "mimetype": "text/x-python",
   "name": "python",
   "nbconvert_exporter": "python",
   "pygments_lexer": "ipython3",
   "version": "3.9.7"
  }
 },
 "nbformat": 4,
 "nbformat_minor": 5
}
