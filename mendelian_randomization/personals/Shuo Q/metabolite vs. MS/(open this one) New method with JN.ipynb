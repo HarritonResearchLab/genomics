{
 "cells": [
  {
   "cell_type": "markdown",
   "id": "bb470912",
   "metadata": {},
   "source": [
    "# Metabolites vs. MS\n",
    "\n",
    "libraries"
   ]
  },
  {
   "cell_type": "code",
   "execution_count": 2,
   "id": "57de18e1",
   "metadata": {
    "collapsed": true
   },
   "outputs": [
    {
     "name": "stderr",
     "output_type": "stream",
     "text": [
      "-- \u001b[1mAttaching packages\u001b[22m ------------------------------------------------------------------------------- tidyverse 1.3.1 --\n",
      "\n",
      "\u001b[32mv\u001b[39m \u001b[34mggplot2\u001b[39m 3.3.5     \u001b[32mv\u001b[39m \u001b[34mpurrr  \u001b[39m 0.3.4\n",
      "\u001b[32mv\u001b[39m \u001b[34mtibble \u001b[39m 3.1.6     \u001b[32mv\u001b[39m \u001b[34mdplyr  \u001b[39m 1.0.8\n",
      "\u001b[32mv\u001b[39m \u001b[34mtidyr  \u001b[39m 1.2.0     \u001b[32mv\u001b[39m \u001b[34mstringr\u001b[39m 1.4.0\n",
      "\u001b[32mv\u001b[39m \u001b[34mreadr  \u001b[39m 2.1.2     \u001b[32mv\u001b[39m \u001b[34mforcats\u001b[39m 0.5.1\n",
      "\n",
      "-- \u001b[1mConflicts\u001b[22m ---------------------------------------------------------------------------------- tidyverse_conflicts() --\n",
      "\u001b[31mx\u001b[39m \u001b[34mdplyr\u001b[39m::\u001b[32mfilter()\u001b[39m masks \u001b[34mstats\u001b[39m::filter()\n",
      "\u001b[31mx\u001b[39m \u001b[34mdplyr\u001b[39m::\u001b[32mlag()\u001b[39m    masks \u001b[34mstats\u001b[39m::lag()\n",
      "\n",
      "TwoSampleMR version 0.5.6 \n",
      "[>] New: Option to use non-European LD reference panels for clumping etc\n",
      "[>] Some studies temporarily quarantined to verify effect allele\n",
      "[>] See news(package='TwoSampleMR') and https://gwas.mrcieu.ac.uk for further details\n",
      "\n",
      "\n",
      "\n",
      "载入程辑包：'data.table'\n",
      "\n",
      "\n",
      "The following objects are masked from 'package:dplyr':\n",
      "\n",
      "    between, first, last\n",
      "\n",
      "\n",
      "The following object is masked from 'package:purrr':\n",
      "\n",
      "    transpose\n",
      "\n",
      "\n"
     ]
    }
   ],
   "source": [
    "library(tidyverse)\n",
    "library(TwoSampleMR)\n",
    "library(data.table)"
   ]
  },
  {
   "cell_type": "markdown",
   "id": "b328533a",
   "metadata": {},
   "source": [
    "## exposures and outcomes"
   ]
  },
  {
   "cell_type": "code",
   "execution_count": 3,
   "id": "645d19f9",
   "metadata": {},
   "outputs": [],
   "source": [
    "exposures <- c(\"met-d-bOHbutyrate\", \"met-c-846\", \"met-a-311\", \"met-a-420\", \"met-a-471\", \"met-a-421\", \"met-a-393\", \"met-a-427\", \"met-d-Acetoacetate\", \"met-c-838\", \"met-a-446\", \"met-a-386\")\n",
    "outcomes <- c(\"ieu-b-18\", \"finn-b-G6_MS\", \"ukb-b-17670\")"
   ]
  },
  {
   "cell_type": "markdown",
   "id": "99e43bf2",
   "metadata": {},
   "source": [
    "## main loops\n",
    "### metabolites vs. EU    (outcomes[1])"
   ]
  },
  {
   "cell_type": "code",
   "execution_count": 11,
   "id": "1b8331e8",
   "metadata": {
    "scrolled": true
   },
   "outputs": [
    {
     "name": "stdout",
     "output_type": "stream",
     "text": [
      "[1] \"------------- new -------------\"\n"
     ]
    },
    {
     "name": "stderr",
     "output_type": "stream",
     "text": [
      "Extracting data for 17 SNP(s) from 1 GWAS(s)\n",
      "\n",
      "Finding proxies for 4 SNPs in outcome ieu-b-18\n",
      "\n",
      "Extracting data for 4 SNP(s) from 1 GWAS(s)\n",
      "\n"
     ]
    },
    {
     "name": "stdout",
     "output_type": "stream",
     "text": [
      "[1] \"expo ok\"\n",
      "[1] \"met-d-bOHbutyrate\"\n",
      "[1] \"ieu-b-18\"\n",
      "[1] \"===================== extract done =====================\"\n"
     ]
    },
    {
     "name": "stderr",
     "output_type": "stream",
     "text": [
      "Harmonising 3-Hydroxybutyrate || id:met-d-bOHbutyrate (met-d-bOHbutyrate) and multiple sclerosis || id:ieu-b-18 (ieu-b-18)\n",
      "\n",
      "Removing the following SNPs for being palindromic with intermediate allele frequencies:\n",
      "rs10127775, rs12314700, rs2645433, rs964184\n",
      "\n",
      "Analysing 'met-d-bOHbutyrate' on 'ieu-b-18'\n",
      "\n"
     ]
    },
    {
     "name": "stdout",
     "output_type": "stream",
     "text": [
      "[1] \"===================== analysis done =====================\"\n",
      "[1] \"===================== plot done =====================\"\n",
      "[1] \"het int OK\"\n",
      "[1] \"===================== Done =====================\"\n",
      "[1] \"------------- new -------------\"\n"
     ]
    },
    {
     "name": "stderr",
     "output_type": "stream",
     "text": [
      "Extracting data for 1 SNP(s) from 1 GWAS(s)\n",
      "\n"
     ]
    },
    {
     "name": "stdout",
     "output_type": "stream",
     "text": [
      "[1] \"expo ok\"\n",
      "[1] \"met-c-846\"\n",
      "[1] \"ieu-b-18\"\n",
      "[1] \"===================== extract done =====================\"\n"
     ]
    },
    {
     "name": "stderr",
     "output_type": "stream",
     "text": [
      "Harmonising 3-hydroxybutyrate || id:met-c-846 (met-c-846) and multiple sclerosis || id:ieu-b-18 (ieu-b-18)\n",
      "\n",
      "Analysing 'met-c-846' on 'ieu-b-18'\n",
      "\n",
      "Not enough SNPs available for pleiotropy analysis of 'met-c-846' on 'ieu-b-18'\n",
      "\n",
      "Not enough SNPs available for Heterogeneity analysis of 'met-c-846' on 'ieu-b-18'\n",
      "\n"
     ]
    },
    {
     "name": "stdout",
     "output_type": "stream",
     "text": [
      "[1] \"===================== analysis done =====================\"\n",
      "[1] \"===================== plot done =====================\"\n",
      "[1] \"het int missing\"\n",
      "[1] \"===================== Done =====================\"\n",
      "[1] \"------------- new -------------\"\n"
     ]
    },
    {
     "name": "stderr",
     "output_type": "stream",
     "text": [
      "Extracting data for 0 SNP(s) from 1 GWAS(s)\n",
      "\n"
     ]
    },
    {
     "name": "stdout",
     "output_type": "stream",
     "text": [
      "[1] \"exposure data missing\"\n",
      "[1] \"------------- new -------------\"\n"
     ]
    },
    {
     "name": "stderr",
     "output_type": "stream",
     "text": [
      "Extracting data for 0 SNP(s) from 1 GWAS(s)\n",
      "\n"
     ]
    },
    {
     "name": "stdout",
     "output_type": "stream",
     "text": [
      "[1] \"exposure data missing\"\n",
      "[1] \"------------- new -------------\"\n"
     ]
    },
    {
     "name": "stderr",
     "output_type": "stream",
     "text": [
      "Extracting data for 2 SNP(s) from 1 GWAS(s)\n",
      "\n"
     ]
    },
    {
     "name": "stdout",
     "output_type": "stream",
     "text": [
      "[1] \"expo ok\"\n",
      "[1] \"met-a-471\"\n",
      "[1] \"ieu-b-18\"\n",
      "[1] \"===================== extract done =====================\"\n"
     ]
    },
    {
     "name": "stderr",
     "output_type": "stream",
     "text": [
      "Harmonising 2-aminobutyrate || id:met-a-471 (met-a-471) and multiple sclerosis || id:ieu-b-18 (ieu-b-18)\n",
      "\n",
      "Analysing 'met-a-471' on 'ieu-b-18'\n",
      "\n"
     ]
    },
    {
     "name": "stdout",
     "output_type": "stream",
     "text": [
      "[1] \"===================== analysis done =====================\"\n",
      "[1] \"===================== plot done =====================\"\n",
      "[1] \"het int OK\"\n",
      "[1] \"===================== Done =====================\"\n",
      "[1] \"------------- new -------------\"\n"
     ]
    },
    {
     "name": "stderr",
     "output_type": "stream",
     "text": [
      "Extracting data for 1 SNP(s) from 1 GWAS(s)\n",
      "\n"
     ]
    },
    {
     "name": "stdout",
     "output_type": "stream",
     "text": [
      "[1] \"expo ok\"\n",
      "[1] \"met-a-421\"\n",
      "[1] \"ieu-b-18\"\n",
      "[1] \"===================== extract done =====================\"\n"
     ]
    },
    {
     "name": "stderr",
     "output_type": "stream",
     "text": [
      "Harmonising 3-methyl-2-oxobutyrate || id:met-a-421 (met-a-421) and multiple sclerosis || id:ieu-b-18 (ieu-b-18)\n",
      "\n",
      "Analysing 'met-a-421' on 'ieu-b-18'\n",
      "\n",
      "Not enough SNPs available for pleiotropy analysis of 'met-a-421' on 'ieu-b-18'\n",
      "\n",
      "Not enough SNPs available for Heterogeneity analysis of 'met-a-421' on 'ieu-b-18'\n",
      "\n"
     ]
    },
    {
     "name": "stdout",
     "output_type": "stream",
     "text": [
      "[1] \"===================== analysis done =====================\"\n",
      "[1] \"===================== plot done =====================\"\n",
      "[1] \"het int missing\"\n",
      "[1] \"===================== Done =====================\"\n",
      "[1] \"------------- new -------------\"\n"
     ]
    },
    {
     "name": "stderr",
     "output_type": "stream",
     "text": [
      "Extracting data for 1 SNP(s) from 1 GWAS(s)\n",
      "\n"
     ]
    },
    {
     "name": "stdout",
     "output_type": "stream",
     "text": [
      "[1] \"expo ok\"\n",
      "[1] \"met-a-393\"\n",
      "[1] \"ieu-b-18\"\n",
      "[1] \"===================== extract done =====================\"\n"
     ]
    },
    {
     "name": "stderr",
     "output_type": "stream",
     "text": [
      "Harmonising X-04499--3,4-dihydroxybutyrate || id:met-a-393 (met-a-393) and multiple sclerosis || id:ieu-b-18 (ieu-b-18)\n",
      "\n",
      "Analysing 'met-a-393' on 'ieu-b-18'\n",
      "\n",
      "Not enough SNPs available for pleiotropy analysis of 'met-a-393' on 'ieu-b-18'\n",
      "\n",
      "Not enough SNPs available for Heterogeneity analysis of 'met-a-393' on 'ieu-b-18'\n",
      "\n"
     ]
    },
    {
     "name": "stdout",
     "output_type": "stream",
     "text": [
      "[1] \"===================== analysis done =====================\"\n",
      "[1] \"===================== plot done =====================\"\n",
      "[1] \"het int missing\"\n",
      "[1] \"===================== Done =====================\"\n",
      "[1] \"------------- new -------------\"\n"
     ]
    },
    {
     "name": "stderr",
     "output_type": "stream",
     "text": [
      "Extracting data for 3 SNP(s) from 1 GWAS(s)\n",
      "\n"
     ]
    },
    {
     "name": "stdout",
     "output_type": "stream",
     "text": [
      "[1] \"expo ok\"\n",
      "[1] \"met-a-427\"\n",
      "[1] \"ieu-b-18\"\n",
      "[1] \"===================== extract done =====================\"\n"
     ]
    },
    {
     "name": "stderr",
     "output_type": "stream",
     "text": [
      "Harmonising 2-hydroxyisobutyrate || id:met-a-427 (met-a-427) and multiple sclerosis || id:ieu-b-18 (ieu-b-18)\n",
      "\n",
      "Analysing 'met-a-427' on 'ieu-b-18'\n",
      "\n"
     ]
    },
    {
     "name": "stdout",
     "output_type": "stream",
     "text": [
      "[1] \"===================== analysis done =====================\"\n",
      "[1] \"===================== plot done =====================\"\n",
      "[1] \"het int OK\"\n",
      "[1] \"===================== Done =====================\"\n",
      "[1] \"------------- new -------------\"\n"
     ]
    },
    {
     "name": "stderr",
     "output_type": "stream",
     "text": [
      "Extracting data for 7 SNP(s) from 1 GWAS(s)\n",
      "\n",
      "Finding proxies for 2 SNPs in outcome ieu-b-18\n",
      "\n",
      "Extracting data for 2 SNP(s) from 1 GWAS(s)\n",
      "\n"
     ]
    },
    {
     "name": "stdout",
     "output_type": "stream",
     "text": [
      "[1] \"expo ok\"\n",
      "[1] \"met-d-Acetoacetate\"\n",
      "[1] \"ieu-b-18\"\n",
      "[1] \"===================== extract done =====================\"\n"
     ]
    },
    {
     "name": "stderr",
     "output_type": "stream",
     "text": [
      "Harmonising Acetoacetate || id:met-d-Acetoacetate (met-d-Acetoacetate) and multiple sclerosis || id:ieu-b-18 (ieu-b-18)\n",
      "\n",
      "Removing the following SNPs for being palindromic with intermediate allele frequencies:\n",
      "rs11745373, rs910502, rs964184\n",
      "\n",
      "Analysing 'met-d-Acetoacetate' on 'ieu-b-18'\n",
      "\n"
     ]
    },
    {
     "name": "stdout",
     "output_type": "stream",
     "text": [
      "[1] \"===================== analysis done =====================\"\n",
      "[1] \"===================== plot done =====================\"\n",
      "[1] \"het int OK\"\n",
      "[1] \"===================== Done =====================\"\n",
      "[1] \"------------- new -------------\"\n"
     ]
    },
    {
     "name": "stderr",
     "output_type": "stream",
     "text": [
      "Extracting data for 2 SNP(s) from 1 GWAS(s)\n",
      "\n"
     ]
    },
    {
     "name": "stdout",
     "output_type": "stream",
     "text": [
      "[1] \"expo ok\"\n",
      "[1] \"met-c-838\"\n",
      "[1] \"ieu-b-18\"\n",
      "[1] \"===================== extract done =====================\"\n"
     ]
    },
    {
     "name": "stderr",
     "output_type": "stream",
     "text": [
      "Harmonising Acetoacetate || id:met-c-838 (met-c-838) and multiple sclerosis || id:ieu-b-18 (ieu-b-18)\n",
      "\n",
      "Removing the following SNPs for being palindromic with intermediate allele frequencies:\n",
      "rs964184\n",
      "\n",
      "Analysing 'met-c-838' on 'ieu-b-18'\n",
      "\n",
      "Not enough SNPs available for pleiotropy analysis of 'met-c-838' on 'ieu-b-18'\n",
      "\n",
      "Not enough SNPs available for Heterogeneity analysis of 'met-c-838' on 'ieu-b-18'\n",
      "\n"
     ]
    },
    {
     "name": "stdout",
     "output_type": "stream",
     "text": [
      "[1] \"===================== analysis done =====================\"\n",
      "[1] \"===================== plot done =====================\"\n",
      "[1] \"het int missing\"\n",
      "[1] \"===================== Done =====================\"\n",
      "[1] \"------------- new -------------\"\n"
     ]
    },
    {
     "name": "stderr",
     "output_type": "stream",
     "text": [
      "Extracting data for 2 SNP(s) from 1 GWAS(s)\n",
      "\n"
     ]
    },
    {
     "name": "stdout",
     "output_type": "stream",
     "text": [
      "[1] \"expo ok\"\n",
      "[1] \"met-a-446\"\n",
      "[1] \"ieu-b-18\"\n",
      "[1] \"===================== extract done =====================\"\n"
     ]
    },
    {
     "name": "stderr",
     "output_type": "stream",
     "text": [
      "Harmonising Indoleacetate || id:met-a-446 (met-a-446) and multiple sclerosis || id:ieu-b-18 (ieu-b-18)\n",
      "\n",
      "Removing the following SNPs for being palindromic with intermediate allele frequencies:\n",
      "rs7809234\n",
      "\n",
      "Analysing 'met-a-446' on 'ieu-b-18'\n",
      "\n",
      "Not enough SNPs available for pleiotropy analysis of 'met-a-446' on 'ieu-b-18'\n",
      "\n",
      "Not enough SNPs available for Heterogeneity analysis of 'met-a-446' on 'ieu-b-18'\n",
      "\n"
     ]
    },
    {
     "name": "stdout",
     "output_type": "stream",
     "text": [
      "[1] \"===================== analysis done =====================\"\n",
      "[1] \"===================== plot done =====================\"\n",
      "[1] \"het int missing\"\n",
      "[1] \"===================== Done =====================\"\n",
      "[1] \"------------- new -------------\"\n"
     ]
    },
    {
     "name": "stderr",
     "output_type": "stream",
     "text": [
      "Extracting data for 0 SNP(s) from 1 GWAS(s)\n",
      "\n"
     ]
    },
    {
     "name": "stdout",
     "output_type": "stream",
     "text": [
      "[1] \"exposure data missing\"\n"
     ]
    }
   ],
   "source": [
    "for(i in 1:length(exposures)){\n",
    "  print(\"------------- new -------------\")\n",
    "  \n",
    "  expo_data <- extract_instruments(exposures[i])\n",
    "  out_data <- extract_outcome_data(snps = expo_data$SNP, outcomes = outcomes[1])\n",
    "  \n",
    "  if(is.null(expo_data)){\n",
    "    print(\"exposure data missing\")\n",
    "    next\n",
    "  }else if(is.null(out_data)){\n",
    "    print(\"outcome data missing\")\n",
    "    next\n",
    "  }else{\n",
    "    print(\"expo ok\")\n",
    "  }\n",
    "  \n",
    "  print(exposures[i])\n",
    "  print(outcomes[1])\n",
    "  print(\"===================== extract done =====================\")\n",
    "  \n",
    "  # analysis\n",
    "  hm_data <- harmonise_data(expo_data, out_data)\n",
    "  \n",
    "  mr_data <- mr(hm_data)\n",
    "  \n",
    "  intercept_data <- mr_pleiotropy_test(hm_data)\n",
    "  \n",
    "  het_data <- mr_heterogeneity(hm_data)\n",
    "  \n",
    "  print(\"===================== analysis done =====================\")\n",
    "  \n",
    "  # plots\n",
    "  plot <- mr_scatter_plot(mr_data, hm_data)\n",
    "  plot[[1]]\n",
    "  \n",
    "  print(\"===================== plot done =====================\")\n",
    "  \n",
    "  # reform table\n",
    "  \n",
    "  if (dim(het_data)[1] == 0 & dim(intercept_data)[1] == 0){\n",
    "    print (\"het int missing\")\n",
    "    reformed_table <- data.frame(\n",
    "      GWAS_ID = exposures[i],\n",
    "      # IVW method  3\n",
    "      b_IVW_MRE = mr_data[3,7],\n",
    "      se_IVW_MRE = mr_data[3,8],\n",
    "      pval_IVW_MRE = mr_data[3,9],\n",
    "      # Egger method  1\n",
    "      b_Egger = mr_data[1,7],\n",
    "      se_Egger = mr_data[1,8],\n",
    "      pval_Egger = mr_data[1,9],\n",
    "      # intercept missing\n",
    "      Egger_intercept = NA,\n",
    "      pval_intercept = NA,\n",
    "      # Heterogenous missing\n",
    "      Het_IVW_pval = NA,\n",
    "      Het_Egger_pval = NA,\n",
    "      # Weighted median  2\n",
    "      b_W_Med = mr_data[2,7],\n",
    "      se_W_Med = mr_data[2,8],\n",
    "      pval_W_Med = mr_data[2,9],\n",
    "      # Weighted mode  5\n",
    "      b_W_Mod = mr_data[5,7],\n",
    "      se_W_Mod = mr_data[5,8],\n",
    "      pval_W_Mod = mr_data[5,9],\n",
    "      # then\n",
    "      nsnps\t= mr_data[1,6]\n",
    "    )\n",
    "  }else{\n",
    "    print(\"het int OK\")\n",
    "    reformed_table <- data.frame(\n",
    "      GWAS_ID = exposures[i],\n",
    "      # IVW method  3\n",
    "      b_IVW_MRE = mr_data[3,7],\n",
    "      se_IVW_MRE = mr_data[3,8],\n",
    "      pval_IVW_MRE = mr_data[3,9],\n",
    "      # Egger method  1\n",
    "      b_Egger = mr_data[1,7],\n",
    "      se_Egger = mr_data[1,8],\n",
    "      pval_Egger = mr_data[1,9],\n",
    "      # intercept\n",
    "      Egger_intercept = intercept_data[1,5],\n",
    "      pval_intercept = intercept_data[1,7],\n",
    "      # Heterogenous\n",
    "      Het_IVW_pval = het_data[2,8],\n",
    "      Het_Egger_pval = het_data[1,8],\n",
    "      # Weighted median  2\n",
    "      b_W_Med = mr_data[2,7],\n",
    "      se_W_Med = mr_data[2,8],\n",
    "      pval_W_Med = mr_data[2,9],\n",
    "      # Weighted mode  5\n",
    "      b_W_Mod = mr_data[5,7],\n",
    "      se_W_Mod = mr_data[5,8],\n",
    "      pval_W_Mod = mr_data[5,9],\n",
    "      # then\n",
    "      nsnps\t= mr_data[1,6]\n",
    "    )\n",
    "  }\n",
    "  \n",
    "  # need to assign names and save things (done on the local machine)\n",
    "  print(\"===================== Done =====================\")\n",
    "}"
   ]
  },
  {
   "cell_type": "markdown",
   "id": "e33ab2bc",
   "metadata": {},
   "source": [
    "###### it is interesting that the plots are not shown here"
   ]
  },
  {
   "cell_type": "markdown",
   "id": "752889f1",
   "metadata": {},
   "source": [
    "### metabolites vs. Finnish (outcome[2])"
   ]
  },
  {
   "cell_type": "code",
   "execution_count": 9,
   "id": "4efab039",
   "metadata": {},
   "outputs": [
    {
     "name": "stdout",
     "output_type": "stream",
     "text": [
      "[1] \"------------- new -------------\"\n"
     ]
    },
    {
     "name": "stderr",
     "output_type": "stream",
     "text": [
      "Extracting data for 17 SNP(s) from 1 GWAS(s)\n",
      "\n",
      "Finding proxies for 1 SNPs in outcome finn-b-G6_MS\n",
      "\n",
      "Extracting data for 1 SNP(s) from 1 GWAS(s)\n",
      "\n"
     ]
    },
    {
     "name": "stdout",
     "output_type": "stream",
     "text": [
      "[1] \"expo ok\"\n",
      "[1] \"met-d-bOHbutyrate\"\n",
      "[1] \"finn-b-G6_MS\"\n",
      "[1] \"===================== extract done =====================\"\n"
     ]
    },
    {
     "name": "stderr",
     "output_type": "stream",
     "text": [
      "Harmonising 3-Hydroxybutyrate || id:met-d-bOHbutyrate (met-d-bOHbutyrate) and MS-disease / Multiple Sclerosis || id:finn-b-G6_MS (finn-b-G6_MS)\n",
      "\n",
      "Removing the following SNPs for being palindromic with intermediate allele frequencies:\n",
      "rs10127775, rs2645433\n",
      "\n",
      "Analysing 'met-d-bOHbutyrate' on 'finn-b-G6_MS'\n",
      "\n"
     ]
    },
    {
     "name": "stdout",
     "output_type": "stream",
     "text": [
      "[1] \"===================== analysis done =====================\"\n",
      "[1] \"===================== plot done =====================\"\n",
      "[1] \"het int OK\"\n",
      "[1] \"===================== Done =====================\"\n",
      "[1] \"------------- new -------------\"\n"
     ]
    },
    {
     "name": "stderr",
     "output_type": "stream",
     "text": [
      "Extracting data for 1 SNP(s) from 1 GWAS(s)\n",
      "\n"
     ]
    },
    {
     "name": "stdout",
     "output_type": "stream",
     "text": [
      "[1] \"expo ok\"\n",
      "[1] \"met-c-846\"\n",
      "[1] \"finn-b-G6_MS\"\n",
      "[1] \"===================== extract done =====================\"\n"
     ]
    },
    {
     "name": "stderr",
     "output_type": "stream",
     "text": [
      "Harmonising 3-hydroxybutyrate || id:met-c-846 (met-c-846) and MS-disease / Multiple Sclerosis || id:finn-b-G6_MS (finn-b-G6_MS)\n",
      "\n",
      "Analysing 'met-c-846' on 'finn-b-G6_MS'\n",
      "\n",
      "Not enough SNPs available for pleiotropy analysis of 'met-c-846' on 'finn-b-G6_MS'\n",
      "\n",
      "Not enough SNPs available for Heterogeneity analysis of 'met-c-846' on 'finn-b-G6_MS'\n",
      "\n"
     ]
    },
    {
     "name": "stdout",
     "output_type": "stream",
     "text": [
      "[1] \"===================== analysis done =====================\"\n",
      "[1] \"===================== plot done =====================\"\n",
      "[1] \"het int missing\"\n",
      "[1] \"===================== Done =====================\"\n",
      "[1] \"------------- new -------------\"\n"
     ]
    },
    {
     "name": "stderr",
     "output_type": "stream",
     "text": [
      "Extracting data for 0 SNP(s) from 1 GWAS(s)\n",
      "\n"
     ]
    },
    {
     "name": "stdout",
     "output_type": "stream",
     "text": [
      "[1] \"exposure data missing\"\n",
      "[1] \"------------- new -------------\"\n"
     ]
    },
    {
     "name": "stderr",
     "output_type": "stream",
     "text": [
      "Extracting data for 0 SNP(s) from 1 GWAS(s)\n",
      "\n"
     ]
    },
    {
     "name": "stdout",
     "output_type": "stream",
     "text": [
      "[1] \"exposure data missing\"\n",
      "[1] \"------------- new -------------\"\n"
     ]
    },
    {
     "name": "stderr",
     "output_type": "stream",
     "text": [
      "Extracting data for 2 SNP(s) from 1 GWAS(s)\n",
      "\n"
     ]
    },
    {
     "name": "stdout",
     "output_type": "stream",
     "text": [
      "[1] \"expo ok\"\n",
      "[1] \"met-a-471\"\n",
      "[1] \"finn-b-G6_MS\"\n",
      "[1] \"===================== extract done =====================\"\n"
     ]
    },
    {
     "name": "stderr",
     "output_type": "stream",
     "text": [
      "Harmonising 2-aminobutyrate || id:met-a-471 (met-a-471) and MS-disease / Multiple Sclerosis || id:finn-b-G6_MS (finn-b-G6_MS)\n",
      "\n",
      "Analysing 'met-a-471' on 'finn-b-G6_MS'\n",
      "\n"
     ]
    },
    {
     "name": "stdout",
     "output_type": "stream",
     "text": [
      "[1] \"===================== analysis done =====================\"\n",
      "[1] \"===================== plot done =====================\"\n",
      "[1] \"het int OK\"\n",
      "[1] \"===================== Done =====================\"\n",
      "[1] \"------------- new -------------\"\n"
     ]
    },
    {
     "name": "stderr",
     "output_type": "stream",
     "text": [
      "Extracting data for 1 SNP(s) from 1 GWAS(s)\n",
      "\n"
     ]
    },
    {
     "name": "stdout",
     "output_type": "stream",
     "text": [
      "[1] \"expo ok\"\n",
      "[1] \"met-a-421\"\n",
      "[1] \"finn-b-G6_MS\"\n",
      "[1] \"===================== extract done =====================\"\n"
     ]
    },
    {
     "name": "stderr",
     "output_type": "stream",
     "text": [
      "Harmonising 3-methyl-2-oxobutyrate || id:met-a-421 (met-a-421) and MS-disease / Multiple Sclerosis || id:finn-b-G6_MS (finn-b-G6_MS)\n",
      "\n",
      "Analysing 'met-a-421' on 'finn-b-G6_MS'\n",
      "\n",
      "Not enough SNPs available for pleiotropy analysis of 'met-a-421' on 'finn-b-G6_MS'\n",
      "\n",
      "Not enough SNPs available for Heterogeneity analysis of 'met-a-421' on 'finn-b-G6_MS'\n",
      "\n"
     ]
    },
    {
     "name": "stdout",
     "output_type": "stream",
     "text": [
      "[1] \"===================== analysis done =====================\"\n",
      "[1] \"===================== plot done =====================\"\n",
      "[1] \"het int missing\"\n",
      "[1] \"===================== Done =====================\"\n",
      "[1] \"------------- new -------------\"\n"
     ]
    },
    {
     "name": "stderr",
     "output_type": "stream",
     "text": [
      "Extracting data for 1 SNP(s) from 1 GWAS(s)\n",
      "\n"
     ]
    },
    {
     "name": "stdout",
     "output_type": "stream",
     "text": [
      "[1] \"expo ok\"\n",
      "[1] \"met-a-393\"\n",
      "[1] \"finn-b-G6_MS\"\n",
      "[1] \"===================== extract done =====================\"\n"
     ]
    },
    {
     "name": "stderr",
     "output_type": "stream",
     "text": [
      "Harmonising X-04499--3,4-dihydroxybutyrate || id:met-a-393 (met-a-393) and MS-disease / Multiple Sclerosis || id:finn-b-G6_MS (finn-b-G6_MS)\n",
      "\n",
      "Analysing 'met-a-393' on 'finn-b-G6_MS'\n",
      "\n",
      "Not enough SNPs available for pleiotropy analysis of 'met-a-393' on 'finn-b-G6_MS'\n",
      "\n",
      "Not enough SNPs available for Heterogeneity analysis of 'met-a-393' on 'finn-b-G6_MS'\n",
      "\n"
     ]
    },
    {
     "name": "stdout",
     "output_type": "stream",
     "text": [
      "[1] \"===================== analysis done =====================\"\n",
      "[1] \"===================== plot done =====================\"\n",
      "[1] \"het int missing\"\n",
      "[1] \"===================== Done =====================\"\n",
      "[1] \"------------- new -------------\"\n"
     ]
    },
    {
     "name": "stderr",
     "output_type": "stream",
     "text": [
      "Extracting data for 3 SNP(s) from 1 GWAS(s)\n",
      "\n"
     ]
    },
    {
     "name": "stdout",
     "output_type": "stream",
     "text": [
      "[1] \"expo ok\"\n",
      "[1] \"met-a-427\"\n",
      "[1] \"finn-b-G6_MS\"\n",
      "[1] \"===================== extract done =====================\"\n"
     ]
    },
    {
     "name": "stderr",
     "output_type": "stream",
     "text": [
      "Harmonising 2-hydroxyisobutyrate || id:met-a-427 (met-a-427) and MS-disease / Multiple Sclerosis || id:finn-b-G6_MS (finn-b-G6_MS)\n",
      "\n",
      "Analysing 'met-a-427' on 'finn-b-G6_MS'\n",
      "\n"
     ]
    },
    {
     "name": "stdout",
     "output_type": "stream",
     "text": [
      "[1] \"===================== analysis done =====================\"\n",
      "[1] \"===================== plot done =====================\"\n",
      "[1] \"het int OK\"\n",
      "[1] \"===================== Done =====================\"\n",
      "[1] \"------------- new -------------\"\n"
     ]
    },
    {
     "name": "stderr",
     "output_type": "stream",
     "text": [
      "Extracting data for 7 SNP(s) from 1 GWAS(s)\n",
      "\n"
     ]
    },
    {
     "name": "stdout",
     "output_type": "stream",
     "text": [
      "[1] \"expo ok\"\n",
      "[1] \"met-d-Acetoacetate\"\n",
      "[1] \"finn-b-G6_MS\"\n",
      "[1] \"===================== extract done =====================\"\n"
     ]
    },
    {
     "name": "stderr",
     "output_type": "stream",
     "text": [
      "Harmonising Acetoacetate || id:met-d-Acetoacetate (met-d-Acetoacetate) and MS-disease / Multiple Sclerosis || id:finn-b-G6_MS (finn-b-G6_MS)\n",
      "\n",
      "Analysing 'met-d-Acetoacetate' on 'finn-b-G6_MS'\n",
      "\n"
     ]
    },
    {
     "name": "stdout",
     "output_type": "stream",
     "text": [
      "[1] \"===================== analysis done =====================\"\n",
      "[1] \"===================== plot done =====================\"\n",
      "[1] \"het int OK\"\n",
      "[1] \"===================== Done =====================\"\n",
      "[1] \"------------- new -------------\"\n"
     ]
    },
    {
     "name": "stderr",
     "output_type": "stream",
     "text": [
      "Extracting data for 2 SNP(s) from 1 GWAS(s)\n",
      "\n"
     ]
    },
    {
     "name": "stdout",
     "output_type": "stream",
     "text": [
      "[1] \"expo ok\"\n",
      "[1] \"met-c-838\"\n",
      "[1] \"finn-b-G6_MS\"\n",
      "[1] \"===================== extract done =====================\"\n"
     ]
    },
    {
     "name": "stderr",
     "output_type": "stream",
     "text": [
      "Harmonising Acetoacetate || id:met-c-838 (met-c-838) and MS-disease / Multiple Sclerosis || id:finn-b-G6_MS (finn-b-G6_MS)\n",
      "\n",
      "Analysing 'met-c-838' on 'finn-b-G6_MS'\n",
      "\n"
     ]
    },
    {
     "name": "stdout",
     "output_type": "stream",
     "text": [
      "[1] \"===================== analysis done =====================\"\n",
      "[1] \"===================== plot done =====================\"\n",
      "[1] \"het int OK\"\n",
      "[1] \"===================== Done =====================\"\n",
      "[1] \"------------- new -------------\"\n"
     ]
    },
    {
     "name": "stderr",
     "output_type": "stream",
     "text": [
      "Extracting data for 2 SNP(s) from 1 GWAS(s)\n",
      "\n"
     ]
    },
    {
     "name": "stdout",
     "output_type": "stream",
     "text": [
      "[1] \"expo ok\"\n",
      "[1] \"met-a-446\"\n",
      "[1] \"finn-b-G6_MS\"\n",
      "[1] \"===================== extract done =====================\"\n"
     ]
    },
    {
     "name": "stderr",
     "output_type": "stream",
     "text": [
      "Harmonising Indoleacetate || id:met-a-446 (met-a-446) and MS-disease / Multiple Sclerosis || id:finn-b-G6_MS (finn-b-G6_MS)\n",
      "\n",
      "Analysing 'met-a-446' on 'finn-b-G6_MS'\n",
      "\n"
     ]
    },
    {
     "name": "stdout",
     "output_type": "stream",
     "text": [
      "[1] \"===================== analysis done =====================\"\n",
      "[1] \"===================== plot done =====================\"\n",
      "[1] \"het int OK\"\n",
      "[1] \"===================== Done =====================\"\n",
      "[1] \"------------- new -------------\"\n"
     ]
    },
    {
     "name": "stderr",
     "output_type": "stream",
     "text": [
      "Extracting data for 0 SNP(s) from 1 GWAS(s)\n",
      "\n"
     ]
    },
    {
     "name": "stdout",
     "output_type": "stream",
     "text": [
      "[1] \"exposure data missing\"\n"
     ]
    }
   ],
   "source": [
    "for(i in 1:length(exposures)){\n",
    "  print(\"------------- new -------------\")\n",
    "  \n",
    "  expo_data <- extract_instruments(exposures[i])\n",
    "  out_data <- extract_outcome_data(snps = expo_data$SNP, outcomes = outcomes[2])\n",
    "  \n",
    "  if(is.null(expo_data)){\n",
    "    print(\"exposure data missing\")\n",
    "    next\n",
    "  }else if(is.null(out_data)){\n",
    "    print(\"outcome data missing\")\n",
    "    next\n",
    "  }else{\n",
    "    print(\"expo ok\")\n",
    "  }\n",
    "  \n",
    "  print(exposures[i])\n",
    "  print(outcomes[2])\n",
    "  print(\"===================== extract done =====================\")\n",
    "  \n",
    "  # analysis\n",
    "  hm_data <- harmonise_data(expo_data, out_data)\n",
    "  \n",
    "  mr_data <- mr(hm_data)\n",
    "  \n",
    "  intercept_data <- mr_pleiotropy_test(hm_data)\n",
    "  \n",
    "  het_data <- mr_heterogeneity(hm_data)\n",
    "  \n",
    "  print(\"===================== analysis done =====================\")\n",
    "  \n",
    "  # plots\n",
    "  plot <- mr_scatter_plot(mr_data, hm_data)\n",
    "  plot[[1]]\n",
    "  \n",
    "  print(\"===================== plot done =====================\")\n",
    "  \n",
    "  # reform table\n",
    "  \n",
    "  if (dim(het_data)[1] == 0 & dim(intercept_data)[1] == 0){\n",
    "    print (\"het int missing\")\n",
    "    reformed_table <- data.frame(\n",
    "      GWAS_ID = exposures[i],\n",
    "      # IVW method  3\n",
    "      b_IVW_MRE = mr_data[3,7],\n",
    "      se_IVW_MRE = mr_data[3,8],\n",
    "      pval_IVW_MRE = mr_data[3,9],\n",
    "      # Egger method  1\n",
    "      b_Egger = mr_data[1,7],\n",
    "      se_Egger = mr_data[1,8],\n",
    "      pval_Egger = mr_data[1,9],\n",
    "      # intercept missing\n",
    "      Egger_intercept = NA,\n",
    "      pval_intercept = NA,\n",
    "      # Heterogenous missing\n",
    "      Het_IVW_pval = NA,\n",
    "      Het_Egger_pval = NA,\n",
    "      # Weighted median  2\n",
    "      b_W_Med = mr_data[2,7],\n",
    "      se_W_Med = mr_data[2,8],\n",
    "      pval_W_Med = mr_data[2,9],\n",
    "      # Weighted mode  5\n",
    "      b_W_Mod = mr_data[5,7],\n",
    "      se_W_Mod = mr_data[5,8],\n",
    "      pval_W_Mod = mr_data[5,9],\n",
    "      # then\n",
    "      nsnps\t= mr_data[1,6]\n",
    "    )\n",
    "  }else{\n",
    "    print(\"het int OK\")\n",
    "    reformed_table <- data.frame(\n",
    "      GWAS_ID = exposures[i],\n",
    "      # IVW method  3\n",
    "      b_IVW_MRE = mr_data[3,7],\n",
    "      se_IVW_MRE = mr_data[3,8],\n",
    "      pval_IVW_MRE = mr_data[3,9],\n",
    "      # Egger method  1\n",
    "      b_Egger = mr_data[1,7],\n",
    "      se_Egger = mr_data[1,8],\n",
    "      pval_Egger = mr_data[1,9],\n",
    "      # intercept\n",
    "      Egger_intercept = intercept_data[1,5],\n",
    "      pval_intercept = intercept_data[1,7],\n",
    "      # Heterogenous\n",
    "      Het_IVW_pval = het_data[2,8],\n",
    "      Het_Egger_pval = het_data[1,8],\n",
    "      # Weighted median  2\n",
    "      b_W_Med = mr_data[2,7],\n",
    "      se_W_Med = mr_data[2,8],\n",
    "      pval_W_Med = mr_data[2,9],\n",
    "      # Weighted mode  5\n",
    "      b_W_Mod = mr_data[5,7],\n",
    "      se_W_Mod = mr_data[5,8],\n",
    "      pval_W_Mod = mr_data[5,9],\n",
    "      # then\n",
    "      nsnps\t= mr_data[1,6]\n",
    "    )\n",
    "  }\n",
    "  print(\"===================== Done =====================\")\n",
    "}\n"
   ]
  },
  {
   "cell_type": "markdown",
   "id": "747962d2",
   "metadata": {},
   "source": [
    "### metabolites vs. UK (outcomes[3])"
   ]
  },
  {
   "cell_type": "code",
   "execution_count": 10,
   "id": "baa54ced",
   "metadata": {
    "scrolled": true
   },
   "outputs": [
    {
     "name": "stdout",
     "output_type": "stream",
     "text": [
      "[1] \"------------- new -------------\"\n"
     ]
    },
    {
     "name": "stderr",
     "output_type": "stream",
     "text": [
      "Extracting data for 17 SNP(s) from 1 GWAS(s)\n",
      "\n",
      "Finding proxies for 11 SNPs in outcome ukb-b-17670\n",
      "\n",
      "Extracting data for 11 SNP(s) from 1 GWAS(s)\n",
      "\n"
     ]
    },
    {
     "name": "stdout",
     "output_type": "stream",
     "text": [
      "[1] \"expo ok\"\n",
      "[1] \"met-d-bOHbutyrate\"\n",
      "[1] \"ukb-b-17670\"\n",
      "[1] \"===================== extract done =====================\"\n"
     ]
    },
    {
     "name": "stderr",
     "output_type": "stream",
     "text": [
      "Harmonising 3-Hydroxybutyrate || id:met-d-bOHbutyrate (met-d-bOHbutyrate) and Non-cancer illness code, self-reported: multiple sclerosis || id:ukb-b-17670 (ukb-b-17670)\n",
      "\n",
      "Analysing 'met-d-bOHbutyrate' on 'ukb-b-17670'\n",
      "\n"
     ]
    },
    {
     "name": "stdout",
     "output_type": "stream",
     "text": [
      "[1] \"===================== analysis done =====================\"\n",
      "[1] \"===================== plot done =====================\"\n",
      "[1] \"het int OK\"\n",
      "[1] \"===================== Done =====================\"\n",
      "[1] \"------------- new -------------\"\n"
     ]
    },
    {
     "name": "stderr",
     "output_type": "stream",
     "text": [
      "Extracting data for 1 SNP(s) from 1 GWAS(s)\n",
      "\n",
      "Finding proxies for 1 SNPs in outcome ukb-b-17670\n",
      "\n",
      "Extracting data for 1 SNP(s) from 1 GWAS(s)\n",
      "\n"
     ]
    },
    {
     "name": "stdout",
     "output_type": "stream",
     "text": [
      "[1] \"outcome data missing\"\n",
      "[1] \"------------- new -------------\"\n"
     ]
    },
    {
     "name": "stderr",
     "output_type": "stream",
     "text": [
      "Extracting data for 0 SNP(s) from 1 GWAS(s)\n",
      "\n"
     ]
    },
    {
     "name": "stdout",
     "output_type": "stream",
     "text": [
      "[1] \"exposure data missing\"\n",
      "[1] \"------------- new -------------\"\n"
     ]
    },
    {
     "name": "stderr",
     "output_type": "stream",
     "text": [
      "Extracting data for 0 SNP(s) from 1 GWAS(s)\n",
      "\n"
     ]
    },
    {
     "name": "stdout",
     "output_type": "stream",
     "text": [
      "[1] \"exposure data missing\"\n",
      "[1] \"------------- new -------------\"\n"
     ]
    },
    {
     "name": "stderr",
     "output_type": "stream",
     "text": [
      "Extracting data for 2 SNP(s) from 1 GWAS(s)\n",
      "\n"
     ]
    },
    {
     "name": "stdout",
     "output_type": "stream",
     "text": [
      "[1] \"expo ok\"\n",
      "[1] \"met-a-471\"\n",
      "[1] \"ukb-b-17670\"\n",
      "[1] \"===================== extract done =====================\"\n"
     ]
    },
    {
     "name": "stderr",
     "output_type": "stream",
     "text": [
      "Harmonising 2-aminobutyrate || id:met-a-471 (met-a-471) and Non-cancer illness code, self-reported: multiple sclerosis || id:ukb-b-17670 (ukb-b-17670)\n",
      "\n",
      "Analysing 'met-a-471' on 'ukb-b-17670'\n",
      "\n"
     ]
    },
    {
     "name": "stdout",
     "output_type": "stream",
     "text": [
      "[1] \"===================== analysis done =====================\"\n",
      "[1] \"===================== plot done =====================\"\n",
      "[1] \"het int OK\"\n",
      "[1] \"===================== Done =====================\"\n",
      "[1] \"------------- new -------------\"\n"
     ]
    },
    {
     "name": "stderr",
     "output_type": "stream",
     "text": [
      "Extracting data for 1 SNP(s) from 1 GWAS(s)\n",
      "\n"
     ]
    },
    {
     "name": "stdout",
     "output_type": "stream",
     "text": [
      "[1] \"expo ok\"\n",
      "[1] \"met-a-421\"\n",
      "[1] \"ukb-b-17670\"\n",
      "[1] \"===================== extract done =====================\"\n"
     ]
    },
    {
     "name": "stderr",
     "output_type": "stream",
     "text": [
      "Harmonising 3-methyl-2-oxobutyrate || id:met-a-421 (met-a-421) and Non-cancer illness code, self-reported: multiple sclerosis || id:ukb-b-17670 (ukb-b-17670)\n",
      "\n",
      "Analysing 'met-a-421' on 'ukb-b-17670'\n",
      "\n",
      "Not enough SNPs available for pleiotropy analysis of 'met-a-421' on 'ukb-b-17670'\n",
      "\n",
      "Not enough SNPs available for Heterogeneity analysis of 'met-a-421' on 'ukb-b-17670'\n",
      "\n"
     ]
    },
    {
     "name": "stdout",
     "output_type": "stream",
     "text": [
      "[1] \"===================== analysis done =====================\"\n",
      "[1] \"===================== plot done =====================\"\n",
      "[1] \"het int missing\"\n",
      "[1] \"===================== Done =====================\"\n",
      "[1] \"------------- new -------------\"\n"
     ]
    },
    {
     "name": "stderr",
     "output_type": "stream",
     "text": [
      "Extracting data for 1 SNP(s) from 1 GWAS(s)\n",
      "\n",
      "Finding proxies for 1 SNPs in outcome ukb-b-17670\n",
      "\n",
      "Extracting data for 1 SNP(s) from 1 GWAS(s)\n",
      "\n"
     ]
    },
    {
     "name": "stdout",
     "output_type": "stream",
     "text": [
      "[1] \"outcome data missing\"\n",
      "[1] \"------------- new -------------\"\n"
     ]
    },
    {
     "name": "stderr",
     "output_type": "stream",
     "text": [
      "Extracting data for 3 SNP(s) from 1 GWAS(s)\n",
      "\n",
      "Finding proxies for 1 SNPs in outcome ukb-b-17670\n",
      "\n",
      "Extracting data for 1 SNP(s) from 1 GWAS(s)\n",
      "\n"
     ]
    },
    {
     "name": "stdout",
     "output_type": "stream",
     "text": [
      "[1] \"expo ok\"\n",
      "[1] \"met-a-427\"\n",
      "[1] \"ukb-b-17670\"\n",
      "[1] \"===================== extract done =====================\"\n"
     ]
    },
    {
     "name": "stderr",
     "output_type": "stream",
     "text": [
      "Harmonising 2-hydroxyisobutyrate || id:met-a-427 (met-a-427) and Non-cancer illness code, self-reported: multiple sclerosis || id:ukb-b-17670 (ukb-b-17670)\n",
      "\n",
      "Analysing 'met-a-427' on 'ukb-b-17670'\n",
      "\n"
     ]
    },
    {
     "name": "stdout",
     "output_type": "stream",
     "text": [
      "[1] \"===================== analysis done =====================\"\n",
      "[1] \"===================== plot done =====================\"\n",
      "[1] \"het int OK\"\n",
      "[1] \"===================== Done =====================\"\n",
      "[1] \"------------- new -------------\"\n"
     ]
    },
    {
     "name": "stderr",
     "output_type": "stream",
     "text": [
      "Extracting data for 7 SNP(s) from 1 GWAS(s)\n",
      "\n",
      "Finding proxies for 5 SNPs in outcome ukb-b-17670\n",
      "\n",
      "Extracting data for 5 SNP(s) from 1 GWAS(s)\n",
      "\n"
     ]
    },
    {
     "name": "stdout",
     "output_type": "stream",
     "text": [
      "[1] \"expo ok\"\n",
      "[1] \"met-d-Acetoacetate\"\n",
      "[1] \"ukb-b-17670\"\n",
      "[1] \"===================== extract done =====================\"\n"
     ]
    },
    {
     "name": "stderr",
     "output_type": "stream",
     "text": [
      "Harmonising Acetoacetate || id:met-d-Acetoacetate (met-d-Acetoacetate) and Non-cancer illness code, self-reported: multiple sclerosis || id:ukb-b-17670 (ukb-b-17670)\n",
      "\n",
      "Analysing 'met-d-Acetoacetate' on 'ukb-b-17670'\n",
      "\n"
     ]
    },
    {
     "name": "stdout",
     "output_type": "stream",
     "text": [
      "[1] \"===================== analysis done =====================\"\n",
      "[1] \"===================== plot done =====================\"\n",
      "[1] \"het int OK\"\n",
      "[1] \"===================== Done =====================\"\n",
      "[1] \"------------- new -------------\"\n"
     ]
    },
    {
     "name": "stderr",
     "output_type": "stream",
     "text": [
      "Extracting data for 2 SNP(s) from 1 GWAS(s)\n",
      "\n",
      "Finding proxies for 2 SNPs in outcome ukb-b-17670\n",
      "\n",
      "Extracting data for 2 SNP(s) from 1 GWAS(s)\n",
      "\n"
     ]
    },
    {
     "name": "stdout",
     "output_type": "stream",
     "text": [
      "[1] \"outcome data missing\"\n",
      "[1] \"------------- new -------------\"\n"
     ]
    },
    {
     "name": "stderr",
     "output_type": "stream",
     "text": [
      "Extracting data for 2 SNP(s) from 1 GWAS(s)\n",
      "\n",
      "Finding proxies for 2 SNPs in outcome ukb-b-17670\n",
      "\n",
      "Extracting data for 2 SNP(s) from 1 GWAS(s)\n",
      "\n"
     ]
    },
    {
     "name": "stdout",
     "output_type": "stream",
     "text": [
      "[1] \"outcome data missing\"\n",
      "[1] \"------------- new -------------\"\n"
     ]
    },
    {
     "name": "stderr",
     "output_type": "stream",
     "text": [
      "Extracting data for 0 SNP(s) from 1 GWAS(s)\n",
      "\n"
     ]
    },
    {
     "name": "stdout",
     "output_type": "stream",
     "text": [
      "[1] \"exposure data missing\"\n"
     ]
    }
   ],
   "source": [
    "for(i in 1:length(exposures)){\n",
    "  print(\"------------- new -------------\")\n",
    "  \n",
    "  expo_data <- extract_instruments(exposures[i])\n",
    "  out_data <- extract_outcome_data(snps = expo_data$SNP, outcomes = outcomes[3])\n",
    "  \n",
    "  if(is.null(expo_data)){\n",
    "    print(\"exposure data missing\")\n",
    "    next\n",
    "  }else if(is.null(out_data)){\n",
    "    print(\"outcome data missing\")\n",
    "    next\n",
    "  }else{\n",
    "    print(\"expo ok\")\n",
    "  }\n",
    "  \n",
    "  print(exposures[i])\n",
    "  print(outcomes[3])\n",
    "  print(\"===================== extract done =====================\")\n",
    "  \n",
    "  # analysis\n",
    "  hm_data <- harmonise_data(expo_data, out_data)\n",
    "  \n",
    "  mr_data <- mr(hm_data)\n",
    "  \n",
    "  intercept_data <- mr_pleiotropy_test(hm_data)\n",
    "  \n",
    "  het_data <- mr_heterogeneity(hm_data)\n",
    "  \n",
    "  print(\"===================== analysis done =====================\")\n",
    "  \n",
    "  # plots\n",
    "  plot <- mr_scatter_plot(mr_data, hm_data)\n",
    "  plot[[1]]\n",
    "  \n",
    "  print(\"===================== plot done =====================\")\n",
    "  \n",
    "  # reform table\n",
    "  \n",
    "  if (dim(het_data)[1] == 0 & dim(intercept_data)[1] == 0){\n",
    "    print (\"het int missing\")\n",
    "    reformed_table <- data.frame(\n",
    "      GWAS_ID = exposures[i],\n",
    "      # IVW method  3\n",
    "      b_IVW_MRE = mr_data[3,7],\n",
    "      se_IVW_MRE = mr_data[3,8],\n",
    "      pval_IVW_MRE = mr_data[3,9],\n",
    "      # Egger method  1\n",
    "      b_Egger = mr_data[1,7],\n",
    "      se_Egger = mr_data[1,8],\n",
    "      pval_Egger = mr_data[1,9],\n",
    "      # intercept missing\n",
    "      Egger_intercept = NA,\n",
    "      pval_intercept = NA,\n",
    "      # Heterogenous missing\n",
    "      Het_IVW_pval = NA,\n",
    "      Het_Egger_pval = NA,\n",
    "      # Weighted median  2\n",
    "      b_W_Med = mr_data[2,7],\n",
    "      se_W_Med = mr_data[2,8],\n",
    "      pval_W_Med = mr_data[2,9],\n",
    "      # Weighted mode  5\n",
    "      b_W_Mod = mr_data[5,7],\n",
    "      se_W_Mod = mr_data[5,8],\n",
    "      pval_W_Mod = mr_data[5,9],\n",
    "      # then\n",
    "      nsnps\t= mr_data[1,6]\n",
    "    )\n",
    "  }else{\n",
    "    print(\"het int OK\")\n",
    "    reformed_table <- data.frame(\n",
    "      GWAS_ID = exposures[i],\n",
    "      # IVW method  3\n",
    "      b_IVW_MRE = mr_data[3,7],\n",
    "      se_IVW_MRE = mr_data[3,8],\n",
    "      pval_IVW_MRE = mr_data[3,9],\n",
    "      # Egger method  1\n",
    "      b_Egger = mr_data[1,7],\n",
    "      se_Egger = mr_data[1,8],\n",
    "      pval_Egger = mr_data[1,9],\n",
    "      # intercept\n",
    "      Egger_intercept = intercept_data[1,5],\n",
    "      pval_intercept = intercept_data[1,7],\n",
    "      # Heterogenous\n",
    "      Het_IVW_pval = het_data[2,8],\n",
    "      Het_Egger_pval = het_data[1,8],\n",
    "      # Weighted median  2\n",
    "      b_W_Med = mr_data[2,7],\n",
    "      se_W_Med = mr_data[2,8],\n",
    "      pval_W_Med = mr_data[2,9],\n",
    "      # Weighted mode  5\n",
    "      b_W_Mod = mr_data[5,7],\n",
    "      se_W_Mod = mr_data[5,8],\n",
    "      pval_W_Mod = mr_data[5,9],\n",
    "      # then\n",
    "      nsnps\t= mr_data[1,6]\n",
    "    )\n",
    "  }\n",
    "  print(\"===================== Done =====================\")\n",
    "}\n"
   ]
  },
  {
   "cell_type": "code",
   "execution_count": null,
   "id": "9f55c518",
   "metadata": {},
   "outputs": [],
   "source": []
  }
 ],
 "metadata": {
  "kernelspec": {
   "display_name": "R",
   "language": "R",
   "name": "ir"
  },
  "language_info": {
   "codemirror_mode": "r",
   "file_extension": ".r",
   "mimetype": "text/x-r-source",
   "name": "R",
   "pygments_lexer": "r",
   "version": "4.1.3"
  }
 },
 "nbformat": 4,
 "nbformat_minor": 5
}
