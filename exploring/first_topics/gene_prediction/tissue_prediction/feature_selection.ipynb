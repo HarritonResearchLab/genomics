{
 "cells": [
  {
   "cell_type": "markdown",
   "metadata": {},
   "source": [
    "# Notes\n",
    "* So far it seems like the methods we've employed (such as MDS and PCA) for predicting tissue locality work by reducing the dimension of the input data, which means that models using these methods have access to ~22,000 vectors of input data to start with. So the question I would like to pursue now is how to select the most useful (i.e. *predictive*) input vectors from the initial data set so you only work with those. \n",
    "    * A practical application of this to our work would be developing a simple quick test that predicts if someone has kidney cancer by only measuring the expressions of ~10 genes rather than the full ~20,000. \n",
    "    * This idea comes from Krishnan's *A flexible, interpretable, and accurate...* paper in which he states \"the Library of Integrated Network-Baesd Cellular Signatures (LINCS)...has shown that measuring 978 'landmark' genes...costing only $5 per sample, is sufficient to then use to impute the expresssion of all other (tens of thousands of) genes.\" \n",
    "\n",
    "## Remaining Questions\n",
    "* I wonder what the difference between MDS and PCA is...I sorta get it (PCA finds component vectors; MDS preserves sample-pair distances)"
   ]
  },
  {
   "cell_type": "code",
   "execution_count": 1,
   "metadata": {},
   "outputs": [],
   "source": [
    "from sklearn.feature_selection import SelectKBest\n",
    "from sklearn.feature_selection import f_classif"
   ]
  }
 ],
 "metadata": {
  "interpreter": {
   "hash": "d3c0f98bc337faacb3dc92d86fb3c3ff5c297fcab3c4973bdf073a6202ea54c1"
  },
  "kernelspec": {
   "display_name": "Python 3.8.5 64-bit",
   "language": "python",
   "name": "python3"
  },
  "language_info": {
   "codemirror_mode": {
    "name": "ipython",
    "version": 3
   },
   "file_extension": ".py",
   "mimetype": "text/x-python",
   "name": "python",
   "nbconvert_exporter": "python",
   "pygments_lexer": "ipython3",
   "version": "3.8.5"
  },
  "orig_nbformat": 4
 },
 "nbformat": 4,
 "nbformat_minor": 2
}
