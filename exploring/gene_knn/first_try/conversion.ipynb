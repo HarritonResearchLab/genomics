{
 "cells": [
  {
   "cell_type": "markdown",
   "metadata": {},
   "source": [
    "# Notes\n",
    "* ```result = pyreadr.read_r(rda_file)``` seems to give a dictionary of three dataframes with ```names = ['e', 'tissue', 'tab']``` which can be accessed like ```tab_df = results['tab']```. \n",
    "* It seems that the tissue dataframe has the outputs and the e (perhaps for expression) has the inputs. \n",
    "* There is a column that gets lost in conversion at the moment that has values like ```91952_at```. I believe this is a column of gene names. \n",
    "* The tutorial got rid of samples from the placentia because there were so few. "
   ]
  },
  {
   "cell_type": "code",
   "execution_count": null,
   "metadata": {},
   "outputs": [],
   "source": [
    "import pyreadr\n",
    "import pandas as pd \n",
    "import numpy as np"
   ]
  },
  {
   "cell_type": "code",
   "execution_count": null,
   "metadata": {},
   "outputs": [],
   "source": [
    "r_file = r'C:\\Users\\Research\\Documents\\GitHub\\genomics\\src\\exploring\\gene_knn\\first_try\\tissuesGeneExpression.rda'\n",
    "\n",
    "result = pyreadr.read_r(r_file)\n",
    "\n",
    "expressions = result['e']\n",
    "rows = list(expressions.index) "
   ]
  },
  {
   "cell_type": "code",
   "execution_count": null,
   "metadata": {},
   "outputs": [],
   "source": [
    "print(rows)"
   ]
  }
 ],
 "metadata": {
  "interpreter": {
   "hash": "d3c0f98bc337faacb3dc92d86fb3c3ff5c297fcab3c4973bdf073a6202ea54c1"
  },
  "kernelspec": {
   "display_name": "Python 3.8.5 64-bit",
   "language": "python",
   "name": "python3"
  },
  "language_info": {
   "name": "python",
   "version": "3.8.5"
  },
  "orig_nbformat": 4
 },
 "nbformat": 4,
 "nbformat_minor": 2
}
