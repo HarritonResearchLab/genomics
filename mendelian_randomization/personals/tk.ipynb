{
 "cells": [
  {
   "cell_type": "markdown",
   "id": "e5e4f3be",
   "metadata": {},
   "source": [
    "# BMI Vitamin D"
   ]
  },
  {
   "cell_type": "code",
   "execution_count": null,
   "id": "2752d164",
   "metadata": {},
   "outputs": [],
   "source": [
    "print(\"starting\")"
   ]
  },
  {
   "cell_type": "code",
   "execution_count": null,
   "id": "00118605",
   "metadata": {},
   "outputs": [],
   "source": [
    "library(TwoSampleMR)"
   ]
  },
  {
   "cell_type": "code",
   "execution_count": null,
   "id": "d11e1827",
   "metadata": {},
   "outputs": [],
   "source": [
    "library(ggplot2)"
   ]
  },
  {
   "cell_type": "code",
   "execution_count": null,
   "id": "191f81c3",
   "metadata": {},
   "outputs": [],
   "source": [
    "exposures = c(\"ieu-b-40\", \"ebi-a-GCST005367\")\n",
    "exposure_labels = c(\"BMI\", \"Vitamin D\")\n",
    "outcomes = c(\"ieu-b-18\", \"finn-b-G6_MS\", \"ukb-b-17670\")\n",
    "outcome_labels = c(\"default-ms\", \"finish-ms\", \"uk-ms\")"
   ]
  },
  {
   "cell_type": "code",
   "execution_count": null,
   "id": "8dc9b3a7",
   "metadata": {},
   "outputs": [],
   "source": [
    "for (i in 1:length(exposures)) {\n",
    "  exposure_dat = extract_instruments(exposures[i])\n",
    "  for (j in 1:length(outcomes)) {\n",
    "      outcome_dat = extract_outcome_data(snps=exposure_dat$SNP, outcomes=outcomes[j])\n",
    "      \n",
    "      dat <- harmonise_data(exposure_dat, outcome_dat)\n",
    "      \n",
    "      res <- mr(dat)\n",
    "      \n",
    "      print(\"#####NEW RUN#####\")\n",
    "      print(\"EXPOSURE: \")\n",
    "      print(exposures[i])\n",
    "      print(\"OUTCOME: \")\n",
    "      print(outcomes[j])\n",
    "      \n",
    "      reg_plot = mr_scatter_plot(res, dat)\n",
    "      plot(reg_plot[[1]])\n",
    "      \n",
    "      #res_single = mr_singlesnp(dat)\n",
    "      #forest_plot = mr_forest_plot(res_single)\n",
    "      #plot(forest_plot[[1]])\n",
    "      \n",
    "      #res_loo = mr_leaveoneout(dat)\n",
    "      #loo_plot = mr_leaveoneout_plot(res_loo)\n",
    "      #plot(loo_plot[[1]])  \n",
    "      print(\"#################\")\n",
    "      \n",
    "      \n",
    "  }\n",
    "}"
   ]
  },
  {
   "cell_type": "markdown",
   "id": "f5f94d86",
   "metadata": {},
   "source": [
    "## misc. r things"
   ]
  },
  {
   "cell_type": "code",
   "execution_count": null,
   "id": "6b1141cc",
   "metadata": {},
   "outputs": [],
   "source": [
    "outcomes <- c(\"a\", \"b\")\n",
    "\n",
    "print(outcomes)\n",
    "print(outcomes[1])"
   ]
  }
 ],
 "metadata": {
  "kernelspec": {
   "display_name": "R",
   "language": "R",
   "name": "ir"
  },
  "language_info": {
   "codemirror_mode": "r",
   "file_extension": ".r",
   "mimetype": "text/x-r-source",
   "name": "R",
   "pygments_lexer": "r",
   "version": "4.1.2"
  }
 },
 "nbformat": 4,
 "nbformat_minor": 5
}
