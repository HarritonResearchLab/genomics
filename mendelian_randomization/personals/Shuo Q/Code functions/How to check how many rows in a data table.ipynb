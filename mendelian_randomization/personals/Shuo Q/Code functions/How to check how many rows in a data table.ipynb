{
 "cells": [
  {
   "cell_type": "code",
   "execution_count": null,
   "id": "2a018a4b",
   "metadata": {},
   "outputs": [],
   "source": [
    "if(dim(data)[1] == 0){\n",
    "  print('nothing here')\n",
    "}else if (dim(data)[1] == 1){\n",
    "  print(\"data exists one row\")\n",
    "}else if (dim(data)[1] == 2){\n",
    "  print(\"data exists two row\")\n",
    "}else if (dim(data)[1] != 0){\n",
    "  print(\"data exists\")\n",
    "}\n",
    "\n",
    "# data varies on the function"
   ]
  }
 ],
 "metadata": {
  "kernelspec": {
   "display_name": "R",
   "language": "R",
   "name": "ir"
  },
  "language_info": {
   "codemirror_mode": "r",
   "file_extension": ".r",
   "mimetype": "text/x-r-source",
   "name": "R",
   "pygments_lexer": "r",
   "version": "4.1.3"
  }
 },
 "nbformat": 4,
 "nbformat_minor": 5
}
