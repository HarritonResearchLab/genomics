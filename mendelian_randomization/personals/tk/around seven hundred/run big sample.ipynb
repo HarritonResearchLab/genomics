{
 "cells": [
  {
   "cell_type": "code",
   "execution_count": 1,
   "id": "bb06cfc0",
   "metadata": {},
   "outputs": [
    {
     "name": "stdout",
     "output_type": "stream",
     "text": [
      "[1] \"why does r suck\"\n"
     ]
    }
   ],
   "source": [
    "print(\"why does r suck\")"
   ]
  },
  {
   "cell_type": "code",
   "execution_count": 2,
   "id": "4704e42a",
   "metadata": {},
   "outputs": [
    {
     "name": "stderr",
     "output_type": "stream",
     "text": [
      "TwoSampleMR version 0.5.6 \n",
      "[>] New: Option to use non-European LD reference panels for clumping etc\n",
      "[>] Some studies temporarily quarantined to verify effect allele\n",
      "[>] See news(package='TwoSampleMR') and https://gwas.mrcieu.ac.uk for further details\n",
      "\n",
      "\n"
     ]
    }
   ],
   "source": [
    "library(TwoSampleMR)\n",
    "exposures = scan(\"ms_outcome.txt\", character(), quote = \"\")"
   ]
  },
  {
   "cell_type": "code",
   "execution_count": 3,
   "id": "cedb0517",
   "metadata": {},
   "outputs": [
    {
     "name": "stdout",
     "output_type": "stream",
     "text": [
      " [1] \"met-a-656\"        \"met-d-Gly\"        \"met-c-940\"        \"met-c-849\"       \n",
      " [5] \"met-d-Gln\"        \"met-c-938\"        \"met-d-Ala\"        \"met-c-866\"       \n",
      " [9] \"met-d-Creatinine\" \"met-c-840\"        \"met-d-Citrate\"    \"met-d-Lactate\"   \n",
      "[13] \"met-a-356\"        \"met-a-753\"        \"met-d-Tyr\"        \"met-a-467\"       \n",
      "[17] \"met-c-850\"        \"met-a-463\"        \"met-d-Val\"        \"met-d-His\"       \n",
      "[21] \"met-c-860\"        \"met-a-573\"        \"met-c-894\"        \"met-a-652\"       \n",
      "[25] \"met-a-341\"        \"met-a-325\"        \"met-a-379\"        \"met-a-304\"       \n",
      "[29] \"met-a-360\"        \"met-a-469\"        \"met-a-656\"        \"met-a-316\"       \n",
      "[33] \"met-a-469\"       \n"
     ]
    }
   ],
   "source": [
    "print(exposures)"
   ]
  },
  {
   "cell_type": "code",
   "execution_count": 4,
   "id": "4eb5eec5",
   "metadata": {},
   "outputs": [
    {
     "data": {
      "text/html": [
       "33"
      ],
      "text/latex": [
       "33"
      ],
      "text/markdown": [
       "33"
      ],
      "text/plain": [
       "[1] 33"
      ]
     },
     "metadata": {},
     "output_type": "display_data"
    }
   ],
   "source": [
    "outcomes = c('ieu-b-18','finn-b-G6_MS')\n",
    "length(exposures)"
   ]
  },
  {
   "cell_type": "code",
   "execution_count": 15,
   "id": "4a79ebc6",
   "metadata": {},
   "outputs": [
    {
     "name": "stderr",
     "output_type": "stream",
     "text": [
      "Extracting data for 3 SNP(s) from 1 GWAS(s)\n",
      "\n",
      "Harmonising Bradykinin, des-arg(9) || id:met-a-656 (met-a-656) and multiple sclerosis || id:ieu-b-18 (ieu-b-18)\n",
      "\n",
      "Analysing 'met-a-656' on 'ieu-b-18'\n",
      "\n"
     ]
    },
    {
     "name": "stdout",
     "output_type": "stream",
     "text": [
      "[1] \"id.exposure\" \"id.outcome\"  \"outcome\"     \"exposure\"    \"method\"     \n",
      "[6] \"nsnp\"        \"b\"           \"se\"          \"pval\"       \n"
     ]
    },
    {
     "name": "stderr",
     "output_type": "stream",
     "text": [
      "Quitting.\n",
      "\n",
      "Extracting data for 3 SNP(s) from 1 GWAS(s)\n",
      "\n",
      "Harmonising Bradykinin, des-arg(9) || id:met-a-656 (met-a-656) and MS-disease / Multiple Sclerosis || id:finn-b-G6_MS (finn-b-G6_MS)\n",
      "\n",
      "Analysing 'met-a-656' on 'finn-b-G6_MS'\n",
      "\n"
     ]
    },
    {
     "name": "stdout",
     "output_type": "stream",
     "text": [
      "[1] \"id.exposure\" \"id.outcome\"  \"outcome\"     \"exposure\"    \"method\"     \n",
      "[6] \"nsnp\"        \"b\"           \"se\"          \"pval\"       \n"
     ]
    },
    {
     "name": "stderr",
     "output_type": "stream",
     "text": [
      "Quitting.\n",
      "\n",
      "Extracting data for 49 SNP(s) from 1 GWAS(s)\n",
      "\n",
      "Finding proxies for 15 SNPs in outcome ieu-b-18\n",
      "\n",
      "Extracting data for 15 SNP(s) from 1 GWAS(s)\n",
      "\n",
      "Harmonising Glycine || id:met-d-Gly (met-d-Gly) and multiple sclerosis || id:ieu-b-18 (ieu-b-18)\n",
      "\n",
      "Removing the following SNPs for being palindromic with intermediate allele frequencies:\n",
      "rs10190808, rs2026972, rs28601761, rs35034344, rs36105243, rs7515955\n",
      "\n",
      "Analysing 'met-d-Gly' on 'ieu-b-18'\n",
      "\n"
     ]
    },
    {
     "name": "stdout",
     "output_type": "stream",
     "text": [
      "[1] \"id.exposure\" \"id.outcome\"  \"outcome\"     \"exposure\"    \"method\"     \n",
      "[6] \"nsnp\"        \"b\"           \"se\"          \"pval\"       \n"
     ]
    },
    {
     "name": "stderr",
     "output_type": "stream",
     "text": [
      "Quitting.\n",
      "\n",
      "Extracting data for 49 SNP(s) from 1 GWAS(s)\n",
      "\n",
      "Finding proxies for 8 SNPs in outcome finn-b-G6_MS\n",
      "\n",
      "Extracting data for 8 SNP(s) from 1 GWAS(s)\n",
      "\n",
      "Harmonising Glycine || id:met-d-Gly (met-d-Gly) and MS-disease / Multiple Sclerosis || id:finn-b-G6_MS (finn-b-G6_MS)\n",
      "\n",
      "Removing the following SNPs for being palindromic with intermediate allele frequencies:\n",
      "rs28601761\n",
      "\n",
      "Analysing 'met-d-Gly' on 'finn-b-G6_MS'\n",
      "\n"
     ]
    },
    {
     "name": "stdout",
     "output_type": "stream",
     "text": [
      "[1] \"id.exposure\" \"id.outcome\"  \"outcome\"     \"exposure\"    \"method\"     \n",
      "[6] \"nsnp\"        \"b\"           \"se\"          \"pval\"       \n"
     ]
    },
    {
     "name": "stderr",
     "output_type": "stream",
     "text": [
      "Quitting.\n",
      "\n",
      "Extracting data for 5 SNP(s) from 1 GWAS(s)\n",
      "\n",
      "Harmonising Valine || id:met-c-940 (met-c-940) and multiple sclerosis || id:ieu-b-18 (ieu-b-18)\n",
      "\n",
      "Removing the following SNPs for being palindromic with intermediate allele frequencies:\n",
      "rs7655059\n",
      "\n",
      "Analysing 'met-c-940' on 'ieu-b-18'\n",
      "\n"
     ]
    },
    {
     "name": "stdout",
     "output_type": "stream",
     "text": [
      "[1] \"id.exposure\" \"id.outcome\"  \"outcome\"     \"exposure\"    \"method\"     \n",
      "[6] \"nsnp\"        \"b\"           \"se\"          \"pval\"       \n"
     ]
    },
    {
     "name": "stderr",
     "output_type": "stream",
     "text": [
      "Quitting.\n",
      "\n",
      "Extracting data for 5 SNP(s) from 1 GWAS(s)\n",
      "\n",
      "Finding proxies for 1 SNPs in outcome finn-b-G6_MS\n",
      "\n",
      "Extracting data for 1 SNP(s) from 1 GWAS(s)\n",
      "\n",
      "Harmonising Valine || id:met-c-940 (met-c-940) and MS-disease / Multiple Sclerosis || id:finn-b-G6_MS (finn-b-G6_MS)\n",
      "\n",
      "Analysing 'met-c-940' on 'finn-b-G6_MS'\n",
      "\n"
     ]
    },
    {
     "name": "stdout",
     "output_type": "stream",
     "text": [
      "[1] \"id.exposure\" \"id.outcome\"  \"outcome\"     \"exposure\"    \"method\"     \n",
      "[6] \"nsnp\"        \"b\"           \"se\"          \"pval\"       \n"
     ]
    },
    {
     "name": "stderr",
     "output_type": "stream",
     "text": [
      "Quitting.\n",
      "\n",
      "Extracting data for 6 SNP(s) from 1 GWAS(s)\n",
      "\n",
      "Harmonising Citrate || id:met-c-849 (met-c-849) and multiple sclerosis || id:ieu-b-18 (ieu-b-18)\n",
      "\n",
      "Removing the following SNPs for being palindromic with intermediate allele frequencies:\n",
      "rs2954029, rs89356\n",
      "\n",
      "Analysing 'met-c-849' on 'ieu-b-18'\n",
      "\n"
     ]
    },
    {
     "name": "stdout",
     "output_type": "stream",
     "text": [
      "[1] \"id.exposure\" \"id.outcome\"  \"outcome\"     \"exposure\"    \"method\"     \n",
      "[6] \"nsnp\"        \"b\"           \"se\"          \"pval\"       \n"
     ]
    },
    {
     "name": "stderr",
     "output_type": "stream",
     "text": [
      "Quitting.\n",
      "\n",
      "Extracting data for 6 SNP(s) from 1 GWAS(s)\n",
      "\n",
      "Harmonising Citrate || id:met-c-849 (met-c-849) and MS-disease / Multiple Sclerosis || id:finn-b-G6_MS (finn-b-G6_MS)\n",
      "\n",
      "Removing the following SNPs for being palindromic with intermediate allele frequencies:\n",
      "rs2954029\n",
      "\n",
      "Analysing 'met-c-849' on 'finn-b-G6_MS'\n",
      "\n"
     ]
    },
    {
     "name": "stdout",
     "output_type": "stream",
     "text": [
      "[1] \"id.exposure\" \"id.outcome\"  \"outcome\"     \"exposure\"    \"method\"     \n",
      "[6] \"nsnp\"        \"b\"           \"se\"          \"pval\"       \n"
     ]
    },
    {
     "name": "stderr",
     "output_type": "stream",
     "text": [
      "Quitting.\n",
      "\n",
      "Extracting data for 46 SNP(s) from 1 GWAS(s)\n",
      "\n",
      "Finding proxies for 15 SNPs in outcome ieu-b-18\n",
      "\n",
      "Extracting data for 15 SNP(s) from 1 GWAS(s)\n",
      "\n",
      "Harmonising Glutamine || id:met-d-Gln (met-d-Gln) and multiple sclerosis || id:ieu-b-18 (ieu-b-18)\n",
      "\n",
      "Removing the following SNPs for being palindromic with intermediate allele frequencies:\n",
      "rs13094915, rs17096421, rs28601761, rs4237150, rs4365129\n",
      "\n",
      "Analysing 'met-d-Gln' on 'ieu-b-18'\n",
      "\n"
     ]
    },
    {
     "name": "stdout",
     "output_type": "stream",
     "text": [
      "[1] \"id.exposure\" \"id.outcome\"  \"outcome\"     \"exposure\"    \"method\"     \n",
      "[6] \"nsnp\"        \"b\"           \"se\"          \"pval\"       \n"
     ]
    },
    {
     "name": "stderr",
     "output_type": "stream",
     "text": [
      "Quitting.\n",
      "\n",
      "Extracting data for 46 SNP(s) from 1 GWAS(s)\n",
      "\n",
      "Finding proxies for 9 SNPs in outcome finn-b-G6_MS\n",
      "\n",
      "Extracting data for 9 SNP(s) from 1 GWAS(s)\n",
      "\n",
      "Harmonising Glutamine || id:met-d-Gln (met-d-Gln) and MS-disease / Multiple Sclerosis || id:finn-b-G6_MS (finn-b-G6_MS)\n",
      "\n",
      "Removing the following SNPs for incompatible alleles:\n",
      "rs9381075\n",
      "\n",
      "Removing the following SNPs for being palindromic with intermediate allele frequencies:\n",
      "rs13094915, rs28601761, rs4237150\n",
      "\n",
      "Analysing 'met-d-Gln' on 'finn-b-G6_MS'\n",
      "\n"
     ]
    },
    {
     "name": "stdout",
     "output_type": "stream",
     "text": [
      "[1] \"id.exposure\" \"id.outcome\"  \"outcome\"     \"exposure\"    \"method\"     \n",
      "[6] \"nsnp\"        \"b\"           \"se\"          \"pval\"       \n"
     ]
    },
    {
     "name": "stderr",
     "output_type": "stream",
     "text": [
      "Quitting.\n",
      "\n",
      "Extracting data for 5 SNP(s) from 1 GWAS(s)\n",
      "\n",
      "Finding proxies for 2 SNPs in outcome ieu-b-18\n",
      "\n",
      "Extracting data for 2 SNP(s) from 1 GWAS(s)\n",
      "\n",
      "Harmonising Tyrosine || id:met-c-938 (met-c-938) and multiple sclerosis || id:ieu-b-18 (ieu-b-18)\n",
      "\n",
      "Removing the following SNPs for being palindromic with intermediate allele frequencies:\n",
      "rs1169289\n",
      "\n",
      "Analysing 'met-c-938' on 'ieu-b-18'\n",
      "\n"
     ]
    },
    {
     "name": "stdout",
     "output_type": "stream",
     "text": [
      "[1] \"id.exposure\" \"id.outcome\"  \"outcome\"     \"exposure\"    \"method\"     \n",
      "[6] \"nsnp\"        \"b\"           \"se\"          \"pval\"       \n"
     ]
    },
    {
     "name": "stderr",
     "output_type": "stream",
     "text": [
      "Quitting.\n",
      "\n",
      "Extracting data for 5 SNP(s) from 1 GWAS(s)\n",
      "\n",
      "Finding proxies for 1 SNPs in outcome finn-b-G6_MS\n",
      "\n",
      "Extracting data for 1 SNP(s) from 1 GWAS(s)\n",
      "\n",
      "Harmonising Tyrosine || id:met-c-938 (met-c-938) and MS-disease / Multiple Sclerosis || id:finn-b-G6_MS (finn-b-G6_MS)\n",
      "\n",
      "Removing the following SNPs for being palindromic with intermediate allele frequencies:\n",
      "rs1169289\n",
      "\n",
      "Analysing 'met-c-938' on 'finn-b-G6_MS'\n",
      "\n"
     ]
    },
    {
     "name": "stdout",
     "output_type": "stream",
     "text": [
      "[1] \"id.exposure\" \"id.outcome\"  \"outcome\"     \"exposure\"    \"method\"     \n",
      "[6] \"nsnp\"        \"b\"           \"se\"          \"pval\"       \n"
     ]
    },
    {
     "name": "stderr",
     "output_type": "stream",
     "text": [
      "Quitting.\n",
      "\n",
      "Extracting data for 36 SNP(s) from 1 GWAS(s)\n",
      "\n",
      "Finding proxies for 10 SNPs in outcome ieu-b-18\n",
      "\n",
      "Extracting data for 10 SNP(s) from 1 GWAS(s)\n",
      "\n",
      "Harmonising Alanine || id:met-d-Ala (met-d-Ala) and multiple sclerosis || id:ieu-b-18 (ieu-b-18)\n",
      "\n",
      "Removing the following SNPs for being palindromic with intermediate allele frequencies:\n",
      "rs12379111, rs2808454, rs4237150, rs4903264, rs807672\n",
      "\n",
      "Analysing 'met-d-Ala' on 'ieu-b-18'\n",
      "\n"
     ]
    },
    {
     "name": "stdout",
     "output_type": "stream",
     "text": [
      "[1] \"id.exposure\" \"id.outcome\"  \"outcome\"     \"exposure\"    \"method\"     \n",
      "[6] \"nsnp\"        \"b\"           \"se\"          \"pval\"       \n"
     ]
    },
    {
     "name": "stderr",
     "output_type": "stream",
     "text": [
      "Quitting.\n",
      "\n",
      "Extracting data for 36 SNP(s) from 1 GWAS(s)\n",
      "\n",
      "Finding proxies for 2 SNPs in outcome finn-b-G6_MS\n",
      "\n",
      "Extracting data for 2 SNP(s) from 1 GWAS(s)\n",
      "\n",
      "Harmonising Alanine || id:met-d-Ala (met-d-Ala) and MS-disease / Multiple Sclerosis || id:finn-b-G6_MS (finn-b-G6_MS)\n",
      "\n",
      "Removing the following SNPs for being palindromic with intermediate allele frequencies:\n",
      "rs2808454, rs4237150, rs4903264, rs807672\n",
      "\n",
      "Analysing 'met-d-Ala' on 'finn-b-G6_MS'\n",
      "\n"
     ]
    },
    {
     "name": "stdout",
     "output_type": "stream",
     "text": [
      "[1] \"id.exposure\" \"id.outcome\"  \"outcome\"     \"exposure\"    \"method\"     \n",
      "[6] \"nsnp\"        \"b\"           \"se\"          \"pval\"       \n"
     ]
    },
    {
     "name": "stderr",
     "output_type": "stream",
     "text": [
      "Quitting.\n",
      "\n",
      "Extracting data for 5 SNP(s) from 1 GWAS(s)\n",
      "\n",
      "Finding proxies for 1 SNPs in outcome ieu-b-18\n",
      "\n",
      "Extracting data for 1 SNP(s) from 1 GWAS(s)\n",
      "\n",
      "Harmonising Histidine || id:met-c-866 (met-c-866) and multiple sclerosis || id:ieu-b-18 (ieu-b-18)\n",
      "\n",
      "Removing the following SNPs for being palindromic with intermediate allele frequencies:\n",
      "rs73216231\n",
      "\n",
      "Analysing 'met-c-866' on 'ieu-b-18'\n",
      "\n"
     ]
    },
    {
     "name": "stdout",
     "output_type": "stream",
     "text": [
      "[1] \"id.exposure\" \"id.outcome\"  \"outcome\"     \"exposure\"    \"method\"     \n",
      "[6] \"nsnp\"        \"b\"           \"se\"          \"pval\"       \n"
     ]
    },
    {
     "name": "stderr",
     "output_type": "stream",
     "text": [
      "Quitting.\n",
      "\n",
      "Extracting data for 5 SNP(s) from 1 GWAS(s)\n",
      "\n",
      "Harmonising Histidine || id:met-c-866 (met-c-866) and MS-disease / Multiple Sclerosis || id:finn-b-G6_MS (finn-b-G6_MS)\n",
      "\n",
      "Analysing 'met-c-866' on 'finn-b-G6_MS'\n",
      "\n"
     ]
    },
    {
     "name": "stdout",
     "output_type": "stream",
     "text": [
      "[1] \"id.exposure\" \"id.outcome\"  \"outcome\"     \"exposure\"    \"method\"     \n",
      "[6] \"nsnp\"        \"b\"           \"se\"          \"pval\"       \n"
     ]
    },
    {
     "name": "stderr",
     "output_type": "stream",
     "text": [
      "Quitting.\n",
      "\n",
      "Extracting data for 78 SNP(s) from 1 GWAS(s)\n",
      "\n",
      "Finding proxies for 20 SNPs in outcome ieu-b-18\n",
      "\n",
      "Extracting data for 20 SNP(s) from 1 GWAS(s)\n",
      "\n",
      "Harmonising Creatinine || id:met-d-Creatinine (met-d-Creatinine) and multiple sclerosis || id:ieu-b-18 (ieu-b-18)\n",
      "\n",
      "Removing the following SNPs for incompatible alleles:\n",
      "rs12476098\n",
      "\n",
      "Removing the following SNPs for being palindromic with intermediate allele frequencies:\n",
      "rs10934569, rs12476098, rs478308, rs5750561, rs6127099, rs6747041, rs8096658, rs964184\n",
      "\n",
      "Analysing 'met-d-Creatinine' on 'ieu-b-18'\n",
      "\n"
     ]
    },
    {
     "name": "stdout",
     "output_type": "stream",
     "text": [
      "[1] \"id.exposure\" \"id.outcome\"  \"outcome\"     \"exposure\"    \"method\"     \n",
      "[6] \"nsnp\"        \"b\"           \"se\"          \"pval\"       \n"
     ]
    },
    {
     "name": "stderr",
     "output_type": "stream",
     "text": [
      "Quitting.\n",
      "\n",
      "Extracting data for 78 SNP(s) from 1 GWAS(s)\n",
      "\n",
      "Finding proxies for 13 SNPs in outcome finn-b-G6_MS\n",
      "\n",
      "Extracting data for 13 SNP(s) from 1 GWAS(s)\n",
      "\n",
      "Harmonising Creatinine || id:met-d-Creatinine (met-d-Creatinine) and MS-disease / Multiple Sclerosis || id:finn-b-G6_MS (finn-b-G6_MS)\n",
      "\n",
      "Removing the following SNPs for incompatible alleles:\n",
      "rs12476098\n",
      "\n",
      "Removing the following SNPs for being palindromic with intermediate allele frequencies:\n",
      "rs10934569, rs8096658\n",
      "\n",
      "Analysing 'met-d-Creatinine' on 'finn-b-G6_MS'\n",
      "\n"
     ]
    },
    {
     "name": "stdout",
     "output_type": "stream",
     "text": [
      "[1] \"id.exposure\" \"id.outcome\"  \"outcome\"     \"exposure\"    \"method\"     \n",
      "[6] \"nsnp\"        \"b\"           \"se\"          \"pval\"       \n"
     ]
    },
    {
     "name": "stderr",
     "output_type": "stream",
     "text": [
      "Quitting.\n",
      "\n",
      "Extracting data for 6 SNP(s) from 1 GWAS(s)\n",
      "\n",
      "Finding proxies for 2 SNPs in outcome ieu-b-18\n",
      "\n",
      "Extracting data for 2 SNP(s) from 1 GWAS(s)\n",
      "\n",
      "Harmonising Alanine || id:met-c-840 (met-c-840) and multiple sclerosis || id:ieu-b-18 (ieu-b-18)\n",
      "\n",
      "Analysing 'met-c-840' on 'ieu-b-18'\n",
      "\n"
     ]
    },
    {
     "name": "stdout",
     "output_type": "stream",
     "text": [
      "[1] \"id.exposure\" \"id.outcome\"  \"outcome\"     \"exposure\"    \"method\"     \n",
      "[6] \"nsnp\"        \"b\"           \"se\"          \"pval\"       \n"
     ]
    },
    {
     "name": "stderr",
     "output_type": "stream",
     "text": [
      "Quitting.\n",
      "\n",
      "Extracting data for 6 SNP(s) from 1 GWAS(s)\n",
      "\n",
      "Harmonising Alanine || id:met-c-840 (met-c-840) and MS-disease / Multiple Sclerosis || id:finn-b-G6_MS (finn-b-G6_MS)\n",
      "\n",
      "Analysing 'met-c-840' on 'finn-b-G6_MS'\n",
      "\n"
     ]
    },
    {
     "name": "stdout",
     "output_type": "stream",
     "text": [
      "[1] \"id.exposure\" \"id.outcome\"  \"outcome\"     \"exposure\"    \"method\"     \n",
      "[6] \"nsnp\"        \"b\"           \"se\"          \"pval\"       \n"
     ]
    },
    {
     "name": "stderr",
     "output_type": "stream",
     "text": [
      "Quitting.\n",
      "\n",
      "Extracting data for 38 SNP(s) from 1 GWAS(s)\n",
      "\n",
      "Finding proxies for 10 SNPs in outcome ieu-b-18\n",
      "\n",
      "Extracting data for 10 SNP(s) from 1 GWAS(s)\n",
      "\n",
      "Harmonising Citrate || id:met-d-Citrate (met-d-Citrate) and multiple sclerosis || id:ieu-b-18 (ieu-b-18)\n",
      "\n",
      "Removing the following SNPs for being palindromic with intermediate allele frequencies:\n",
      "rs1190585, rs218689, rs2808454, rs28601761, rs2896635\n",
      "\n",
      "Analysing 'met-d-Citrate' on 'ieu-b-18'\n",
      "\n"
     ]
    },
    {
     "name": "stdout",
     "output_type": "stream",
     "text": [
      "[1] \"id.exposure\" \"id.outcome\"  \"outcome\"     \"exposure\"    \"method\"     \n",
      "[6] \"nsnp\"        \"b\"           \"se\"          \"pval\"       \n"
     ]
    },
    {
     "name": "stderr",
     "output_type": "stream",
     "text": [
      "Quitting.\n",
      "\n",
      "Extracting data for 38 SNP(s) from 1 GWAS(s)\n",
      "\n",
      "Finding proxies for 6 SNPs in outcome finn-b-G6_MS\n",
      "\n",
      "Extracting data for 6 SNP(s) from 1 GWAS(s)\n",
      "\n",
      "Harmonising Citrate || id:met-d-Citrate (met-d-Citrate) and MS-disease / Multiple Sclerosis || id:finn-b-G6_MS (finn-b-G6_MS)\n",
      "\n",
      "Removing the following SNPs for being palindromic with intermediate allele frequencies:\n",
      "rs2808454, rs28601761, rs2896635\n",
      "\n",
      "Analysing 'met-d-Citrate' on 'finn-b-G6_MS'\n",
      "\n"
     ]
    },
    {
     "name": "stdout",
     "output_type": "stream",
     "text": [
      "[1] \"id.exposure\" \"id.outcome\"  \"outcome\"     \"exposure\"    \"method\"     \n",
      "[6] \"nsnp\"        \"b\"           \"se\"          \"pval\"       \n"
     ]
    },
    {
     "name": "stderr",
     "output_type": "stream",
     "text": [
      "Quitting.\n",
      "\n",
      "Extracting data for 12 SNP(s) from 1 GWAS(s)\n",
      "\n",
      "Finding proxies for 4 SNPs in outcome ieu-b-18\n",
      "\n",
      "Extracting data for 4 SNP(s) from 1 GWAS(s)\n",
      "\n",
      "Harmonising Lactate || id:met-d-Lactate (met-d-Lactate) and multiple sclerosis || id:ieu-b-18 (ieu-b-18)\n",
      "\n",
      "Removing the following SNPs for being palindromic with intermediate allele frequencies:\n",
      "rs59273177, rs6993770\n",
      "\n",
      "Analysing 'met-d-Lactate' on 'ieu-b-18'\n",
      "\n"
     ]
    },
    {
     "name": "stdout",
     "output_type": "stream",
     "text": [
      "[1] \"id.exposure\" \"id.outcome\"  \"outcome\"     \"exposure\"    \"method\"     \n",
      "[6] \"nsnp\"        \"b\"           \"se\"          \"pval\"       \n"
     ]
    },
    {
     "name": "stderr",
     "output_type": "stream",
     "text": [
      "Quitting.\n",
      "\n",
      "Extracting data for 12 SNP(s) from 1 GWAS(s)\n",
      "\n",
      "Finding proxies for 2 SNPs in outcome finn-b-G6_MS\n",
      "\n",
      "Extracting data for 2 SNP(s) from 1 GWAS(s)\n",
      "\n",
      "Harmonising Lactate || id:met-d-Lactate (met-d-Lactate) and MS-disease / Multiple Sclerosis || id:finn-b-G6_MS (finn-b-G6_MS)\n",
      "\n",
      "Analysing 'met-d-Lactate' on 'finn-b-G6_MS'\n",
      "\n"
     ]
    },
    {
     "name": "stdout",
     "output_type": "stream",
     "text": [
      "[1] \"id.exposure\" \"id.outcome\"  \"outcome\"     \"exposure\"    \"method\"     \n",
      "[6] \"nsnp\"        \"b\"           \"se\"          \"pval\"       \n"
     ]
    },
    {
     "name": "stderr",
     "output_type": "stream",
     "text": [
      "Quitting.\n",
      "\n",
      "Extracting data for 4 SNP(s) from 1 GWAS(s)\n",
      "\n",
      "Harmonising Citrulline || id:met-a-356 (met-a-356) and multiple sclerosis || id:ieu-b-18 (ieu-b-18)\n",
      "\n",
      "Removing the following SNPs for being palindromic with intermediate allele frequencies:\n",
      "rs1935815\n",
      "\n",
      "Analysing 'met-a-356' on 'ieu-b-18'\n",
      "\n"
     ]
    },
    {
     "name": "stdout",
     "output_type": "stream",
     "text": [
      "[1] \"id.exposure\" \"id.outcome\"  \"outcome\"     \"exposure\"    \"method\"     \n",
      "[6] \"nsnp\"        \"b\"           \"se\"          \"pval\"       \n"
     ]
    },
    {
     "name": "stderr",
     "output_type": "stream",
     "text": [
      "Quitting.\n",
      "\n",
      "Extracting data for 4 SNP(s) from 1 GWAS(s)\n",
      "\n",
      "Harmonising Citrulline || id:met-a-356 (met-a-356) and MS-disease / Multiple Sclerosis || id:finn-b-G6_MS (finn-b-G6_MS)\n",
      "\n",
      "Analysing 'met-a-356' on 'finn-b-G6_MS'\n",
      "\n"
     ]
    },
    {
     "name": "stdout",
     "output_type": "stream",
     "text": [
      "[1] \"id.exposure\" \"id.outcome\"  \"outcome\"     \"exposure\"    \"method\"     \n",
      "[6] \"nsnp\"        \"b\"           \"se\"          \"pval\"       \n"
     ]
    },
    {
     "name": "stderr",
     "output_type": "stream",
     "text": [
      "Quitting.\n",
      "\n",
      "Extracting data for 2 SNP(s) from 1 GWAS(s)\n",
      "\n",
      "Harmonising Cis-4-decenoyl carnitine || id:met-a-753 (met-a-753) and multiple sclerosis || id:ieu-b-18 (ieu-b-18)\n",
      "\n",
      "Analysing 'met-a-753' on 'ieu-b-18'\n",
      "\n"
     ]
    },
    {
     "name": "stdout",
     "output_type": "stream",
     "text": [
      "[1] \"id.exposure\" \"id.outcome\"  \"outcome\"     \"exposure\"    \"method\"     \n",
      "[6] \"nsnp\"        \"b\"           \"se\"          \"pval\"       \n"
     ]
    },
    {
     "name": "stderr",
     "output_type": "stream",
     "text": [
      "Quitting.\n",
      "\n",
      "Extracting data for 2 SNP(s) from 1 GWAS(s)\n",
      "\n",
      "Harmonising Cis-4-decenoyl carnitine || id:met-a-753 (met-a-753) and MS-disease / Multiple Sclerosis || id:finn-b-G6_MS (finn-b-G6_MS)\n",
      "\n",
      "Analysing 'met-a-753' on 'finn-b-G6_MS'\n",
      "\n"
     ]
    },
    {
     "name": "stdout",
     "output_type": "stream",
     "text": [
      "[1] \"id.exposure\" \"id.outcome\"  \"outcome\"     \"exposure\"    \"method\"     \n",
      "[6] \"nsnp\"        \"b\"           \"se\"          \"pval\"       \n"
     ]
    },
    {
     "name": "stderr",
     "output_type": "stream",
     "text": [
      "Quitting.\n",
      "\n",
      "Extracting data for 38 SNP(s) from 1 GWAS(s)\n",
      "\n",
      "Finding proxies for 17 SNPs in outcome ieu-b-18\n",
      "\n",
      "Extracting data for 17 SNP(s) from 1 GWAS(s)\n",
      "\n",
      "Harmonising Tyrosine || id:met-d-Tyr (met-d-Tyr) and multiple sclerosis || id:ieu-b-18 (ieu-b-18)\n",
      "\n",
      "Removing the following SNPs for being palindromic with intermediate allele frequencies:\n",
      "rs2638315, rs28601761, rs6575900\n",
      "\n",
      "Analysing 'met-d-Tyr' on 'ieu-b-18'\n",
      "\n"
     ]
    },
    {
     "name": "stdout",
     "output_type": "stream",
     "text": [
      "[1] \"id.exposure\" \"id.outcome\"  \"outcome\"     \"exposure\"    \"method\"     \n",
      "[6] \"nsnp\"        \"b\"           \"se\"          \"pval\"       \n"
     ]
    },
    {
     "name": "stderr",
     "output_type": "stream",
     "text": [
      "Quitting.\n",
      "\n",
      "Extracting data for 38 SNP(s) from 1 GWAS(s)\n",
      "\n",
      "Finding proxies for 9 SNPs in outcome finn-b-G6_MS\n",
      "\n",
      "Extracting data for 9 SNP(s) from 1 GWAS(s)\n",
      "\n",
      "Harmonising Tyrosine || id:met-d-Tyr (met-d-Tyr) and MS-disease / Multiple Sclerosis || id:finn-b-G6_MS (finn-b-G6_MS)\n",
      "\n",
      "Removing the following SNPs for being palindromic with intermediate allele frequencies:\n",
      "rs28601761\n",
      "\n",
      "Analysing 'met-d-Tyr' on 'finn-b-G6_MS'\n",
      "\n"
     ]
    },
    {
     "name": "stdout",
     "output_type": "stream",
     "text": [
      "[1] \"id.exposure\" \"id.outcome\"  \"outcome\"     \"exposure\"    \"method\"     \n",
      "[6] \"nsnp\"        \"b\"           \"se\"          \"pval\"       \n"
     ]
    },
    {
     "name": "stderr",
     "output_type": "stream",
     "text": [
      "Quitting.\n",
      "\n",
      "Extracting data for 4 SNP(s) from 1 GWAS(s)\n",
      "\n",
      "Harmonising Hexanoylcarnitine || id:met-a-467 (met-a-467) and multiple sclerosis || id:ieu-b-18 (ieu-b-18)\n",
      "\n",
      "Removing the following SNPs for being palindromic with intermediate allele frequencies:\n",
      "rs2070630\n",
      "\n",
      "Analysing 'met-a-467' on 'ieu-b-18'\n",
      "\n"
     ]
    },
    {
     "name": "stdout",
     "output_type": "stream",
     "text": [
      "[1] \"id.exposure\" \"id.outcome\"  \"outcome\"     \"exposure\"    \"method\"     \n",
      "[6] \"nsnp\"        \"b\"           \"se\"          \"pval\"       \n"
     ]
    },
    {
     "name": "stderr",
     "output_type": "stream",
     "text": [
      "Quitting.\n",
      "\n",
      "Extracting data for 4 SNP(s) from 1 GWAS(s)\n",
      "\n",
      "Harmonising Hexanoylcarnitine || id:met-a-467 (met-a-467) and MS-disease / Multiple Sclerosis || id:finn-b-G6_MS (finn-b-G6_MS)\n",
      "\n",
      "Analysing 'met-a-467' on 'finn-b-G6_MS'\n",
      "\n"
     ]
    },
    {
     "name": "stdout",
     "output_type": "stream",
     "text": [
      "[1] \"id.exposure\" \"id.outcome\"  \"outcome\"     \"exposure\"    \"method\"     \n",
      "[6] \"nsnp\"        \"b\"           \"se\"          \"pval\"       \n"
     ]
    },
    {
     "name": "stderr",
     "output_type": "stream",
     "text": [
      "Quitting.\n",
      "\n",
      "Extracting data for 6 SNP(s) from 1 GWAS(s)\n",
      "\n",
      "Finding proxies for 1 SNPs in outcome ieu-b-18\n",
      "\n",
      "Extracting data for 1 SNP(s) from 1 GWAS(s)\n",
      "\n",
      "Harmonising Creatinine || id:met-c-850 (met-c-850) and multiple sclerosis || id:ieu-b-18 (ieu-b-18)\n",
      "\n",
      "Removing the following SNPs for being palindromic with intermediate allele frequencies:\n",
      "rs6127099\n",
      "\n",
      "Analysing 'met-c-850' on 'ieu-b-18'\n",
      "\n"
     ]
    },
    {
     "name": "stdout",
     "output_type": "stream",
     "text": [
      "[1] \"id.exposure\" \"id.outcome\"  \"outcome\"     \"exposure\"    \"method\"     \n",
      "[6] \"nsnp\"        \"b\"           \"se\"          \"pval\"       \n"
     ]
    },
    {
     "name": "stderr",
     "output_type": "stream",
     "text": [
      "Quitting.\n",
      "\n",
      "Extracting data for 6 SNP(s) from 1 GWAS(s)\n",
      "\n",
      "Finding proxies for 1 SNPs in outcome finn-b-G6_MS\n",
      "\n",
      "Extracting data for 1 SNP(s) from 1 GWAS(s)\n",
      "\n",
      "Harmonising Creatinine || id:met-c-850 (met-c-850) and MS-disease / Multiple Sclerosis || id:finn-b-G6_MS (finn-b-G6_MS)\n",
      "\n",
      "Analysing 'met-c-850' on 'finn-b-G6_MS'\n",
      "\n"
     ]
    },
    {
     "name": "stdout",
     "output_type": "stream",
     "text": [
      "[1] \"id.exposure\" \"id.outcome\"  \"outcome\"     \"exposure\"    \"method\"     \n",
      "[6] \"nsnp\"        \"b\"           \"se\"          \"pval\"       \n"
     ]
    },
    {
     "name": "stderr",
     "output_type": "stream",
     "text": [
      "Quitting.\n",
      "\n",
      "Extracting data for 2 SNP(s) from 1 GWAS(s)\n",
      "\n",
      "Finding proxies for 1 SNPs in outcome ieu-b-18\n",
      "\n",
      "Extracting data for 1 SNP(s) from 1 GWAS(s)\n",
      "\n",
      "Harmonising Acetylcarnitine || id:met-a-463 (met-a-463) and multiple sclerosis || id:ieu-b-18 (ieu-b-18)\n",
      "\n",
      "Analysing 'met-a-463' on 'ieu-b-18'\n",
      "\n"
     ]
    },
    {
     "name": "stdout",
     "output_type": "stream",
     "text": [
      "[1] \"id.exposure\" \"id.outcome\"  \"outcome\"     \"exposure\"    \"method\"     \n",
      "[6] \"nsnp\"        \"b\"           \"se\"          \"pval\"       \n"
     ]
    },
    {
     "name": "stderr",
     "output_type": "stream",
     "text": [
      "Quitting.\n",
      "\n",
      "Extracting data for 2 SNP(s) from 1 GWAS(s)\n",
      "\n",
      "Harmonising Acetylcarnitine || id:met-a-463 (met-a-463) and MS-disease / Multiple Sclerosis || id:finn-b-G6_MS (finn-b-G6_MS)\n",
      "\n",
      "Analysing 'met-a-463' on 'finn-b-G6_MS'\n",
      "\n"
     ]
    },
    {
     "name": "stdout",
     "output_type": "stream",
     "text": [
      "[1] \"id.exposure\" \"id.outcome\"  \"outcome\"     \"exposure\"    \"method\"     \n",
      "[6] \"nsnp\"        \"b\"           \"se\"          \"pval\"       \n"
     ]
    },
    {
     "name": "stderr",
     "output_type": "stream",
     "text": [
      "Quitting.\n",
      "\n",
      "Extracting data for 22 SNP(s) from 1 GWAS(s)\n",
      "\n",
      "Finding proxies for 6 SNPs in outcome ieu-b-18\n",
      "\n",
      "Extracting data for 6 SNP(s) from 1 GWAS(s)\n",
      "\n",
      "Harmonising Valine || id:met-d-Val (met-d-Val) and multiple sclerosis || id:ieu-b-18 (ieu-b-18)\n",
      "\n",
      "Removing the following SNPs for being palindromic with intermediate allele frequencies:\n",
      "rs17096421, rs2638315, rs6941263\n",
      "\n",
      "Analysing 'met-d-Val' on 'ieu-b-18'\n",
      "\n"
     ]
    },
    {
     "name": "stdout",
     "output_type": "stream",
     "text": [
      "[1] \"id.exposure\" \"id.outcome\"  \"outcome\"     \"exposure\"    \"method\"     \n",
      "[6] \"nsnp\"        \"b\"           \"se\"          \"pval\"       \n"
     ]
    },
    {
     "name": "stderr",
     "output_type": "stream",
     "text": [
      "Quitting.\n",
      "\n",
      "Extracting data for 22 SNP(s) from 1 GWAS(s)\n",
      "\n",
      "Finding proxies for 4 SNPs in outcome finn-b-G6_MS\n",
      "\n",
      "Extracting data for 4 SNP(s) from 1 GWAS(s)\n",
      "\n",
      "Harmonising Valine || id:met-d-Val (met-d-Val) and MS-disease / Multiple Sclerosis || id:finn-b-G6_MS (finn-b-G6_MS)\n",
      "\n",
      "Removing the following SNPs for incompatible alleles:\n",
      "rs7656569\n",
      "\n",
      "Analysing 'met-d-Val' on 'finn-b-G6_MS'\n",
      "\n"
     ]
    },
    {
     "name": "stdout",
     "output_type": "stream",
     "text": [
      "[1] \"id.exposure\" \"id.outcome\"  \"outcome\"     \"exposure\"    \"method\"     \n",
      "[6] \"nsnp\"        \"b\"           \"se\"          \"pval\"       \n"
     ]
    },
    {
     "name": "stderr",
     "output_type": "stream",
     "text": [
      "Quitting.\n",
      "\n",
      "Extracting data for 17 SNP(s) from 1 GWAS(s)\n",
      "\n",
      "Finding proxies for 8 SNPs in outcome ieu-b-18\n",
      "\n",
      "Extracting data for 8 SNP(s) from 1 GWAS(s)\n",
      "\n",
      "Harmonising Histidine || id:met-d-His (met-d-His) and multiple sclerosis || id:ieu-b-18 (ieu-b-18)\n",
      "\n",
      "Removing the following SNPs for being palindromic with intermediate allele frequencies:\n",
      "rs1883711, rs1958393\n",
      "\n",
      "Analysing 'met-d-His' on 'ieu-b-18'\n",
      "\n"
     ]
    },
    {
     "name": "stdout",
     "output_type": "stream",
     "text": [
      "[1] \"id.exposure\" \"id.outcome\"  \"outcome\"     \"exposure\"    \"method\"     \n",
      "[6] \"nsnp\"        \"b\"           \"se\"          \"pval\"       \n"
     ]
    },
    {
     "name": "stderr",
     "output_type": "stream",
     "text": [
      "Quitting.\n",
      "\n",
      "Extracting data for 17 SNP(s) from 1 GWAS(s)\n",
      "\n",
      "Finding proxies for 2 SNPs in outcome finn-b-G6_MS\n",
      "\n",
      "Extracting data for 2 SNP(s) from 1 GWAS(s)\n",
      "\n",
      "Harmonising Histidine || id:met-d-His (met-d-His) and MS-disease / Multiple Sclerosis || id:finn-b-G6_MS (finn-b-G6_MS)\n",
      "\n",
      "Analysing 'met-d-His' on 'finn-b-G6_MS'\n",
      "\n"
     ]
    },
    {
     "name": "stdout",
     "output_type": "stream",
     "text": [
      "[1] \"id.exposure\" \"id.outcome\"  \"outcome\"     \"exposure\"    \"method\"     \n",
      "[6] \"nsnp\"        \"b\"           \"se\"          \"pval\"       \n"
     ]
    },
    {
     "name": "stderr",
     "output_type": "stream",
     "text": [
      "Quitting.\n",
      "\n",
      "Extracting data for 6 SNP(s) from 1 GWAS(s)\n",
      "\n",
      "Harmonising Glutamine || id:met-c-860 (met-c-860) and multiple sclerosis || id:ieu-b-18 (ieu-b-18)\n",
      "\n",
      "Removing the following SNPs for being palindromic with intermediate allele frequencies:\n",
      "rs7952320\n",
      "\n",
      "Analysing 'met-c-860' on 'ieu-b-18'\n",
      "\n"
     ]
    },
    {
     "name": "stdout",
     "output_type": "stream",
     "text": [
      "[1] \"id.exposure\" \"id.outcome\"  \"outcome\"     \"exposure\"    \"method\"     \n",
      "[6] \"nsnp\"        \"b\"           \"se\"          \"pval\"       \n"
     ]
    },
    {
     "name": "stderr",
     "output_type": "stream",
     "text": [
      "Quitting.\n",
      "\n",
      "Extracting data for 6 SNP(s) from 1 GWAS(s)\n",
      "\n",
      "Harmonising Glutamine || id:met-c-860 (met-c-860) and MS-disease / Multiple Sclerosis || id:finn-b-G6_MS (finn-b-G6_MS)\n",
      "\n",
      "Removing the following SNPs for being palindromic with intermediate allele frequencies:\n",
      "rs7952320\n",
      "\n",
      "Analysing 'met-c-860' on 'finn-b-G6_MS'\n",
      "\n"
     ]
    },
    {
     "name": "stdout",
     "output_type": "stream",
     "text": [
      "[1] \"id.exposure\" \"id.outcome\"  \"outcome\"     \"exposure\"    \"method\"     \n",
      "[6] \"nsnp\"        \"b\"           \"se\"          \"pval\"       \n"
     ]
    },
    {
     "name": "stderr",
     "output_type": "stream",
     "text": [
      "Quitting.\n",
      "\n",
      "Extracting data for 3 SNP(s) from 1 GWAS(s)\n",
      "\n",
      "Finding proxies for 1 SNPs in outcome ieu-b-18\n",
      "\n",
      "Extracting data for 1 SNP(s) from 1 GWAS(s)\n",
      "\n",
      "Harmonising Isobutyrylcarnitine || id:met-a-573 (met-a-573) and multiple sclerosis || id:ieu-b-18 (ieu-b-18)\n",
      "\n",
      "Removing the following SNPs for being palindromic with intermediate allele frequencies:\n",
      "rs662138\n",
      "\n",
      "Analysing 'met-a-573' on 'ieu-b-18'\n",
      "\n"
     ]
    },
    {
     "name": "stdout",
     "output_type": "stream",
     "text": [
      "[1] \"id.exposure\" \"id.outcome\"  \"outcome\"     \"exposure\"    \"method\"     \n",
      "[6] \"nsnp\"        \"b\"           \"se\"          \"pval\"       \n"
     ]
    },
    {
     "name": "stderr",
     "output_type": "stream",
     "text": [
      "Quitting.\n",
      "\n",
      "Extracting data for 3 SNP(s) from 1 GWAS(s)\n",
      "\n",
      "Harmonising Isobutyrylcarnitine || id:met-a-573 (met-a-573) and MS-disease / Multiple Sclerosis || id:finn-b-G6_MS (finn-b-G6_MS)\n",
      "\n",
      "Analysing 'met-a-573' on 'finn-b-G6_MS'\n",
      "\n"
     ]
    },
    {
     "name": "stdout",
     "output_type": "stream",
     "text": [
      "[1] \"id.exposure\" \"id.outcome\"  \"outcome\"     \"exposure\"    \"method\"     \n",
      "[6] \"nsnp\"        \"b\"           \"se\"          \"pval\"       \n"
     ]
    },
    {
     "name": "stderr",
     "output_type": "stream",
     "text": [
      "Quitting.\n",
      "\n",
      "Extracting data for 2 SNP(s) from 1 GWAS(s)\n",
      "\n",
      "Harmonising Lactate || id:met-c-894 (met-c-894) and multiple sclerosis || id:ieu-b-18 (ieu-b-18)\n",
      "\n",
      "Analysing 'met-c-894' on 'ieu-b-18'\n",
      "\n"
     ]
    },
    {
     "name": "stdout",
     "output_type": "stream",
     "text": [
      "[1] \"id.exposure\" \"id.outcome\"  \"outcome\"     \"exposure\"    \"method\"     \n",
      "[6] \"nsnp\"        \"b\"           \"se\"          \"pval\"       \n"
     ]
    },
    {
     "name": "stderr",
     "output_type": "stream",
     "text": [
      "Quitting.\n",
      "\n",
      "Extracting data for 2 SNP(s) from 1 GWAS(s)\n",
      "\n",
      "Harmonising Lactate || id:met-c-894 (met-c-894) and MS-disease / Multiple Sclerosis || id:finn-b-G6_MS (finn-b-G6_MS)\n",
      "\n",
      "Analysing 'met-c-894' on 'finn-b-G6_MS'\n",
      "\n"
     ]
    },
    {
     "name": "stdout",
     "output_type": "stream",
     "text": [
      "[1] \"id.exposure\" \"id.outcome\"  \"outcome\"     \"exposure\"    \"method\"     \n",
      "[6] \"nsnp\"        \"b\"           \"se\"          \"pval\"       \n"
     ]
    },
    {
     "name": "stderr",
     "output_type": "stream",
     "text": [
      "Quitting.\n",
      "\n",
      "Extracting data for 3 SNP(s) from 1 GWAS(s)\n",
      "\n",
      "Finding proxies for 1 SNPs in outcome ieu-b-18\n",
      "\n",
      "Extracting data for 1 SNP(s) from 1 GWAS(s)\n",
      "\n",
      "Harmonising Isovalerylcarnitine || id:met-a-652 (met-a-652) and multiple sclerosis || id:ieu-b-18 (ieu-b-18)\n",
      "\n",
      "Analysing 'met-a-652' on 'ieu-b-18'\n",
      "\n"
     ]
    },
    {
     "name": "stdout",
     "output_type": "stream",
     "text": [
      "[1] \"id.exposure\" \"id.outcome\"  \"outcome\"     \"exposure\"    \"method\"     \n",
      "[6] \"nsnp\"        \"b\"           \"se\"          \"pval\"       \n"
     ]
    },
    {
     "name": "stderr",
     "output_type": "stream",
     "text": [
      "Quitting.\n",
      "\n",
      "Extracting data for 3 SNP(s) from 1 GWAS(s)\n",
      "\n",
      "Harmonising Isovalerylcarnitine || id:met-a-652 (met-a-652) and MS-disease / Multiple Sclerosis || id:finn-b-G6_MS (finn-b-G6_MS)\n",
      "\n",
      "Analysing 'met-a-652' on 'finn-b-G6_MS'\n",
      "\n"
     ]
    },
    {
     "name": "stdout",
     "output_type": "stream",
     "text": [
      "[1] \"id.exposure\" \"id.outcome\"  \"outcome\"     \"exposure\"    \"method\"     \n",
      "[6] \"nsnp\"        \"b\"           \"se\"          \"pval\"       \n"
     ]
    },
    {
     "name": "stderr",
     "output_type": "stream",
     "text": [
      "Quitting.\n",
      "\n",
      "Extracting data for 6 SNP(s) from 1 GWAS(s)\n",
      "\n",
      "Harmonising Citrate || id:met-a-341 (met-a-341) and multiple sclerosis || id:ieu-b-18 (ieu-b-18)\n",
      "\n",
      "Analysing 'met-a-341' on 'ieu-b-18'\n",
      "\n"
     ]
    },
    {
     "name": "stdout",
     "output_type": "stream",
     "text": [
      "[1] \"id.exposure\" \"id.outcome\"  \"outcome\"     \"exposure\"    \"method\"     \n",
      "[6] \"nsnp\"        \"b\"           \"se\"          \"pval\"       \n"
     ]
    },
    {
     "name": "stderr",
     "output_type": "stream",
     "text": [
      "Quitting.\n",
      "\n",
      "Extracting data for 6 SNP(s) from 1 GWAS(s)\n",
      "\n",
      "Harmonising Citrate || id:met-a-341 (met-a-341) and MS-disease / Multiple Sclerosis || id:finn-b-G6_MS (finn-b-G6_MS)\n",
      "\n",
      "Analysing 'met-a-341' on 'finn-b-G6_MS'\n",
      "\n"
     ]
    },
    {
     "name": "stdout",
     "output_type": "stream",
     "text": [
      "[1] \"id.exposure\" \"id.outcome\"  \"outcome\"     \"exposure\"    \"method\"     \n",
      "[6] \"nsnp\"        \"b\"           \"se\"          \"pval\"       \n"
     ]
    },
    {
     "name": "stderr",
     "output_type": "stream",
     "text": [
      "Quitting.\n",
      "\n",
      "Extracting data for 3 SNP(s) from 1 GWAS(s)\n",
      "\n",
      "Finding proxies for 1 SNPs in outcome ieu-b-18\n",
      "\n",
      "Extracting data for 1 SNP(s) from 1 GWAS(s)\n",
      "\n",
      "Harmonising Tyrosine || id:met-a-325 (met-a-325) and multiple sclerosis || id:ieu-b-18 (ieu-b-18)\n",
      "\n",
      "Analysing 'met-a-325' on 'ieu-b-18'\n",
      "\n"
     ]
    },
    {
     "name": "stdout",
     "output_type": "stream",
     "text": [
      "[1] \"id.exposure\" \"id.outcome\"  \"outcome\"     \"exposure\"    \"method\"     \n",
      "[6] \"nsnp\"        \"b\"           \"se\"          \"pval\"       \n"
     ]
    },
    {
     "name": "stderr",
     "output_type": "stream",
     "text": [
      "Quitting.\n",
      "\n",
      "Extracting data for 3 SNP(s) from 1 GWAS(s)\n",
      "\n",
      "Harmonising Tyrosine || id:met-a-325 (met-a-325) and MS-disease / Multiple Sclerosis || id:finn-b-G6_MS (finn-b-G6_MS)\n",
      "\n",
      "Analysing 'met-a-325' on 'finn-b-G6_MS'\n",
      "\n"
     ]
    },
    {
     "name": "stdout",
     "output_type": "stream",
     "text": [
      "[1] \"id.exposure\" \"id.outcome\"  \"outcome\"     \"exposure\"    \"method\"     \n",
      "[6] \"nsnp\"        \"b\"           \"se\"          \"pval\"       \n"
     ]
    },
    {
     "name": "stderr",
     "output_type": "stream",
     "text": [
      "Quitting.\n",
      "\n",
      "Extracting data for 17 SNP(s) from 1 GWAS(s)\n",
      "\n",
      "Finding proxies for 2 SNPs in outcome ieu-b-18\n",
      "\n",
      "Extracting data for 2 SNP(s) from 1 GWAS(s)\n",
      "\n",
      "Harmonising Carnitine || id:met-a-379 (met-a-379) and multiple sclerosis || id:ieu-b-18 (ieu-b-18)\n",
      "\n",
      "Removing the following SNPs for being palindromic with intermediate allele frequencies:\n",
      "rs13182512\n",
      "\n",
      "Analysing 'met-a-379' on 'ieu-b-18'\n",
      "\n"
     ]
    },
    {
     "name": "stdout",
     "output_type": "stream",
     "text": [
      "[1] \"id.exposure\" \"id.outcome\"  \"outcome\"     \"exposure\"    \"method\"     \n",
      "[6] \"nsnp\"        \"b\"           \"se\"          \"pval\"       \n"
     ]
    },
    {
     "name": "stderr",
     "output_type": "stream",
     "text": [
      "Quitting.\n",
      "\n",
      "Extracting data for 17 SNP(s) from 1 GWAS(s)\n",
      "\n",
      "Harmonising Carnitine || id:met-a-379 (met-a-379) and MS-disease / Multiple Sclerosis || id:finn-b-G6_MS (finn-b-G6_MS)\n",
      "\n",
      "Analysing 'met-a-379' on 'finn-b-G6_MS'\n",
      "\n"
     ]
    },
    {
     "name": "stdout",
     "output_type": "stream",
     "text": [
      "[1] \"id.exposure\" \"id.outcome\"  \"outcome\"     \"exposure\"    \"method\"     \n",
      "[6] \"nsnp\"        \"b\"           \"se\"          \"pval\"       \n"
     ]
    },
    {
     "name": "stderr",
     "output_type": "stream",
     "text": [
      "Quitting.\n",
      "\n",
      "Extracting data for 20 SNP(s) from 1 GWAS(s)\n",
      "\n",
      "Harmonising Tryptophan || id:met-a-304 (met-a-304) and multiple sclerosis || id:ieu-b-18 (ieu-b-18)\n",
      "\n",
      "Removing the following SNPs for being palindromic with intermediate allele frequencies:\n",
      "rs1559063, rs4695138, rs6901004\n",
      "\n",
      "Analysing 'met-a-304' on 'ieu-b-18'\n",
      "\n"
     ]
    },
    {
     "name": "stdout",
     "output_type": "stream",
     "text": [
      "[1] \"id.exposure\" \"id.outcome\"  \"outcome\"     \"exposure\"    \"method\"     \n",
      "[6] \"nsnp\"        \"b\"           \"se\"          \"pval\"       \n"
     ]
    },
    {
     "name": "stderr",
     "output_type": "stream",
     "text": [
      "Quitting.\n",
      "\n",
      "Extracting data for 20 SNP(s) from 1 GWAS(s)\n",
      "\n",
      "Harmonising Tryptophan || id:met-a-304 (met-a-304) and MS-disease / Multiple Sclerosis || id:finn-b-G6_MS (finn-b-G6_MS)\n",
      "\n",
      "Removing the following SNPs for being palindromic with intermediate allele frequencies:\n",
      "rs4695138, rs6901004\n",
      "\n",
      "Analysing 'met-a-304' on 'finn-b-G6_MS'\n",
      "\n"
     ]
    },
    {
     "name": "stdout",
     "output_type": "stream",
     "text": [
      "[1] \"id.exposure\" \"id.outcome\"  \"outcome\"     \"exposure\"    \"method\"     \n",
      "[6] \"nsnp\"        \"b\"           \"se\"          \"pval\"       \n"
     ]
    },
    {
     "name": "stderr",
     "output_type": "stream",
     "text": [
      "Quitting.\n",
      "\n",
      "Extracting data for 5 SNP(s) from 1 GWAS(s)\n",
      "\n",
      "Harmonising Gamma-glutamyltyrosine || id:met-a-360 (met-a-360) and multiple sclerosis || id:ieu-b-18 (ieu-b-18)\n",
      "\n",
      "Removing the following SNPs for being palindromic with intermediate allele frequencies:\n",
      "rs12192718, rs9940990\n",
      "\n",
      "Analysing 'met-a-360' on 'ieu-b-18'\n",
      "\n"
     ]
    },
    {
     "name": "stdout",
     "output_type": "stream",
     "text": [
      "[1] \"id.exposure\" \"id.outcome\"  \"outcome\"     \"exposure\"    \"method\"     \n",
      "[6] \"nsnp\"        \"b\"           \"se\"          \"pval\"       \n"
     ]
    },
    {
     "name": "stderr",
     "output_type": "stream",
     "text": [
      "Quitting.\n",
      "\n",
      "Extracting data for 5 SNP(s) from 1 GWAS(s)\n",
      "\n",
      "Harmonising Gamma-glutamyltyrosine || id:met-a-360 (met-a-360) and MS-disease / Multiple Sclerosis || id:finn-b-G6_MS (finn-b-G6_MS)\n",
      "\n",
      "Analysing 'met-a-360' on 'finn-b-G6_MS'\n",
      "\n"
     ]
    },
    {
     "name": "stdout",
     "output_type": "stream",
     "text": [
      "[1] \"id.exposure\" \"id.outcome\"  \"outcome\"     \"exposure\"    \"method\"     \n",
      "[6] \"nsnp\"        \"b\"           \"se\"          \"pval\"       \n"
     ]
    },
    {
     "name": "stderr",
     "output_type": "stream",
     "text": [
      "Quitting.\n",
      "\n",
      "Extracting data for 2 SNP(s) from 1 GWAS(s)\n",
      "\n",
      "Harmonising Alanine || id:met-a-469 (met-a-469) and multiple sclerosis || id:ieu-b-18 (ieu-b-18)\n",
      "\n",
      "Analysing 'met-a-469' on 'ieu-b-18'\n",
      "\n"
     ]
    },
    {
     "name": "stdout",
     "output_type": "stream",
     "text": [
      "[1] \"id.exposure\" \"id.outcome\"  \"outcome\"     \"exposure\"    \"method\"     \n",
      "[6] \"nsnp\"        \"b\"           \"se\"          \"pval\"       \n"
     ]
    },
    {
     "name": "stderr",
     "output_type": "stream",
     "text": [
      "Quitting.\n",
      "\n",
      "Extracting data for 2 SNP(s) from 1 GWAS(s)\n",
      "\n",
      "Harmonising Alanine || id:met-a-469 (met-a-469) and MS-disease / Multiple Sclerosis || id:finn-b-G6_MS (finn-b-G6_MS)\n",
      "\n",
      "Analysing 'met-a-469' on 'finn-b-G6_MS'\n",
      "\n"
     ]
    },
    {
     "name": "stdout",
     "output_type": "stream",
     "text": [
      "[1] \"id.exposure\" \"id.outcome\"  \"outcome\"     \"exposure\"    \"method\"     \n",
      "[6] \"nsnp\"        \"b\"           \"se\"          \"pval\"       \n"
     ]
    },
    {
     "name": "stderr",
     "output_type": "stream",
     "text": [
      "Quitting.\n",
      "\n",
      "Extracting data for 3 SNP(s) from 1 GWAS(s)\n",
      "\n",
      "Harmonising Bradykinin, des-arg(9) || id:met-a-656 (met-a-656) and multiple sclerosis || id:ieu-b-18 (ieu-b-18)\n",
      "\n",
      "Analysing 'met-a-656' on 'ieu-b-18'\n",
      "\n"
     ]
    },
    {
     "name": "stdout",
     "output_type": "stream",
     "text": [
      "[1] \"id.exposure\" \"id.outcome\"  \"outcome\"     \"exposure\"    \"method\"     \n",
      "[6] \"nsnp\"        \"b\"           \"se\"          \"pval\"       \n"
     ]
    },
    {
     "name": "stderr",
     "output_type": "stream",
     "text": [
      "Quitting.\n",
      "\n",
      "Extracting data for 3 SNP(s) from 1 GWAS(s)\n",
      "\n",
      "Harmonising Bradykinin, des-arg(9) || id:met-a-656 (met-a-656) and MS-disease / Multiple Sclerosis || id:finn-b-G6_MS (finn-b-G6_MS)\n",
      "\n",
      "Analysing 'met-a-656' on 'finn-b-G6_MS'\n",
      "\n"
     ]
    },
    {
     "name": "stdout",
     "output_type": "stream",
     "text": [
      "[1] \"id.exposure\" \"id.outcome\"  \"outcome\"     \"exposure\"    \"method\"     \n",
      "[6] \"nsnp\"        \"b\"           \"se\"          \"pval\"       \n"
     ]
    },
    {
     "name": "stderr",
     "output_type": "stream",
     "text": [
      "Quitting.\n",
      "\n",
      "Extracting data for 3 SNP(s) from 1 GWAS(s)\n",
      "\n",
      "Harmonising Uridine || id:met-a-316 (met-a-316) and multiple sclerosis || id:ieu-b-18 (ieu-b-18)\n",
      "\n",
      "Analysing 'met-a-316' on 'ieu-b-18'\n",
      "\n"
     ]
    },
    {
     "name": "stdout",
     "output_type": "stream",
     "text": [
      "[1] \"id.exposure\" \"id.outcome\"  \"outcome\"     \"exposure\"    \"method\"     \n",
      "[6] \"nsnp\"        \"b\"           \"se\"          \"pval\"       \n"
     ]
    },
    {
     "name": "stderr",
     "output_type": "stream",
     "text": [
      "Quitting.\n",
      "\n",
      "Extracting data for 3 SNP(s) from 1 GWAS(s)\n",
      "\n",
      "Harmonising Uridine || id:met-a-316 (met-a-316) and MS-disease / Multiple Sclerosis || id:finn-b-G6_MS (finn-b-G6_MS)\n",
      "\n",
      "Analysing 'met-a-316' on 'finn-b-G6_MS'\n",
      "\n"
     ]
    },
    {
     "name": "stdout",
     "output_type": "stream",
     "text": [
      "[1] \"id.exposure\" \"id.outcome\"  \"outcome\"     \"exposure\"    \"method\"     \n",
      "[6] \"nsnp\"        \"b\"           \"se\"          \"pval\"       \n"
     ]
    },
    {
     "name": "stderr",
     "output_type": "stream",
     "text": [
      "Quitting.\n",
      "\n",
      "Extracting data for 2 SNP(s) from 1 GWAS(s)\n",
      "\n",
      "Harmonising Alanine || id:met-a-469 (met-a-469) and multiple sclerosis || id:ieu-b-18 (ieu-b-18)\n",
      "\n",
      "Analysing 'met-a-469' on 'ieu-b-18'\n",
      "\n"
     ]
    },
    {
     "name": "stdout",
     "output_type": "stream",
     "text": [
      "[1] \"id.exposure\" \"id.outcome\"  \"outcome\"     \"exposure\"    \"method\"     \n",
      "[6] \"nsnp\"        \"b\"           \"se\"          \"pval\"       \n"
     ]
    },
    {
     "name": "stderr",
     "output_type": "stream",
     "text": [
      "Quitting.\n",
      "\n",
      "Extracting data for 2 SNP(s) from 1 GWAS(s)\n",
      "\n",
      "Harmonising Alanine || id:met-a-469 (met-a-469) and MS-disease / Multiple Sclerosis || id:finn-b-G6_MS (finn-b-G6_MS)\n",
      "\n",
      "Analysing 'met-a-469' on 'finn-b-G6_MS'\n",
      "\n"
     ]
    },
    {
     "name": "stdout",
     "output_type": "stream",
     "text": [
      "[1] \"id.exposure\" \"id.outcome\"  \"outcome\"     \"exposure\"    \"method\"     \n",
      "[6] \"nsnp\"        \"b\"           \"se\"          \"pval\"       \n"
     ]
    },
    {
     "name": "stderr",
     "output_type": "stream",
     "text": [
      "Quitting.\n",
      "\n"
     ]
    }
   ],
   "source": [
    "results = list()\n",
    "continue = TRUE \n",
    "for (i in 1:length(exposures)) {\n",
    "  exposure_dat = extract_instruments(exposures[i])\n",
    "  for (j in 1:length(outcomes)) {\n",
    "      run_with_catching <- function(){\n",
    "        tryCatch(\n",
    "            expr = {\n",
    "                outcome_dat = extract_outcome_data(snps=exposure_dat$SNP, outcomes=outcomes[j])\n",
    "                dat <- harmonise_data(exposure_dat, outcome_dat)\n",
    "                res <- mr(dat)\n",
    "                print(names(res))\n",
    "                #write.table(res, \"myDF.csv\", sep = \",\", col.names = !file.exists(\"myDF.csv\"), append = T)\n",
    "\n",
    "                \n",
    "            },\n",
    "            error = function(e){\n",
    "                message('Caught an error')\n",
    "                #print(e)\n",
    "                 \n",
    "            },\n",
    "            warning = function(w){\n",
    "                message('Caught an warning')\n",
    "                #print(w)\n",
    "                \n",
    "            },\n",
    "            finally = {\n",
    "                message('Quitting.')\n",
    "                \n",
    "            }\n",
    "        )    \n",
    "    }\n",
    "\n",
    "    if (continue == TRUE) {\n",
    "        run_with_catching()\n",
    "    }\n",
    "    }\n",
    "}"
   ]
  },
  {
   "cell_type": "code",
   "execution_count": 14,
   "id": "45d6e520",
   "metadata": {},
   "outputs": [
    {
     "ename": "ERROR",
     "evalue": "Error in print(res): object 'res' not found\n",
     "output_type": "error",
     "traceback": [
      "Error in print(res): object 'res' not found\nTraceback:\n",
      "1. print(res)"
     ]
    }
   ],
   "source": [
    "print(res)"
   ]
  },
  {
   "cell_type": "code",
   "execution_count": 11,
   "id": "32d6701d",
   "metadata": {},
   "outputs": [
    {
     "data": {
      "text/html": [
       "<ol>\n",
       "\t<li>NULL</li>\n",
       "</ol>\n"
      ],
      "text/latex": [
       "\\begin{enumerate}\n",
       "\\item NULL\n",
       "\\end{enumerate}\n"
      ],
      "text/markdown": [
       "1. NULL\n",
       "\n",
       "\n"
      ],
      "text/plain": [
       "[[1]]\n",
       "NULL\n"
      ]
     },
     "metadata": {},
     "output_type": "display_data"
    }
   ],
   "source": [
    "results[3]"
   ]
  },
  {
   "cell_type": "code",
   "execution_count": 15,
   "id": "c7dd9489",
   "metadata": {},
   "outputs": [
    {
     "name": "stderr",
     "output_type": "stream",
     "text": [
      "Warning message in file(file, ifelse(append, \"a\", \"w\")):\n",
      "\"cannot open file './around seven hundred/results_raw.csv': No such file or directory\"\n"
     ]
    },
    {
     "ename": "ERROR",
     "evalue": "Error in file(file, ifelse(append, \"a\", \"w\")): cannot open the connection\n",
     "output_type": "error",
     "traceback": [
      "Error in file(file, ifelse(append, \"a\", \"w\")): cannot open the connection\nTraceback:\n",
      "1. write.table(results, table_path, append = FALSE, sep = \",\", dec = \".\", \n .     row.names = TRUE, col.names = TRUE)",
      "2. file(file, ifelse(append, \"a\", \"w\"))"
     ]
    }
   ],
   "source": [
    "results <- do.call(\"rbind\", results)\n",
    "base_table_path = './around seven hundred/'\n",
    "table_path = paste(base_table_path, \"results_raw.csv\", sep=\"\")\n",
    "write.table(results, table_path, append = FALSE, sep = \",\", dec = \".\", row.names = TRUE, col.names = TRUE)"
   ]
  },
  {
   "cell_type": "code",
   "execution_count": 18,
   "id": "ad7a6d83",
   "metadata": {},
   "outputs": [
    {
     "data": {
      "text/plain": [
       "NULL"
      ]
     },
     "metadata": {},
     "output_type": "display_data"
    }
   ],
   "source": [
    "results"
   ]
  },
  {
   "cell_type": "markdown",
   "id": "7237f7df",
   "metadata": {},
   "source": [
    "### Old Stuff Below"
   ]
  },
  {
   "cell_type": "code",
   "execution_count": null,
   "id": "16bf6178",
   "metadata": {},
   "outputs": [],
   "source": [
    "library(TwoSampleMR)\n",
    "\n",
    "ao <- available_outcomes()\n",
    "\n",
    "####### met-a\n",
    "data_met_a=ao\n",
    "data_met_a$new_name_1=sapply(strsplit(data_met_a$id, split= \"-\"),\"[\",1)\n",
    "data_met_a$new_name_2=sapply(strsplit(data_met_a$id, split= \"-\"),\"[\",2)\n",
    "data_met_a=data_met_a[data_met_a$new_name_1==\"met\",]\n",
    "data_met_a=data_met_a[data_met_a$new_name_2==\"a\",]\n",
    "\n",
    "####### met-c\n",
    "data_met_c=ao\n",
    "data_met_c$new_name_1=sapply(strsplit(data_met_c$id, split= \"-\"),\"[\",1)\n",
    "data_met_c$new_name_2=sapply(strsplit(data_met_c$id, split= \"-\"),\"[\",2)\n",
    "data_met_c=data_met_c[data_met_c$new_name_1==\"met\",]\n",
    "data_met_c=data_met_c[data_met_c$new_name_2==\"c\",]\n",
    "\n",
    "####### met-d\n",
    "data_met_d=ao\n",
    "data_met_d$new_name_1=sapply(strsplit(data_met_d$id, split= \"-\"),\"[\",1)\n",
    "data_met_d$new_name_2=sapply(strsplit(data_met_d$id, split= \"-\"),\"[\",2)\n",
    "data_met_d=data_met_d[data_met_d$new_name_1==\"met\",]\n",
    "data_met_d=data_met_d[data_met_d$new_name_2==\"d\",]"
   ]
  }
 ],
 "metadata": {
  "kernelspec": {
   "display_name": "R",
   "language": "R",
   "name": "ir"
  },
  "language_info": {
   "codemirror_mode": "r",
   "file_extension": ".r",
   "mimetype": "text/x-r-source",
   "name": "R",
   "pygments_lexer": "r",
   "version": "4.1.2"
  }
 },
 "nbformat": 4,
 "nbformat_minor": 5
}
